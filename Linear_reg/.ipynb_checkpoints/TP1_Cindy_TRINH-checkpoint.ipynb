{
 "cells": [
  {
   "cell_type": "markdown",
   "metadata": {},
   "source": [
    "# TP1 : Linear regression"
   ]
  },
  {
   "cell_type": "markdown",
   "metadata": {},
   "source": [
    "The purpose of this work is to implement least square linear regression to medical data. The problem is based on an example described in the book by Hastie & Tibshirani (2009) pp. 3-4 & 49-63. Data come from a study published by Stamey et al. (1989). This study aims at the prediction of the level of prostate specific antigen, denoted by `lpsa` below, from the\n",
    "results of clinical exams. These exams are carried out before a possible\n",
    "prostatectomy.\n",
    "\n",
    "The measurements are log cancer volume `lcavol`, log prostate \n",
    "weight `lweight`, age of the patient `age`, log of benign prostatic \n",
    "hyperplasia amount `lbph`, seminal vesicle invasion `svi`, log of capsular \n",
    "penetration `lcp`, Gleason score `gleason`, and percent of Gleason scores 4 or \n",
    "5 `pgg45`. The variables `svi` and `gleason` are categorical, others are\n",
    "quantitative. There are `p=8` entries.\n",
    "The work is decomposed in the following tasks:\n",
    "\n",
    "* read and format the data : extraction of the training and test sets,\n",
    "* apply least square regression method to predict `lpsa` from the entries,\n",
    "* study the estimated error on the test set (validation),\n",
    "* identify the most significant entries by using a rejection test,\n",
    "* apply regularized least square regression method (ridge regression),\n",
    "* search for an optimal regularization parameter thanks to\n",
    "cross-validation."
   ]
  },
  {
   "cell_type": "code",
   "execution_count": 242,
   "metadata": {},
   "outputs": [],
   "source": [
    "import csv\n",
    "# import os\n",
    "from pylab import *\n",
    "import numpy as np\n",
    "from numpy import linalg as la\n",
    "import matplotlib.pyplot as plt"
   ]
  },
  {
   "cell_type": "markdown",
   "metadata": {},
   "source": [
    "## Read & Normalize data\n",
    "Data are stored in ASCII format: \n",
    "\n",
    "* the first column enumerates the data from 1 à 97 (97 male subjects). \n",
    "* columns 2 to 9 contain the entries themselves. \n",
    "* column 10 contains target values. \n",
    "* column 11 contains label 1 for the training set, \n",
    "and 2 for the test set."
   ]
  },
  {
   "cell_type": "code",
   "execution_count": 243,
   "metadata": {},
   "outputs": [],
   "source": [
    "#%% To read data from spaced separated float numbers\n",
    "# x, y = np.loadtxt(c, delimiter=',', usecols=(0, 2), unpack=True)\n",
    "\n",
    "data_init = np.loadtxt('prostate_data_sansheader.txt')\n",
    "\n",
    "data = data_init[:,1:]   # we get rid of the indices (1 to 97)\n",
    "\n",
    "#%% Extraction of training/test sets\n",
    "Itrain = np.nonzero(data[:,-1]==1)\n",
    "data_train=data[Itrain]   # original data\n",
    "\n",
    "Itest = np.nonzero(data[:,-1]==0)\n",
    "data_test = data[Itest]   # original data"
   ]
  },
  {
   "cell_type": "code",
   "execution_count": 244,
   "metadata": {},
   "outputs": [],
   "source": [
    "##Intermediary variables\n",
    "new_data_train = data_train[:,:9] # get rid of last column\n",
    "new_data_test = data_test[:,:9] \n",
    "\n",
    "X_train = new_data_train[:,:8] # Only the features\n",
    "t_train = new_data_train[:,-1] # Target of training set\n",
    "N_train = X_train.shape[0]\n",
    "\n",
    "X_test = new_data_test[:,:8]\n",
    "t_test = new_data_test[:,-1]\n",
    "N_test = X_test.shape[0]\n",
    "\n",
    "moy_train = np.mean(new_data_train,axis=0)\n",
    "std_train = np.std(new_data_train,axis=0)\n",
    "\n",
    "data_train_norm = (new_data_train-moy_train)/std_train\n",
    "data_test_norm = (new_data_test-moy_train)/std_train\n",
    "\n",
    "X_train_norm = data_train_norm[:,:8]\n",
    "t_train_norm = data_train_norm[:,-1]\n",
    "\n",
    "X_test_norm = data_test_norm[:,:8]\n",
    "t_test_norm = data_test_norm[:,-1]"
   ]
  },
  {
   "cell_type": "markdown",
   "metadata": {},
   "source": [
    "**Normalization of the data** *with respect to the mean and standard deviation of the training set*."
   ]
  },
  {
   "cell_type": "markdown",
   "metadata": {},
   "source": [
    "# Part 1 : simple least square regression"
   ]
  },
  {
   "cell_type": "markdown",
   "metadata": {},
   "source": [
    "## Preliminary questions\n",
    " \n",
    " * Compute the autocovariance matrix from the training set.\n",
    " * Observe carefully & Comment. What kind of information can you get ? "
   ]
  },
  {
   "cell_type": "code",
   "execution_count": 245,
   "metadata": {},
   "outputs": [
    {
     "name": "stdout",
     "output_type": "stream",
     "text": [
      "[[ 1.          0.30023199  0.28632427  0.06316772  0.59294913  0.69204308\n",
      "   0.42641407  0.48316136]\n",
      " [ 0.30023199  1.          0.31672347  0.43704154  0.18105448  0.15682859\n",
      "   0.02355821  0.07416632]\n",
      " [ 0.28632427  0.31672347  1.          0.28734645  0.12890226  0.1729514\n",
      "   0.36591512  0.27580573]\n",
      " [ 0.06316772  0.43704154  0.28734645  1.         -0.1391468  -0.08853456\n",
      "   0.03299215 -0.03040382]\n",
      " [ 0.59294913  0.18105448  0.12890226 -0.1391468   1.          0.67124021\n",
      "   0.30687537  0.48135774]\n",
      " [ 0.69204308  0.15682859  0.1729514  -0.08853456  0.67124021  1.\n",
      "   0.47643684  0.66253335]\n",
      " [ 0.42641407  0.02355821  0.36591512  0.03299215  0.30687537  0.47643684\n",
      "   1.          0.7570565 ]\n",
      " [ 0.48316136  0.07416632  0.27580573 -0.03040382  0.48135774  0.66253335\n",
      "   0.7570565   1.        ]]\n"
     ]
    },
    {
     "data": {
      "text/plain": [
       "<matplotlib.colorbar.Colorbar at 0x7f8dd1dd07b8>"
      ]
     },
     "execution_count": 245,
     "metadata": {},
     "output_type": "execute_result"
    },
    {
     "data": {
      "image/png": "[encoded data removed]",
      "text/plain": [
       "<Figure size 432x288 with 2 Axes>"
      ]
     },
     "metadata": {},
     "output_type": "display_data"
    }
   ],
   "source": [
    "# Preliminary questions\n",
    "autocovariance_train_norm = np.matmul(X_train_norm.T,X_train_norm)/N_train\n",
    "\n",
    "print(autocovariance_train_norm)\n",
    "plt.imshow(autocovariance_train_norm)\n",
    "plt.title(\"autocovariance\")\n",
    "plt.colorbar()"
   ]
  },
  {
   "cell_type": "markdown",
   "metadata": {},
   "source": [
    "In the diagonal, autocovariance_train_norm[i,i] = Var(feature_i) = 1 because data is normalized.\n",
    "When i!=j, autocovariance_train_norm[i,j] = cov(X_i,X_j)\n",
    "Some features are very correlated, like feature_0 and feature_5, or feature_6 and feature_7.\n",
    "That means that we could reduce the dimensionality of our problem, because some features are redundant."
   ]
  },
  {
   "cell_type": "markdown",
   "metadata": {},
   "source": [
    "## Exercise 1 : least square regression \n",
    " * Build the matrix of features `X_train` for the training set, the first column is made of ones.\n",
    " * Estimate the regression vector `beta_hat` (estimates= `X*beta_hat`)\n",
    " _Indication: you may either use the function `inv` or another more efficient way to compute $A^{-1}B$ (think of `A\\B`)._ \n",
    " * What is the value of the first coefficient `beta_hat[0]` ? What does it correspond to ?\n",
    " * Estimate the prediction error (quadratic error) from the test set.\n",
    "\n",
    "\n",
    "*Indication: be careful of using `X_test` defined above, normalized w.r.t. the training data set. You can estimate this error by using:*"
   ]
  },
  {
   "cell_type": "code",
   "execution_count": 246,
   "metadata": {},
   "outputs": [
    {
     "name": "stdout",
     "output_type": "stream",
     "text": [
      "Mean prediction error on test set: 0.5212740055076004\n",
      "Mean prediction on training set: 0.43919976805833433\n"
     ]
    }
   ],
   "source": [
    "# Exercise 1\n",
    "#Build the matrix of features X_train for the training set, the first column is made of ones\n",
    "X_train_norm_ones = np.concatenate((np.ones((N_train,1)),X_train_norm), axis =1)\n",
    "X_test_norm_ones = np.concatenate((np.ones((N_test,1)),X_test_norm),axis=1)\n",
    "\n",
    "\n",
    "#Estimate the regression vector beta_hat \n",
    "beta_hat = la.multi_dot([la.inv(np.dot(X_train_norm_ones.T,X_train_norm_ones)),X_train_norm_ones.T,t_train])\n",
    "\n",
    "#Estimate the prediction error (quadratic error) from the test set.\n",
    "t_test_hat = np.dot(X_test_norm_ones,beta_hat)\n",
    "\n",
    "mean_pred_error1 = np.mean(np.square(t_test_hat-t_test))\n",
    "print(\"Mean prediction error on test set:\",mean_pred_error1)\n",
    "\n",
    "t_train_hat=np.dot(X_train_norm_ones,beta_hat)\n",
    "print(\"Mean prediction on training set:\",np.mean(np.square(t_train_hat-t_train)))"
   ]
  },
  {
   "cell_type": "markdown",
   "metadata": {},
   "source": [
    "The value of beta_hat[0] corresponds to the intercept term (multiplied by the 1 added to X)"
   ]
  },
  {
   "cell_type": "markdown",
   "metadata": {},
   "source": [
    "## Rejection test, computation of Z-scores\n",
    "Now we turn to the selection of the most significant entries so that our predictor be more robust. The essential idea is that our estimates will be more robust if only the most significant entries are taken into account. As a consequence, note that we will *reduce the dimension* of the problem from |p=8| to some smaller dimension. The present approach uses a statistical test to decide whether the regression coefficient corresponding to some entry is significantly non-zero. Then we can decide either to put non significant coefficients to zero, or to select the significant entries only and estimate the new reduced regression vector.\n",
    "\n",
    "Let's assume that target values are noisy due to some white Gaussian\n",
    "noise with variance $\\sigma^2$ (see Hastie & Tibshirani p. 47). One can show that the estimated regression vector |beta_hat| is also Gaussian with variance\n",
    "\n",
    "$$ var (\\widehat{\\beta}) = (X^TX)^{-1}\\sigma^2.$$  \n",
    "\n",
    "One can also show that the estimator of the variance (from the training set)\n",
    "\n",
    "$$\\widehat{\\sigma^2}=\\frac{1}{(N-p-1)}\\sum (t_n-\\widehat{t}_n)^2$$\n",
    "\n",
    "obeys a Chi-2 distribution. As a consequence a Chi-square statistical test can be used to determine whether some coefficient $\\beta_j$ is\n",
    "significantly non-zero. To this aim, one defines the variables $z_j$\n",
    "named Z-scores which in turn obey a Fisher law, also called\n",
    "$t$-distribution, which are often used in statistics:\n",
    "\n",
    "$$ z_j = \\frac{\\beta_j}{\\widehat{\\sigma}\\sqrt{v_j}} $$\n",
    "\n",
    "where $v_j$ is the $j$-th diagonal element of the matrix $(X^TX)^{-1}$.\n",
    "For sake of simplicity, we will consider that the null hypothesis of\n",
    "$\\beta_j$ is rejected with probability 95% if the Z-score is greater than 2."
   ]
  },
  {
   "cell_type": "markdown",
   "metadata": {},
   "source": [
    "## Exercise 2\n",
    "1. Compute the Z-scores and select the most significant entries.\n",
    "2. Estimate the prediction error over the test set if only these significant \n",
    "entries are taken into account for regression by putting other regression \n",
    "coefficients to zero.\n",
    "3. Estimate the new regression vector when only the significant features\n",
    "are taken into account.\n",
    "4. Compare to previous results (Exercise 1).\n",
    "\n",
    "*Indication 1 : to sort a vector `Z` in descending order*\n",
    "`val = np.sort(np.abs(Z))[-1:0:-1]`\n",
    "\n",
    "\n",
    "*Indication 2 :* to extract the diagonal of a matrix,\n",
    "`vXX = np.diag(inv(X.T.dot(X),k=0)`"
   ]
  },
  {
   "cell_type": "code",
   "execution_count": 247,
   "metadata": {},
   "outputs": [
    {
     "name": "stdout",
     "output_type": "stream",
     "text": [
      "Z_scores: \n",
      " [28.18152744  5.36629046  2.75078939 -1.39590898  2.05584563  2.46925518\n",
      " -1.86691264 -0.14668121  1.73783972]\n",
      "Beta_hat:\n",
      " [ 2.45234509  0.71104059  0.29045029 -0.14148182  0.21041951  0.30730025\n",
      " -0.28684075 -0.02075686  0.27526843]\n",
      "Beta_hat reduced:\n",
      " [2.45234509 0.71104059 0.29045029 0.         0.21041951 0.30730025\n",
      " 0.         0.         0.        ]\n",
      "Mean prediction error on test set: 0.45222661607310993\n",
      "Mean prediction error on training set: 0.5047993813830515\n"
     ]
    }
   ],
   "source": [
    "# Exercise 2\n",
    "#Compute Z score\n",
    "p=8\n",
    "t_train_hat = np.dot(X_train_norm_ones,beta_hat)\n",
    "\n",
    "sigma_hat= np.sqrt((1/(N_train-p-1)) * np.sum(np.square(t_train-t_train_hat)))\n",
    "v=np.diag(la.inv((X_train_norm_ones.T).dot(X_train_norm_ones)))\n",
    "std_error = sigma_hat*np.sqrt(v)\n",
    "Z_score = beta_hat/std_error\n",
    "print(\"Z_scores: \\n\",Z_score)\n",
    "\n",
    "\n",
    "#Set nonsignificant features to 0\n",
    "mask = np.nonzero(Z_score<=2)\n",
    "beta_hat_reduced = beta_hat.copy()\n",
    "beta_hat_reduced[mask]=0\n",
    "print(\"Beta_hat:\\n\", beta_hat)\n",
    "print(\"Beta_hat reduced:\\n\", beta_hat_reduced)\n",
    "\n",
    "\n",
    "#Compute prediction and error\n",
    "t_test_hat_reduced = np.dot(X_test_norm_ones,beta_hat_reduced)\n",
    "mean_pred_reduced_error = np.mean(np.square(t_test_hat_reduced-t_test))\n",
    "print(\"Mean prediction error on test set:\",mean_pred_reduced_error)\n",
    "\n",
    "t_train_hat_reduced=(np.dot(X_train_norm_ones,beta_hat_reduced))\n",
    "print(\"Mean prediction error on training set:\",np.mean(np.square(t_train_hat_reduced-t_train)))"
   ]
  },
  {
   "cell_type": "markdown",
   "metadata": {},
   "source": [
    "With the Z score method, the prediction on test set is better than prediction on training set. Indeed, when taking the non relevant features onto account, the beta_hat will overfit the training data."
   ]
  },
  {
   "cell_type": "code",
   "execution_count": 248,
   "metadata": {},
   "outputs": [
    {
     "name": "stdout",
     "output_type": "stream",
     "text": [
      "[ 1.         -1.53517959 -1.81097918 -1.00347165 -0.53708616]\n",
      "[ 1.         -1.53517959 -1.81097918 -1.98042525 -1.00347165 -0.53708616\n",
      " -0.84308399 -1.03949894 -0.90325324]\n",
      "(5,)\n",
      "Mean prediction error on test set: 0.45633212204016244\n",
      "Mean prediction error on training set: 0.4897760410270979\n"
     ]
    }
   ],
   "source": [
    "#Compute new_X_train_norm_ones : X_train_norm_ones without the irrelevant features\n",
    "new_X_train_norm_ones = np.concatenate((X_train_norm_ones[:,:3],X_train_norm_ones[:,4:6]), axis =1)\n",
    "new_X_test_norm_ones = np.concatenate((X_test_norm_ones[:,:3],X_test_norm_ones[:,4:6]),axis=1)\n",
    "\n",
    "print(new_X_train_norm_ones[0])\n",
    "print(X_train_norm_ones[0])\n",
    "\n",
    "\n",
    "#Estimate the regression vector beta_hat \n",
    "new_beta_hat_reduced = la.multi_dot([la.inv(np.dot(new_X_train_norm_ones.T,new_X_train_norm_ones)),new_X_train_norm_ones.T,t_train])\n",
    "print(new_beta_hat_reduced.shape) \n",
    "\n",
    "#Estimate the prediction error (quadratic error) from the test set.\n",
    "new_t_test_hat_reduced = np.dot(new_X_test_norm_ones,new_beta_hat_reduced)\n",
    "new_test_mean_pred_error_reduced = np.mean(np.square(new_t_test_hat_reduced-t_test))\n",
    "print(\"Mean prediction error on test set:\",new_test_mean_pred_error_reduced)\n",
    "\n",
    "new_t_train_hat_reduced=np.dot(new_X_train_norm_ones,new_beta_hat_reduced)\n",
    "new_train_mean_pred_error_reduced = np.mean(np.square(new_t_train_hat_reduced-t_train))\n",
    "print(\"Mean prediction error on training set:\",new_train_mean_pred_error_reduced)"
   ]
  },
  {
   "cell_type": "markdown",
   "metadata": {},
   "source": [
    "When we compute beta_hat with the new training set (ie removing the irrelevant features), we observe a slightly better prediction for the training set, which makes sense because beta_hat will fit better the training set. However, the difference is not that big, since the initial beta_hat did not have large coefficients for the irrelevant variables. For a bigger training set, we might have a bigger difference."
   ]
  },
  {
   "cell_type": "markdown",
   "metadata": {},
   "source": [
    "# Part 2: Regularized least squares\n",
    "This part deals with regularized least square regression. We denote\n",
    "by `beta_hat_reg` the resulting coefficients. This approach is an alternative to the selection based on statistical tests above. The idea is now to penalize large values of regression coefficients, *except for the bias*.\n",
    "\n",
    "We use the result:\n",
    "\n",
    "$$\\hat{\\beta} = (\\lambda I_p + X_c^T X_c)^{-1} X_c^T t_c$$\n",
    "\n",
    "where $X_c$ contains the normalized entries of the training data set with \n",
    "no column of ones (the bias should no be penalized and is processed). \n",
    "The targets `t_c` are therefore also centered, `t_c=t-mean(t)`.\n",
    " \n",
    "First, we estimate the bias $t_0$ to center the targets which yields the coefficient $\\beta_0$, that is `beta_hat_reg[0]` in Python.\n",
    "\n",
    "*Remark : the bias is estimated as the empirical average of targets.\n",
    "For tests, entries should be normalized with respect to the means and\n",
    "variances of the training data set (see exercise 3.5 p. 95 in Hastie & Tibshirani). Then work on the vector of entries with no column of ones.*"
   ]
  },
  {
   "cell_type": "markdown",
   "metadata": {},
   "source": [
    "## Exercise 3\n",
    "1. Use _ridge regression_ for penalty `lambda = 25` to estimate the regression vector. \n",
    "2. Estimate the prediction error from the test set.\n",
    "3. Compare the results (coefficients $\\beta$, error...) to previous ones.\n",
    "4. You may also compare these results to the result of best subset selection below:\n",
    "\n",
    "`beta_best = [2.477 0.74 0.316 0 0 0 0 0 0]`.\n",
    "\n",
    "*Indication : a simple way to obtain predictions for the test data set is the code below:*"
   ]
  },
  {
   "cell_type": "code",
   "execution_count": 249,
   "metadata": {},
   "outputs": [],
   "source": [
    "##Intermediary variables\n",
    "new_data_train = data_train[:,:9] # get rid of last column\n",
    "new_data_test = data_test[:,:9] \n",
    "\n",
    "X_train = new_data_train[:,:8] # Only the features\n",
    "t_train = new_data_train[:,-1] # Target of training set\n",
    "N_train = X_train.shape[0]\n",
    "\n",
    "X_test = new_data_test[:,:8]\n",
    "t_test = new_data_test[:,-1]\n",
    "N_test = X_test.shape[0]\n",
    "\n",
    "moy_train = np.mean(new_data_train,axis=0)\n",
    "std_train = np.std(new_data_train,axis=0)\n",
    "\n",
    "data_train_norm = (new_data_train-moy_train)/std_train\n",
    "data_test_norm = (new_data_test-moy_train)/std_train\n",
    "\n",
    "X_train_norm = data_train_norm[:,:8]\n",
    "t_train_norm = data_train_norm[:,-1]\n",
    "\n",
    "X_test_norm = data_test_norm[:,:8]\n",
    "t_test_norm = data_test_norm[:,-1]\n",
    "\n",
    "X_train_norm_ones = np.concatenate((np.ones((N_train,1)),X_train_norm), axis =1)\n",
    "X_test_norm_ones = np.concatenate((np.ones((N_test,1)),X_test_norm),axis=1)\n"
   ]
  },
  {
   "cell_type": "code",
   "execution_count": 250,
   "metadata": {},
   "outputs": [
    {
     "name": "stdout",
     "output_type": "stream",
     "text": [
      "Mean prediction error on test set: 0.49394215991187146\n",
      "Mean prediction error on training set: 0.5043287699077132\n"
     ]
    }
   ],
   "source": [
    "# Exercise 3\n",
    "\n",
    "##Settings\n",
    "param_lambda = 25\n",
    "p=8\n",
    "t_train_mean = np.mean(t_train)\n",
    "\n",
    "##Compute beta_hat_ridge\n",
    "beta_hat_ridge = la.multi_dot([la.inv(np.dot(X_train_norm.T,X_train_norm)+param_lambda*np.identity(p)),X_train_norm.T,t_train])\n",
    "beta_hat_ridge = np.concatenate((t_train_mean,beta_hat_ridge),axis=None)\n",
    "\n",
    "#Estimate the prediction error\n",
    "t_test_hat_ridge = np.dot(X_test_norm_ones,beta_hat_ridge)\n",
    "test_mean_pred_error_ridge = np.mean(np.square(t_test_hat_ridge-t_test))\n",
    "print(\"Mean prediction error on test set:\",test_mean_pred_error_ridge)\n",
    "\n",
    "t_train_hat_ridge=np.dot(X_train_norm_ones,beta_hat_ridge)\n",
    "train_mean_pred_error_ridge = np.mean(np.square(t_train_hat_ridge-t_train))\n",
    "print(\"Mean prediction error on training set:\",train_mean_pred_error_ridge)"
   ]
  },
  {
   "cell_type": "code",
   "execution_count": 251,
   "metadata": {},
   "outputs": [
    {
     "name": "stdout",
     "output_type": "stream",
     "text": [
      "Mean prediction error on test set: 0.4936867011109828\n",
      "Mean prediction error on training set: 0.5571614913081956\n"
     ]
    }
   ],
   "source": [
    "beta_best = [2.477, 0.74, 0.316, 0, 0, 0, 0, 0, 0]\n",
    "t_test_hat_best = np.dot(X_test_norm_ones,beta_best)\n",
    "test_mean_pred_error_best = np.mean(np.square(t_test_hat_best-t_test))\n",
    "print(\"Mean prediction error on test set:\",test_mean_pred_error_best)\n",
    "\n",
    "t_train_hat_best=np.dot(X_train_norm_ones,beta_best)\n",
    "train_mean_pred_error_best = np.mean(np.square(t_train_hat_best-t_train))\n",
    "print(\"Mean prediction error on training set:\",train_mean_pred_error_best)"
   ]
  },
  {
   "cell_type": "markdown",
   "metadata": {},
   "source": [
    "With regularized least squares, the prediction on test set is better than prediction on training set. As the Z score method, ridge regression avoids overfitting the training data.\n",
    "The prediction is almost as good as the best beta hat."
   ]
  },
  {
   "cell_type": "markdown",
   "metadata": {},
   "source": [
    "# Part 3: Cross-Validation \n",
    "\n",
    "## How to choose lambda from the training data set only ? \n",
    "\n",
    "The idea is to decompose the training set in 2 subsets: one subset for\n",
    "linear regression (say 9/10 of the data), the other to estimate the prediction error (say 1/10 of the data).\n",
    "\n",
    "We can repeat this operation 10 times over the 10 possible couples of\n",
    "subsets to estimate the average prediction error. We will choose the\n",
    "value of `lambda` which minimizes this error. The algorithm goes as\n",
    "follows:\n",
    "\n",
    "For the 10 cross-validation cases\n",
    "    \n",
    "    Extraction of test & training subsets `testset` & `trainset`\n",
    "    \n",
    "    For lambda in 0:40\n",
    "        Estimate `beta_hat` from normalized `trainset` (mean=0, var=1)\n",
    "        Estimate the error from  `testset`\n",
    "    EndFor lambda\n",
    "\n",
    "EndFor 10 cases\n",
    "\n",
    "Compute the average error for each lambda\n",
    "\n",
    "Choose `lambda` which minimizes the error \n"
   ]
  },
  {
   "cell_type": "markdown",
   "metadata": {},
   "source": [
    "## Exercise 4\n",
    "* Use 6-fold cross-validation in the present study to optimize the choice of `lambda`. \n",
    "Try values of `lambda` rangin from 0 to 40 for instance (0:40).\n",
    "* Plot the estimated error as a function of `lambda`.\n",
    "* Propose a well chosen value of `lambda` and give the estimated corresponding\n",
    "error on the test set.\n",
    "* Comment on your results.\n",
    "\n",
    "*Indication 1 : think of shuffling the dataset first.*\n",
    "\n",
    "*Indication 2 : you can build 6 training and test subsets by using the code below*"
   ]
  },
  {
   "cell_type": "code",
   "execution_count": 252,
   "metadata": {},
   "outputs": [
    {
     "name": "stdout",
     "output_type": "stream",
     "text": [
      "Best lambda found (best lambda found for train set): lambda =  0\n",
      "Best lambda found (best lambda found for validation set): lambda =  6\n",
      "Best lambda found (best lambda found for test set): lambda =  13\n",
      "Mean across folds of standard deviation, train set: 0.04115953424063547\n",
      "Mean across folds of standard deviation, validation set: 0.19446080411798441\n",
      "Mean across folds of standard deviation, test set: 0.020662981754906613\n"
     ]
    },
    {
     "data": {
      "image/png": "[encoded data removed]",
      "text/plain": [
       "<Figure size 1080x720 with 1 Axes>"
      ]
     },
     "metadata": {},
     "output_type": "display_data"
    }
   ],
   "source": [
    "##Settings\n",
    "lmax = 40\n",
    "lambda_pos = arange(0,lmax+1) \n",
    "N_features = 8\n",
    "\n",
    "N_val = 10\n",
    "N_fold = int(np.ceil(N_train/N_val))\n",
    "\n",
    "##Shuffle training set\n",
    "np.random.shuffle(new_data_train) \n",
    "\n",
    "\n",
    "##Cross-validation\n",
    "erreur_val = np.zeros((N_fold,lmax+1))\n",
    "erreur_train = np.zeros((N_fold,lmax+1))\n",
    "erreur_test = np.zeros((N_fold,lmax+1))\n",
    "t_test_norm = (t_test - np.mean(t_train, axis=0))/np.std(t_train, axis=0)\n",
    "\n",
    "\n",
    "\n",
    "for p in range(N_fold):\n",
    "    # extraction of validation set\n",
    "    val_set = new_data_train[p*N_val:(p+1)*N_val]\n",
    "    # extraction of trainset\n",
    "    train_set = new_data_train[hstack((arange(p*N_val),arange((p+1)*N_val,new_data_train.shape[0])))]\n",
    "    # normalization of training set\n",
    "    mean_train = np.mean(train_set,axis=0)\n",
    "    std_train = np.std(train_set,axis=0)\n",
    "    \n",
    "    train_set_norm = (train_set-mean_train)/std_train\n",
    "    X_train_norm = train_set_norm[:,:8]   \n",
    "    t_train_norm = train_set_norm[:,-1]\n",
    "    \n",
    "    # normalization of validation set\n",
    "    val_set_norm = (val_set-mean_train)/std_train\n",
    "    X_val_norm = val_set_norm[:,:8]\n",
    "    t_val_norm = val_set_norm[:,-1]\n",
    "    \n",
    "    # compute error for each lambda for train/val_set and also the test set, which is normalized with the mean of the\n",
    "    #whole training set\n",
    "    for param_lambda in range(lmax+1):        \n",
    "        lambda_id = param_lambda*np.identity(N_features)\n",
    "        beta_hat_reg = la.multi_dot([la.inv(lambda_id + np.dot(X_train_norm.T,X_train_norm)),X_train_norm.T,t_train_norm])\n",
    "        \n",
    "        t_train_hat_norm = X_train_norm.dot(beta_hat_reg)\n",
    "        erreur_train[p,param_lambda] = np.mean(np.square(t_train_hat_norm-t_train_norm))\n",
    "        \n",
    "        t_val_hat_norm = X_val_norm.dot(beta_hat_reg)\n",
    "        erreur_val[p,param_lambda] = np.mean(np.square(t_val_hat_norm-t_val_norm))\n",
    "        \n",
    "        \n",
    "        t_test_hat_norm = X_test_norm.dot(beta_hat_reg)\n",
    "        erreur_test[p,param_lambda] = np.mean(np.square(t_test_hat_norm-t_test_norm))\n",
    "\n",
    "        \n",
    "std_error_var_train = np.std(erreur_train,axis=0)\n",
    "std_error_var_val = np.std(erreur_val,axis=0)\n",
    "std_error_var_test = np.std(erreur_test,axis=0)\n",
    "\n",
    "##Plots\n",
    "plt.figure(figsize=(15,10))\n",
    "plt.title('Mean of relative errors across the 7 folds')\n",
    "#plt.axis(ymin=0,ymax=1)\n",
    "plt.xlabel('Lambda')\n",
    "plt.ylabel('Relative errors')\n",
    "plt.plot(lambda_pos,np.mean(erreur_val,axis=0),\"bs\")\n",
    "plt.plot(lambda_pos,np.mean(erreur_train,axis=0),\"rs\")\n",
    "plt.plot(lambda_pos,np.mean(erreur_test,axis=0),\"gs\")\n",
    "plt.legend(('validation','train','test'))\n",
    "best_lambda_val = np.argmin(np.mean(erreur_val,axis=0))\n",
    "print(\"Best lambda found (best lambda found for train set): lambda = \",np.argmin(np.mean(erreur_train,axis=0)))\n",
    "print(\"Best lambda found (best lambda found for validation set): lambda = \",best_lambda_val)\n",
    "print(\"Best lambda found (best lambda found for test set): lambda = \",np.argmin(np.mean(erreur_test,axis=0)))\n",
    "print(\"Mean across folds of standard deviation, train set:\", np.mean(std_error_var_train))\n",
    "print(\"Mean across folds of standard deviation, validation set:\",np.mean(std_error_var_val))\n",
    "print(\"Mean across folds of standard deviation, test set:\",np.mean(std_error_var_test))"
   ]
  },
  {
   "cell_type": "markdown",
   "metadata": {},
   "source": [
    "- For training data, the best lambda is 0 : indeed, if we only have to predict a target for some x belonging to the training set, we would rather have a model which overfits the training set\n",
    "- The worst standard deviation is for validation set: it's not surprising because the validation set is very small so changing fold will have a bigger impact\n",
    "- The error for validation set is much bigger than for the other set. This might again be because the validation set is quite small compared to the test set. In the test set, the error might \"average out\"."
   ]
  },
  {
   "cell_type": "code",
   "execution_count": 256,
   "metadata": {},
   "outputs": [
    {
     "name": "stdout",
     "output_type": "stream",
     "text": [
      "Beta_hat with best lambda\n",
      " [ 2.45234509  0.57591509  0.28084136 -0.0996297   0.19632083  0.27527834\n",
      " -0.12745374  0.01946202  0.18892517]\n",
      "Mean prediction error on test set: 0.49030863836497207\n",
      "Mean prediction error on training set: 0.4530029388840299\n"
     ]
    }
   ],
   "source": [
    "# Prediction with best lambda\n",
    "##Intermediary variables\n",
    "new_data_train = data_train[:,:9] # get rid of last column\n",
    "new_data_test = data_test[:,:9] \n",
    "\n",
    "X_train = new_data_train[:,:8] # Only the features\n",
    "t_train = new_data_train[:,-1] # Target of training set\n",
    "N_train = X_train.shape[0]\n",
    "\n",
    "X_test = new_data_test[:,:8]\n",
    "t_test = new_data_test[:,-1]\n",
    "N_test = X_test.shape[0]\n",
    "\n",
    "moy_train = np.mean(new_data_train,axis=0)\n",
    "std_train = np.std(new_data_train,axis=0)\n",
    "\n",
    "data_train_norm = (new_data_train-moy_train)/std_train\n",
    "data_test_norm = (new_data_test-moy_train)/std_train\n",
    "\n",
    "X_train_norm = data_train_norm[:,:8]\n",
    "t_train_norm = data_train_norm[:,-1]\n",
    "\n",
    "X_test_norm = data_test_norm[:,:8]\n",
    "t_test_norm = data_test_norm[:,-1]\n",
    "\n",
    "X_train_norm_ones = np.concatenate((np.ones((N_train,1)),X_train_norm), axis =1)\n",
    "X_test_norm_ones = np.concatenate((np.ones((N_test,1)),X_test_norm),axis=1)\n",
    "\n",
    "\n",
    "##Settings\n",
    "param_lambda = 7\n",
    "p=8\n",
    "t_train_mean = np.mean(t_train)\n",
    "\n",
    "##Compute beta_hat_ridge\n",
    "beta_hat_ridge = la.multi_dot([la.inv(np.dot(X_train_norm.T,X_train_norm)+param_lambda*np.identity(p)),X_train_norm.T,t_train])\n",
    "beta_hat_ridge = np.concatenate((t_train_mean,beta_hat_ridge),axis=None)\n",
    "print(\"Beta_hat with best lambda\\n\", beta_hat_ridge)\n",
    "\n",
    "#Estimate the prediction error\n",
    "t_test_hat_ridge = np.dot(X_test_norm_ones,beta_hat_ridge)\n",
    "test_mean_pred_error_ridge = np.mean(np.square(t_test_hat_ridge-t_test))\n",
    "print(\"Mean prediction error on test set:\",test_mean_pred_error_ridge)\n",
    "\n",
    "t_train_hat_ridge=np.dot(X_train_norm_ones,beta_hat_ridge)\n",
    "train_mean_pred_error_ridge = np.mean(np.square(t_train_hat_ridge-t_train))\n",
    "print(\"Mean prediction error on training set:\",train_mean_pred_error_ridge)"
   ]
  },
  {
   "cell_type": "code",
   "execution_count": null,
   "metadata": {},
   "outputs": [],
   "source": []
  }
 ],
 "metadata": {
  "kernelspec": {
   "display_name": "Python 3",
   "language": "python",
   "name": "python3"
  },
  "language_info": {
   "codemirror_mode": {
    "name": "ipython",
    "version": 3
   },
   "file_extension": ".py",
   "mimetype": "text/x-python",
   "name": "python",
   "nbconvert_exporter": "python",
   "pygments_lexer": "ipython3",
   "version": "3.6.5"
  }
 },
 "nbformat": 4,
 "nbformat_minor": 2
}
