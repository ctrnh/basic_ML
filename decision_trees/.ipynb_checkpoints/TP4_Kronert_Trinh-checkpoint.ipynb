{
 "cells": [
  {
   "cell_type": "markdown",
   "metadata": {},
   "source": [
    "# TP4: Decision trees & random forests\n"
   ]
  },
  {
   "cell_type": "markdown",
   "metadata": {},
   "source": [
    "## Import\n"
   ]
  },
  {
   "cell_type": "code",
   "execution_count": 183,
   "metadata": {},
   "outputs": [],
   "source": [
    "# If needed, uncomment the line below:\n",
    "\n",
    "#!conda install python-graphviz\n",
    "\n",
    "import warnings\n",
    "warnings.filterwarnings(\"ignore\")\n",
    "from ipywidgets import interact"
   ]
  },
  {
   "cell_type": "code",
   "execution_count": 184,
   "metadata": {},
   "outputs": [],
   "source": [
    "from pylab import *\n",
    "#import numpy as np\n",
    "#import matplotlib.pyplot as plt\n",
    "import seaborn as sns; sns.set(style=\"ticks\", color_codes=True)\n",
    "\n",
    "# Load the library with the iris dataset\n",
    "from sklearn.datasets import load_iris, load_wine\n",
    "\n",
    "\n",
    "\n",
    "# Load scikit's decision tree classifier\n",
    "from sklearn import tree\n",
    "\n",
    "# Load scikit's random forest classifier library\n",
    "from sklearn.ensemble import RandomForestClassifier, RandomForestRegressor\n",
    "\n",
    "# To visualize trees\n",
    "import graphviz \n",
    "\n",
    "\n",
    "# Load pandas to manipulate data frames (Excel like)\n",
    "import pandas as pd\n",
    "\n",
    "# Load numpy\n",
    "#import numpy as np\n",
    "\n",
    "# Set random seed\n",
    "np.random.seed(0)"
   ]
  },
  {
   "cell_type": "code",
   "execution_count": 185,
   "metadata": {},
   "outputs": [],
   "source": [
    "iris = load_iris()"
   ]
  },
  {
   "cell_type": "markdown",
   "metadata": {},
   "source": [
    "## Explore the data set\n",
    "1. What is the structure of the object `iris` ?\n",
    "\n",
    "2. Plot this dataset in a well chosen set of representations to explore the data."
   ]
  },
  {
   "cell_type": "code",
   "execution_count": 186,
   "metadata": {},
   "outputs": [
    {
     "name": "stdout",
     "output_type": "stream",
     "text": [
      "Type of iris: <class 'sklearn.utils.Bunch'>\n"
     ]
    }
   ],
   "source": [
    "print(\"Type of iris:\", type(iris))"
   ]
  },
  {
   "cell_type": "markdown",
   "metadata": {},
   "source": [
    "1. iris is a dictionary-like object, the interesting attributes are: ‘data’, the data to learn, ‘target’, the classification labels, ‘target_names’, the meaning of the labels, ‘feature_names’, the meaning of the features, ‘DESCR’, the full description of the dataset, ‘filename’, the physical location of iris csv dataset (added in version 0.20). (scikit learn)\n"
   ]
  },
  {
   "cell_type": "code",
   "execution_count": 187,
   "metadata": {},
   "outputs": [
    {
     "data": {
      "text/html": [
       "<div>\n",
       "<style scoped>\n",
       "    .dataframe tbody tr th:only-of-type {\n",
       "        vertical-align: middle;\n",
       "    }\n",
       "\n",
       "    .dataframe tbody tr th {\n",
       "        vertical-align: top;\n",
       "    }\n",
       "\n",
       "    .dataframe thead th {\n",
       "        text-align: right;\n",
       "    }\n",
       "</style>\n",
       "<table border=\"1\" class=\"dataframe\">\n",
       "  <thead>\n",
       "    <tr style=\"text-align: right;\">\n",
       "      <th></th>\n",
       "      <th>sepal length (cm)</th>\n",
       "      <th>sepal width (cm)</th>\n",
       "      <th>petal length (cm)</th>\n",
       "      <th>petal width (cm)</th>\n",
       "    </tr>\n",
       "  </thead>\n",
       "  <tbody>\n",
       "    <tr>\n",
       "      <th>0</th>\n",
       "      <td>5.1</td>\n",
       "      <td>3.5</td>\n",
       "      <td>1.4</td>\n",
       "      <td>0.2</td>\n",
       "    </tr>\n",
       "    <tr>\n",
       "      <th>1</th>\n",
       "      <td>4.9</td>\n",
       "      <td>3.0</td>\n",
       "      <td>1.4</td>\n",
       "      <td>0.2</td>\n",
       "    </tr>\n",
       "    <tr>\n",
       "      <th>2</th>\n",
       "      <td>4.7</td>\n",
       "      <td>3.2</td>\n",
       "      <td>1.3</td>\n",
       "      <td>0.2</td>\n",
       "    </tr>\n",
       "    <tr>\n",
       "      <th>3</th>\n",
       "      <td>4.6</td>\n",
       "      <td>3.1</td>\n",
       "      <td>1.5</td>\n",
       "      <td>0.2</td>\n",
       "    </tr>\n",
       "    <tr>\n",
       "      <th>4</th>\n",
       "      <td>5.0</td>\n",
       "      <td>3.6</td>\n",
       "      <td>1.4</td>\n",
       "      <td>0.2</td>\n",
       "    </tr>\n",
       "  </tbody>\n",
       "</table>\n",
       "</div>"
      ],
      "text/plain": [
       "   sepal length (cm)  sepal width (cm)  petal length (cm)  petal width (cm)\n",
       "0                5.1               3.5                1.4               0.2\n",
       "1                4.9               3.0                1.4               0.2\n",
       "2                4.7               3.2                1.3               0.2\n",
       "3                4.6               3.1                1.5               0.2\n",
       "4                5.0               3.6                1.4               0.2"
      ]
     },
     "execution_count": 187,
     "metadata": {},
     "output_type": "execute_result"
    }
   ],
   "source": [
    "import pandas as pd\n",
    "\n",
    "# Create a dataframe with the four feature variables\n",
    "df = pd.DataFrame(iris.data, columns=iris.feature_names)\n",
    "\n",
    "# View the top 5 rows\n",
    "df.head()"
   ]
  },
  {
   "cell_type": "code",
   "execution_count": 188,
   "metadata": {
    "scrolled": false
   },
   "outputs": [
    {
     "data": {
      "image/png": "[encoded data removed]",
      "text/plain": [
       "<Figure size 360x360 with 2 Axes>"
      ]
     },
     "metadata": {},
     "output_type": "display_data"
    }
   ],
   "source": [
    "correlations = df.corr()\n",
    "fig = plt.figure(figsize = (5,5))\n",
    "ax = fig.add_subplot(1, 1, 1)\n",
    "\n",
    "plt.imshow(correlations,cmap='PiYG')\n",
    "#plt.imshow(correlations,cmap='viridis')\n",
    "plt.colorbar()\n",
    "plt.grid(b=1)\n",
    "plt.title(\"Autocorrelation of features\")\n",
    "a = ax.set_xticks(np.arange(correlations.shape[0]))\n",
    "a = ax.set_yticks(np.arange(correlations.shape[0]))"
   ]
  },
  {
   "cell_type": "markdown",
   "metadata": {},
   "source": [
    "The features \"petal length\" and \"petal width\" are highly correlated."
   ]
  },
  {
   "cell_type": "code",
   "execution_count": 189,
   "metadata": {},
   "outputs": [
    {
     "data": {
      "text/html": [
       "<div>\n",
       "<style scoped>\n",
       "    .dataframe tbody tr th:only-of-type {\n",
       "        vertical-align: middle;\n",
       "    }\n",
       "\n",
       "    .dataframe tbody tr th {\n",
       "        vertical-align: top;\n",
       "    }\n",
       "\n",
       "    .dataframe thead th {\n",
       "        text-align: right;\n",
       "    }\n",
       "</style>\n",
       "<table border=\"1\" class=\"dataframe\">\n",
       "  <thead>\n",
       "    <tr style=\"text-align: right;\">\n",
       "      <th></th>\n",
       "      <th>sepal length (cm)</th>\n",
       "      <th>sepal width (cm)</th>\n",
       "      <th>petal length (cm)</th>\n",
       "      <th>petal width (cm)</th>\n",
       "      <th>species</th>\n",
       "    </tr>\n",
       "  </thead>\n",
       "  <tbody>\n",
       "    <tr>\n",
       "      <th>0</th>\n",
       "      <td>5.1</td>\n",
       "      <td>3.5</td>\n",
       "      <td>1.4</td>\n",
       "      <td>0.2</td>\n",
       "      <td>setosa</td>\n",
       "    </tr>\n",
       "    <tr>\n",
       "      <th>1</th>\n",
       "      <td>4.9</td>\n",
       "      <td>3.0</td>\n",
       "      <td>1.4</td>\n",
       "      <td>0.2</td>\n",
       "      <td>setosa</td>\n",
       "    </tr>\n",
       "    <tr>\n",
       "      <th>2</th>\n",
       "      <td>4.7</td>\n",
       "      <td>3.2</td>\n",
       "      <td>1.3</td>\n",
       "      <td>0.2</td>\n",
       "      <td>setosa</td>\n",
       "    </tr>\n",
       "    <tr>\n",
       "      <th>3</th>\n",
       "      <td>4.6</td>\n",
       "      <td>3.1</td>\n",
       "      <td>1.5</td>\n",
       "      <td>0.2</td>\n",
       "      <td>setosa</td>\n",
       "    </tr>\n",
       "    <tr>\n",
       "      <th>4</th>\n",
       "      <td>5.0</td>\n",
       "      <td>3.6</td>\n",
       "      <td>1.4</td>\n",
       "      <td>0.2</td>\n",
       "      <td>setosa</td>\n",
       "    </tr>\n",
       "  </tbody>\n",
       "</table>\n",
       "</div>"
      ],
      "text/plain": [
       "   sepal length (cm)  sepal width (cm)  petal length (cm)  petal width (cm)  \\\n",
       "0                5.1               3.5                1.4               0.2   \n",
       "1                4.9               3.0                1.4               0.2   \n",
       "2                4.7               3.2                1.3               0.2   \n",
       "3                4.6               3.1                1.5               0.2   \n",
       "4                5.0               3.6                1.4               0.2   \n",
       "\n",
       "  species  \n",
       "0  setosa  \n",
       "1  setosa  \n",
       "2  setosa  \n",
       "3  setosa  \n",
       "4  setosa  "
      ]
     },
     "execution_count": 189,
     "metadata": {},
     "output_type": "execute_result"
    }
   ],
   "source": [
    "# Add a new column with the species number, this is what we are going to try to predict\n",
    "df['species'] = pd.Categorical.from_codes(iris.target, iris.target_names)\n",
    "#df['species']=iris.target\n",
    "# View the top 5 rows\n",
    "df.head()"
   ]
  },
  {
   "cell_type": "code",
   "execution_count": 190,
   "metadata": {},
   "outputs": [
    {
     "data": {
      "image/png": "[encoded data removed]",
      "text/plain": [
       "<Figure size 813.85x720 with 20 Axes>"
      ]
     },
     "metadata": {},
     "output_type": "display_data"
    }
   ],
   "source": [
    "g = sns.pairplot(df, hue=\"species\")"
   ]
  },
  {
   "cell_type": "code",
   "execution_count": 191,
   "metadata": {
    "scrolled": false
   },
   "outputs": [],
   "source": [
    "#df.plot.scatter(x=\"sepal length (cm)\", y=\"sepal width (cm)\",c=\"species\",cmap='viridis')\n",
    "#df.plot.scatter(x=\"sepal length (cm)\", y=\"petal length (cm)\",c=\"species\",cmap='viridis')\n",
    "#df.plot.scatter(x=\"sepal width (cm)\", y=\"petal length (cm)\",c=\"species\",cmap='viridis')\n",
    "#df.plot.scatter(x=\"petal width (cm)\", y=\"petal length (cm)\",c=\"species\",cmap='viridis')\n",
    "#plt.show()"
   ]
  },
  {
   "cell_type": "markdown",
   "metadata": {},
   "source": [
    "The classes can be well separated by a threshold on the petal length features, and petal width. <br>\n",
    "For example, we can draw a line for :<br>\n",
    "- petal width = 0.7 and petal width = 1.7 on the 4th plot\n",
    "- petal length = 2.2 and petal length = 4.9 on the 3rd plot\n",
    "<br>\n",
    "Thus, decision trees methods seems well adapted to the problem."
   ]
  },
  {
   "cell_type": "markdown",
   "metadata": {},
   "source": [
    "## Using `pandas` to manipulate the data\n",
    "Pandas is great to manipulate data in a Microsoft Excel like way."
   ]
  },
  {
   "cell_type": "code",
   "execution_count": 192,
   "metadata": {},
   "outputs": [
    {
     "data": {
      "text/html": [
       "<div>\n",
       "<style scoped>\n",
       "    .dataframe tbody tr th:only-of-type {\n",
       "        vertical-align: middle;\n",
       "    }\n",
       "\n",
       "    .dataframe tbody tr th {\n",
       "        vertical-align: top;\n",
       "    }\n",
       "\n",
       "    .dataframe thead th {\n",
       "        text-align: right;\n",
       "    }\n",
       "</style>\n",
       "<table border=\"1\" class=\"dataframe\">\n",
       "  <thead>\n",
       "    <tr style=\"text-align: right;\">\n",
       "      <th></th>\n",
       "      <th>sepal length (cm)</th>\n",
       "      <th>sepal width (cm)</th>\n",
       "      <th>petal length (cm)</th>\n",
       "      <th>petal width (cm)</th>\n",
       "      <th>species</th>\n",
       "    </tr>\n",
       "  </thead>\n",
       "  <tbody>\n",
       "    <tr>\n",
       "      <th>0</th>\n",
       "      <td>5.1</td>\n",
       "      <td>3.5</td>\n",
       "      <td>1.4</td>\n",
       "      <td>0.2</td>\n",
       "      <td>setosa</td>\n",
       "    </tr>\n",
       "    <tr>\n",
       "      <th>1</th>\n",
       "      <td>4.9</td>\n",
       "      <td>3.0</td>\n",
       "      <td>1.4</td>\n",
       "      <td>0.2</td>\n",
       "      <td>setosa</td>\n",
       "    </tr>\n",
       "    <tr>\n",
       "      <th>2</th>\n",
       "      <td>4.7</td>\n",
       "      <td>3.2</td>\n",
       "      <td>1.3</td>\n",
       "      <td>0.2</td>\n",
       "      <td>setosa</td>\n",
       "    </tr>\n",
       "    <tr>\n",
       "      <th>3</th>\n",
       "      <td>4.6</td>\n",
       "      <td>3.1</td>\n",
       "      <td>1.5</td>\n",
       "      <td>0.2</td>\n",
       "      <td>setosa</td>\n",
       "    </tr>\n",
       "    <tr>\n",
       "      <th>4</th>\n",
       "      <td>5.0</td>\n",
       "      <td>3.6</td>\n",
       "      <td>1.4</td>\n",
       "      <td>0.2</td>\n",
       "      <td>setosa</td>\n",
       "    </tr>\n",
       "  </tbody>\n",
       "</table>\n",
       "</div>"
      ],
      "text/plain": [
       "   sepal length (cm)  sepal width (cm)  petal length (cm)  petal width (cm)  \\\n",
       "0                5.1               3.5                1.4               0.2   \n",
       "1                4.9               3.0                1.4               0.2   \n",
       "2                4.7               3.2                1.3               0.2   \n",
       "3                4.6               3.1                1.5               0.2   \n",
       "4                5.0               3.6                1.4               0.2   \n",
       "\n",
       "  species  \n",
       "0  setosa  \n",
       "1  setosa  \n",
       "2  setosa  \n",
       "3  setosa  \n",
       "4  setosa  "
      ]
     },
     "execution_count": 192,
     "metadata": {},
     "output_type": "execute_result"
    }
   ],
   "source": [
    "# Add a new column with the species names, this is what we are going to try to predict\n",
    "#df['species'] = pd.Categorical.from_codes(iris.target, iris.target_names)\n",
    "\n",
    "# View the top 5 rows\n",
    "df.head()"
   ]
  },
  {
   "cell_type": "markdown",
   "metadata": {},
   "source": [
    "## Step 2: create training and test sets"
   ]
  },
  {
   "cell_type": "markdown",
   "metadata": {},
   "source": [
    "Create a new column that for each row, generates a random number between 0 and 1, and if that value is less than or equal to .75, then sets the value of that cell as True and false otherwise. This is a quick and dirty way of randomly assigning some rows to be used as the training data and some as the test data."
   ]
  },
  {
   "cell_type": "code",
   "execution_count": 193,
   "metadata": {},
   "outputs": [
    {
     "data": {
      "text/html": [
       "<div>\n",
       "<style scoped>\n",
       "    .dataframe tbody tr th:only-of-type {\n",
       "        vertical-align: middle;\n",
       "    }\n",
       "\n",
       "    .dataframe tbody tr th {\n",
       "        vertical-align: top;\n",
       "    }\n",
       "\n",
       "    .dataframe thead th {\n",
       "        text-align: right;\n",
       "    }\n",
       "</style>\n",
       "<table border=\"1\" class=\"dataframe\">\n",
       "  <thead>\n",
       "    <tr style=\"text-align: right;\">\n",
       "      <th></th>\n",
       "      <th>sepal length (cm)</th>\n",
       "      <th>sepal width (cm)</th>\n",
       "      <th>petal length (cm)</th>\n",
       "      <th>petal width (cm)</th>\n",
       "      <th>species</th>\n",
       "      <th>is_train</th>\n",
       "    </tr>\n",
       "  </thead>\n",
       "  <tbody>\n",
       "    <tr>\n",
       "      <th>0</th>\n",
       "      <td>5.1</td>\n",
       "      <td>3.5</td>\n",
       "      <td>1.4</td>\n",
       "      <td>0.2</td>\n",
       "      <td>setosa</td>\n",
       "      <td>True</td>\n",
       "    </tr>\n",
       "    <tr>\n",
       "      <th>1</th>\n",
       "      <td>4.9</td>\n",
       "      <td>3.0</td>\n",
       "      <td>1.4</td>\n",
       "      <td>0.2</td>\n",
       "      <td>setosa</td>\n",
       "      <td>True</td>\n",
       "    </tr>\n",
       "    <tr>\n",
       "      <th>2</th>\n",
       "      <td>4.7</td>\n",
       "      <td>3.2</td>\n",
       "      <td>1.3</td>\n",
       "      <td>0.2</td>\n",
       "      <td>setosa</td>\n",
       "      <td>True</td>\n",
       "    </tr>\n",
       "    <tr>\n",
       "      <th>3</th>\n",
       "      <td>4.6</td>\n",
       "      <td>3.1</td>\n",
       "      <td>1.5</td>\n",
       "      <td>0.2</td>\n",
       "      <td>setosa</td>\n",
       "      <td>True</td>\n",
       "    </tr>\n",
       "    <tr>\n",
       "      <th>4</th>\n",
       "      <td>5.0</td>\n",
       "      <td>3.6</td>\n",
       "      <td>1.4</td>\n",
       "      <td>0.2</td>\n",
       "      <td>setosa</td>\n",
       "      <td>True</td>\n",
       "    </tr>\n",
       "  </tbody>\n",
       "</table>\n",
       "</div>"
      ],
      "text/plain": [
       "   sepal length (cm)  sepal width (cm)  petal length (cm)  petal width (cm)  \\\n",
       "0                5.1               3.5                1.4               0.2   \n",
       "1                4.9               3.0                1.4               0.2   \n",
       "2                4.7               3.2                1.3               0.2   \n",
       "3                4.6               3.1                1.5               0.2   \n",
       "4                5.0               3.6                1.4               0.2   \n",
       "\n",
       "  species  is_train  \n",
       "0  setosa      True  \n",
       "1  setosa      True  \n",
       "2  setosa      True  \n",
       "3  setosa      True  \n",
       "4  setosa      True  "
      ]
     },
     "execution_count": 193,
     "metadata": {},
     "output_type": "execute_result"
    }
   ],
   "source": [
    "df['is_train'] = np.random.uniform(0, 1, len(df)) <= .75\n",
    "\n",
    "# View the top 5 rows\n",
    "df.head()"
   ]
  },
  {
   "cell_type": "code",
   "execution_count": 194,
   "metadata": {},
   "outputs": [],
   "source": [
    "# Create two new dataframes, one with the training rows, one with the test rows\n",
    "train, test = df[df['is_train']==True], df[df['is_train']==False]"
   ]
  },
  {
   "cell_type": "code",
   "execution_count": 195,
   "metadata": {},
   "outputs": [
    {
     "name": "stdout",
     "output_type": "stream",
     "text": [
      "Number of observations in the training data: 118\n",
      "Number of observations in the test data: 32\n"
     ]
    }
   ],
   "source": [
    "# Show the number of observations for the test and training dataframes\n",
    "print('Number of observations in the training data:', len(train))\n",
    "print('Number of observations in the test data:',len(test))"
   ]
  },
  {
   "cell_type": "markdown",
   "metadata": {},
   "source": [
    "We don't have a lot of data..!"
   ]
  },
  {
   "cell_type": "code",
   "execution_count": 196,
   "metadata": {},
   "outputs": [
    {
     "data": {
      "text/plain": [
       "Index(['sepal length (cm)', 'sepal width (cm)', 'petal length (cm)',\n",
       "       'petal width (cm)'],\n",
       "      dtype='object')"
      ]
     },
     "execution_count": 196,
     "metadata": {},
     "output_type": "execute_result"
    }
   ],
   "source": [
    "# Create a list of the feature column's names\n",
    "features = df.columns[:4]\n",
    "\n",
    "# View features\n",
    "features"
   ]
  },
  {
   "cell_type": "code",
   "execution_count": 197,
   "metadata": {},
   "outputs": [
    {
     "name": "stdout",
     "output_type": "stream",
     "text": [
      "Number of class in train set 0:  37\n",
      "Number of class in train set 1:  43\n",
      "Number of class in train set 2:  38\n",
      "Number of class in test set 0:  13\n",
      "Number of class in test set 1:  7\n",
      "Number of class in test set 2:  12\n",
      "(118,) (32,)\n"
     ]
    }
   ],
   "source": [
    "# train['species'] contains the actual species names. Before we can use it,\n",
    "# we need to convert each species name into a digit. So, in this case there\n",
    "# are three species, which have been coded as 0, 1, or 2.\n",
    "y_train = pd.factorize(train['species'])[0]\n",
    "y_test = pd.factorize(test['species'])[0]\n",
    "print(\"Number of class in train set 0: \",len(y_train[y_train==0]))\n",
    "print(\"Number of class in train set 1: \",len(y_train[y_train==1]))\n",
    "print(\"Number of class in train set 2: \",len(y_train[y_train==2]))\n",
    "\n",
    "print(\"Number of class in test set 0: \",len(y_test[y_test==0]))\n",
    "print(\"Number of class in test set 1: \",len(y_test[y_test==1]))\n",
    "print(\"Number of class in test set 2: \",len(y_test[y_test==2]))\n",
    "print(y_train.shape,y_test.shape)"
   ]
  },
  {
   "cell_type": "markdown",
   "metadata": {},
   "source": [
    "We have a balanced dataset. But not the same proportion of classes between train and test set"
   ]
  },
  {
   "cell_type": "markdown",
   "metadata": {},
   "source": [
    "## Step 3: decision trees for the iris dataset"
   ]
  },
  {
   "cell_type": "code",
   "execution_count": 198,
   "metadata": {},
   "outputs": [],
   "source": [
    "clf = tree.DecisionTreeClassifier()\n",
    "clf = clf.fit(train[features], y_train)\n",
    "\n",
    "# Using the whole dataset you may use directly:\n",
    "#clf = clf.fit(iris.data, iris.target)"
   ]
  },
  {
   "cell_type": "code",
   "execution_count": 199,
   "metadata": {},
   "outputs": [
    {
     "data": {
      "image/svg+xml": [
       "<?xml version=\"1.0\" encoding=\"UTF-8\" standalone=\"no\"?>\n",
       "<!DOCTYPE svg PUBLIC \"-//W3C//DTD SVG 1.1//EN\"\n",
       " \"http://www.w3.org/Graphics/SVG/1.1/DTD/svg11.dtd\">\n",
       "<!-- Generated by graphviz version 2.40.1 (20161225.0304)\n",
       " -->\n",
       "<!-- Title: Tree Pages: 1 -->\n",
       "<svg width=\"648pt\" height=\"790pt\"\n",
       " viewBox=\"0.00 0.00 648.00 790.00\" xmlns=\"http://www.w3.org/2000/svg\" xmlns:xlink=\"http://www.w3.org/1999/xlink\">\n",
       "<g id=\"graph0\" class=\"graph\" transform=\"scale(1 1) rotate(0) translate(4 786)\">\n",
       "<title>Tree</title>\n",
       "<polygon fill=\"#ffffff\" stroke=\"transparent\" points=\"-4,4 -4,-786 644,-786 644,4 -4,4\"/>\n",
       "<!-- 0 -->\n",
       "<g id=\"node1\" class=\"node\">\n",
       "<title>0</title>\n",
       "<path fill=\"#39e581\" fill-opacity=\"0.062745\" stroke=\"#000000\" d=\"M259,-782C259,-782 136,-782 136,-782 130,-782 124,-776 124,-770 124,-770 124,-711 124,-711 124,-705 130,-699 136,-699 136,-699 259,-699 259,-699 265,-699 271,-705 271,-711 271,-711 271,-770 271,-770 271,-776 265,-782 259,-782\"/>\n",
       "<text text-anchor=\"start\" x=\"132\" y=\"-766.8\" font-family=\"Helvetica,sans-Serif\" font-size=\"14.00\" fill=\"#000000\">petal width (cm) ≤ 0.8</text>\n",
       "<text text-anchor=\"start\" x=\"162\" y=\"-751.8\" font-family=\"Helvetica,sans-Serif\" font-size=\"14.00\" fill=\"#000000\">gini = 0.665</text>\n",
       "<text text-anchor=\"start\" x=\"152.5\" y=\"-736.8\" font-family=\"Helvetica,sans-Serif\" font-size=\"14.00\" fill=\"#000000\">samples = 118</text>\n",
       "<text text-anchor=\"start\" x=\"139.5\" y=\"-721.8\" font-family=\"Helvetica,sans-Serif\" font-size=\"14.00\" fill=\"#000000\">value = [37, 43, 38]</text>\n",
       "<text text-anchor=\"start\" x=\"145\" y=\"-706.8\" font-family=\"Helvetica,sans-Serif\" font-size=\"14.00\" fill=\"#000000\">class = versicolor</text>\n",
       "</g>\n",
       "<!-- 1 -->\n",
       "<g id=\"node2\" class=\"node\">\n",
       "<title>1</title>\n",
       "<path fill=\"#e58139\" stroke=\"#000000\" d=\"M166,-655.5C166,-655.5 73,-655.5 73,-655.5 67,-655.5 61,-649.5 61,-643.5 61,-643.5 61,-599.5 61,-599.5 61,-593.5 67,-587.5 73,-587.5 73,-587.5 166,-587.5 166,-587.5 172,-587.5 178,-593.5 178,-599.5 178,-599.5 178,-643.5 178,-643.5 178,-649.5 172,-655.5 166,-655.5\"/>\n",
       "<text text-anchor=\"start\" x=\"91.5\" y=\"-640.3\" font-family=\"Helvetica,sans-Serif\" font-size=\"14.00\" fill=\"#000000\">gini = 0.0</text>\n",
       "<text text-anchor=\"start\" x=\"78.5\" y=\"-625.3\" font-family=\"Helvetica,sans-Serif\" font-size=\"14.00\" fill=\"#000000\">samples = 37</text>\n",
       "<text text-anchor=\"start\" x=\"69\" y=\"-610.3\" font-family=\"Helvetica,sans-Serif\" font-size=\"14.00\" fill=\"#000000\">value = [37, 0, 0]</text>\n",
       "<text text-anchor=\"start\" x=\"76\" y=\"-595.3\" font-family=\"Helvetica,sans-Serif\" font-size=\"14.00\" fill=\"#000000\">class = setosa</text>\n",
       "</g>\n",
       "<!-- 0&#45;&gt;1 -->\n",
       "<g id=\"edge1\" class=\"edge\">\n",
       "<title>0&#45;&gt;1</title>\n",
       "<path fill=\"none\" stroke=\"#000000\" d=\"M170.2194,-698.8796C162.8677,-687.6636 154.9036,-675.5131 147.5126,-664.2372\"/>\n",
       "<polygon fill=\"#000000\" stroke=\"#000000\" points=\"150.4014,-662.2598 141.9921,-655.8149 144.5469,-666.0972 150.4014,-662.2598\"/>\n",
       "<text text-anchor=\"middle\" x=\"136.8982\" y=\"-676.5905\" font-family=\"Helvetica,sans-Serif\" font-size=\"14.00\" fill=\"#000000\">True</text>\n",
       "</g>\n",
       "<!-- 2 -->\n",
       "<g id=\"node3\" class=\"node\">\n",
       "<title>2</title>\n",
       "<path fill=\"#39e581\" fill-opacity=\"0.117647\" stroke=\"#000000\" d=\"M344.5,-663C344.5,-663 208.5,-663 208.5,-663 202.5,-663 196.5,-657 196.5,-651 196.5,-651 196.5,-592 196.5,-592 196.5,-586 202.5,-580 208.5,-580 208.5,-580 344.5,-580 344.5,-580 350.5,-580 356.5,-586 356.5,-592 356.5,-592 356.5,-651 356.5,-651 356.5,-657 350.5,-663 344.5,-663\"/>\n",
       "<text text-anchor=\"start\" x=\"204.5\" y=\"-647.8\" font-family=\"Helvetica,sans-Serif\" font-size=\"14.00\" fill=\"#000000\">petal length (cm) ≤ 4.75</text>\n",
       "<text text-anchor=\"start\" x=\"241\" y=\"-632.8\" font-family=\"Helvetica,sans-Serif\" font-size=\"14.00\" fill=\"#000000\">gini = 0.498</text>\n",
       "<text text-anchor=\"start\" x=\"235.5\" y=\"-617.8\" font-family=\"Helvetica,sans-Serif\" font-size=\"14.00\" fill=\"#000000\">samples = 81</text>\n",
       "<text text-anchor=\"start\" x=\"222\" y=\"-602.8\" font-family=\"Helvetica,sans-Serif\" font-size=\"14.00\" fill=\"#000000\">value = [0, 43, 38]</text>\n",
       "<text text-anchor=\"start\" x=\"224\" y=\"-587.8\" font-family=\"Helvetica,sans-Serif\" font-size=\"14.00\" fill=\"#000000\">class = versicolor</text>\n",
       "</g>\n",
       "<!-- 0&#45;&gt;2 -->\n",
       "<g id=\"edge2\" class=\"edge\">\n",
       "<title>0&#45;&gt;2</title>\n",
       "<path fill=\"none\" stroke=\"#000000\" d=\"M225.1304,-698.8796C230.93,-690.1434 237.1059,-680.8404 243.0908,-671.8253\"/>\n",
       "<polygon fill=\"#000000\" stroke=\"#000000\" points=\"246.1368,-673.5652 248.7517,-663.2981 240.3049,-669.6935 246.1368,-673.5652\"/>\n",
       "<text text-anchor=\"middle\" x=\"253.7022\" y=\"-684.103\" font-family=\"Helvetica,sans-Serif\" font-size=\"14.00\" fill=\"#000000\">False</text>\n",
       "</g>\n",
       "<!-- 3 -->\n",
       "<g id=\"node4\" class=\"node\">\n",
       "<title>3</title>\n",
       "<path fill=\"#39e581\" fill-opacity=\"0.976471\" stroke=\"#000000\" d=\"M256,-544C256,-544 125,-544 125,-544 119,-544 113,-538 113,-532 113,-532 113,-473 113,-473 113,-467 119,-461 125,-461 125,-461 256,-461 256,-461 262,-461 268,-467 268,-473 268,-473 268,-532 268,-532 268,-538 262,-544 256,-544\"/>\n",
       "<text text-anchor=\"start\" x=\"121\" y=\"-528.8\" font-family=\"Helvetica,sans-Serif\" font-size=\"14.00\" fill=\"#000000\">petal width (cm) ≤ 1.65</text>\n",
       "<text text-anchor=\"start\" x=\"155\" y=\"-513.8\" font-family=\"Helvetica,sans-Serif\" font-size=\"14.00\" fill=\"#000000\">gini = 0.048</text>\n",
       "<text text-anchor=\"start\" x=\"149.5\" y=\"-498.8\" font-family=\"Helvetica,sans-Serif\" font-size=\"14.00\" fill=\"#000000\">samples = 41</text>\n",
       "<text text-anchor=\"start\" x=\"140\" y=\"-483.8\" font-family=\"Helvetica,sans-Serif\" font-size=\"14.00\" fill=\"#000000\">value = [0, 40, 1]</text>\n",
       "<text text-anchor=\"start\" x=\"138\" y=\"-468.8\" font-family=\"Helvetica,sans-Serif\" font-size=\"14.00\" fill=\"#000000\">class = versicolor</text>\n",
       "</g>\n",
       "<!-- 2&#45;&gt;3 -->\n",
       "<g id=\"edge3\" class=\"edge\">\n",
       "<title>2&#45;&gt;3</title>\n",
       "<path fill=\"none\" stroke=\"#000000\" d=\"M246.4214,-579.8796C240.0428,-571.0534 233.246,-561.6485 226.6681,-552.5466\"/>\n",
       "<polygon fill=\"#000000\" stroke=\"#000000\" points=\"229.4012,-550.353 220.707,-544.2981 223.7277,-554.4532 229.4012,-550.353\"/>\n",
       "</g>\n",
       "<!-- 6 -->\n",
       "<g id=\"node7\" class=\"node\">\n",
       "<title>6</title>\n",
       "<path fill=\"#8139e5\" fill-opacity=\"0.917647\" stroke=\"#000000\" d=\"M429,-544C429,-544 298,-544 298,-544 292,-544 286,-538 286,-532 286,-532 286,-473 286,-473 286,-467 292,-461 298,-461 298,-461 429,-461 429,-461 435,-461 441,-467 441,-473 441,-473 441,-532 441,-532 441,-538 435,-544 429,-544\"/>\n",
       "<text text-anchor=\"start\" x=\"294\" y=\"-528.8\" font-family=\"Helvetica,sans-Serif\" font-size=\"14.00\" fill=\"#000000\">petal width (cm) ≤ 1.75</text>\n",
       "<text text-anchor=\"start\" x=\"328\" y=\"-513.8\" font-family=\"Helvetica,sans-Serif\" font-size=\"14.00\" fill=\"#000000\">gini = 0.139</text>\n",
       "<text text-anchor=\"start\" x=\"322.5\" y=\"-498.8\" font-family=\"Helvetica,sans-Serif\" font-size=\"14.00\" fill=\"#000000\">samples = 40</text>\n",
       "<text text-anchor=\"start\" x=\"313\" y=\"-483.8\" font-family=\"Helvetica,sans-Serif\" font-size=\"14.00\" fill=\"#000000\">value = [0, 3, 37]</text>\n",
       "<text text-anchor=\"start\" x=\"315\" y=\"-468.8\" font-family=\"Helvetica,sans-Serif\" font-size=\"14.00\" fill=\"#000000\">class = virginica</text>\n",
       "</g>\n",
       "<!-- 2&#45;&gt;6 -->\n",
       "<g id=\"edge6\" class=\"edge\">\n",
       "<title>2&#45;&gt;6</title>\n",
       "<path fill=\"none\" stroke=\"#000000\" d=\"M306.9284,-579.8796C313.3811,-571.0534 320.257,-561.6485 326.9113,-552.5466\"/>\n",
       "<polygon fill=\"#000000\" stroke=\"#000000\" points=\"329.8653,-554.4364 332.9417,-544.2981 324.2144,-550.3051 329.8653,-554.4364\"/>\n",
       "</g>\n",
       "<!-- 4 -->\n",
       "<g id=\"node5\" class=\"node\">\n",
       "<title>4</title>\n",
       "<path fill=\"#39e581\" stroke=\"#000000\" d=\"M109,-417.5C109,-417.5 12,-417.5 12,-417.5 6,-417.5 0,-411.5 0,-405.5 0,-405.5 0,-361.5 0,-361.5 0,-355.5 6,-349.5 12,-349.5 12,-349.5 109,-349.5 109,-349.5 115,-349.5 121,-355.5 121,-361.5 121,-361.5 121,-405.5 121,-405.5 121,-411.5 115,-417.5 109,-417.5\"/>\n",
       "<text text-anchor=\"start\" x=\"32.5\" y=\"-402.3\" font-family=\"Helvetica,sans-Serif\" font-size=\"14.00\" fill=\"#000000\">gini = 0.0</text>\n",
       "<text text-anchor=\"start\" x=\"19.5\" y=\"-387.3\" font-family=\"Helvetica,sans-Serif\" font-size=\"14.00\" fill=\"#000000\">samples = 40</text>\n",
       "<text text-anchor=\"start\" x=\"10\" y=\"-372.3\" font-family=\"Helvetica,sans-Serif\" font-size=\"14.00\" fill=\"#000000\">value = [0, 40, 0]</text>\n",
       "<text text-anchor=\"start\" x=\"8\" y=\"-357.3\" font-family=\"Helvetica,sans-Serif\" font-size=\"14.00\" fill=\"#000000\">class = versicolor</text>\n",
       "</g>\n",
       "<!-- 3&#45;&gt;4 -->\n",
       "<g id=\"edge4\" class=\"edge\">\n",
       "<title>3&#45;&gt;4</title>\n",
       "<path fill=\"none\" stroke=\"#000000\" d=\"M145.0323,-460.8796C132.1789,-449.1138 118.2021,-436.3197 105.3834,-424.5855\"/>\n",
       "<polygon fill=\"#000000\" stroke=\"#000000\" points=\"107.7264,-421.9854 97.9869,-417.8149 102.9999,-427.1488 107.7264,-421.9854\"/>\n",
       "</g>\n",
       "<!-- 5 -->\n",
       "<g id=\"node6\" class=\"node\">\n",
       "<title>5</title>\n",
       "<path fill=\"#8139e5\" stroke=\"#000000\" d=\"M240,-417.5C240,-417.5 151,-417.5 151,-417.5 145,-417.5 139,-411.5 139,-405.5 139,-405.5 139,-361.5 139,-361.5 139,-355.5 145,-349.5 151,-349.5 151,-349.5 240,-349.5 240,-349.5 246,-349.5 252,-355.5 252,-361.5 252,-361.5 252,-405.5 252,-405.5 252,-411.5 246,-417.5 240,-417.5\"/>\n",
       "<text text-anchor=\"start\" x=\"167.5\" y=\"-402.3\" font-family=\"Helvetica,sans-Serif\" font-size=\"14.00\" fill=\"#000000\">gini = 0.0</text>\n",
       "<text text-anchor=\"start\" x=\"158\" y=\"-387.3\" font-family=\"Helvetica,sans-Serif\" font-size=\"14.00\" fill=\"#000000\">samples = 1</text>\n",
       "<text text-anchor=\"start\" x=\"148.5\" y=\"-372.3\" font-family=\"Helvetica,sans-Serif\" font-size=\"14.00\" fill=\"#000000\">value = [0, 0, 1]</text>\n",
       "<text text-anchor=\"start\" x=\"147\" y=\"-357.3\" font-family=\"Helvetica,sans-Serif\" font-size=\"14.00\" fill=\"#000000\">class = virginica</text>\n",
       "</g>\n",
       "<!-- 3&#45;&gt;5 -->\n",
       "<g id=\"edge5\" class=\"edge\">\n",
       "<title>3&#45;&gt;5</title>\n",
       "<path fill=\"none\" stroke=\"#000000\" d=\"M192.2488,-460.8796C192.6969,-450.2134 193.1806,-438.7021 193.6344,-427.9015\"/>\n",
       "<polygon fill=\"#000000\" stroke=\"#000000\" points=\"197.1352,-427.9531 194.0582,-417.8149 190.1414,-427.6592 197.1352,-427.9531\"/>\n",
       "</g>\n",
       "<!-- 7 -->\n",
       "<g id=\"node8\" class=\"node\">\n",
       "<title>7</title>\n",
       "<path fill=\"#8139e5\" fill-opacity=\"0.250980\" stroke=\"#000000\" d=\"M425.5,-425C425.5,-425 291.5,-425 291.5,-425 285.5,-425 279.5,-419 279.5,-413 279.5,-413 279.5,-354 279.5,-354 279.5,-348 285.5,-342 291.5,-342 291.5,-342 425.5,-342 425.5,-342 431.5,-342 437.5,-348 437.5,-354 437.5,-354 437.5,-413 437.5,-413 437.5,-419 431.5,-425 425.5,-425\"/>\n",
       "<text text-anchor=\"start\" x=\"287.5\" y=\"-409.8\" font-family=\"Helvetica,sans-Serif\" font-size=\"14.00\" fill=\"#000000\">sepal width (cm) ≤ 2.65</text>\n",
       "<text text-anchor=\"start\" x=\"326.5\" y=\"-394.8\" font-family=\"Helvetica,sans-Serif\" font-size=\"14.00\" fill=\"#000000\">gini = 0.49</text>\n",
       "<text text-anchor=\"start\" x=\"321\" y=\"-379.8\" font-family=\"Helvetica,sans-Serif\" font-size=\"14.00\" fill=\"#000000\">samples = 7</text>\n",
       "<text text-anchor=\"start\" x=\"311.5\" y=\"-364.8\" font-family=\"Helvetica,sans-Serif\" font-size=\"14.00\" fill=\"#000000\">value = [0, 3, 4]</text>\n",
       "<text text-anchor=\"start\" x=\"310\" y=\"-349.8\" font-family=\"Helvetica,sans-Serif\" font-size=\"14.00\" fill=\"#000000\">class = virginica</text>\n",
       "</g>\n",
       "<!-- 6&#45;&gt;7 -->\n",
       "<g id=\"edge7\" class=\"edge\">\n",
       "<title>6&#45;&gt;7</title>\n",
       "<path fill=\"none\" stroke=\"#000000\" d=\"M361.7512,-460.8796C361.4069,-452.6838 361.0416,-443.9891 360.6849,-435.5013\"/>\n",
       "<polygon fill=\"#000000\" stroke=\"#000000\" points=\"364.173,-435.1423 360.2562,-425.2981 357.1792,-435.4362 364.173,-435.1423\"/>\n",
       "</g>\n",
       "<!-- 14 -->\n",
       "<g id=\"node15\" class=\"node\">\n",
       "<title>14</title>\n",
       "<path fill=\"#8139e5\" stroke=\"#000000\" d=\"M561,-417.5C561,-417.5 468,-417.5 468,-417.5 462,-417.5 456,-411.5 456,-405.5 456,-405.5 456,-361.5 456,-361.5 456,-355.5 462,-349.5 468,-349.5 468,-349.5 561,-349.5 561,-349.5 567,-349.5 573,-355.5 573,-361.5 573,-361.5 573,-405.5 573,-405.5 573,-411.5 567,-417.5 561,-417.5\"/>\n",
       "<text text-anchor=\"start\" x=\"486.5\" y=\"-402.3\" font-family=\"Helvetica,sans-Serif\" font-size=\"14.00\" fill=\"#000000\">gini = 0.0</text>\n",
       "<text text-anchor=\"start\" x=\"473.5\" y=\"-387.3\" font-family=\"Helvetica,sans-Serif\" font-size=\"14.00\" fill=\"#000000\">samples = 33</text>\n",
       "<text text-anchor=\"start\" x=\"464\" y=\"-372.3\" font-family=\"Helvetica,sans-Serif\" font-size=\"14.00\" fill=\"#000000\">value = [0, 0, 33]</text>\n",
       "<text text-anchor=\"start\" x=\"466\" y=\"-357.3\" font-family=\"Helvetica,sans-Serif\" font-size=\"14.00\" fill=\"#000000\">class = virginica</text>\n",
       "</g>\n",
       "<!-- 6&#45;&gt;14 -->\n",
       "<g id=\"edge14\" class=\"edge\">\n",
       "<title>6&#45;&gt;14</title>\n",
       "<path fill=\"none\" stroke=\"#000000\" d=\"M416.3125,-460.8796C431.3817,-449.0038 447.7803,-436.0804 462.7834,-424.2568\"/>\n",
       "<polygon fill=\"#000000\" stroke=\"#000000\" points=\"465.2698,-426.7536 470.9575,-417.8149 460.9369,-421.2557 465.2698,-426.7536\"/>\n",
       "</g>\n",
       "<!-- 8 -->\n",
       "<g id=\"node9\" class=\"node\">\n",
       "<title>8</title>\n",
       "<path fill=\"#8139e5\" stroke=\"#000000\" d=\"M326,-298.5C326,-298.5 237,-298.5 237,-298.5 231,-298.5 225,-292.5 225,-286.5 225,-286.5 225,-242.5 225,-242.5 225,-236.5 231,-230.5 237,-230.5 237,-230.5 326,-230.5 326,-230.5 332,-230.5 338,-236.5 338,-242.5 338,-242.5 338,-286.5 338,-286.5 338,-292.5 332,-298.5 326,-298.5\"/>\n",
       "<text text-anchor=\"start\" x=\"253.5\" y=\"-283.3\" font-family=\"Helvetica,sans-Serif\" font-size=\"14.00\" fill=\"#000000\">gini = 0.0</text>\n",
       "<text text-anchor=\"start\" x=\"244\" y=\"-268.3\" font-family=\"Helvetica,sans-Serif\" font-size=\"14.00\" fill=\"#000000\">samples = 2</text>\n",
       "<text text-anchor=\"start\" x=\"234.5\" y=\"-253.3\" font-family=\"Helvetica,sans-Serif\" font-size=\"14.00\" fill=\"#000000\">value = [0, 0, 2]</text>\n",
       "<text text-anchor=\"start\" x=\"233\" y=\"-238.3\" font-family=\"Helvetica,sans-Serif\" font-size=\"14.00\" fill=\"#000000\">class = virginica</text>\n",
       "</g>\n",
       "<!-- 7&#45;&gt;8 -->\n",
       "<g id=\"edge8\" class=\"edge\">\n",
       "<title>7&#45;&gt;8</title>\n",
       "<path fill=\"none\" stroke=\"#000000\" d=\"M331.5691,-341.8796C324.3117,-330.6636 316.4497,-318.5131 309.1535,-307.2372\"/>\n",
       "<polygon fill=\"#000000\" stroke=\"#000000\" points=\"312.0748,-305.3093 303.7038,-298.8149 306.1978,-309.112 312.0748,-305.3093\"/>\n",
       "</g>\n",
       "<!-- 9 -->\n",
       "<g id=\"node10\" class=\"node\">\n",
       "<title>9</title>\n",
       "<path fill=\"#39e581\" fill-opacity=\"0.333333\" stroke=\"#000000\" d=\"M504.5,-306C504.5,-306 368.5,-306 368.5,-306 362.5,-306 356.5,-300 356.5,-294 356.5,-294 356.5,-235 356.5,-235 356.5,-229 362.5,-223 368.5,-223 368.5,-223 504.5,-223 504.5,-223 510.5,-223 516.5,-229 516.5,-235 516.5,-235 516.5,-294 516.5,-294 516.5,-300 510.5,-306 504.5,-306\"/>\n",
       "<text text-anchor=\"start\" x=\"364.5\" y=\"-290.8\" font-family=\"Helvetica,sans-Serif\" font-size=\"14.00\" fill=\"#000000\">petal length (cm) ≤ 5.05</text>\n",
       "<text text-anchor=\"start\" x=\"404.5\" y=\"-275.8\" font-family=\"Helvetica,sans-Serif\" font-size=\"14.00\" fill=\"#000000\">gini = 0.48</text>\n",
       "<text text-anchor=\"start\" x=\"399\" y=\"-260.8\" font-family=\"Helvetica,sans-Serif\" font-size=\"14.00\" fill=\"#000000\">samples = 5</text>\n",
       "<text text-anchor=\"start\" x=\"389.5\" y=\"-245.8\" font-family=\"Helvetica,sans-Serif\" font-size=\"14.00\" fill=\"#000000\">value = [0, 3, 2]</text>\n",
       "<text text-anchor=\"start\" x=\"384\" y=\"-230.8\" font-family=\"Helvetica,sans-Serif\" font-size=\"14.00\" fill=\"#000000\">class = versicolor</text>\n",
       "</g>\n",
       "<!-- 7&#45;&gt;9 -->\n",
       "<g id=\"edge9\" class=\"edge\">\n",
       "<title>7&#45;&gt;9</title>\n",
       "<path fill=\"none\" stroke=\"#000000\" d=\"M385.7806,-341.8796C391.5068,-333.1434 397.6046,-323.8404 403.5137,-314.8253\"/>\n",
       "<polygon fill=\"#000000\" stroke=\"#000000\" points=\"406.5482,-316.5803 409.1029,-306.2981 400.6937,-312.7429 406.5482,-316.5803\"/>\n",
       "</g>\n",
       "<!-- 10 -->\n",
       "<g id=\"node11\" class=\"node\">\n",
       "<title>10</title>\n",
       "<path fill=\"#39e581\" stroke=\"#000000\" d=\"M405,-179.5C405,-179.5 308,-179.5 308,-179.5 302,-179.5 296,-173.5 296,-167.5 296,-167.5 296,-123.5 296,-123.5 296,-117.5 302,-111.5 308,-111.5 308,-111.5 405,-111.5 405,-111.5 411,-111.5 417,-117.5 417,-123.5 417,-123.5 417,-167.5 417,-167.5 417,-173.5 411,-179.5 405,-179.5\"/>\n",
       "<text text-anchor=\"start\" x=\"328.5\" y=\"-164.3\" font-family=\"Helvetica,sans-Serif\" font-size=\"14.00\" fill=\"#000000\">gini = 0.0</text>\n",
       "<text text-anchor=\"start\" x=\"319\" y=\"-149.3\" font-family=\"Helvetica,sans-Serif\" font-size=\"14.00\" fill=\"#000000\">samples = 2</text>\n",
       "<text text-anchor=\"start\" x=\"309.5\" y=\"-134.3\" font-family=\"Helvetica,sans-Serif\" font-size=\"14.00\" fill=\"#000000\">value = [0, 2, 0]</text>\n",
       "<text text-anchor=\"start\" x=\"304\" y=\"-119.3\" font-family=\"Helvetica,sans-Serif\" font-size=\"14.00\" fill=\"#000000\">class = versicolor</text>\n",
       "</g>\n",
       "<!-- 9&#45;&gt;10 -->\n",
       "<g id=\"edge10\" class=\"edge\">\n",
       "<title>9&#45;&gt;10</title>\n",
       "<path fill=\"none\" stroke=\"#000000\" d=\"M408.5199,-222.8796C400.9797,-211.6636 392.8113,-199.5131 385.2309,-188.2372\"/>\n",
       "<polygon fill=\"#000000\" stroke=\"#000000\" points=\"388.0527,-186.1612 379.5689,-179.8149 382.2434,-190.0667 388.0527,-186.1612\"/>\n",
       "</g>\n",
       "<!-- 11 -->\n",
       "<g id=\"node12\" class=\"node\">\n",
       "<title>11</title>\n",
       "<path fill=\"#8139e5\" fill-opacity=\"0.498039\" stroke=\"#000000\" d=\"M586,-187C586,-187 447,-187 447,-187 441,-187 435,-181 435,-175 435,-175 435,-116 435,-116 435,-110 441,-104 447,-104 447,-104 586,-104 586,-104 592,-104 598,-110 598,-116 598,-116 598,-175 598,-175 598,-181 592,-187 586,-187\"/>\n",
       "<text text-anchor=\"start\" x=\"443\" y=\"-171.8\" font-family=\"Helvetica,sans-Serif\" font-size=\"14.00\" fill=\"#000000\">sepal length (cm) ≤ 6.15</text>\n",
       "<text text-anchor=\"start\" x=\"481\" y=\"-156.8\" font-family=\"Helvetica,sans-Serif\" font-size=\"14.00\" fill=\"#000000\">gini = 0.444</text>\n",
       "<text text-anchor=\"start\" x=\"479\" y=\"-141.8\" font-family=\"Helvetica,sans-Serif\" font-size=\"14.00\" fill=\"#000000\">samples = 3</text>\n",
       "<text text-anchor=\"start\" x=\"469.5\" y=\"-126.8\" font-family=\"Helvetica,sans-Serif\" font-size=\"14.00\" fill=\"#000000\">value = [0, 1, 2]</text>\n",
       "<text text-anchor=\"start\" x=\"468\" y=\"-111.8\" font-family=\"Helvetica,sans-Serif\" font-size=\"14.00\" fill=\"#000000\">class = virginica</text>\n",
       "</g>\n",
       "<!-- 9&#45;&gt;11 -->\n",
       "<g id=\"edge11\" class=\"edge\">\n",
       "<title>9&#45;&gt;11</title>\n",
       "<path fill=\"none\" stroke=\"#000000\" d=\"M464.4801,-222.8796C470.3531,-214.1434 476.6073,-204.8404 482.6679,-195.8253\"/>\n",
       "<polygon fill=\"#000000\" stroke=\"#000000\" points=\"485.7259,-197.5498 488.4005,-187.2981 479.9166,-193.6444 485.7259,-197.5498\"/>\n",
       "</g>\n",
       "<!-- 12 -->\n",
       "<g id=\"node13\" class=\"node\">\n",
       "<title>12</title>\n",
       "<path fill=\"#39e581\" stroke=\"#000000\" d=\"M497,-68C497,-68 400,-68 400,-68 394,-68 388,-62 388,-56 388,-56 388,-12 388,-12 388,-6 394,0 400,0 400,0 497,0 497,0 503,0 509,-6 509,-12 509,-12 509,-56 509,-56 509,-62 503,-68 497,-68\"/>\n",
       "<text text-anchor=\"start\" x=\"420.5\" y=\"-52.8\" font-family=\"Helvetica,sans-Serif\" font-size=\"14.00\" fill=\"#000000\">gini = 0.0</text>\n",
       "<text text-anchor=\"start\" x=\"411\" y=\"-37.8\" font-family=\"Helvetica,sans-Serif\" font-size=\"14.00\" fill=\"#000000\">samples = 1</text>\n",
       "<text text-anchor=\"start\" x=\"401.5\" y=\"-22.8\" font-family=\"Helvetica,sans-Serif\" font-size=\"14.00\" fill=\"#000000\">value = [0, 1, 0]</text>\n",
       "<text text-anchor=\"start\" x=\"396\" y=\"-7.8\" font-family=\"Helvetica,sans-Serif\" font-size=\"14.00\" fill=\"#000000\">class = versicolor</text>\n",
       "</g>\n",
       "<!-- 11&#45;&gt;12 -->\n",
       "<g id=\"edge12\" class=\"edge\">\n",
       "<title>11&#45;&gt;12</title>\n",
       "<path fill=\"none\" stroke=\"#000000\" d=\"M491.1793,-103.9815C485.7984,-95.1585 480.1068,-85.8258 474.6941,-76.9506\"/>\n",
       "<polygon fill=\"#000000\" stroke=\"#000000\" points=\"477.5912,-74.9789 469.3962,-68.2637 471.6149,-78.6236 477.5912,-74.9789\"/>\n",
       "</g>\n",
       "<!-- 13 -->\n",
       "<g id=\"node14\" class=\"node\">\n",
       "<title>13</title>\n",
       "<path fill=\"#8139e5\" stroke=\"#000000\" d=\"M628,-68C628,-68 539,-68 539,-68 533,-68 527,-62 527,-56 527,-56 527,-12 527,-12 527,-6 533,0 539,0 539,0 628,0 628,0 634,0 640,-6 640,-12 640,-12 640,-56 640,-56 640,-62 634,-68 628,-68\"/>\n",
       "<text text-anchor=\"start\" x=\"555.5\" y=\"-52.8\" font-family=\"Helvetica,sans-Serif\" font-size=\"14.00\" fill=\"#000000\">gini = 0.0</text>\n",
       "<text text-anchor=\"start\" x=\"546\" y=\"-37.8\" font-family=\"Helvetica,sans-Serif\" font-size=\"14.00\" fill=\"#000000\">samples = 2</text>\n",
       "<text text-anchor=\"start\" x=\"536.5\" y=\"-22.8\" font-family=\"Helvetica,sans-Serif\" font-size=\"14.00\" fill=\"#000000\">value = [0, 0, 2]</text>\n",
       "<text text-anchor=\"start\" x=\"535\" y=\"-7.8\" font-family=\"Helvetica,sans-Serif\" font-size=\"14.00\" fill=\"#000000\">class = virginica</text>\n",
       "</g>\n",
       "<!-- 11&#45;&gt;13 -->\n",
       "<g id=\"edge13\" class=\"edge\">\n",
       "<title>11&#45;&gt;13</title>\n",
       "<path fill=\"none\" stroke=\"#000000\" d=\"M541.4483,-103.9815C546.7501,-95.1585 552.3581,-85.8258 557.6911,-76.9506\"/>\n",
       "<polygon fill=\"#000000\" stroke=\"#000000\" points=\"560.7605,-78.638 562.9111,-68.2637 554.7604,-75.0325 560.7605,-78.638\"/>\n",
       "</g>\n",
       "</g>\n",
       "</svg>\n"
      ],
      "text/plain": [
       "<graphviz.files.Source at 0x7fc4e1e42f98>"
      ]
     },
     "execution_count": 199,
     "metadata": {},
     "output_type": "execute_result"
    }
   ],
   "source": [
    "dot_data = tree.export_graphviz(clf, out_file=None, \n",
    "                         feature_names=iris.feature_names,  \n",
    "                         class_names=iris.target_names,  \n",
    "                         filled=True, rounded=True,  \n",
    "                         special_characters=True)  \n",
    "graph = graphviz.Source(dot_data)  \n",
    "graph "
   ]
  },
  {
   "cell_type": "code",
   "execution_count": 200,
   "metadata": {},
   "outputs": [],
   "source": [
    "X_pl = np.linspace(0,8,300) # petal length\n",
    "Y_pw = np.linspace(0,3,300) # petal width\n",
    "mean_sl = df['sepal length (cm)'].mean()\n",
    "mean_sw = df['sepal width (cm)'].mean()\n",
    "XX, YY= np.meshgrid(X_pl,Y_pw)\n",
    "grille_2D = np.vstack((XX.flatten(),YY.flatten())).T\n",
    "grille_4D = np.hstack((np.ones(grille_2D.shape)*np.r_[mean_sl,mean_sw],grille_2D))"
   ]
  },
  {
   "cell_type": "code",
   "execution_count": 201,
   "metadata": {},
   "outputs": [
    {
     "data": {
      "text/plain": [
       "(39280,)"
      ]
     },
     "execution_count": 201,
     "metadata": {},
     "output_type": "execute_result"
    }
   ],
   "source": [
    "prediction_grille = clf.predict(grille_4D)\n",
    "prediction_grille[prediction_grille==2].shape"
   ]
  },
  {
   "cell_type": "code",
   "execution_count": 202,
   "metadata": {},
   "outputs": [
    {
     "data": {
      "text/html": [
       "<div>\n",
       "<style scoped>\n",
       "    .dataframe tbody tr th:only-of-type {\n",
       "        vertical-align: middle;\n",
       "    }\n",
       "\n",
       "    .dataframe tbody tr th {\n",
       "        vertical-align: top;\n",
       "    }\n",
       "\n",
       "    .dataframe thead th {\n",
       "        text-align: right;\n",
       "    }\n",
       "</style>\n",
       "<table border=\"1\" class=\"dataframe\">\n",
       "  <thead>\n",
       "    <tr style=\"text-align: right;\">\n",
       "      <th></th>\n",
       "      <th>sepal length (cm)</th>\n",
       "      <th>sepal width (cm)</th>\n",
       "      <th>petal length (cm)</th>\n",
       "      <th>petal width (cm)</th>\n",
       "      <th>species</th>\n",
       "      <th>is_train</th>\n",
       "    </tr>\n",
       "  </thead>\n",
       "  <tbody>\n",
       "    <tr>\n",
       "      <th>0</th>\n",
       "      <td>5.1</td>\n",
       "      <td>3.5</td>\n",
       "      <td>1.4</td>\n",
       "      <td>0.2</td>\n",
       "      <td>setosa</td>\n",
       "      <td>True</td>\n",
       "    </tr>\n",
       "    <tr>\n",
       "      <th>1</th>\n",
       "      <td>4.9</td>\n",
       "      <td>3.0</td>\n",
       "      <td>1.4</td>\n",
       "      <td>0.2</td>\n",
       "      <td>setosa</td>\n",
       "      <td>True</td>\n",
       "    </tr>\n",
       "    <tr>\n",
       "      <th>2</th>\n",
       "      <td>4.7</td>\n",
       "      <td>3.2</td>\n",
       "      <td>1.3</td>\n",
       "      <td>0.2</td>\n",
       "      <td>setosa</td>\n",
       "      <td>True</td>\n",
       "    </tr>\n",
       "    <tr>\n",
       "      <th>3</th>\n",
       "      <td>4.6</td>\n",
       "      <td>3.1</td>\n",
       "      <td>1.5</td>\n",
       "      <td>0.2</td>\n",
       "      <td>setosa</td>\n",
       "      <td>True</td>\n",
       "    </tr>\n",
       "    <tr>\n",
       "      <th>4</th>\n",
       "      <td>5.0</td>\n",
       "      <td>3.6</td>\n",
       "      <td>1.4</td>\n",
       "      <td>0.2</td>\n",
       "      <td>setosa</td>\n",
       "      <td>True</td>\n",
       "    </tr>\n",
       "  </tbody>\n",
       "</table>\n",
       "</div>"
      ],
      "text/plain": [
       "   sepal length (cm)  sepal width (cm)  petal length (cm)  petal width (cm)  \\\n",
       "0                5.1               3.5                1.4               0.2   \n",
       "1                4.9               3.0                1.4               0.2   \n",
       "2                4.7               3.2                1.3               0.2   \n",
       "3                4.6               3.1                1.5               0.2   \n",
       "4                5.0               3.6                1.4               0.2   \n",
       "\n",
       "  species  is_train  \n",
       "0  setosa      True  \n",
       "1  setosa      True  \n",
       "2  setosa      True  \n",
       "3  setosa      True  \n",
       "4  setosa      True  "
      ]
     },
     "execution_count": 202,
     "metadata": {},
     "output_type": "execute_result"
    }
   ],
   "source": [
    "df.head()"
   ]
  },
  {
   "cell_type": "code",
   "execution_count": 203,
   "metadata": {},
   "outputs": [
    {
     "data": {
      "text/plain": [
       "<matplotlib.contour.QuadContourSet at 0x7fc4e1e294e0>"
      ]
     },
     "execution_count": 203,
     "metadata": {},
     "output_type": "execute_result"
    },
    {
     "data": {
      "image/png": "[encoded data removed]",
      "text/plain": [
       "<Figure size 453.85x360 with 1 Axes>"
      ]
     },
     "metadata": {},
     "output_type": "display_data"
    }
   ],
   "source": [
    "df['predict'] = (clf.predict(df[features])==iris.target)\n",
    "\n",
    "sns.relplot(data=df,x=\"petal length (cm)\", y=\"petal width (cm)\",hue='species',style='predict',palette=['b','r','g'], )\n",
    "\n",
    "plt.contourf(X_pl,Y_pw,prediction_grille.reshape(300,300),cmap='brg',alpha = 0.3)\n"
   ]
  },
  {
   "cell_type": "markdown",
   "metadata": {},
   "source": [
    "The main discriminant features, as we saw earlier in the plots, are the petals features. Indeed, the algorithm first separate the classes thanks to the petal width and length criteria. As expected in the previous section, the decision tree discriminate with:\n",
    "- petal width = 0.75 and = 1.7\n",
    "- petal length = 4.95\n",
    "<br>\n",
    "There is a class, \"setosa\" which is very well separated from the others. "
   ]
  },
  {
   "cell_type": "code",
   "execution_count": 204,
   "metadata": {},
   "outputs": [
    {
     "data": {
      "text/plain": [
       "'iris.pdf'"
      ]
     },
     "execution_count": 204,
     "metadata": {},
     "output_type": "execute_result"
    }
   ],
   "source": [
    "#We can also export the tree in Graphviz format and  save the resulting graph in an output file iris.pdf:\n",
    "dot_data = tree.export_graphviz(clf, out_file=None) \n",
    "graph = graphviz.Source(dot_data) \n",
    "graph.render(\"iris\") "
   ]
  },
  {
   "cell_type": "markdown",
   "metadata": {},
   "source": [
    "After being fitted, **the model can then be used to predict the class of samples**:"
   ]
  },
  {
   "cell_type": "code",
   "execution_count": 205,
   "metadata": {},
   "outputs": [
    {
     "name": "stdout",
     "output_type": "stream",
     "text": [
      "Accuracy train set:  1.0\n",
      "Accuracy test set:  0.9375\n"
     ]
    }
   ],
   "source": [
    "class_pred_train = clf.predict(train.values[:, :4])\n",
    "class_pred_test = clf.predict(test.values[:,:4])\n",
    "print(\"Accuracy train set: \", np.sum(class_pred_train==y_train)/y_train.shape[0])\n",
    "print(\"Accuracy test set: \", np.sum(class_pred_test==y_test)/y_test.shape[0])\n",
    "\n",
    "#x_train.drop(columns=['species','is_train'])\n",
    "#test.drop(columns=['species','is_train'])"
   ]
  },
  {
   "cell_type": "markdown",
   "metadata": {},
   "source": [
    "Accuracy on train set is perfect as expected (at the end of the classification, gini = 0 for all classes). <br>\n",
    "The accuracy on test set is very good too."
   ]
  },
  {
   "cell_type": "markdown",
   "metadata": {},
   "source": [
    "## Exercise 1\n",
    "1. Train the decision tree on the iris dataset and explain how one should read blocks in `graphviz` representation of the tree.\n",
    "\n",
    "2. Plot the regions of decision with the points of the training set superimposed.\n",
    "\n",
    "*Indication: you may find the function `plt.contourf` useful."
   ]
  },
  {
   "cell_type": "markdown",
   "metadata": {},
   "source": [
    "## Exercise 2\n",
    "1. Build 2 different trees based on a sepal features (sepal lengths, sepal widths) vs petal features (petal lengths, petal widths) only: which features are the most discriminant?\n",
    "\n",
    "2. Compare performances with those obtained using all features.\n",
    "\n",
    "3. Try the same as above using the various splitting criterion available, Gini's index, classification error or cross-entropy. Comment on your results. "
   ]
  },
  {
   "cell_type": "markdown",
   "metadata": {},
   "source": [
    "#### Only sepal featues"
   ]
  },
  {
   "cell_type": "code",
   "execution_count": 206,
   "metadata": {},
   "outputs": [
    {
     "data": {
      "image/svg+xml": [
       "<?xml version=\"1.0\" encoding=\"UTF-8\" standalone=\"no\"?>\n",
       "<!DOCTYPE svg PUBLIC \"-//W3C//DTD SVG 1.1//EN\"\n",
       " \"http://www.w3.org/Graphics/SVG/1.1/DTD/svg11.dtd\">\n",
       "<!-- Generated by graphviz version 2.40.1 (20161225.0304)\n",
       " -->\n",
       "<!-- Title: Tree Pages: 1 -->\n",
       "<svg width=\"2316pt\" height=\"1623pt\"\n",
       " viewBox=\"0.00 0.00 2316.00 1623.00\" xmlns=\"http://www.w3.org/2000/svg\" xmlns:xlink=\"http://www.w3.org/1999/xlink\">\n",
       "<g id=\"graph0\" class=\"graph\" transform=\"scale(1 1) rotate(0) translate(4 1619)\">\n",
       "<title>Tree</title>\n",
       "<polygon fill=\"#ffffff\" stroke=\"transparent\" points=\"-4,4 -4,-1619 2312,-1619 2312,4 -4,4\"/>\n",
       "<!-- 0 -->\n",
       "<g id=\"node1\" class=\"node\">\n",
       "<title>0</title>\n",
       "<path fill=\"#39e581\" fill-opacity=\"0.062745\" stroke=\"#000000\" d=\"M787,-1615C787,-1615 648,-1615 648,-1615 642,-1615 636,-1609 636,-1603 636,-1603 636,-1544 636,-1544 636,-1538 642,-1532 648,-1532 648,-1532 787,-1532 787,-1532 793,-1532 799,-1538 799,-1544 799,-1544 799,-1603 799,-1603 799,-1609 793,-1615 787,-1615\"/>\n",
       "<text text-anchor=\"start\" x=\"644\" y=\"-1599.8\" font-family=\"Helvetica,sans-Serif\" font-size=\"14.00\" fill=\"#000000\">sepal length (cm) ≤ 5.45</text>\n",
       "<text text-anchor=\"start\" x=\"682\" y=\"-1584.8\" font-family=\"Helvetica,sans-Serif\" font-size=\"14.00\" fill=\"#000000\">gini = 0.665</text>\n",
       "<text text-anchor=\"start\" x=\"672.5\" y=\"-1569.8\" font-family=\"Helvetica,sans-Serif\" font-size=\"14.00\" fill=\"#000000\">samples = 118</text>\n",
       "<text text-anchor=\"start\" x=\"659.5\" y=\"-1554.8\" font-family=\"Helvetica,sans-Serif\" font-size=\"14.00\" fill=\"#000000\">value = [37, 43, 38]</text>\n",
       "<text text-anchor=\"start\" x=\"665\" y=\"-1539.8\" font-family=\"Helvetica,sans-Serif\" font-size=\"14.00\" fill=\"#000000\">class = versicolor</text>\n",
       "</g>\n",
       "<!-- 1 -->\n",
       "<g id=\"node2\" class=\"node\">\n",
       "<title>1</title>\n",
       "<path fill=\"#e58139\" fill-opacity=\"0.823529\" stroke=\"#000000\" d=\"M575.5,-1496C575.5,-1496 441.5,-1496 441.5,-1496 435.5,-1496 429.5,-1490 429.5,-1484 429.5,-1484 429.5,-1425 429.5,-1425 429.5,-1419 435.5,-1413 441.5,-1413 441.5,-1413 575.5,-1413 575.5,-1413 581.5,-1413 587.5,-1419 587.5,-1425 587.5,-1425 587.5,-1484 587.5,-1484 587.5,-1490 581.5,-1496 575.5,-1496\"/>\n",
       "<text text-anchor=\"start\" x=\"437.5\" y=\"-1480.8\" font-family=\"Helvetica,sans-Serif\" font-size=\"14.00\" fill=\"#000000\">sepal width (cm) ≤ 2.85</text>\n",
       "<text text-anchor=\"start\" x=\"473\" y=\"-1465.8\" font-family=\"Helvetica,sans-Serif\" font-size=\"14.00\" fill=\"#000000\">gini = 0.267</text>\n",
       "<text text-anchor=\"start\" x=\"467.5\" y=\"-1450.8\" font-family=\"Helvetica,sans-Serif\" font-size=\"14.00\" fill=\"#000000\">samples = 39</text>\n",
       "<text text-anchor=\"start\" x=\"458\" y=\"-1435.8\" font-family=\"Helvetica,sans-Serif\" font-size=\"14.00\" fill=\"#000000\">value = [33, 5, 1]</text>\n",
       "<text text-anchor=\"start\" x=\"465\" y=\"-1420.8\" font-family=\"Helvetica,sans-Serif\" font-size=\"14.00\" fill=\"#000000\">class = setosa</text>\n",
       "</g>\n",
       "<!-- 0&#45;&gt;1 -->\n",
       "<g id=\"edge1\" class=\"edge\">\n",
       "<title>0&#45;&gt;1</title>\n",
       "<path fill=\"none\" stroke=\"#000000\" d=\"M644.4019,-1531.8796C627.0603,-1522.0056 608.4467,-1511.4075 590.7289,-1501.3193\"/>\n",
       "<polygon fill=\"#000000\" stroke=\"#000000\" points=\"591.9787,-1498.0034 581.5568,-1496.0969 588.5151,-1504.0865 591.9787,-1498.0034\"/>\n",
       "<text text-anchor=\"middle\" x=\"588.172\" y=\"-1516.5058\" font-family=\"Helvetica,sans-Serif\" font-size=\"14.00\" fill=\"#000000\">True</text>\n",
       "</g>\n",
       "<!-- 14 -->\n",
       "<g id=\"node15\" class=\"node\">\n",
       "<title>14</title>\n",
       "<path fill=\"#39e581\" fill-opacity=\"0.023529\" stroke=\"#000000\" d=\"M1006,-1496C1006,-1496 867,-1496 867,-1496 861,-1496 855,-1490 855,-1484 855,-1484 855,-1425 855,-1425 855,-1419 861,-1413 867,-1413 867,-1413 1006,-1413 1006,-1413 1012,-1413 1018,-1419 1018,-1425 1018,-1425 1018,-1484 1018,-1484 1018,-1490 1012,-1496 1006,-1496\"/>\n",
       "<text text-anchor=\"start\" x=\"863\" y=\"-1480.8\" font-family=\"Helvetica,sans-Serif\" font-size=\"14.00\" fill=\"#000000\">sepal length (cm) ≤ 6.15</text>\n",
       "<text text-anchor=\"start\" x=\"901\" y=\"-1465.8\" font-family=\"Helvetica,sans-Serif\" font-size=\"14.00\" fill=\"#000000\">gini = 0.547</text>\n",
       "<text text-anchor=\"start\" x=\"895.5\" y=\"-1450.8\" font-family=\"Helvetica,sans-Serif\" font-size=\"14.00\" fill=\"#000000\">samples = 79</text>\n",
       "<text text-anchor=\"start\" x=\"882\" y=\"-1435.8\" font-family=\"Helvetica,sans-Serif\" font-size=\"14.00\" fill=\"#000000\">value = [4, 38, 37]</text>\n",
       "<text text-anchor=\"start\" x=\"884\" y=\"-1420.8\" font-family=\"Helvetica,sans-Serif\" font-size=\"14.00\" fill=\"#000000\">class = versicolor</text>\n",
       "</g>\n",
       "<!-- 0&#45;&gt;14 -->\n",
       "<g id=\"edge14\" class=\"edge\">\n",
       "<title>0&#45;&gt;14</title>\n",
       "<path fill=\"none\" stroke=\"#000000\" d=\"M794.0956,-1531.8796C812.517,-1521.8697 832.3082,-1511.1156 851.1026,-1500.9031\"/>\n",
       "<polygon fill=\"#000000\" stroke=\"#000000\" points=\"852.8321,-1503.9468 859.9477,-1496.0969 849.49,-1497.7961 852.8321,-1503.9468\"/>\n",
       "<text text-anchor=\"middle\" x=\"852.8551\" y=\"-1516.3697\" font-family=\"Helvetica,sans-Serif\" font-size=\"14.00\" fill=\"#000000\">False</text>\n",
       "</g>\n",
       "<!-- 2 -->\n",
       "<g id=\"node3\" class=\"node\">\n",
       "<title>2</title>\n",
       "<path fill=\"#39e581\" fill-opacity=\"0.600000\" stroke=\"#000000\" d=\"M329,-1377C329,-1377 198,-1377 198,-1377 192,-1377 186,-1371 186,-1365 186,-1365 186,-1306 186,-1306 186,-1300 192,-1294 198,-1294 198,-1294 329,-1294 329,-1294 335,-1294 341,-1300 341,-1306 341,-1306 341,-1365 341,-1365 341,-1371 335,-1377 329,-1377\"/>\n",
       "<text text-anchor=\"start\" x=\"194\" y=\"-1361.8\" font-family=\"Helvetica,sans-Serif\" font-size=\"14.00\" fill=\"#000000\">sepal length (cm) ≤ 4.7</text>\n",
       "<text text-anchor=\"start\" x=\"235.5\" y=\"-1346.8\" font-family=\"Helvetica,sans-Serif\" font-size=\"14.00\" fill=\"#000000\">gini = 0.5</text>\n",
       "<text text-anchor=\"start\" x=\"226\" y=\"-1331.8\" font-family=\"Helvetica,sans-Serif\" font-size=\"14.00\" fill=\"#000000\">samples = 6</text>\n",
       "<text text-anchor=\"start\" x=\"216.5\" y=\"-1316.8\" font-family=\"Helvetica,sans-Serif\" font-size=\"14.00\" fill=\"#000000\">value = [1, 4, 1]</text>\n",
       "<text text-anchor=\"start\" x=\"211\" y=\"-1301.8\" font-family=\"Helvetica,sans-Serif\" font-size=\"14.00\" fill=\"#000000\">class = versicolor</text>\n",
       "</g>\n",
       "<!-- 1&#45;&gt;2 -->\n",
       "<g id=\"edge2\" class=\"edge\">\n",
       "<title>1&#45;&gt;2</title>\n",
       "<path fill=\"none\" stroke=\"#000000\" d=\"M429.2939,-1416.0284C404.0317,-1403.7583 375.9505,-1390.1188 350.1866,-1377.6049\"/>\n",
       "<polygon fill=\"#000000\" stroke=\"#000000\" points=\"351.7029,-1374.4504 341.1786,-1373.2296 348.6445,-1380.747 351.7029,-1374.4504\"/>\n",
       "</g>\n",
       "<!-- 9 -->\n",
       "<g id=\"node10\" class=\"node\">\n",
       "<title>9</title>\n",
       "<path fill=\"#e58139\" fill-opacity=\"0.968627\" stroke=\"#000000\" d=\"M578,-1377C578,-1377 439,-1377 439,-1377 433,-1377 427,-1371 427,-1365 427,-1365 427,-1306 427,-1306 427,-1300 433,-1294 439,-1294 439,-1294 578,-1294 578,-1294 584,-1294 590,-1300 590,-1306 590,-1306 590,-1365 590,-1365 590,-1371 584,-1377 578,-1377\"/>\n",
       "<text text-anchor=\"start\" x=\"435\" y=\"-1361.8\" font-family=\"Helvetica,sans-Serif\" font-size=\"14.00\" fill=\"#000000\">sepal length (cm) ≤ 5.35</text>\n",
       "<text text-anchor=\"start\" x=\"473\" y=\"-1346.8\" font-family=\"Helvetica,sans-Serif\" font-size=\"14.00\" fill=\"#000000\">gini = 0.059</text>\n",
       "<text text-anchor=\"start\" x=\"467.5\" y=\"-1331.8\" font-family=\"Helvetica,sans-Serif\" font-size=\"14.00\" fill=\"#000000\">samples = 33</text>\n",
       "<text text-anchor=\"start\" x=\"458\" y=\"-1316.8\" font-family=\"Helvetica,sans-Serif\" font-size=\"14.00\" fill=\"#000000\">value = [32, 1, 0]</text>\n",
       "<text text-anchor=\"start\" x=\"465\" y=\"-1301.8\" font-family=\"Helvetica,sans-Serif\" font-size=\"14.00\" fill=\"#000000\">class = setosa</text>\n",
       "</g>\n",
       "<!-- 1&#45;&gt;9 -->\n",
       "<g id=\"edge9\" class=\"edge\">\n",
       "<title>1&#45;&gt;9</title>\n",
       "<path fill=\"none\" stroke=\"#000000\" d=\"M508.5,-1412.8796C508.5,-1404.6838 508.5,-1395.9891 508.5,-1387.5013\"/>\n",
       "<polygon fill=\"#000000\" stroke=\"#000000\" points=\"512.0001,-1387.298 508.5,-1377.2981 505.0001,-1387.2981 512.0001,-1387.298\"/>\n",
       "</g>\n",
       "<!-- 3 -->\n",
       "<g id=\"node4\" class=\"node\">\n",
       "<title>3</title>\n",
       "<path fill=\"#e58139\" stroke=\"#000000\" d=\"M151.5,-1250.5C151.5,-1250.5 65.5,-1250.5 65.5,-1250.5 59.5,-1250.5 53.5,-1244.5 53.5,-1238.5 53.5,-1238.5 53.5,-1194.5 53.5,-1194.5 53.5,-1188.5 59.5,-1182.5 65.5,-1182.5 65.5,-1182.5 151.5,-1182.5 151.5,-1182.5 157.5,-1182.5 163.5,-1188.5 163.5,-1194.5 163.5,-1194.5 163.5,-1238.5 163.5,-1238.5 163.5,-1244.5 157.5,-1250.5 151.5,-1250.5\"/>\n",
       "<text text-anchor=\"start\" x=\"80.5\" y=\"-1235.3\" font-family=\"Helvetica,sans-Serif\" font-size=\"14.00\" fill=\"#000000\">gini = 0.0</text>\n",
       "<text text-anchor=\"start\" x=\"71\" y=\"-1220.3\" font-family=\"Helvetica,sans-Serif\" font-size=\"14.00\" fill=\"#000000\">samples = 1</text>\n",
       "<text text-anchor=\"start\" x=\"61.5\" y=\"-1205.3\" font-family=\"Helvetica,sans-Serif\" font-size=\"14.00\" fill=\"#000000\">value = [1, 0, 0]</text>\n",
       "<text text-anchor=\"start\" x=\"65\" y=\"-1190.3\" font-family=\"Helvetica,sans-Serif\" font-size=\"14.00\" fill=\"#000000\">class = setosa</text>\n",
       "</g>\n",
       "<!-- 2&#45;&gt;3 -->\n",
       "<g id=\"edge3\" class=\"edge\">\n",
       "<title>2&#45;&gt;3</title>\n",
       "<path fill=\"none\" stroke=\"#000000\" d=\"M209.2885,-1293.8796C193.6769,-1281.8938 176.6753,-1268.841 161.1592,-1256.9287\"/>\n",
       "<polygon fill=\"#000000\" stroke=\"#000000\" points=\"163.2593,-1254.1285 153.1959,-1250.8149 158.9965,-1259.6808 163.2593,-1254.1285\"/>\n",
       "</g>\n",
       "<!-- 4 -->\n",
       "<g id=\"node5\" class=\"node\">\n",
       "<title>4</title>\n",
       "<path fill=\"#39e581\" fill-opacity=\"0.749020\" stroke=\"#000000\" d=\"M333,-1258C333,-1258 194,-1258 194,-1258 188,-1258 182,-1252 182,-1246 182,-1246 182,-1187 182,-1187 182,-1181 188,-1175 194,-1175 194,-1175 333,-1175 333,-1175 339,-1175 345,-1181 345,-1187 345,-1187 345,-1246 345,-1246 345,-1252 339,-1258 333,-1258\"/>\n",
       "<text text-anchor=\"start\" x=\"190\" y=\"-1242.8\" font-family=\"Helvetica,sans-Serif\" font-size=\"14.00\" fill=\"#000000\">sepal length (cm) ≤ 4.95</text>\n",
       "<text text-anchor=\"start\" x=\"231.5\" y=\"-1227.8\" font-family=\"Helvetica,sans-Serif\" font-size=\"14.00\" fill=\"#000000\">gini = 0.32</text>\n",
       "<text text-anchor=\"start\" x=\"226\" y=\"-1212.8\" font-family=\"Helvetica,sans-Serif\" font-size=\"14.00\" fill=\"#000000\">samples = 5</text>\n",
       "<text text-anchor=\"start\" x=\"216.5\" y=\"-1197.8\" font-family=\"Helvetica,sans-Serif\" font-size=\"14.00\" fill=\"#000000\">value = [0, 4, 1]</text>\n",
       "<text text-anchor=\"start\" x=\"211\" y=\"-1182.8\" font-family=\"Helvetica,sans-Serif\" font-size=\"14.00\" fill=\"#000000\">class = versicolor</text>\n",
       "</g>\n",
       "<!-- 2&#45;&gt;4 -->\n",
       "<g id=\"edge4\" class=\"edge\">\n",
       "<title>2&#45;&gt;4</title>\n",
       "<path fill=\"none\" stroke=\"#000000\" d=\"M263.5,-1293.8796C263.5,-1285.6838 263.5,-1276.9891 263.5,-1268.5013\"/>\n",
       "<polygon fill=\"#000000\" stroke=\"#000000\" points=\"267.0001,-1268.298 263.5,-1258.2981 260.0001,-1268.2981 267.0001,-1268.298\"/>\n",
       "</g>\n",
       "<!-- 5 -->\n",
       "<g id=\"node6\" class=\"node\">\n",
       "<title>5</title>\n",
       "<path fill=\"transparent\" stroke=\"#000000\" d=\"M194.5,-1139C194.5,-1139 60.5,-1139 60.5,-1139 54.5,-1139 48.5,-1133 48.5,-1127 48.5,-1127 48.5,-1068 48.5,-1068 48.5,-1062 54.5,-1056 60.5,-1056 60.5,-1056 194.5,-1056 194.5,-1056 200.5,-1056 206.5,-1062 206.5,-1068 206.5,-1068 206.5,-1127 206.5,-1127 206.5,-1133 200.5,-1139 194.5,-1139\"/>\n",
       "<text text-anchor=\"start\" x=\"56.5\" y=\"-1123.8\" font-family=\"Helvetica,sans-Serif\" font-size=\"14.00\" fill=\"#000000\">sepal width (cm) ≤ 2.45</text>\n",
       "<text text-anchor=\"start\" x=\"99.5\" y=\"-1108.8\" font-family=\"Helvetica,sans-Serif\" font-size=\"14.00\" fill=\"#000000\">gini = 0.5</text>\n",
       "<text text-anchor=\"start\" x=\"90\" y=\"-1093.8\" font-family=\"Helvetica,sans-Serif\" font-size=\"14.00\" fill=\"#000000\">samples = 2</text>\n",
       "<text text-anchor=\"start\" x=\"80.5\" y=\"-1078.8\" font-family=\"Helvetica,sans-Serif\" font-size=\"14.00\" fill=\"#000000\">value = [0, 1, 1]</text>\n",
       "<text text-anchor=\"start\" x=\"75\" y=\"-1063.8\" font-family=\"Helvetica,sans-Serif\" font-size=\"14.00\" fill=\"#000000\">class = versicolor</text>\n",
       "</g>\n",
       "<!-- 4&#45;&gt;5 -->\n",
       "<g id=\"edge5\" class=\"edge\">\n",
       "<title>4&#45;&gt;5</title>\n",
       "<path fill=\"none\" stroke=\"#000000\" d=\"M215.9338,-1174.8796C205.3321,-1165.6031 193.9998,-1155.6874 183.1067,-1146.1559\"/>\n",
       "<polygon fill=\"#000000\" stroke=\"#000000\" points=\"185.0998,-1143.2491 175.2692,-1139.2981 180.4902,-1148.5172 185.0998,-1143.2491\"/>\n",
       "</g>\n",
       "<!-- 8 -->\n",
       "<g id=\"node9\" class=\"node\">\n",
       "<title>8</title>\n",
       "<path fill=\"#39e581\" stroke=\"#000000\" d=\"M333,-1131.5C333,-1131.5 236,-1131.5 236,-1131.5 230,-1131.5 224,-1125.5 224,-1119.5 224,-1119.5 224,-1075.5 224,-1075.5 224,-1069.5 230,-1063.5 236,-1063.5 236,-1063.5 333,-1063.5 333,-1063.5 339,-1063.5 345,-1069.5 345,-1075.5 345,-1075.5 345,-1119.5 345,-1119.5 345,-1125.5 339,-1131.5 333,-1131.5\"/>\n",
       "<text text-anchor=\"start\" x=\"256.5\" y=\"-1116.3\" font-family=\"Helvetica,sans-Serif\" font-size=\"14.00\" fill=\"#000000\">gini = 0.0</text>\n",
       "<text text-anchor=\"start\" x=\"247\" y=\"-1101.3\" font-family=\"Helvetica,sans-Serif\" font-size=\"14.00\" fill=\"#000000\">samples = 3</text>\n",
       "<text text-anchor=\"start\" x=\"237.5\" y=\"-1086.3\" font-family=\"Helvetica,sans-Serif\" font-size=\"14.00\" fill=\"#000000\">value = [0, 3, 0]</text>\n",
       "<text text-anchor=\"start\" x=\"232\" y=\"-1071.3\" font-family=\"Helvetica,sans-Serif\" font-size=\"14.00\" fill=\"#000000\">class = versicolor</text>\n",
       "</g>\n",
       "<!-- 4&#45;&gt;8 -->\n",
       "<g id=\"edge8\" class=\"edge\">\n",
       "<title>4&#45;&gt;8</title>\n",
       "<path fill=\"none\" stroke=\"#000000\" d=\"M270.8448,-1174.8796C272.7271,-1164.2134 274.7585,-1152.7021 276.6644,-1141.9015\"/>\n",
       "<polygon fill=\"#000000\" stroke=\"#000000\" points=\"280.1532,-1142.2711 278.4444,-1131.8149 273.2597,-1141.0545 280.1532,-1142.2711\"/>\n",
       "</g>\n",
       "<!-- 6 -->\n",
       "<g id=\"node7\" class=\"node\">\n",
       "<title>6</title>\n",
       "<path fill=\"#39e581\" stroke=\"#000000\" d=\"M109,-1012.5C109,-1012.5 12,-1012.5 12,-1012.5 6,-1012.5 0,-1006.5 0,-1000.5 0,-1000.5 0,-956.5 0,-956.5 0,-950.5 6,-944.5 12,-944.5 12,-944.5 109,-944.5 109,-944.5 115,-944.5 121,-950.5 121,-956.5 121,-956.5 121,-1000.5 121,-1000.5 121,-1006.5 115,-1012.5 109,-1012.5\"/>\n",
       "<text text-anchor=\"start\" x=\"32.5\" y=\"-997.3\" font-family=\"Helvetica,sans-Serif\" font-size=\"14.00\" fill=\"#000000\">gini = 0.0</text>\n",
       "<text text-anchor=\"start\" x=\"23\" y=\"-982.3\" font-family=\"Helvetica,sans-Serif\" font-size=\"14.00\" fill=\"#000000\">samples = 1</text>\n",
       "<text text-anchor=\"start\" x=\"13.5\" y=\"-967.3\" font-family=\"Helvetica,sans-Serif\" font-size=\"14.00\" fill=\"#000000\">value = [0, 1, 0]</text>\n",
       "<text text-anchor=\"start\" x=\"8\" y=\"-952.3\" font-family=\"Helvetica,sans-Serif\" font-size=\"14.00\" fill=\"#000000\">class = versicolor</text>\n",
       "</g>\n",
       "<!-- 5&#45;&gt;6 -->\n",
       "<g id=\"edge6\" class=\"edge\">\n",
       "<title>5&#45;&gt;6</title>\n",
       "<path fill=\"none\" stroke=\"#000000\" d=\"M104.0667,-1055.8796C97.8137,-1044.7735 91.0448,-1032.7513 84.749,-1021.5691\"/>\n",
       "<polygon fill=\"#000000\" stroke=\"#000000\" points=\"87.7761,-1019.8116 79.8202,-1012.8149 81.6765,-1023.2459 87.7761,-1019.8116\"/>\n",
       "</g>\n",
       "<!-- 7 -->\n",
       "<g id=\"node8\" class=\"node\">\n",
       "<title>7</title>\n",
       "<path fill=\"#8139e5\" stroke=\"#000000\" d=\"M240,-1012.5C240,-1012.5 151,-1012.5 151,-1012.5 145,-1012.5 139,-1006.5 139,-1000.5 139,-1000.5 139,-956.5 139,-956.5 139,-950.5 145,-944.5 151,-944.5 151,-944.5 240,-944.5 240,-944.5 246,-944.5 252,-950.5 252,-956.5 252,-956.5 252,-1000.5 252,-1000.5 252,-1006.5 246,-1012.5 240,-1012.5\"/>\n",
       "<text text-anchor=\"start\" x=\"167.5\" y=\"-997.3\" font-family=\"Helvetica,sans-Serif\" font-size=\"14.00\" fill=\"#000000\">gini = 0.0</text>\n",
       "<text text-anchor=\"start\" x=\"158\" y=\"-982.3\" font-family=\"Helvetica,sans-Serif\" font-size=\"14.00\" fill=\"#000000\">samples = 1</text>\n",
       "<text text-anchor=\"start\" x=\"148.5\" y=\"-967.3\" font-family=\"Helvetica,sans-Serif\" font-size=\"14.00\" fill=\"#000000\">value = [0, 0, 1]</text>\n",
       "<text text-anchor=\"start\" x=\"147\" y=\"-952.3\" font-family=\"Helvetica,sans-Serif\" font-size=\"14.00\" fill=\"#000000\">class = virginica</text>\n",
       "</g>\n",
       "<!-- 5&#45;&gt;7 -->\n",
       "<g id=\"edge7\" class=\"edge\">\n",
       "<title>5&#45;&gt;7</title>\n",
       "<path fill=\"none\" stroke=\"#000000\" d=\"M151.2831,-1055.8796C157.6294,-1044.7735 164.4993,-1032.7513 170.8891,-1021.5691\"/>\n",
       "<polygon fill=\"#000000\" stroke=\"#000000\" points=\"173.9689,-1023.2339 175.8915,-1012.8149 167.8912,-1019.7609 173.9689,-1023.2339\"/>\n",
       "</g>\n",
       "<!-- 10 -->\n",
       "<g id=\"node11\" class=\"node\">\n",
       "<title>10</title>\n",
       "<path fill=\"#e58139\" stroke=\"#000000\" d=\"M468,-1250.5C468,-1250.5 375,-1250.5 375,-1250.5 369,-1250.5 363,-1244.5 363,-1238.5 363,-1238.5 363,-1194.5 363,-1194.5 363,-1188.5 369,-1182.5 375,-1182.5 375,-1182.5 468,-1182.5 468,-1182.5 474,-1182.5 480,-1188.5 480,-1194.5 480,-1194.5 480,-1238.5 480,-1238.5 480,-1244.5 474,-1250.5 468,-1250.5\"/>\n",
       "<text text-anchor=\"start\" x=\"393.5\" y=\"-1235.3\" font-family=\"Helvetica,sans-Serif\" font-size=\"14.00\" fill=\"#000000\">gini = 0.0</text>\n",
       "<text text-anchor=\"start\" x=\"380.5\" y=\"-1220.3\" font-family=\"Helvetica,sans-Serif\" font-size=\"14.00\" fill=\"#000000\">samples = 30</text>\n",
       "<text text-anchor=\"start\" x=\"371\" y=\"-1205.3\" font-family=\"Helvetica,sans-Serif\" font-size=\"14.00\" fill=\"#000000\">value = [30, 0, 0]</text>\n",
       "<text text-anchor=\"start\" x=\"378\" y=\"-1190.3\" font-family=\"Helvetica,sans-Serif\" font-size=\"14.00\" fill=\"#000000\">class = setosa</text>\n",
       "</g>\n",
       "<!-- 9&#45;&gt;10 -->\n",
       "<g id=\"edge10\" class=\"edge\">\n",
       "<title>9&#45;&gt;10</title>\n",
       "<path fill=\"none\" stroke=\"#000000\" d=\"M478.0716,-1293.8796C469.7913,-1282.5536 460.8143,-1270.2748 452.5026,-1258.9058\"/>\n",
       "<polygon fill=\"#000000\" stroke=\"#000000\" points=\"455.3147,-1256.822 446.5874,-1250.8149 449.6639,-1260.9533 455.3147,-1256.822\"/>\n",
       "</g>\n",
       "<!-- 11 -->\n",
       "<g id=\"node12\" class=\"node\">\n",
       "<title>11</title>\n",
       "<path fill=\"#e58139\" fill-opacity=\"0.498039\" stroke=\"#000000\" d=\"M644.5,-1258C644.5,-1258 510.5,-1258 510.5,-1258 504.5,-1258 498.5,-1252 498.5,-1246 498.5,-1246 498.5,-1187 498.5,-1187 498.5,-1181 504.5,-1175 510.5,-1175 510.5,-1175 644.5,-1175 644.5,-1175 650.5,-1175 656.5,-1181 656.5,-1187 656.5,-1187 656.5,-1246 656.5,-1246 656.5,-1252 650.5,-1258 644.5,-1258\"/>\n",
       "<text text-anchor=\"start\" x=\"506.5\" y=\"-1242.8\" font-family=\"Helvetica,sans-Serif\" font-size=\"14.00\" fill=\"#000000\">sepal width (cm) ≤ 3.45</text>\n",
       "<text text-anchor=\"start\" x=\"542\" y=\"-1227.8\" font-family=\"Helvetica,sans-Serif\" font-size=\"14.00\" fill=\"#000000\">gini = 0.444</text>\n",
       "<text text-anchor=\"start\" x=\"540\" y=\"-1212.8\" font-family=\"Helvetica,sans-Serif\" font-size=\"14.00\" fill=\"#000000\">samples = 3</text>\n",
       "<text text-anchor=\"start\" x=\"530.5\" y=\"-1197.8\" font-family=\"Helvetica,sans-Serif\" font-size=\"14.00\" fill=\"#000000\">value = [2, 1, 0]</text>\n",
       "<text text-anchor=\"start\" x=\"534\" y=\"-1182.8\" font-family=\"Helvetica,sans-Serif\" font-size=\"14.00\" fill=\"#000000\">class = setosa</text>\n",
       "</g>\n",
       "<!-- 9&#45;&gt;11 -->\n",
       "<g id=\"edge11\" class=\"edge\">\n",
       "<title>9&#45;&gt;11</title>\n",
       "<path fill=\"none\" stroke=\"#000000\" d=\"M532.6329,-1293.8796C537.6461,-1285.2335 542.9813,-1276.0322 548.1581,-1267.1042\"/>\n",
       "<polygon fill=\"#000000\" stroke=\"#000000\" points=\"551.2758,-1268.7047 553.2641,-1258.2981 545.2202,-1265.1934 551.2758,-1268.7047\"/>\n",
       "</g>\n",
       "<!-- 12 -->\n",
       "<g id=\"node13\" class=\"node\">\n",
       "<title>12</title>\n",
       "<path fill=\"#39e581\" stroke=\"#000000\" d=\"M492,-1131.5C492,-1131.5 395,-1131.5 395,-1131.5 389,-1131.5 383,-1125.5 383,-1119.5 383,-1119.5 383,-1075.5 383,-1075.5 383,-1069.5 389,-1063.5 395,-1063.5 395,-1063.5 492,-1063.5 492,-1063.5 498,-1063.5 504,-1069.5 504,-1075.5 504,-1075.5 504,-1119.5 504,-1119.5 504,-1125.5 498,-1131.5 492,-1131.5\"/>\n",
       "<text text-anchor=\"start\" x=\"415.5\" y=\"-1116.3\" font-family=\"Helvetica,sans-Serif\" font-size=\"14.00\" fill=\"#000000\">gini = 0.0</text>\n",
       "<text text-anchor=\"start\" x=\"406\" y=\"-1101.3\" font-family=\"Helvetica,sans-Serif\" font-size=\"14.00\" fill=\"#000000\">samples = 1</text>\n",
       "<text text-anchor=\"start\" x=\"396.5\" y=\"-1086.3\" font-family=\"Helvetica,sans-Serif\" font-size=\"14.00\" fill=\"#000000\">value = [0, 1, 0]</text>\n",
       "<text text-anchor=\"start\" x=\"391\" y=\"-1071.3\" font-family=\"Helvetica,sans-Serif\" font-size=\"14.00\" fill=\"#000000\">class = versicolor</text>\n",
       "</g>\n",
       "<!-- 11&#45;&gt;12 -->\n",
       "<g id=\"edge12\" class=\"edge\">\n",
       "<title>11&#45;&gt;12</title>\n",
       "<path fill=\"none\" stroke=\"#000000\" d=\"M530.6333,-1174.8796C517.3844,-1163.1138 502.9776,-1150.3197 489.7644,-1138.5855\"/>\n",
       "<polygon fill=\"#000000\" stroke=\"#000000\" points=\"491.9416,-1135.8381 482.1403,-1131.8149 487.2935,-1141.0722 491.9416,-1135.8381\"/>\n",
       "</g>\n",
       "<!-- 13 -->\n",
       "<g id=\"node14\" class=\"node\">\n",
       "<title>13</title>\n",
       "<path fill=\"#e58139\" stroke=\"#000000\" d=\"M620.5,-1131.5C620.5,-1131.5 534.5,-1131.5 534.5,-1131.5 528.5,-1131.5 522.5,-1125.5 522.5,-1119.5 522.5,-1119.5 522.5,-1075.5 522.5,-1075.5 522.5,-1069.5 528.5,-1063.5 534.5,-1063.5 534.5,-1063.5 620.5,-1063.5 620.5,-1063.5 626.5,-1063.5 632.5,-1069.5 632.5,-1075.5 632.5,-1075.5 632.5,-1119.5 632.5,-1119.5 632.5,-1125.5 626.5,-1131.5 620.5,-1131.5\"/>\n",
       "<text text-anchor=\"start\" x=\"549.5\" y=\"-1116.3\" font-family=\"Helvetica,sans-Serif\" font-size=\"14.00\" fill=\"#000000\">gini = 0.0</text>\n",
       "<text text-anchor=\"start\" x=\"540\" y=\"-1101.3\" font-family=\"Helvetica,sans-Serif\" font-size=\"14.00\" fill=\"#000000\">samples = 2</text>\n",
       "<text text-anchor=\"start\" x=\"530.5\" y=\"-1086.3\" font-family=\"Helvetica,sans-Serif\" font-size=\"14.00\" fill=\"#000000\">value = [2, 0, 0]</text>\n",
       "<text text-anchor=\"start\" x=\"534\" y=\"-1071.3\" font-family=\"Helvetica,sans-Serif\" font-size=\"14.00\" fill=\"#000000\">class = setosa</text>\n",
       "</g>\n",
       "<!-- 11&#45;&gt;13 -->\n",
       "<g id=\"edge13\" class=\"edge\">\n",
       "<title>11&#45;&gt;13</title>\n",
       "<path fill=\"none\" stroke=\"#000000\" d=\"M577.5,-1174.8796C577.5,-1164.2134 577.5,-1152.7021 577.5,-1141.9015\"/>\n",
       "<polygon fill=\"#000000\" stroke=\"#000000\" points=\"581.0001,-1141.8149 577.5,-1131.8149 574.0001,-1141.815 581.0001,-1141.8149\"/>\n",
       "</g>\n",
       "<!-- 15 -->\n",
       "<g id=\"node16\" class=\"node\">\n",
       "<title>15</title>\n",
       "<path fill=\"#39e581\" fill-opacity=\"0.584314\" stroke=\"#000000\" d=\"M1003.5,-1377C1003.5,-1377 869.5,-1377 869.5,-1377 863.5,-1377 857.5,-1371 857.5,-1365 857.5,-1365 857.5,-1306 857.5,-1306 857.5,-1300 863.5,-1294 869.5,-1294 869.5,-1294 1003.5,-1294 1003.5,-1294 1009.5,-1294 1015.5,-1300 1015.5,-1306 1015.5,-1306 1015.5,-1365 1015.5,-1365 1015.5,-1371 1009.5,-1377 1003.5,-1377\"/>\n",
       "<text text-anchor=\"start\" x=\"865.5\" y=\"-1361.8\" font-family=\"Helvetica,sans-Serif\" font-size=\"14.00\" fill=\"#000000\">sepal width (cm) ≤ 3.45</text>\n",
       "<text text-anchor=\"start\" x=\"901\" y=\"-1346.8\" font-family=\"Helvetica,sans-Serif\" font-size=\"14.00\" fill=\"#000000\">gini = 0.485</text>\n",
       "<text text-anchor=\"start\" x=\"895.5\" y=\"-1331.8\" font-family=\"Helvetica,sans-Serif\" font-size=\"14.00\" fill=\"#000000\">samples = 37</text>\n",
       "<text text-anchor=\"start\" x=\"886\" y=\"-1316.8\" font-family=\"Helvetica,sans-Serif\" font-size=\"14.00\" fill=\"#000000\">value = [4, 25, 8]</text>\n",
       "<text text-anchor=\"start\" x=\"884\" y=\"-1301.8\" font-family=\"Helvetica,sans-Serif\" font-size=\"14.00\" fill=\"#000000\">class = versicolor</text>\n",
       "</g>\n",
       "<!-- 14&#45;&gt;15 -->\n",
       "<g id=\"edge15\" class=\"edge\">\n",
       "<title>14&#45;&gt;15</title>\n",
       "<path fill=\"none\" stroke=\"#000000\" d=\"M936.5,-1412.8796C936.5,-1404.6838 936.5,-1395.9891 936.5,-1387.5013\"/>\n",
       "<polygon fill=\"#000000\" stroke=\"#000000\" points=\"940.0001,-1387.298 936.5,-1377.2981 933.0001,-1387.2981 940.0001,-1387.298\"/>\n",
       "</g>\n",
       "<!-- 50 -->\n",
       "<g id=\"node51\" class=\"node\">\n",
       "<title>50</title>\n",
       "<path fill=\"#8139e5\" fill-opacity=\"0.552941\" stroke=\"#000000\" d=\"M1640,-1377C1640,-1377 1501,-1377 1501,-1377 1495,-1377 1489,-1371 1489,-1365 1489,-1365 1489,-1306 1489,-1306 1489,-1300 1495,-1294 1501,-1294 1501,-1294 1640,-1294 1640,-1294 1646,-1294 1652,-1300 1652,-1306 1652,-1306 1652,-1365 1652,-1365 1652,-1371 1646,-1377 1640,-1377\"/>\n",
       "<text text-anchor=\"start\" x=\"1497\" y=\"-1361.8\" font-family=\"Helvetica,sans-Serif\" font-size=\"14.00\" fill=\"#000000\">sepal length (cm) ≤ 7.05</text>\n",
       "<text text-anchor=\"start\" x=\"1535\" y=\"-1346.8\" font-family=\"Helvetica,sans-Serif\" font-size=\"14.00\" fill=\"#000000\">gini = 0.427</text>\n",
       "<text text-anchor=\"start\" x=\"1529.5\" y=\"-1331.8\" font-family=\"Helvetica,sans-Serif\" font-size=\"14.00\" fill=\"#000000\">samples = 42</text>\n",
       "<text text-anchor=\"start\" x=\"1516\" y=\"-1316.8\" font-family=\"Helvetica,sans-Serif\" font-size=\"14.00\" fill=\"#000000\">value = [0, 13, 29]</text>\n",
       "<text text-anchor=\"start\" x=\"1522\" y=\"-1301.8\" font-family=\"Helvetica,sans-Serif\" font-size=\"14.00\" fill=\"#000000\">class = virginica</text>\n",
       "</g>\n",
       "<!-- 14&#45;&gt;50 -->\n",
       "<g id=\"edge50\" class=\"edge\">\n",
       "<title>14&#45;&gt;50</title>\n",
       "<path fill=\"none\" stroke=\"#000000\" d=\"M1018.0865,-1439.1864C1136.5314,-1416.9547 1355.4301,-1375.868 1479.1388,-1352.6482\"/>\n",
       "<polygon fill=\"#000000\" stroke=\"#000000\" points=\"1479.7934,-1356.0866 1488.9761,-1350.8018 1478.502,-1349.2067 1479.7934,-1356.0866\"/>\n",
       "</g>\n",
       "<!-- 16 -->\n",
       "<g id=\"node17\" class=\"node\">\n",
       "<title>16</title>\n",
       "<path fill=\"#39e581\" fill-opacity=\"0.678431\" stroke=\"#000000\" d=\"M929,-1258C929,-1258 790,-1258 790,-1258 784,-1258 778,-1252 778,-1246 778,-1246 778,-1187 778,-1187 778,-1181 784,-1175 790,-1175 790,-1175 929,-1175 929,-1175 935,-1175 941,-1181 941,-1187 941,-1187 941,-1246 941,-1246 941,-1252 935,-1258 929,-1258\"/>\n",
       "<text text-anchor=\"start\" x=\"786\" y=\"-1242.8\" font-family=\"Helvetica,sans-Serif\" font-size=\"14.00\" fill=\"#000000\">sepal length (cm) ≤ 5.75</text>\n",
       "<text text-anchor=\"start\" x=\"824\" y=\"-1227.8\" font-family=\"Helvetica,sans-Serif\" font-size=\"14.00\" fill=\"#000000\">gini = 0.367</text>\n",
       "<text text-anchor=\"start\" x=\"818.5\" y=\"-1212.8\" font-family=\"Helvetica,sans-Serif\" font-size=\"14.00\" fill=\"#000000\">samples = 33</text>\n",
       "<text text-anchor=\"start\" x=\"809\" y=\"-1197.8\" font-family=\"Helvetica,sans-Serif\" font-size=\"14.00\" fill=\"#000000\">value = [0, 25, 8]</text>\n",
       "<text text-anchor=\"start\" x=\"807\" y=\"-1182.8\" font-family=\"Helvetica,sans-Serif\" font-size=\"14.00\" fill=\"#000000\">class = versicolor</text>\n",
       "</g>\n",
       "<!-- 15&#45;&gt;16 -->\n",
       "<g id=\"edge16\" class=\"edge\">\n",
       "<title>15&#45;&gt;16</title>\n",
       "<path fill=\"none\" stroke=\"#000000\" d=\"M909.5691,-1293.8796C903.9163,-1285.1434 897.8967,-1275.8404 892.0634,-1266.8253\"/>\n",
       "<polygon fill=\"#000000\" stroke=\"#000000\" points=\"894.9169,-1264.7924 886.5458,-1258.2981 889.0399,-1268.5952 894.9169,-1264.7924\"/>\n",
       "</g>\n",
       "<!-- 49 -->\n",
       "<g id=\"node50\" class=\"node\">\n",
       "<title>49</title>\n",
       "<path fill=\"#e58139\" stroke=\"#000000\" d=\"M1057.5,-1250.5C1057.5,-1250.5 971.5,-1250.5 971.5,-1250.5 965.5,-1250.5 959.5,-1244.5 959.5,-1238.5 959.5,-1238.5 959.5,-1194.5 959.5,-1194.5 959.5,-1188.5 965.5,-1182.5 971.5,-1182.5 971.5,-1182.5 1057.5,-1182.5 1057.5,-1182.5 1063.5,-1182.5 1069.5,-1188.5 1069.5,-1194.5 1069.5,-1194.5 1069.5,-1238.5 1069.5,-1238.5 1069.5,-1244.5 1063.5,-1250.5 1057.5,-1250.5\"/>\n",
       "<text text-anchor=\"start\" x=\"986.5\" y=\"-1235.3\" font-family=\"Helvetica,sans-Serif\" font-size=\"14.00\" fill=\"#000000\">gini = 0.0</text>\n",
       "<text text-anchor=\"start\" x=\"977\" y=\"-1220.3\" font-family=\"Helvetica,sans-Serif\" font-size=\"14.00\" fill=\"#000000\">samples = 4</text>\n",
       "<text text-anchor=\"start\" x=\"967.5\" y=\"-1205.3\" font-family=\"Helvetica,sans-Serif\" font-size=\"14.00\" fill=\"#000000\">value = [4, 0, 0]</text>\n",
       "<text text-anchor=\"start\" x=\"971\" y=\"-1190.3\" font-family=\"Helvetica,sans-Serif\" font-size=\"14.00\" fill=\"#000000\">class = setosa</text>\n",
       "</g>\n",
       "<!-- 15&#45;&gt;49 -->\n",
       "<g id=\"edge49\" class=\"edge\">\n",
       "<title>15&#45;&gt;49</title>\n",
       "<path fill=\"none\" stroke=\"#000000\" d=\"M963.7806,-1293.8796C971.1323,-1282.6636 979.0964,-1270.5131 986.4874,-1259.2372\"/>\n",
       "<polygon fill=\"#000000\" stroke=\"#000000\" points=\"989.4531,-1261.0972 992.0079,-1250.8149 983.5986,-1257.2598 989.4531,-1261.0972\"/>\n",
       "</g>\n",
       "<!-- 17 -->\n",
       "<g id=\"node18\" class=\"node\">\n",
       "<title>17</title>\n",
       "<path fill=\"#39e581\" fill-opacity=\"0.847059\" stroke=\"#000000\" d=\"M802,-1139C802,-1139 663,-1139 663,-1139 657,-1139 651,-1133 651,-1127 651,-1127 651,-1068 651,-1068 651,-1062 657,-1056 663,-1056 663,-1056 802,-1056 802,-1056 808,-1056 814,-1062 814,-1068 814,-1068 814,-1127 814,-1127 814,-1133 808,-1139 802,-1139\"/>\n",
       "<text text-anchor=\"start\" x=\"659\" y=\"-1123.8\" font-family=\"Helvetica,sans-Serif\" font-size=\"14.00\" fill=\"#000000\">sepal length (cm) ≤ 5.55</text>\n",
       "<text text-anchor=\"start\" x=\"697\" y=\"-1108.8\" font-family=\"Helvetica,sans-Serif\" font-size=\"14.00\" fill=\"#000000\">gini = 0.231</text>\n",
       "<text text-anchor=\"start\" x=\"691.5\" y=\"-1093.8\" font-family=\"Helvetica,sans-Serif\" font-size=\"14.00\" fill=\"#000000\">samples = 15</text>\n",
       "<text text-anchor=\"start\" x=\"682\" y=\"-1078.8\" font-family=\"Helvetica,sans-Serif\" font-size=\"14.00\" fill=\"#000000\">value = [0, 13, 2]</text>\n",
       "<text text-anchor=\"start\" x=\"680\" y=\"-1063.8\" font-family=\"Helvetica,sans-Serif\" font-size=\"14.00\" fill=\"#000000\">class = versicolor</text>\n",
       "</g>\n",
       "<!-- 16&#45;&gt;17 -->\n",
       "<g id=\"edge17\" class=\"edge\">\n",
       "<title>16&#45;&gt;17</title>\n",
       "<path fill=\"none\" stroke=\"#000000\" d=\"M815.0816,-1174.8796C805.1814,-1165.6031 794.5991,-1155.6874 784.4269,-1146.1559\"/>\n",
       "<polygon fill=\"#000000\" stroke=\"#000000\" points=\"786.7984,-1143.5816 777.108,-1139.2981 782.0121,-1148.6896 786.7984,-1143.5816\"/>\n",
       "</g>\n",
       "<!-- 30 -->\n",
       "<g id=\"node31\" class=\"node\">\n",
       "<title>30</title>\n",
       "<path fill=\"#39e581\" fill-opacity=\"0.498039\" stroke=\"#000000\" d=\"M1003.5,-1139C1003.5,-1139 869.5,-1139 869.5,-1139 863.5,-1139 857.5,-1133 857.5,-1127 857.5,-1127 857.5,-1068 857.5,-1068 857.5,-1062 863.5,-1056 869.5,-1056 869.5,-1056 1003.5,-1056 1003.5,-1056 1009.5,-1056 1015.5,-1062 1015.5,-1068 1015.5,-1068 1015.5,-1127 1015.5,-1127 1015.5,-1133 1009.5,-1139 1003.5,-1139\"/>\n",
       "<text text-anchor=\"start\" x=\"865.5\" y=\"-1123.8\" font-family=\"Helvetica,sans-Serif\" font-size=\"14.00\" fill=\"#000000\">sepal width (cm) ≤ 2.75</text>\n",
       "<text text-anchor=\"start\" x=\"901\" y=\"-1108.8\" font-family=\"Helvetica,sans-Serif\" font-size=\"14.00\" fill=\"#000000\">gini = 0.444</text>\n",
       "<text text-anchor=\"start\" x=\"895.5\" y=\"-1093.8\" font-family=\"Helvetica,sans-Serif\" font-size=\"14.00\" fill=\"#000000\">samples = 18</text>\n",
       "<text text-anchor=\"start\" x=\"886\" y=\"-1078.8\" font-family=\"Helvetica,sans-Serif\" font-size=\"14.00\" fill=\"#000000\">value = [0, 12, 6]</text>\n",
       "<text text-anchor=\"start\" x=\"884\" y=\"-1063.8\" font-family=\"Helvetica,sans-Serif\" font-size=\"14.00\" fill=\"#000000\">class = versicolor</text>\n",
       "</g>\n",
       "<!-- 16&#45;&gt;30 -->\n",
       "<g id=\"edge30\" class=\"edge\">\n",
       "<title>16&#45;&gt;30</title>\n",
       "<path fill=\"none\" stroke=\"#000000\" d=\"M886.4309,-1174.8796C892.0837,-1166.1434 898.1033,-1156.8404 903.9366,-1147.8253\"/>\n",
       "<polygon fill=\"#000000\" stroke=\"#000000\" points=\"906.9601,-1149.5952 909.4542,-1139.2981 901.0831,-1145.7924 906.9601,-1149.5952\"/>\n",
       "</g>\n",
       "<!-- 18 -->\n",
       "<g id=\"node19\" class=\"node\">\n",
       "<title>18</title>\n",
       "<path fill=\"#39e581\" stroke=\"#000000\" d=\"M610,-1012.5C610,-1012.5 513,-1012.5 513,-1012.5 507,-1012.5 501,-1006.5 501,-1000.5 501,-1000.5 501,-956.5 501,-956.5 501,-950.5 507,-944.5 513,-944.5 513,-944.5 610,-944.5 610,-944.5 616,-944.5 622,-950.5 622,-956.5 622,-956.5 622,-1000.5 622,-1000.5 622,-1006.5 616,-1012.5 610,-1012.5\"/>\n",
       "<text text-anchor=\"start\" x=\"533.5\" y=\"-997.3\" font-family=\"Helvetica,sans-Serif\" font-size=\"14.00\" fill=\"#000000\">gini = 0.0</text>\n",
       "<text text-anchor=\"start\" x=\"524\" y=\"-982.3\" font-family=\"Helvetica,sans-Serif\" font-size=\"14.00\" fill=\"#000000\">samples = 4</text>\n",
       "<text text-anchor=\"start\" x=\"514.5\" y=\"-967.3\" font-family=\"Helvetica,sans-Serif\" font-size=\"14.00\" fill=\"#000000\">value = [0, 4, 0]</text>\n",
       "<text text-anchor=\"start\" x=\"509\" y=\"-952.3\" font-family=\"Helvetica,sans-Serif\" font-size=\"14.00\" fill=\"#000000\">class = versicolor</text>\n",
       "</g>\n",
       "<!-- 17&#45;&gt;18 -->\n",
       "<g id=\"edge18\" class=\"edge\">\n",
       "<title>17&#45;&gt;18</title>\n",
       "<path fill=\"none\" stroke=\"#000000\" d=\"M672.6925,-1055.8796C655.2285,-1043.7263 636.188,-1030.4759 618.878,-1018.4297\"/>\n",
       "<polygon fill=\"#000000\" stroke=\"#000000\" points=\"620.7413,-1015.4623 610.5339,-1012.623 616.7428,-1021.208 620.7413,-1015.4623\"/>\n",
       "</g>\n",
       "<!-- 19 -->\n",
       "<g id=\"node20\" class=\"node\">\n",
       "<title>19</title>\n",
       "<path fill=\"#39e581\" fill-opacity=\"0.776471\" stroke=\"#000000\" d=\"M786.5,-1020C786.5,-1020 652.5,-1020 652.5,-1020 646.5,-1020 640.5,-1014 640.5,-1008 640.5,-1008 640.5,-949 640.5,-949 640.5,-943 646.5,-937 652.5,-937 652.5,-937 786.5,-937 786.5,-937 792.5,-937 798.5,-943 798.5,-949 798.5,-949 798.5,-1008 798.5,-1008 798.5,-1014 792.5,-1020 786.5,-1020\"/>\n",
       "<text text-anchor=\"start\" x=\"648.5\" y=\"-1004.8\" font-family=\"Helvetica,sans-Serif\" font-size=\"14.00\" fill=\"#000000\">sepal width (cm) ≤ 2.55</text>\n",
       "<text text-anchor=\"start\" x=\"684\" y=\"-989.8\" font-family=\"Helvetica,sans-Serif\" font-size=\"14.00\" fill=\"#000000\">gini = 0.298</text>\n",
       "<text text-anchor=\"start\" x=\"678.5\" y=\"-974.8\" font-family=\"Helvetica,sans-Serif\" font-size=\"14.00\" fill=\"#000000\">samples = 11</text>\n",
       "<text text-anchor=\"start\" x=\"672.5\" y=\"-959.8\" font-family=\"Helvetica,sans-Serif\" font-size=\"14.00\" fill=\"#000000\">value = [0, 9, 2]</text>\n",
       "<text text-anchor=\"start\" x=\"667\" y=\"-944.8\" font-family=\"Helvetica,sans-Serif\" font-size=\"14.00\" fill=\"#000000\">class = versicolor</text>\n",
       "</g>\n",
       "<!-- 17&#45;&gt;19 -->\n",
       "<g id=\"edge19\" class=\"edge\">\n",
       "<title>17&#45;&gt;19</title>\n",
       "<path fill=\"none\" stroke=\"#000000\" d=\"M727.9532,-1055.8796C727.0579,-1047.6838 726.1081,-1038.9891 725.1808,-1030.5013\"/>\n",
       "<polygon fill=\"#000000\" stroke=\"#000000\" points=\"728.6315,-1029.8588 724.0662,-1020.2981 721.6729,-1030.6191 728.6315,-1029.8588\"/>\n",
       "</g>\n",
       "<!-- 20 -->\n",
       "<g id=\"node21\" class=\"node\">\n",
       "<title>20</title>\n",
       "<path fill=\"transparent\" stroke=\"#000000\" d=\"M491,-901C491,-901 352,-901 352,-901 346,-901 340,-895 340,-889 340,-889 340,-830 340,-830 340,-824 346,-818 352,-818 352,-818 491,-818 491,-818 497,-818 503,-824 503,-830 503,-830 503,-889 503,-889 503,-895 497,-901 491,-901\"/>\n",
       "<text text-anchor=\"start\" x=\"348\" y=\"-885.8\" font-family=\"Helvetica,sans-Serif\" font-size=\"14.00\" fill=\"#000000\">sepal length (cm) ≤ 5.65</text>\n",
       "<text text-anchor=\"start\" x=\"393.5\" y=\"-870.8\" font-family=\"Helvetica,sans-Serif\" font-size=\"14.00\" fill=\"#000000\">gini = 0.5</text>\n",
       "<text text-anchor=\"start\" x=\"384\" y=\"-855.8\" font-family=\"Helvetica,sans-Serif\" font-size=\"14.00\" fill=\"#000000\">samples = 2</text>\n",
       "<text text-anchor=\"start\" x=\"374.5\" y=\"-840.8\" font-family=\"Helvetica,sans-Serif\" font-size=\"14.00\" fill=\"#000000\">value = [0, 1, 1]</text>\n",
       "<text text-anchor=\"start\" x=\"369\" y=\"-825.8\" font-family=\"Helvetica,sans-Serif\" font-size=\"14.00\" fill=\"#000000\">class = versicolor</text>\n",
       "</g>\n",
       "<!-- 19&#45;&gt;20 -->\n",
       "<g id=\"edge20\" class=\"edge\">\n",
       "<title>19&#45;&gt;20</title>\n",
       "<path fill=\"none\" stroke=\"#000000\" d=\"M640.0663,-941.0712C636.8441,-939.6766 633.6462,-938.3143 630.5,-937 592.3941,-921.0815 549.7403,-904.9676 512.9517,-891.5871\"/>\n",
       "<polygon fill=\"#000000\" stroke=\"#000000\" points=\"513.8313,-888.1833 503.2371,-888.0676 511.4469,-894.7647 513.8313,-888.1833\"/>\n",
       "</g>\n",
       "<!-- 23 -->\n",
       "<g id=\"node24\" class=\"node\">\n",
       "<title>23</title>\n",
       "<path fill=\"#39e581\" fill-opacity=\"0.874510\" stroke=\"#000000\" d=\"M776,-901C776,-901 637,-901 637,-901 631,-901 625,-895 625,-889 625,-889 625,-830 625,-830 625,-824 631,-818 637,-818 637,-818 776,-818 776,-818 782,-818 788,-824 788,-830 788,-830 788,-889 788,-889 788,-895 782,-901 776,-901\"/>\n",
       "<text text-anchor=\"start\" x=\"633\" y=\"-885.8\" font-family=\"Helvetica,sans-Serif\" font-size=\"14.00\" fill=\"#000000\">sepal length (cm) ≤ 5.65</text>\n",
       "<text text-anchor=\"start\" x=\"671\" y=\"-870.8\" font-family=\"Helvetica,sans-Serif\" font-size=\"14.00\" fill=\"#000000\">gini = 0.198</text>\n",
       "<text text-anchor=\"start\" x=\"669\" y=\"-855.8\" font-family=\"Helvetica,sans-Serif\" font-size=\"14.00\" fill=\"#000000\">samples = 9</text>\n",
       "<text text-anchor=\"start\" x=\"659.5\" y=\"-840.8\" font-family=\"Helvetica,sans-Serif\" font-size=\"14.00\" fill=\"#000000\">value = [0, 8, 1]</text>\n",
       "<text text-anchor=\"start\" x=\"654\" y=\"-825.8\" font-family=\"Helvetica,sans-Serif\" font-size=\"14.00\" fill=\"#000000\">class = versicolor</text>\n",
       "</g>\n",
       "<!-- 19&#45;&gt;23 -->\n",
       "<g id=\"edge23\" class=\"edge\">\n",
       "<title>19&#45;&gt;23</title>\n",
       "<path fill=\"none\" stroke=\"#000000\" d=\"M714.9532,-936.8796C714.0579,-928.6838 713.1081,-919.9891 712.1808,-911.5013\"/>\n",
       "<polygon fill=\"#000000\" stroke=\"#000000\" points=\"715.6315,-910.8588 711.0662,-901.2981 708.6729,-911.6191 715.6315,-910.8588\"/>\n",
       "</g>\n",
       "<!-- 21 -->\n",
       "<g id=\"node22\" class=\"node\">\n",
       "<title>21</title>\n",
       "<path fill=\"#39e581\" stroke=\"#000000\" d=\"M335,-774.5C335,-774.5 238,-774.5 238,-774.5 232,-774.5 226,-768.5 226,-762.5 226,-762.5 226,-718.5 226,-718.5 226,-712.5 232,-706.5 238,-706.5 238,-706.5 335,-706.5 335,-706.5 341,-706.5 347,-712.5 347,-718.5 347,-718.5 347,-762.5 347,-762.5 347,-768.5 341,-774.5 335,-774.5\"/>\n",
       "<text text-anchor=\"start\" x=\"258.5\" y=\"-759.3\" font-family=\"Helvetica,sans-Serif\" font-size=\"14.00\" fill=\"#000000\">gini = 0.0</text>\n",
       "<text text-anchor=\"start\" x=\"249\" y=\"-744.3\" font-family=\"Helvetica,sans-Serif\" font-size=\"14.00\" fill=\"#000000\">samples = 1</text>\n",
       "<text text-anchor=\"start\" x=\"239.5\" y=\"-729.3\" font-family=\"Helvetica,sans-Serif\" font-size=\"14.00\" fill=\"#000000\">value = [0, 1, 0]</text>\n",
       "<text text-anchor=\"start\" x=\"234\" y=\"-714.3\" font-family=\"Helvetica,sans-Serif\" font-size=\"14.00\" fill=\"#000000\">class = versicolor</text>\n",
       "</g>\n",
       "<!-- 20&#45;&gt;21 -->\n",
       "<g id=\"edge21\" class=\"edge\">\n",
       "<title>20&#45;&gt;21</title>\n",
       "<path fill=\"none\" stroke=\"#000000\" d=\"M374.2836,-817.8796C360.9358,-806.1138 346.4215,-793.3197 333.1096,-781.5855\"/>\n",
       "<polygon fill=\"#000000\" stroke=\"#000000\" points=\"335.2448,-778.8019 325.4287,-774.8149 330.616,-784.0531 335.2448,-778.8019\"/>\n",
       "</g>\n",
       "<!-- 22 -->\n",
       "<g id=\"node23\" class=\"node\">\n",
       "<title>22</title>\n",
       "<path fill=\"#8139e5\" stroke=\"#000000\" d=\"M466,-774.5C466,-774.5 377,-774.5 377,-774.5 371,-774.5 365,-768.5 365,-762.5 365,-762.5 365,-718.5 365,-718.5 365,-712.5 371,-706.5 377,-706.5 377,-706.5 466,-706.5 466,-706.5 472,-706.5 478,-712.5 478,-718.5 478,-718.5 478,-762.5 478,-762.5 478,-768.5 472,-774.5 466,-774.5\"/>\n",
       "<text text-anchor=\"start\" x=\"393.5\" y=\"-759.3\" font-family=\"Helvetica,sans-Serif\" font-size=\"14.00\" fill=\"#000000\">gini = 0.0</text>\n",
       "<text text-anchor=\"start\" x=\"384\" y=\"-744.3\" font-family=\"Helvetica,sans-Serif\" font-size=\"14.00\" fill=\"#000000\">samples = 1</text>\n",
       "<text text-anchor=\"start\" x=\"374.5\" y=\"-729.3\" font-family=\"Helvetica,sans-Serif\" font-size=\"14.00\" fill=\"#000000\">value = [0, 0, 1]</text>\n",
       "<text text-anchor=\"start\" x=\"373\" y=\"-714.3\" font-family=\"Helvetica,sans-Serif\" font-size=\"14.00\" fill=\"#000000\">class = virginica</text>\n",
       "</g>\n",
       "<!-- 20&#45;&gt;22 -->\n",
       "<g id=\"edge22\" class=\"edge\">\n",
       "<title>20&#45;&gt;22</title>\n",
       "<path fill=\"none\" stroke=\"#000000\" d=\"M421.5,-817.8796C421.5,-807.2134 421.5,-795.7021 421.5,-784.9015\"/>\n",
       "<polygon fill=\"#000000\" stroke=\"#000000\" points=\"425.0001,-784.8149 421.5,-774.8149 418.0001,-784.815 425.0001,-784.8149\"/>\n",
       "</g>\n",
       "<!-- 24 -->\n",
       "<g id=\"node25\" class=\"node\">\n",
       "<title>24</title>\n",
       "<path fill=\"#39e581\" fill-opacity=\"0.666667\" stroke=\"#000000\" d=\"M642.5,-782C642.5,-782 508.5,-782 508.5,-782 502.5,-782 496.5,-776 496.5,-770 496.5,-770 496.5,-711 496.5,-711 496.5,-705 502.5,-699 508.5,-699 508.5,-699 642.5,-699 642.5,-699 648.5,-699 654.5,-705 654.5,-711 654.5,-711 654.5,-770 654.5,-770 654.5,-776 648.5,-782 642.5,-782\"/>\n",
       "<text text-anchor=\"start\" x=\"504.5\" y=\"-766.8\" font-family=\"Helvetica,sans-Serif\" font-size=\"14.00\" fill=\"#000000\">sepal width (cm) ≤ 2.85</text>\n",
       "<text text-anchor=\"start\" x=\"540\" y=\"-751.8\" font-family=\"Helvetica,sans-Serif\" font-size=\"14.00\" fill=\"#000000\">gini = 0.375</text>\n",
       "<text text-anchor=\"start\" x=\"538\" y=\"-736.8\" font-family=\"Helvetica,sans-Serif\" font-size=\"14.00\" fill=\"#000000\">samples = 4</text>\n",
       "<text text-anchor=\"start\" x=\"528.5\" y=\"-721.8\" font-family=\"Helvetica,sans-Serif\" font-size=\"14.00\" fill=\"#000000\">value = [0, 3, 1]</text>\n",
       "<text text-anchor=\"start\" x=\"523\" y=\"-706.8\" font-family=\"Helvetica,sans-Serif\" font-size=\"14.00\" fill=\"#000000\">class = versicolor</text>\n",
       "</g>\n",
       "<!-- 23&#45;&gt;24 -->\n",
       "<g id=\"edge24\" class=\"edge\">\n",
       "<title>23&#45;&gt;24</title>\n",
       "<path fill=\"none\" stroke=\"#000000\" d=\"M660.6826,-817.8796C650.4706,-808.6031 639.555,-798.6874 629.0624,-789.1559\"/>\n",
       "<polygon fill=\"#000000\" stroke=\"#000000\" points=\"631.2684,-786.4313 621.513,-782.2981 626.5616,-791.6127 631.2684,-786.4313\"/>\n",
       "</g>\n",
       "<!-- 29 -->\n",
       "<g id=\"node30\" class=\"node\">\n",
       "<title>29</title>\n",
       "<path fill=\"#39e581\" stroke=\"#000000\" d=\"M781,-774.5C781,-774.5 684,-774.5 684,-774.5 678,-774.5 672,-768.5 672,-762.5 672,-762.5 672,-718.5 672,-718.5 672,-712.5 678,-706.5 684,-706.5 684,-706.5 781,-706.5 781,-706.5 787,-706.5 793,-712.5 793,-718.5 793,-718.5 793,-762.5 793,-762.5 793,-768.5 787,-774.5 781,-774.5\"/>\n",
       "<text text-anchor=\"start\" x=\"704.5\" y=\"-759.3\" font-family=\"Helvetica,sans-Serif\" font-size=\"14.00\" fill=\"#000000\">gini = 0.0</text>\n",
       "<text text-anchor=\"start\" x=\"695\" y=\"-744.3\" font-family=\"Helvetica,sans-Serif\" font-size=\"14.00\" fill=\"#000000\">samples = 5</text>\n",
       "<text text-anchor=\"start\" x=\"685.5\" y=\"-729.3\" font-family=\"Helvetica,sans-Serif\" font-size=\"14.00\" fill=\"#000000\">value = [0, 5, 0]</text>\n",
       "<text text-anchor=\"start\" x=\"680\" y=\"-714.3\" font-family=\"Helvetica,sans-Serif\" font-size=\"14.00\" fill=\"#000000\">class = versicolor</text>\n",
       "</g>\n",
       "<!-- 23&#45;&gt;29 -->\n",
       "<g id=\"edge29\" class=\"edge\">\n",
       "<title>23&#45;&gt;29</title>\n",
       "<path fill=\"none\" stroke=\"#000000\" d=\"M715.5935,-817.8796C717.924,-807.2134 720.439,-795.7021 722.7988,-784.9015\"/>\n",
       "<polygon fill=\"#000000\" stroke=\"#000000\" points=\"726.2874,-785.3316 725.0026,-774.8149 719.4487,-783.8374 726.2874,-785.3316\"/>\n",
       "</g>\n",
       "<!-- 25 -->\n",
       "<g id=\"node26\" class=\"node\">\n",
       "<title>25</title>\n",
       "<path fill=\"transparent\" stroke=\"#000000\" d=\"M567.5,-663C567.5,-663 433.5,-663 433.5,-663 427.5,-663 421.5,-657 421.5,-651 421.5,-651 421.5,-592 421.5,-592 421.5,-586 427.5,-580 433.5,-580 433.5,-580 567.5,-580 567.5,-580 573.5,-580 579.5,-586 579.5,-592 579.5,-592 579.5,-651 579.5,-651 579.5,-657 573.5,-663 567.5,-663\"/>\n",
       "<text text-anchor=\"start\" x=\"429.5\" y=\"-647.8\" font-family=\"Helvetica,sans-Serif\" font-size=\"14.00\" fill=\"#000000\">sepal width (cm) ≤ 2.75</text>\n",
       "<text text-anchor=\"start\" x=\"472.5\" y=\"-632.8\" font-family=\"Helvetica,sans-Serif\" font-size=\"14.00\" fill=\"#000000\">gini = 0.5</text>\n",
       "<text text-anchor=\"start\" x=\"463\" y=\"-617.8\" font-family=\"Helvetica,sans-Serif\" font-size=\"14.00\" fill=\"#000000\">samples = 2</text>\n",
       "<text text-anchor=\"start\" x=\"453.5\" y=\"-602.8\" font-family=\"Helvetica,sans-Serif\" font-size=\"14.00\" fill=\"#000000\">value = [0, 1, 1]</text>\n",
       "<text text-anchor=\"start\" x=\"448\" y=\"-587.8\" font-family=\"Helvetica,sans-Serif\" font-size=\"14.00\" fill=\"#000000\">class = versicolor</text>\n",
       "</g>\n",
       "<!-- 24&#45;&gt;25 -->\n",
       "<g id=\"edge25\" class=\"edge\">\n",
       "<title>24&#45;&gt;25</title>\n",
       "<path fill=\"none\" stroke=\"#000000\" d=\"M549.2686,-698.8796C543.7627,-690.1434 537.8994,-680.8404 532.2176,-671.8253\"/>\n",
       "<polygon fill=\"#000000\" stroke=\"#000000\" points=\"535.1363,-669.8919 526.8433,-663.2981 529.2143,-673.6242 535.1363,-669.8919\"/>\n",
       "</g>\n",
       "<!-- 28 -->\n",
       "<g id=\"node29\" class=\"node\">\n",
       "<title>28</title>\n",
       "<path fill=\"#39e581\" stroke=\"#000000\" d=\"M706,-655.5C706,-655.5 609,-655.5 609,-655.5 603,-655.5 597,-649.5 597,-643.5 597,-643.5 597,-599.5 597,-599.5 597,-593.5 603,-587.5 609,-587.5 609,-587.5 706,-587.5 706,-587.5 712,-587.5 718,-593.5 718,-599.5 718,-599.5 718,-643.5 718,-643.5 718,-649.5 712,-655.5 706,-655.5\"/>\n",
       "<text text-anchor=\"start\" x=\"629.5\" y=\"-640.3\" font-family=\"Helvetica,sans-Serif\" font-size=\"14.00\" fill=\"#000000\">gini = 0.0</text>\n",
       "<text text-anchor=\"start\" x=\"620\" y=\"-625.3\" font-family=\"Helvetica,sans-Serif\" font-size=\"14.00\" fill=\"#000000\">samples = 2</text>\n",
       "<text text-anchor=\"start\" x=\"610.5\" y=\"-610.3\" font-family=\"Helvetica,sans-Serif\" font-size=\"14.00\" fill=\"#000000\">value = [0, 2, 0]</text>\n",
       "<text text-anchor=\"start\" x=\"605\" y=\"-595.3\" font-family=\"Helvetica,sans-Serif\" font-size=\"14.00\" fill=\"#000000\">class = versicolor</text>\n",
       "</g>\n",
       "<!-- 24&#45;&gt;28 -->\n",
       "<g id=\"edge28\" class=\"edge\">\n",
       "<title>24&#45;&gt;28</title>\n",
       "<path fill=\"none\" stroke=\"#000000\" d=\"M604.1796,-698.8796C611.9083,-687.6636 620.2809,-675.5131 628.0508,-664.2372\"/>\n",
       "<polygon fill=\"#000000\" stroke=\"#000000\" points=\"631.0623,-666.0353 633.8544,-655.8149 625.2982,-662.0634 631.0623,-666.0353\"/>\n",
       "</g>\n",
       "<!-- 26 -->\n",
       "<g id=\"node27\" class=\"node\">\n",
       "<title>26</title>\n",
       "<path fill=\"#39e581\" stroke=\"#000000\" d=\"M482,-536.5C482,-536.5 385,-536.5 385,-536.5 379,-536.5 373,-530.5 373,-524.5 373,-524.5 373,-480.5 373,-480.5 373,-474.5 379,-468.5 385,-468.5 385,-468.5 482,-468.5 482,-468.5 488,-468.5 494,-474.5 494,-480.5 494,-480.5 494,-524.5 494,-524.5 494,-530.5 488,-536.5 482,-536.5\"/>\n",
       "<text text-anchor=\"start\" x=\"405.5\" y=\"-521.3\" font-family=\"Helvetica,sans-Serif\" font-size=\"14.00\" fill=\"#000000\">gini = 0.0</text>\n",
       "<text text-anchor=\"start\" x=\"396\" y=\"-506.3\" font-family=\"Helvetica,sans-Serif\" font-size=\"14.00\" fill=\"#000000\">samples = 1</text>\n",
       "<text text-anchor=\"start\" x=\"386.5\" y=\"-491.3\" font-family=\"Helvetica,sans-Serif\" font-size=\"14.00\" fill=\"#000000\">value = [0, 1, 0]</text>\n",
       "<text text-anchor=\"start\" x=\"381\" y=\"-476.3\" font-family=\"Helvetica,sans-Serif\" font-size=\"14.00\" fill=\"#000000\">class = versicolor</text>\n",
       "</g>\n",
       "<!-- 25&#45;&gt;26 -->\n",
       "<g id=\"edge26\" class=\"edge\">\n",
       "<title>25&#45;&gt;26</title>\n",
       "<path fill=\"none\" stroke=\"#000000\" d=\"M477.0667,-579.8796C470.8137,-568.7735 464.0448,-556.7513 457.749,-545.5691\"/>\n",
       "<polygon fill=\"#000000\" stroke=\"#000000\" points=\"460.7761,-543.8116 452.8202,-536.8149 454.6765,-547.2459 460.7761,-543.8116\"/>\n",
       "</g>\n",
       "<!-- 27 -->\n",
       "<g id=\"node28\" class=\"node\">\n",
       "<title>27</title>\n",
       "<path fill=\"#8139e5\" stroke=\"#000000\" d=\"M613,-536.5C613,-536.5 524,-536.5 524,-536.5 518,-536.5 512,-530.5 512,-524.5 512,-524.5 512,-480.5 512,-480.5 512,-474.5 518,-468.5 524,-468.5 524,-468.5 613,-468.5 613,-468.5 619,-468.5 625,-474.5 625,-480.5 625,-480.5 625,-524.5 625,-524.5 625,-530.5 619,-536.5 613,-536.5\"/>\n",
       "<text text-anchor=\"start\" x=\"540.5\" y=\"-521.3\" font-family=\"Helvetica,sans-Serif\" font-size=\"14.00\" fill=\"#000000\">gini = 0.0</text>\n",
       "<text text-anchor=\"start\" x=\"531\" y=\"-506.3\" font-family=\"Helvetica,sans-Serif\" font-size=\"14.00\" fill=\"#000000\">samples = 1</text>\n",
       "<text text-anchor=\"start\" x=\"521.5\" y=\"-491.3\" font-family=\"Helvetica,sans-Serif\" font-size=\"14.00\" fill=\"#000000\">value = [0, 0, 1]</text>\n",
       "<text text-anchor=\"start\" x=\"520\" y=\"-476.3\" font-family=\"Helvetica,sans-Serif\" font-size=\"14.00\" fill=\"#000000\">class = virginica</text>\n",
       "</g>\n",
       "<!-- 25&#45;&gt;27 -->\n",
       "<g id=\"edge27\" class=\"edge\">\n",
       "<title>25&#45;&gt;27</title>\n",
       "<path fill=\"none\" stroke=\"#000000\" d=\"M524.2831,-579.8796C530.6294,-568.7735 537.4993,-556.7513 543.8891,-545.5691\"/>\n",
       "<polygon fill=\"#000000\" stroke=\"#000000\" points=\"546.9689,-547.2339 548.8915,-536.8149 540.8912,-543.7609 546.9689,-547.2339\"/>\n",
       "</g>\n",
       "<!-- 31 -->\n",
       "<g id=\"node32\" class=\"node\">\n",
       "<title>31</title>\n",
       "<path fill=\"#39e581\" fill-opacity=\"0.200000\" stroke=\"#000000\" d=\"M1006,-1020C1006,-1020 867,-1020 867,-1020 861,-1020 855,-1014 855,-1008 855,-1008 855,-949 855,-949 855,-943 861,-937 867,-937 867,-937 1006,-937 1006,-937 1012,-937 1018,-943 1018,-949 1018,-949 1018,-1008 1018,-1008 1018,-1014 1012,-1020 1006,-1020\"/>\n",
       "<text text-anchor=\"start\" x=\"863\" y=\"-1004.8\" font-family=\"Helvetica,sans-Serif\" font-size=\"14.00\" fill=\"#000000\">sepal length (cm) ≤ 6.05</text>\n",
       "<text text-anchor=\"start\" x=\"901\" y=\"-989.8\" font-family=\"Helvetica,sans-Serif\" font-size=\"14.00\" fill=\"#000000\">gini = 0.494</text>\n",
       "<text text-anchor=\"start\" x=\"899\" y=\"-974.8\" font-family=\"Helvetica,sans-Serif\" font-size=\"14.00\" fill=\"#000000\">samples = 9</text>\n",
       "<text text-anchor=\"start\" x=\"889.5\" y=\"-959.8\" font-family=\"Helvetica,sans-Serif\" font-size=\"14.00\" fill=\"#000000\">value = [0, 5, 4]</text>\n",
       "<text text-anchor=\"start\" x=\"884\" y=\"-944.8\" font-family=\"Helvetica,sans-Serif\" font-size=\"14.00\" fill=\"#000000\">class = versicolor</text>\n",
       "</g>\n",
       "<!-- 30&#45;&gt;31 -->\n",
       "<g id=\"edge31\" class=\"edge\">\n",
       "<title>30&#45;&gt;31</title>\n",
       "<path fill=\"none\" stroke=\"#000000\" d=\"M936.5,-1055.8796C936.5,-1047.6838 936.5,-1038.9891 936.5,-1030.5013\"/>\n",
       "<polygon fill=\"#000000\" stroke=\"#000000\" points=\"940.0001,-1030.298 936.5,-1020.2981 933.0001,-1030.2981 940.0001,-1030.298\"/>\n",
       "</g>\n",
       "<!-- 40 -->\n",
       "<g id=\"node41\" class=\"node\">\n",
       "<title>40</title>\n",
       "<path fill=\"#39e581\" fill-opacity=\"0.713725\" stroke=\"#000000\" d=\"M1233.5,-1020C1233.5,-1020 1099.5,-1020 1099.5,-1020 1093.5,-1020 1087.5,-1014 1087.5,-1008 1087.5,-1008 1087.5,-949 1087.5,-949 1087.5,-943 1093.5,-937 1099.5,-937 1099.5,-937 1233.5,-937 1233.5,-937 1239.5,-937 1245.5,-943 1245.5,-949 1245.5,-949 1245.5,-1008 1245.5,-1008 1245.5,-1014 1239.5,-1020 1233.5,-1020\"/>\n",
       "<text text-anchor=\"start\" x=\"1095.5\" y=\"-1004.8\" font-family=\"Helvetica,sans-Serif\" font-size=\"14.00\" fill=\"#000000\">sepal width (cm) ≤ 2.95</text>\n",
       "<text text-anchor=\"start\" x=\"1131\" y=\"-989.8\" font-family=\"Helvetica,sans-Serif\" font-size=\"14.00\" fill=\"#000000\">gini = 0.346</text>\n",
       "<text text-anchor=\"start\" x=\"1129\" y=\"-974.8\" font-family=\"Helvetica,sans-Serif\" font-size=\"14.00\" fill=\"#000000\">samples = 9</text>\n",
       "<text text-anchor=\"start\" x=\"1119.5\" y=\"-959.8\" font-family=\"Helvetica,sans-Serif\" font-size=\"14.00\" fill=\"#000000\">value = [0, 7, 2]</text>\n",
       "<text text-anchor=\"start\" x=\"1114\" y=\"-944.8\" font-family=\"Helvetica,sans-Serif\" font-size=\"14.00\" fill=\"#000000\">class = versicolor</text>\n",
       "</g>\n",
       "<!-- 30&#45;&gt;40 -->\n",
       "<g id=\"edge40\" class=\"edge\">\n",
       "<title>30&#45;&gt;40</title>\n",
       "<path fill=\"none\" stroke=\"#000000\" d=\"M1015.653,-1056.547C1035.8012,-1046.1224 1057.5806,-1034.8539 1078.1554,-1024.2087\"/>\n",
       "<polygon fill=\"#000000\" stroke=\"#000000\" points=\"1079.9279,-1027.2324 1087.2011,-1019.5285 1076.7111,-1021.0153 1079.9279,-1027.2324\"/>\n",
       "</g>\n",
       "<!-- 32 -->\n",
       "<g id=\"node33\" class=\"node\">\n",
       "<title>32</title>\n",
       "<path fill=\"#39e581\" fill-opacity=\"0.400000\" stroke=\"#000000\" d=\"M944.5,-901C944.5,-901 818.5,-901 818.5,-901 812.5,-901 806.5,-895 806.5,-889 806.5,-889 806.5,-830 806.5,-830 806.5,-824 812.5,-818 818.5,-818 818.5,-818 944.5,-818 944.5,-818 950.5,-818 956.5,-824 956.5,-830 956.5,-830 956.5,-889 956.5,-889 956.5,-895 950.5,-901 944.5,-901\"/>\n",
       "<text text-anchor=\"start\" x=\"814.5\" y=\"-885.8\" font-family=\"Helvetica,sans-Serif\" font-size=\"14.00\" fill=\"#000000\">sepal width (cm) ≤ 2.4</text>\n",
       "<text text-anchor=\"start\" x=\"846\" y=\"-870.8\" font-family=\"Helvetica,sans-Serif\" font-size=\"14.00\" fill=\"#000000\">gini = 0.469</text>\n",
       "<text text-anchor=\"start\" x=\"844\" y=\"-855.8\" font-family=\"Helvetica,sans-Serif\" font-size=\"14.00\" fill=\"#000000\">samples = 8</text>\n",
       "<text text-anchor=\"start\" x=\"834.5\" y=\"-840.8\" font-family=\"Helvetica,sans-Serif\" font-size=\"14.00\" fill=\"#000000\">value = [0, 5, 3]</text>\n",
       "<text text-anchor=\"start\" x=\"829\" y=\"-825.8\" font-family=\"Helvetica,sans-Serif\" font-size=\"14.00\" fill=\"#000000\">class = versicolor</text>\n",
       "</g>\n",
       "<!-- 31&#45;&gt;32 -->\n",
       "<g id=\"edge32\" class=\"edge\">\n",
       "<title>31&#45;&gt;32</title>\n",
       "<path fill=\"none\" stroke=\"#000000\" d=\"M917.2637,-936.8796C913.3092,-928.3236 909.1034,-919.2238 905.0175,-910.3833\"/>\n",
       "<polygon fill=\"#000000\" stroke=\"#000000\" points=\"908.191,-908.907 900.8184,-901.2981 901.8368,-911.8439 908.191,-908.907\"/>\n",
       "</g>\n",
       "<!-- 39 -->\n",
       "<g id=\"node40\" class=\"node\">\n",
       "<title>39</title>\n",
       "<path fill=\"#8139e5\" stroke=\"#000000\" d=\"M1076,-893.5C1076,-893.5 987,-893.5 987,-893.5 981,-893.5 975,-887.5 975,-881.5 975,-881.5 975,-837.5 975,-837.5 975,-831.5 981,-825.5 987,-825.5 987,-825.5 1076,-825.5 1076,-825.5 1082,-825.5 1088,-831.5 1088,-837.5 1088,-837.5 1088,-881.5 1088,-881.5 1088,-887.5 1082,-893.5 1076,-893.5\"/>\n",
       "<text text-anchor=\"start\" x=\"1003.5\" y=\"-878.3\" font-family=\"Helvetica,sans-Serif\" font-size=\"14.00\" fill=\"#000000\">gini = 0.0</text>\n",
       "<text text-anchor=\"start\" x=\"994\" y=\"-863.3\" font-family=\"Helvetica,sans-Serif\" font-size=\"14.00\" fill=\"#000000\">samples = 1</text>\n",
       "<text text-anchor=\"start\" x=\"984.5\" y=\"-848.3\" font-family=\"Helvetica,sans-Serif\" font-size=\"14.00\" fill=\"#000000\">value = [0, 0, 1]</text>\n",
       "<text text-anchor=\"start\" x=\"983\" y=\"-833.3\" font-family=\"Helvetica,sans-Serif\" font-size=\"14.00\" fill=\"#000000\">class = virginica</text>\n",
       "</g>\n",
       "<!-- 31&#45;&gt;39 -->\n",
       "<g id=\"edge39\" class=\"edge\">\n",
       "<title>31&#45;&gt;39</title>\n",
       "<path fill=\"none\" stroke=\"#000000\" d=\"M969.7264,-936.8796C978.7681,-925.5536 988.5705,-913.2748 997.6466,-901.9058\"/>\n",
       "<polygon fill=\"#000000\" stroke=\"#000000\" points=\"1000.602,-903.8137 1004.1057,-893.8149 995.1315,-899.4464 1000.602,-903.8137\"/>\n",
       "</g>\n",
       "<!-- 33 -->\n",
       "<g id=\"node34\" class=\"node\">\n",
       "<title>33</title>\n",
       "<path fill=\"transparent\" stroke=\"#000000\" d=\"M920,-774.5C920,-774.5 823,-774.5 823,-774.5 817,-774.5 811,-768.5 811,-762.5 811,-762.5 811,-718.5 811,-718.5 811,-712.5 817,-706.5 823,-706.5 823,-706.5 920,-706.5 920,-706.5 926,-706.5 932,-712.5 932,-718.5 932,-718.5 932,-762.5 932,-762.5 932,-768.5 926,-774.5 920,-774.5\"/>\n",
       "<text text-anchor=\"start\" x=\"843.5\" y=\"-759.3\" font-family=\"Helvetica,sans-Serif\" font-size=\"14.00\" fill=\"#000000\">gini = 0.5</text>\n",
       "<text text-anchor=\"start\" x=\"834\" y=\"-744.3\" font-family=\"Helvetica,sans-Serif\" font-size=\"14.00\" fill=\"#000000\">samples = 2</text>\n",
       "<text text-anchor=\"start\" x=\"824.5\" y=\"-729.3\" font-family=\"Helvetica,sans-Serif\" font-size=\"14.00\" fill=\"#000000\">value = [0, 1, 1]</text>\n",
       "<text text-anchor=\"start\" x=\"819\" y=\"-714.3\" font-family=\"Helvetica,sans-Serif\" font-size=\"14.00\" fill=\"#000000\">class = versicolor</text>\n",
       "</g>\n",
       "<!-- 32&#45;&gt;33 -->\n",
       "<g id=\"edge33\" class=\"edge\">\n",
       "<title>32&#45;&gt;33</title>\n",
       "<path fill=\"none\" stroke=\"#000000\" d=\"M878.0025,-817.8796C877.1062,-807.2134 876.1388,-795.7021 875.2312,-784.9015\"/>\n",
       "<polygon fill=\"#000000\" stroke=\"#000000\" points=\"878.7088,-784.4867 874.3836,-774.8149 871.7334,-785.0729 878.7088,-784.4867\"/>\n",
       "</g>\n",
       "<!-- 34 -->\n",
       "<g id=\"node35\" class=\"node\">\n",
       "<title>34</title>\n",
       "<path fill=\"#39e581\" fill-opacity=\"0.498039\" stroke=\"#000000\" d=\"M1093,-782C1093,-782 962,-782 962,-782 956,-782 950,-776 950,-770 950,-770 950,-711 950,-711 950,-705 956,-699 962,-699 962,-699 1093,-699 1093,-699 1099,-699 1105,-705 1105,-711 1105,-711 1105,-770 1105,-770 1105,-776 1099,-782 1093,-782\"/>\n",
       "<text text-anchor=\"start\" x=\"958\" y=\"-766.8\" font-family=\"Helvetica,sans-Serif\" font-size=\"14.00\" fill=\"#000000\">sepal length (cm) ≤ 5.9</text>\n",
       "<text text-anchor=\"start\" x=\"992\" y=\"-751.8\" font-family=\"Helvetica,sans-Serif\" font-size=\"14.00\" fill=\"#000000\">gini = 0.444</text>\n",
       "<text text-anchor=\"start\" x=\"990\" y=\"-736.8\" font-family=\"Helvetica,sans-Serif\" font-size=\"14.00\" fill=\"#000000\">samples = 6</text>\n",
       "<text text-anchor=\"start\" x=\"980.5\" y=\"-721.8\" font-family=\"Helvetica,sans-Serif\" font-size=\"14.00\" fill=\"#000000\">value = [0, 4, 2]</text>\n",
       "<text text-anchor=\"start\" x=\"975\" y=\"-706.8\" font-family=\"Helvetica,sans-Serif\" font-size=\"14.00\" fill=\"#000000\">class = versicolor</text>\n",
       "</g>\n",
       "<!-- 32&#45;&gt;34 -->\n",
       "<g id=\"edge34\" class=\"edge\">\n",
       "<title>32&#45;&gt;34</title>\n",
       "<path fill=\"none\" stroke=\"#000000\" d=\"M932.5637,-817.8796C944.0555,-808.513 956.3468,-798.4948 968.145,-788.8784\"/>\n",
       "<polygon fill=\"#000000\" stroke=\"#000000\" points=\"970.6782,-791.329 976.2183,-782.2981 966.2556,-785.903 970.6782,-791.329\"/>\n",
       "</g>\n",
       "<!-- 35 -->\n",
       "<g id=\"node36\" class=\"node\">\n",
       "<title>35</title>\n",
       "<path fill=\"#39e581\" fill-opacity=\"0.333333\" stroke=\"#000000\" d=\"M950.5,-663C950.5,-663 816.5,-663 816.5,-663 810.5,-663 804.5,-657 804.5,-651 804.5,-651 804.5,-592 804.5,-592 804.5,-586 810.5,-580 816.5,-580 816.5,-580 950.5,-580 950.5,-580 956.5,-580 962.5,-586 962.5,-592 962.5,-592 962.5,-651 962.5,-651 962.5,-657 956.5,-663 950.5,-663\"/>\n",
       "<text text-anchor=\"start\" x=\"812.5\" y=\"-647.8\" font-family=\"Helvetica,sans-Serif\" font-size=\"14.00\" fill=\"#000000\">sepal width (cm) ≤ 2.65</text>\n",
       "<text text-anchor=\"start\" x=\"851.5\" y=\"-632.8\" font-family=\"Helvetica,sans-Serif\" font-size=\"14.00\" fill=\"#000000\">gini = 0.48</text>\n",
       "<text text-anchor=\"start\" x=\"846\" y=\"-617.8\" font-family=\"Helvetica,sans-Serif\" font-size=\"14.00\" fill=\"#000000\">samples = 5</text>\n",
       "<text text-anchor=\"start\" x=\"836.5\" y=\"-602.8\" font-family=\"Helvetica,sans-Serif\" font-size=\"14.00\" fill=\"#000000\">value = [0, 3, 2]</text>\n",
       "<text text-anchor=\"start\" x=\"831\" y=\"-587.8\" font-family=\"Helvetica,sans-Serif\" font-size=\"14.00\" fill=\"#000000\">class = versicolor</text>\n",
       "</g>\n",
       "<!-- 34&#45;&gt;35 -->\n",
       "<g id=\"edge35\" class=\"edge\">\n",
       "<title>34&#45;&gt;35</title>\n",
       "<path fill=\"none\" stroke=\"#000000\" d=\"M977.1358,-698.8796C965.8015,-689.513 953.6785,-679.4948 942.0419,-669.8784\"/>\n",
       "<polygon fill=\"#000000\" stroke=\"#000000\" points=\"944.0173,-666.9703 934.0792,-663.2981 939.5581,-672.3663 944.0173,-666.9703\"/>\n",
       "</g>\n",
       "<!-- 38 -->\n",
       "<g id=\"node39\" class=\"node\">\n",
       "<title>38</title>\n",
       "<path fill=\"#39e581\" stroke=\"#000000\" d=\"M1089,-655.5C1089,-655.5 992,-655.5 992,-655.5 986,-655.5 980,-649.5 980,-643.5 980,-643.5 980,-599.5 980,-599.5 980,-593.5 986,-587.5 992,-587.5 992,-587.5 1089,-587.5 1089,-587.5 1095,-587.5 1101,-593.5 1101,-599.5 1101,-599.5 1101,-643.5 1101,-643.5 1101,-649.5 1095,-655.5 1089,-655.5\"/>\n",
       "<text text-anchor=\"start\" x=\"1012.5\" y=\"-640.3\" font-family=\"Helvetica,sans-Serif\" font-size=\"14.00\" fill=\"#000000\">gini = 0.0</text>\n",
       "<text text-anchor=\"start\" x=\"1003\" y=\"-625.3\" font-family=\"Helvetica,sans-Serif\" font-size=\"14.00\" fill=\"#000000\">samples = 1</text>\n",
       "<text text-anchor=\"start\" x=\"993.5\" y=\"-610.3\" font-family=\"Helvetica,sans-Serif\" font-size=\"14.00\" fill=\"#000000\">value = [0, 1, 0]</text>\n",
       "<text text-anchor=\"start\" x=\"988\" y=\"-595.3\" font-family=\"Helvetica,sans-Serif\" font-size=\"14.00\" fill=\"#000000\">class = versicolor</text>\n",
       "</g>\n",
       "<!-- 34&#45;&gt;38 -->\n",
       "<g id=\"edge38\" class=\"edge\">\n",
       "<title>34&#45;&gt;38</title>\n",
       "<path fill=\"none\" stroke=\"#000000\" d=\"M1032.0468,-698.8796C1033.212,-688.2134 1034.4695,-676.7021 1035.6494,-665.9015\"/>\n",
       "<polygon fill=\"#000000\" stroke=\"#000000\" points=\"1039.1445,-666.1359 1036.7513,-655.8149 1032.1859,-665.3757 1039.1445,-666.1359\"/>\n",
       "</g>\n",
       "<!-- 36 -->\n",
       "<g id=\"node37\" class=\"node\">\n",
       "<title>36</title>\n",
       "<path fill=\"#39e581\" stroke=\"#000000\" d=\"M920,-536.5C920,-536.5 823,-536.5 823,-536.5 817,-536.5 811,-530.5 811,-524.5 811,-524.5 811,-480.5 811,-480.5 811,-474.5 817,-468.5 823,-468.5 823,-468.5 920,-468.5 920,-468.5 926,-468.5 932,-474.5 932,-480.5 932,-480.5 932,-524.5 932,-524.5 932,-530.5 926,-536.5 920,-536.5\"/>\n",
       "<text text-anchor=\"start\" x=\"843.5\" y=\"-521.3\" font-family=\"Helvetica,sans-Serif\" font-size=\"14.00\" fill=\"#000000\">gini = 0.0</text>\n",
       "<text text-anchor=\"start\" x=\"834\" y=\"-506.3\" font-family=\"Helvetica,sans-Serif\" font-size=\"14.00\" fill=\"#000000\">samples = 1</text>\n",
       "<text text-anchor=\"start\" x=\"824.5\" y=\"-491.3\" font-family=\"Helvetica,sans-Serif\" font-size=\"14.00\" fill=\"#000000\">value = [0, 1, 0]</text>\n",
       "<text text-anchor=\"start\" x=\"819\" y=\"-476.3\" font-family=\"Helvetica,sans-Serif\" font-size=\"14.00\" fill=\"#000000\">class = versicolor</text>\n",
       "</g>\n",
       "<!-- 35&#45;&gt;36 -->\n",
       "<g id=\"edge36\" class=\"edge\">\n",
       "<title>35&#45;&gt;36</title>\n",
       "<path fill=\"none\" stroke=\"#000000\" d=\"M879.303,-579.8796C878.2274,-569.2134 877.0666,-557.7021 875.9775,-546.9015\"/>\n",
       "<polygon fill=\"#000000\" stroke=\"#000000\" points=\"879.4461,-546.4133 874.9603,-536.8149 872.4814,-547.1157 879.4461,-546.4133\"/>\n",
       "</g>\n",
       "<!-- 37 -->\n",
       "<g id=\"node38\" class=\"node\">\n",
       "<title>37</title>\n",
       "<path fill=\"transparent\" stroke=\"#000000\" d=\"M1059,-536.5C1059,-536.5 962,-536.5 962,-536.5 956,-536.5 950,-530.5 950,-524.5 950,-524.5 950,-480.5 950,-480.5 950,-474.5 956,-468.5 962,-468.5 962,-468.5 1059,-468.5 1059,-468.5 1065,-468.5 1071,-474.5 1071,-480.5 1071,-480.5 1071,-524.5 1071,-524.5 1071,-530.5 1065,-536.5 1059,-536.5\"/>\n",
       "<text text-anchor=\"start\" x=\"982.5\" y=\"-521.3\" font-family=\"Helvetica,sans-Serif\" font-size=\"14.00\" fill=\"#000000\">gini = 0.5</text>\n",
       "<text text-anchor=\"start\" x=\"973\" y=\"-506.3\" font-family=\"Helvetica,sans-Serif\" font-size=\"14.00\" fill=\"#000000\">samples = 4</text>\n",
       "<text text-anchor=\"start\" x=\"963.5\" y=\"-491.3\" font-family=\"Helvetica,sans-Serif\" font-size=\"14.00\" fill=\"#000000\">value = [0, 2, 2]</text>\n",
       "<text text-anchor=\"start\" x=\"958\" y=\"-476.3\" font-family=\"Helvetica,sans-Serif\" font-size=\"14.00\" fill=\"#000000\">class = versicolor</text>\n",
       "</g>\n",
       "<!-- 35&#45;&gt;37 -->\n",
       "<g id=\"edge37\" class=\"edge\">\n",
       "<title>35&#45;&gt;37</title>\n",
       "<path fill=\"none\" stroke=\"#000000\" d=\"M927.9184,-579.8796C940.3579,-568.2237 953.8743,-555.5587 966.301,-543.9148\"/>\n",
       "<polygon fill=\"#000000\" stroke=\"#000000\" points=\"968.9741,-546.2065 973.8782,-536.8149 964.1879,-541.0985 968.9741,-546.2065\"/>\n",
       "</g>\n",
       "<!-- 41 -->\n",
       "<g id=\"node42\" class=\"node\">\n",
       "<title>41</title>\n",
       "<path fill=\"#39e581\" stroke=\"#000000\" d=\"M1215,-893.5C1215,-893.5 1118,-893.5 1118,-893.5 1112,-893.5 1106,-887.5 1106,-881.5 1106,-881.5 1106,-837.5 1106,-837.5 1106,-831.5 1112,-825.5 1118,-825.5 1118,-825.5 1215,-825.5 1215,-825.5 1221,-825.5 1227,-831.5 1227,-837.5 1227,-837.5 1227,-881.5 1227,-881.5 1227,-887.5 1221,-893.5 1215,-893.5\"/>\n",
       "<text text-anchor=\"start\" x=\"1138.5\" y=\"-878.3\" font-family=\"Helvetica,sans-Serif\" font-size=\"14.00\" fill=\"#000000\">gini = 0.0</text>\n",
       "<text text-anchor=\"start\" x=\"1129\" y=\"-863.3\" font-family=\"Helvetica,sans-Serif\" font-size=\"14.00\" fill=\"#000000\">samples = 4</text>\n",
       "<text text-anchor=\"start\" x=\"1119.5\" y=\"-848.3\" font-family=\"Helvetica,sans-Serif\" font-size=\"14.00\" fill=\"#000000\">value = [0, 4, 0]</text>\n",
       "<text text-anchor=\"start\" x=\"1114\" y=\"-833.3\" font-family=\"Helvetica,sans-Serif\" font-size=\"14.00\" fill=\"#000000\">class = versicolor</text>\n",
       "</g>\n",
       "<!-- 40&#45;&gt;41 -->\n",
       "<g id=\"edge41\" class=\"edge\">\n",
       "<title>40&#45;&gt;41</title>\n",
       "<path fill=\"none\" stroke=\"#000000\" d=\"M1166.5,-936.8796C1166.5,-926.2134 1166.5,-914.7021 1166.5,-903.9015\"/>\n",
       "<polygon fill=\"#000000\" stroke=\"#000000\" points=\"1170.0001,-903.8149 1166.5,-893.8149 1163.0001,-903.815 1170.0001,-903.8149\"/>\n",
       "</g>\n",
       "<!-- 42 -->\n",
       "<g id=\"node43\" class=\"node\">\n",
       "<title>42</title>\n",
       "<path fill=\"#39e581\" fill-opacity=\"0.333333\" stroke=\"#000000\" d=\"M1396,-901C1396,-901 1257,-901 1257,-901 1251,-901 1245,-895 1245,-889 1245,-889 1245,-830 1245,-830 1245,-824 1251,-818 1257,-818 1257,-818 1396,-818 1396,-818 1402,-818 1408,-824 1408,-830 1408,-830 1408,-889 1408,-889 1408,-895 1402,-901 1396,-901\"/>\n",
       "<text text-anchor=\"start\" x=\"1253\" y=\"-885.8\" font-family=\"Helvetica,sans-Serif\" font-size=\"14.00\" fill=\"#000000\">sepal length (cm) ≤ 5.95</text>\n",
       "<text text-anchor=\"start\" x=\"1294.5\" y=\"-870.8\" font-family=\"Helvetica,sans-Serif\" font-size=\"14.00\" fill=\"#000000\">gini = 0.48</text>\n",
       "<text text-anchor=\"start\" x=\"1289\" y=\"-855.8\" font-family=\"Helvetica,sans-Serif\" font-size=\"14.00\" fill=\"#000000\">samples = 5</text>\n",
       "<text text-anchor=\"start\" x=\"1279.5\" y=\"-840.8\" font-family=\"Helvetica,sans-Serif\" font-size=\"14.00\" fill=\"#000000\">value = [0, 3, 2]</text>\n",
       "<text text-anchor=\"start\" x=\"1274\" y=\"-825.8\" font-family=\"Helvetica,sans-Serif\" font-size=\"14.00\" fill=\"#000000\">class = versicolor</text>\n",
       "</g>\n",
       "<!-- 40&#45;&gt;42 -->\n",
       "<g id=\"edge42\" class=\"edge\">\n",
       "<title>40&#45;&gt;42</title>\n",
       "<path fill=\"none\" stroke=\"#000000\" d=\"M1222.4602,-936.8796C1235.3708,-927.2774 1249.2021,-916.9903 1262.4282,-907.1534\"/>\n",
       "<polygon fill=\"#000000\" stroke=\"#000000\" points=\"1264.6361,-909.8732 1270.5714,-901.0969 1260.4586,-904.2564 1264.6361,-909.8732\"/>\n",
       "</g>\n",
       "<!-- 43 -->\n",
       "<g id=\"node44\" class=\"node\">\n",
       "<title>43</title>\n",
       "<path fill=\"#39e581\" stroke=\"#000000\" d=\"M1232,-774.5C1232,-774.5 1135,-774.5 1135,-774.5 1129,-774.5 1123,-768.5 1123,-762.5 1123,-762.5 1123,-718.5 1123,-718.5 1123,-712.5 1129,-706.5 1135,-706.5 1135,-706.5 1232,-706.5 1232,-706.5 1238,-706.5 1244,-712.5 1244,-718.5 1244,-718.5 1244,-762.5 1244,-762.5 1244,-768.5 1238,-774.5 1232,-774.5\"/>\n",
       "<text text-anchor=\"start\" x=\"1155.5\" y=\"-759.3\" font-family=\"Helvetica,sans-Serif\" font-size=\"14.00\" fill=\"#000000\">gini = 0.0</text>\n",
       "<text text-anchor=\"start\" x=\"1146\" y=\"-744.3\" font-family=\"Helvetica,sans-Serif\" font-size=\"14.00\" fill=\"#000000\">samples = 1</text>\n",
       "<text text-anchor=\"start\" x=\"1136.5\" y=\"-729.3\" font-family=\"Helvetica,sans-Serif\" font-size=\"14.00\" fill=\"#000000\">value = [0, 1, 0]</text>\n",
       "<text text-anchor=\"start\" x=\"1131\" y=\"-714.3\" font-family=\"Helvetica,sans-Serif\" font-size=\"14.00\" fill=\"#000000\">class = versicolor</text>\n",
       "</g>\n",
       "<!-- 42&#45;&gt;43 -->\n",
       "<g id=\"edge43\" class=\"edge\">\n",
       "<title>42&#45;&gt;43</title>\n",
       "<path fill=\"none\" stroke=\"#000000\" d=\"M1276.4855,-817.8796C1262.2147,-806.0038 1246.6849,-793.0804 1232.4767,-781.2568\"/>\n",
       "<polygon fill=\"#000000\" stroke=\"#000000\" points=\"1234.661,-778.5212 1224.7356,-774.8149 1230.1834,-783.9019 1234.661,-778.5212\"/>\n",
       "</g>\n",
       "<!-- 44 -->\n",
       "<g id=\"node45\" class=\"node\">\n",
       "<title>44</title>\n",
       "<path fill=\"transparent\" stroke=\"#000000\" d=\"M1400.5,-782C1400.5,-782 1274.5,-782 1274.5,-782 1268.5,-782 1262.5,-776 1262.5,-770 1262.5,-770 1262.5,-711 1262.5,-711 1262.5,-705 1268.5,-699 1274.5,-699 1274.5,-699 1400.5,-699 1400.5,-699 1406.5,-699 1412.5,-705 1412.5,-711 1412.5,-711 1412.5,-770 1412.5,-770 1412.5,-776 1406.5,-782 1400.5,-782\"/>\n",
       "<text text-anchor=\"start\" x=\"1270.5\" y=\"-766.8\" font-family=\"Helvetica,sans-Serif\" font-size=\"14.00\" fill=\"#000000\">sepal width (cm) ≤ 3.2</text>\n",
       "<text text-anchor=\"start\" x=\"1309.5\" y=\"-751.8\" font-family=\"Helvetica,sans-Serif\" font-size=\"14.00\" fill=\"#000000\">gini = 0.5</text>\n",
       "<text text-anchor=\"start\" x=\"1300\" y=\"-736.8\" font-family=\"Helvetica,sans-Serif\" font-size=\"14.00\" fill=\"#000000\">samples = 4</text>\n",
       "<text text-anchor=\"start\" x=\"1290.5\" y=\"-721.8\" font-family=\"Helvetica,sans-Serif\" font-size=\"14.00\" fill=\"#000000\">value = [0, 2, 2]</text>\n",
       "<text text-anchor=\"start\" x=\"1285\" y=\"-706.8\" font-family=\"Helvetica,sans-Serif\" font-size=\"14.00\" fill=\"#000000\">class = versicolor</text>\n",
       "</g>\n",
       "<!-- 42&#45;&gt;44 -->\n",
       "<g id=\"edge44\" class=\"edge\">\n",
       "<title>42&#45;&gt;44</title>\n",
       "<path fill=\"none\" stroke=\"#000000\" d=\"M1330.3473,-817.8796C1331.1049,-809.6838 1331.9086,-800.9891 1332.6932,-792.5013\"/>\n",
       "<polygon fill=\"#000000\" stroke=\"#000000\" points=\"1336.2009,-792.5778 1333.6363,-782.2981 1329.2306,-791.9334 1336.2009,-792.5778\"/>\n",
       "</g>\n",
       "<!-- 45 -->\n",
       "<g id=\"node46\" class=\"node\">\n",
       "<title>45</title>\n",
       "<path fill=\"#8139e5\" fill-opacity=\"0.498039\" stroke=\"#000000\" d=\"M1317,-663C1317,-663 1178,-663 1178,-663 1172,-663 1166,-657 1166,-651 1166,-651 1166,-592 1166,-592 1166,-586 1172,-580 1178,-580 1178,-580 1317,-580 1317,-580 1323,-580 1329,-586 1329,-592 1329,-592 1329,-651 1329,-651 1329,-657 1323,-663 1317,-663\"/>\n",
       "<text text-anchor=\"start\" x=\"1174\" y=\"-647.8\" font-family=\"Helvetica,sans-Serif\" font-size=\"14.00\" fill=\"#000000\">sepal length (cm) ≤ 6.05</text>\n",
       "<text text-anchor=\"start\" x=\"1212\" y=\"-632.8\" font-family=\"Helvetica,sans-Serif\" font-size=\"14.00\" fill=\"#000000\">gini = 0.444</text>\n",
       "<text text-anchor=\"start\" x=\"1210\" y=\"-617.8\" font-family=\"Helvetica,sans-Serif\" font-size=\"14.00\" fill=\"#000000\">samples = 3</text>\n",
       "<text text-anchor=\"start\" x=\"1200.5\" y=\"-602.8\" font-family=\"Helvetica,sans-Serif\" font-size=\"14.00\" fill=\"#000000\">value = [0, 1, 2]</text>\n",
       "<text text-anchor=\"start\" x=\"1199\" y=\"-587.8\" font-family=\"Helvetica,sans-Serif\" font-size=\"14.00\" fill=\"#000000\">class = virginica</text>\n",
       "</g>\n",
       "<!-- 44&#45;&gt;45 -->\n",
       "<g id=\"edge45\" class=\"edge\">\n",
       "<title>44&#45;&gt;45</title>\n",
       "<path fill=\"none\" stroke=\"#000000\" d=\"M1306.0224,-698.8796C1299.3471,-690.0534 1292.2342,-680.6485 1285.3504,-671.5466\"/>\n",
       "<polygon fill=\"#000000\" stroke=\"#000000\" points=\"1287.9357,-669.1626 1279.112,-663.2981 1282.3526,-673.3852 1287.9357,-669.1626\"/>\n",
       "</g>\n",
       "<!-- 48 -->\n",
       "<g id=\"node49\" class=\"node\">\n",
       "<title>48</title>\n",
       "<path fill=\"#39e581\" stroke=\"#000000\" d=\"M1456,-655.5C1456,-655.5 1359,-655.5 1359,-655.5 1353,-655.5 1347,-649.5 1347,-643.5 1347,-643.5 1347,-599.5 1347,-599.5 1347,-593.5 1353,-587.5 1359,-587.5 1359,-587.5 1456,-587.5 1456,-587.5 1462,-587.5 1468,-593.5 1468,-599.5 1468,-599.5 1468,-643.5 1468,-643.5 1468,-649.5 1462,-655.5 1456,-655.5\"/>\n",
       "<text text-anchor=\"start\" x=\"1379.5\" y=\"-640.3\" font-family=\"Helvetica,sans-Serif\" font-size=\"14.00\" fill=\"#000000\">gini = 0.0</text>\n",
       "<text text-anchor=\"start\" x=\"1370\" y=\"-625.3\" font-family=\"Helvetica,sans-Serif\" font-size=\"14.00\" fill=\"#000000\">samples = 1</text>\n",
       "<text text-anchor=\"start\" x=\"1360.5\" y=\"-610.3\" font-family=\"Helvetica,sans-Serif\" font-size=\"14.00\" fill=\"#000000\">value = [0, 1, 0]</text>\n",
       "<text text-anchor=\"start\" x=\"1355\" y=\"-595.3\" font-family=\"Helvetica,sans-Serif\" font-size=\"14.00\" fill=\"#000000\">class = versicolor</text>\n",
       "</g>\n",
       "<!-- 44&#45;&gt;48 -->\n",
       "<g id=\"edge48\" class=\"edge\">\n",
       "<title>44&#45;&gt;48</title>\n",
       "<path fill=\"none\" stroke=\"#000000\" d=\"M1361.9826,-698.8796C1368.5156,-687.7735 1375.5875,-675.7513 1382.1652,-664.5691\"/>\n",
       "<polygon fill=\"#000000\" stroke=\"#000000\" points=\"1385.2613,-666.2089 1387.3147,-655.8149 1379.2277,-662.6597 1385.2613,-666.2089\"/>\n",
       "</g>\n",
       "<!-- 46 -->\n",
       "<g id=\"node47\" class=\"node\">\n",
       "<title>46</title>\n",
       "<path fill=\"#8139e5\" stroke=\"#000000\" d=\"M1225,-536.5C1225,-536.5 1136,-536.5 1136,-536.5 1130,-536.5 1124,-530.5 1124,-524.5 1124,-524.5 1124,-480.5 1124,-480.5 1124,-474.5 1130,-468.5 1136,-468.5 1136,-468.5 1225,-468.5 1225,-468.5 1231,-468.5 1237,-474.5 1237,-480.5 1237,-480.5 1237,-524.5 1237,-524.5 1237,-530.5 1231,-536.5 1225,-536.5\"/>\n",
       "<text text-anchor=\"start\" x=\"1152.5\" y=\"-521.3\" font-family=\"Helvetica,sans-Serif\" font-size=\"14.00\" fill=\"#000000\">gini = 0.0</text>\n",
       "<text text-anchor=\"start\" x=\"1143\" y=\"-506.3\" font-family=\"Helvetica,sans-Serif\" font-size=\"14.00\" fill=\"#000000\">samples = 1</text>\n",
       "<text text-anchor=\"start\" x=\"1133.5\" y=\"-491.3\" font-family=\"Helvetica,sans-Serif\" font-size=\"14.00\" fill=\"#000000\">value = [0, 0, 1]</text>\n",
       "<text text-anchor=\"start\" x=\"1132\" y=\"-476.3\" font-family=\"Helvetica,sans-Serif\" font-size=\"14.00\" fill=\"#000000\">class = virginica</text>\n",
       "</g>\n",
       "<!-- 45&#45;&gt;46 -->\n",
       "<g id=\"edge46\" class=\"edge\">\n",
       "<title>45&#45;&gt;46</title>\n",
       "<path fill=\"none\" stroke=\"#000000\" d=\"M1224.0667,-579.8796C1217.8137,-568.7735 1211.0448,-556.7513 1204.749,-545.5691\"/>\n",
       "<polygon fill=\"#000000\" stroke=\"#000000\" points=\"1207.7761,-543.8116 1199.8202,-536.8149 1201.6765,-547.2459 1207.7761,-543.8116\"/>\n",
       "</g>\n",
       "<!-- 47 -->\n",
       "<g id=\"node48\" class=\"node\">\n",
       "<title>47</title>\n",
       "<path fill=\"transparent\" stroke=\"#000000\" d=\"M1364,-536.5C1364,-536.5 1267,-536.5 1267,-536.5 1261,-536.5 1255,-530.5 1255,-524.5 1255,-524.5 1255,-480.5 1255,-480.5 1255,-474.5 1261,-468.5 1267,-468.5 1267,-468.5 1364,-468.5 1364,-468.5 1370,-468.5 1376,-474.5 1376,-480.5 1376,-480.5 1376,-524.5 1376,-524.5 1376,-530.5 1370,-536.5 1364,-536.5\"/>\n",
       "<text text-anchor=\"start\" x=\"1287.5\" y=\"-521.3\" font-family=\"Helvetica,sans-Serif\" font-size=\"14.00\" fill=\"#000000\">gini = 0.5</text>\n",
       "<text text-anchor=\"start\" x=\"1278\" y=\"-506.3\" font-family=\"Helvetica,sans-Serif\" font-size=\"14.00\" fill=\"#000000\">samples = 2</text>\n",
       "<text text-anchor=\"start\" x=\"1268.5\" y=\"-491.3\" font-family=\"Helvetica,sans-Serif\" font-size=\"14.00\" fill=\"#000000\">value = [0, 1, 1]</text>\n",
       "<text text-anchor=\"start\" x=\"1263\" y=\"-476.3\" font-family=\"Helvetica,sans-Serif\" font-size=\"14.00\" fill=\"#000000\">class = versicolor</text>\n",
       "</g>\n",
       "<!-- 45&#45;&gt;47 -->\n",
       "<g id=\"edge47\" class=\"edge\">\n",
       "<title>45&#45;&gt;47</title>\n",
       "<path fill=\"none\" stroke=\"#000000\" d=\"M1271.2831,-579.8796C1277.6294,-568.7735 1284.4993,-556.7513 1290.8891,-545.5691\"/>\n",
       "<polygon fill=\"#000000\" stroke=\"#000000\" points=\"1293.9689,-547.2339 1295.8915,-536.8149 1287.8912,-543.7609 1293.9689,-547.2339\"/>\n",
       "</g>\n",
       "<!-- 51 -->\n",
       "<g id=\"node52\" class=\"node\">\n",
       "<title>51</title>\n",
       "<path fill=\"#8139e5\" fill-opacity=\"0.349020\" stroke=\"#000000\" d=\"M1640,-1258C1640,-1258 1501,-1258 1501,-1258 1495,-1258 1489,-1252 1489,-1246 1489,-1246 1489,-1187 1489,-1187 1489,-1181 1495,-1175 1501,-1175 1501,-1175 1640,-1175 1640,-1175 1646,-1175 1652,-1181 1652,-1187 1652,-1187 1652,-1246 1652,-1246 1652,-1252 1646,-1258 1640,-1258\"/>\n",
       "<text text-anchor=\"start\" x=\"1497\" y=\"-1242.8\" font-family=\"Helvetica,sans-Serif\" font-size=\"14.00\" fill=\"#000000\">sepal length (cm) ≤ 6.95</text>\n",
       "<text text-anchor=\"start\" x=\"1535\" y=\"-1227.8\" font-family=\"Helvetica,sans-Serif\" font-size=\"14.00\" fill=\"#000000\">gini = 0.478</text>\n",
       "<text text-anchor=\"start\" x=\"1529.5\" y=\"-1212.8\" font-family=\"Helvetica,sans-Serif\" font-size=\"14.00\" fill=\"#000000\">samples = 33</text>\n",
       "<text text-anchor=\"start\" x=\"1516\" y=\"-1197.8\" font-family=\"Helvetica,sans-Serif\" font-size=\"14.00\" fill=\"#000000\">value = [0, 13, 20]</text>\n",
       "<text text-anchor=\"start\" x=\"1522\" y=\"-1182.8\" font-family=\"Helvetica,sans-Serif\" font-size=\"14.00\" fill=\"#000000\">class = virginica</text>\n",
       "</g>\n",
       "<!-- 50&#45;&gt;51 -->\n",
       "<g id=\"edge51\" class=\"edge\">\n",
       "<title>50&#45;&gt;51</title>\n",
       "<path fill=\"none\" stroke=\"#000000\" d=\"M1570.5,-1293.8796C1570.5,-1285.6838 1570.5,-1276.9891 1570.5,-1268.5013\"/>\n",
       "<polygon fill=\"#000000\" stroke=\"#000000\" points=\"1574.0001,-1268.298 1570.5,-1258.2981 1567.0001,-1268.2981 1574.0001,-1268.298\"/>\n",
       "</g>\n",
       "<!-- 86 -->\n",
       "<g id=\"node87\" class=\"node\">\n",
       "<title>86</title>\n",
       "<path fill=\"#8139e5\" stroke=\"#000000\" d=\"M1771,-1250.5C1771,-1250.5 1682,-1250.5 1682,-1250.5 1676,-1250.5 1670,-1244.5 1670,-1238.5 1670,-1238.5 1670,-1194.5 1670,-1194.5 1670,-1188.5 1676,-1182.5 1682,-1182.5 1682,-1182.5 1771,-1182.5 1771,-1182.5 1777,-1182.5 1783,-1188.5 1783,-1194.5 1783,-1194.5 1783,-1238.5 1783,-1238.5 1783,-1244.5 1777,-1250.5 1771,-1250.5\"/>\n",
       "<text text-anchor=\"start\" x=\"1698.5\" y=\"-1235.3\" font-family=\"Helvetica,sans-Serif\" font-size=\"14.00\" fill=\"#000000\">gini = 0.0</text>\n",
       "<text text-anchor=\"start\" x=\"1689\" y=\"-1220.3\" font-family=\"Helvetica,sans-Serif\" font-size=\"14.00\" fill=\"#000000\">samples = 9</text>\n",
       "<text text-anchor=\"start\" x=\"1679.5\" y=\"-1205.3\" font-family=\"Helvetica,sans-Serif\" font-size=\"14.00\" fill=\"#000000\">value = [0, 0, 9]</text>\n",
       "<text text-anchor=\"start\" x=\"1678\" y=\"-1190.3\" font-family=\"Helvetica,sans-Serif\" font-size=\"14.00\" fill=\"#000000\">class = virginica</text>\n",
       "</g>\n",
       "<!-- 50&#45;&gt;86 -->\n",
       "<g id=\"edge86\" class=\"edge\">\n",
       "<title>50&#45;&gt;86</title>\n",
       "<path fill=\"none\" stroke=\"#000000\" d=\"M1625.0612,-1293.8796C1640.8484,-1281.8368 1658.0479,-1268.7167 1673.7241,-1256.7586\"/>\n",
       "<polygon fill=\"#000000\" stroke=\"#000000\" points=\"1675.9392,-1259.4709 1681.7673,-1250.623 1671.6937,-1253.9053 1675.9392,-1259.4709\"/>\n",
       "</g>\n",
       "<!-- 52 -->\n",
       "<g id=\"node53\" class=\"node\">\n",
       "<title>52</title>\n",
       "<path fill=\"#8139e5\" fill-opacity=\"0.400000\" stroke=\"#000000\" d=\"M1640,-1139C1640,-1139 1501,-1139 1501,-1139 1495,-1139 1489,-1133 1489,-1127 1489,-1127 1489,-1068 1489,-1068 1489,-1062 1495,-1056 1501,-1056 1501,-1056 1640,-1056 1640,-1056 1646,-1056 1652,-1062 1652,-1068 1652,-1068 1652,-1127 1652,-1127 1652,-1133 1646,-1139 1640,-1139\"/>\n",
       "<text text-anchor=\"start\" x=\"1497\" y=\"-1123.8\" font-family=\"Helvetica,sans-Serif\" font-size=\"14.00\" fill=\"#000000\">sepal length (cm) ≤ 6.85</text>\n",
       "<text text-anchor=\"start\" x=\"1535\" y=\"-1108.8\" font-family=\"Helvetica,sans-Serif\" font-size=\"14.00\" fill=\"#000000\">gini = 0.469</text>\n",
       "<text text-anchor=\"start\" x=\"1529.5\" y=\"-1093.8\" font-family=\"Helvetica,sans-Serif\" font-size=\"14.00\" fill=\"#000000\">samples = 32</text>\n",
       "<text text-anchor=\"start\" x=\"1516\" y=\"-1078.8\" font-family=\"Helvetica,sans-Serif\" font-size=\"14.00\" fill=\"#000000\">value = [0, 12, 20]</text>\n",
       "<text text-anchor=\"start\" x=\"1522\" y=\"-1063.8\" font-family=\"Helvetica,sans-Serif\" font-size=\"14.00\" fill=\"#000000\">class = virginica</text>\n",
       "</g>\n",
       "<!-- 51&#45;&gt;52 -->\n",
       "<g id=\"edge52\" class=\"edge\">\n",
       "<title>51&#45;&gt;52</title>\n",
       "<path fill=\"none\" stroke=\"#000000\" d=\"M1570.5,-1174.8796C1570.5,-1166.6838 1570.5,-1157.9891 1570.5,-1149.5013\"/>\n",
       "<polygon fill=\"#000000\" stroke=\"#000000\" points=\"1574.0001,-1149.298 1570.5,-1139.2981 1567.0001,-1149.2981 1574.0001,-1149.298\"/>\n",
       "</g>\n",
       "<!-- 85 -->\n",
       "<g id=\"node86\" class=\"node\">\n",
       "<title>85</title>\n",
       "<path fill=\"#39e581\" stroke=\"#000000\" d=\"M1779,-1131.5C1779,-1131.5 1682,-1131.5 1682,-1131.5 1676,-1131.5 1670,-1125.5 1670,-1119.5 1670,-1119.5 1670,-1075.5 1670,-1075.5 1670,-1069.5 1676,-1063.5 1682,-1063.5 1682,-1063.5 1779,-1063.5 1779,-1063.5 1785,-1063.5 1791,-1069.5 1791,-1075.5 1791,-1075.5 1791,-1119.5 1791,-1119.5 1791,-1125.5 1785,-1131.5 1779,-1131.5\"/>\n",
       "<text text-anchor=\"start\" x=\"1702.5\" y=\"-1116.3\" font-family=\"Helvetica,sans-Serif\" font-size=\"14.00\" fill=\"#000000\">gini = 0.0</text>\n",
       "<text text-anchor=\"start\" x=\"1693\" y=\"-1101.3\" font-family=\"Helvetica,sans-Serif\" font-size=\"14.00\" fill=\"#000000\">samples = 1</text>\n",
       "<text text-anchor=\"start\" x=\"1683.5\" y=\"-1086.3\" font-family=\"Helvetica,sans-Serif\" font-size=\"14.00\" fill=\"#000000\">value = [0, 1, 0]</text>\n",
       "<text text-anchor=\"start\" x=\"1678\" y=\"-1071.3\" font-family=\"Helvetica,sans-Serif\" font-size=\"14.00\" fill=\"#000000\">class = versicolor</text>\n",
       "</g>\n",
       "<!-- 51&#45;&gt;85 -->\n",
       "<g id=\"edge85\" class=\"edge\">\n",
       "<title>51&#45;&gt;85</title>\n",
       "<path fill=\"none\" stroke=\"#000000\" d=\"M1626.4602,-1174.8796C1642.6522,-1162.8368 1660.2927,-1149.7167 1676.3708,-1137.7586\"/>\n",
       "<polygon fill=\"#000000\" stroke=\"#000000\" points=\"1678.685,-1140.3993 1684.6203,-1131.623 1674.5075,-1134.7825 1678.685,-1140.3993\"/>\n",
       "</g>\n",
       "<!-- 53 -->\n",
       "<g id=\"node54\" class=\"node\">\n",
       "<title>53</title>\n",
       "<path fill=\"#8139e5\" fill-opacity=\"0.294118\" stroke=\"#000000\" d=\"M1640,-1020C1640,-1020 1501,-1020 1501,-1020 1495,-1020 1489,-1014 1489,-1008 1489,-1008 1489,-949 1489,-949 1489,-943 1495,-937 1501,-937 1501,-937 1640,-937 1640,-937 1646,-937 1652,-943 1652,-949 1652,-949 1652,-1008 1652,-1008 1652,-1014 1646,-1020 1640,-1020\"/>\n",
       "<text text-anchor=\"start\" x=\"1497\" y=\"-1004.8\" font-family=\"Helvetica,sans-Serif\" font-size=\"14.00\" fill=\"#000000\">sepal length (cm) ≤ 6.55</text>\n",
       "<text text-anchor=\"start\" x=\"1535\" y=\"-989.8\" font-family=\"Helvetica,sans-Serif\" font-size=\"14.00\" fill=\"#000000\">gini = 0.485</text>\n",
       "<text text-anchor=\"start\" x=\"1529.5\" y=\"-974.8\" font-family=\"Helvetica,sans-Serif\" font-size=\"14.00\" fill=\"#000000\">samples = 29</text>\n",
       "<text text-anchor=\"start\" x=\"1516\" y=\"-959.8\" font-family=\"Helvetica,sans-Serif\" font-size=\"14.00\" fill=\"#000000\">value = [0, 12, 17]</text>\n",
       "<text text-anchor=\"start\" x=\"1522\" y=\"-944.8\" font-family=\"Helvetica,sans-Serif\" font-size=\"14.00\" fill=\"#000000\">class = virginica</text>\n",
       "</g>\n",
       "<!-- 52&#45;&gt;53 -->\n",
       "<g id=\"edge53\" class=\"edge\">\n",
       "<title>52&#45;&gt;53</title>\n",
       "<path fill=\"none\" stroke=\"#000000\" d=\"M1570.5,-1055.8796C1570.5,-1047.6838 1570.5,-1038.9891 1570.5,-1030.5013\"/>\n",
       "<polygon fill=\"#000000\" stroke=\"#000000\" points=\"1574.0001,-1030.298 1570.5,-1020.2981 1567.0001,-1030.2981 1574.0001,-1030.298\"/>\n",
       "</g>\n",
       "<!-- 84 -->\n",
       "<g id=\"node85\" class=\"node\">\n",
       "<title>84</title>\n",
       "<path fill=\"#8139e5\" stroke=\"#000000\" d=\"M1771,-1012.5C1771,-1012.5 1682,-1012.5 1682,-1012.5 1676,-1012.5 1670,-1006.5 1670,-1000.5 1670,-1000.5 1670,-956.5 1670,-956.5 1670,-950.5 1676,-944.5 1682,-944.5 1682,-944.5 1771,-944.5 1771,-944.5 1777,-944.5 1783,-950.5 1783,-956.5 1783,-956.5 1783,-1000.5 1783,-1000.5 1783,-1006.5 1777,-1012.5 1771,-1012.5\"/>\n",
       "<text text-anchor=\"start\" x=\"1698.5\" y=\"-997.3\" font-family=\"Helvetica,sans-Serif\" font-size=\"14.00\" fill=\"#000000\">gini = 0.0</text>\n",
       "<text text-anchor=\"start\" x=\"1689\" y=\"-982.3\" font-family=\"Helvetica,sans-Serif\" font-size=\"14.00\" fill=\"#000000\">samples = 3</text>\n",
       "<text text-anchor=\"start\" x=\"1679.5\" y=\"-967.3\" font-family=\"Helvetica,sans-Serif\" font-size=\"14.00\" fill=\"#000000\">value = [0, 0, 3]</text>\n",
       "<text text-anchor=\"start\" x=\"1678\" y=\"-952.3\" font-family=\"Helvetica,sans-Serif\" font-size=\"14.00\" fill=\"#000000\">class = virginica</text>\n",
       "</g>\n",
       "<!-- 52&#45;&gt;84 -->\n",
       "<g id=\"edge84\" class=\"edge\">\n",
       "<title>52&#45;&gt;84</title>\n",
       "<path fill=\"none\" stroke=\"#000000\" d=\"M1625.0612,-1055.8796C1640.8484,-1043.8368 1658.0479,-1030.7167 1673.7241,-1018.7586\"/>\n",
       "<polygon fill=\"#000000\" stroke=\"#000000\" points=\"1675.9392,-1021.4709 1681.7673,-1012.623 1671.6937,-1015.9053 1675.9392,-1021.4709\"/>\n",
       "</g>\n",
       "<!-- 54 -->\n",
       "<g id=\"node55\" class=\"node\">\n",
       "<title>54</title>\n",
       "<path fill=\"#8139e5\" fill-opacity=\"0.537255\" stroke=\"#000000\" d=\"M1633.5,-901C1633.5,-901 1507.5,-901 1507.5,-901 1501.5,-901 1495.5,-895 1495.5,-889 1495.5,-889 1495.5,-830 1495.5,-830 1495.5,-824 1501.5,-818 1507.5,-818 1507.5,-818 1633.5,-818 1633.5,-818 1639.5,-818 1645.5,-824 1645.5,-830 1645.5,-830 1645.5,-889 1645.5,-889 1645.5,-895 1639.5,-901 1633.5,-901\"/>\n",
       "<text text-anchor=\"start\" x=\"1503.5\" y=\"-885.8\" font-family=\"Helvetica,sans-Serif\" font-size=\"14.00\" fill=\"#000000\">sepal width (cm) ≤ 2.4</text>\n",
       "<text text-anchor=\"start\" x=\"1535\" y=\"-870.8\" font-family=\"Helvetica,sans-Serif\" font-size=\"14.00\" fill=\"#000000\">gini = 0.432</text>\n",
       "<text text-anchor=\"start\" x=\"1529.5\" y=\"-855.8\" font-family=\"Helvetica,sans-Serif\" font-size=\"14.00\" fill=\"#000000\">samples = 19</text>\n",
       "<text text-anchor=\"start\" x=\"1520\" y=\"-840.8\" font-family=\"Helvetica,sans-Serif\" font-size=\"14.00\" fill=\"#000000\">value = [0, 6, 13]</text>\n",
       "<text text-anchor=\"start\" x=\"1522\" y=\"-825.8\" font-family=\"Helvetica,sans-Serif\" font-size=\"14.00\" fill=\"#000000\">class = virginica</text>\n",
       "</g>\n",
       "<!-- 53&#45;&gt;54 -->\n",
       "<g id=\"edge54\" class=\"edge\">\n",
       "<title>53&#45;&gt;54</title>\n",
       "<path fill=\"none\" stroke=\"#000000\" d=\"M1570.5,-936.8796C1570.5,-928.6838 1570.5,-919.9891 1570.5,-911.5013\"/>\n",
       "<polygon fill=\"#000000\" stroke=\"#000000\" points=\"1574.0001,-911.298 1570.5,-901.2981 1567.0001,-911.2981 1574.0001,-911.298\"/>\n",
       "</g>\n",
       "<!-- 71 -->\n",
       "<g id=\"node72\" class=\"node\">\n",
       "<title>71</title>\n",
       "<path fill=\"#39e581\" fill-opacity=\"0.333333\" stroke=\"#000000\" d=\"M1875,-901C1875,-901 1736,-901 1736,-901 1730,-901 1724,-895 1724,-889 1724,-889 1724,-830 1724,-830 1724,-824 1730,-818 1736,-818 1736,-818 1875,-818 1875,-818 1881,-818 1887,-824 1887,-830 1887,-830 1887,-889 1887,-889 1887,-895 1881,-901 1875,-901\"/>\n",
       "<text text-anchor=\"start\" x=\"1732\" y=\"-885.8\" font-family=\"Helvetica,sans-Serif\" font-size=\"14.00\" fill=\"#000000\">sepal length (cm) ≤ 6.65</text>\n",
       "<text text-anchor=\"start\" x=\"1773.5\" y=\"-870.8\" font-family=\"Helvetica,sans-Serif\" font-size=\"14.00\" fill=\"#000000\">gini = 0.48</text>\n",
       "<text text-anchor=\"start\" x=\"1764.5\" y=\"-855.8\" font-family=\"Helvetica,sans-Serif\" font-size=\"14.00\" fill=\"#000000\">samples = 10</text>\n",
       "<text text-anchor=\"start\" x=\"1758.5\" y=\"-840.8\" font-family=\"Helvetica,sans-Serif\" font-size=\"14.00\" fill=\"#000000\">value = [0, 6, 4]</text>\n",
       "<text text-anchor=\"start\" x=\"1753\" y=\"-825.8\" font-family=\"Helvetica,sans-Serif\" font-size=\"14.00\" fill=\"#000000\">class = versicolor</text>\n",
       "</g>\n",
       "<!-- 53&#45;&gt;71 -->\n",
       "<g id=\"edge71\" class=\"edge\">\n",
       "<title>53&#45;&gt;71</title>\n",
       "<path fill=\"none\" stroke=\"#000000\" d=\"M1652.0321,-937.2135C1672.2406,-926.9803 1694.02,-915.9516 1714.6434,-905.5082\"/>\n",
       "<polygon fill=\"#000000\" stroke=\"#000000\" points=\"1716.3741,-908.5551 1723.7143,-900.9149 1713.2117,-902.3101 1716.3741,-908.5551\"/>\n",
       "</g>\n",
       "<!-- 55 -->\n",
       "<g id=\"node56\" class=\"node\">\n",
       "<title>55</title>\n",
       "<path fill=\"#39e581\" stroke=\"#000000\" d=\"M1539,-774.5C1539,-774.5 1442,-774.5 1442,-774.5 1436,-774.5 1430,-768.5 1430,-762.5 1430,-762.5 1430,-718.5 1430,-718.5 1430,-712.5 1436,-706.5 1442,-706.5 1442,-706.5 1539,-706.5 1539,-706.5 1545,-706.5 1551,-712.5 1551,-718.5 1551,-718.5 1551,-762.5 1551,-762.5 1551,-768.5 1545,-774.5 1539,-774.5\"/>\n",
       "<text text-anchor=\"start\" x=\"1462.5\" y=\"-759.3\" font-family=\"Helvetica,sans-Serif\" font-size=\"14.00\" fill=\"#000000\">gini = 0.0</text>\n",
       "<text text-anchor=\"start\" x=\"1453\" y=\"-744.3\" font-family=\"Helvetica,sans-Serif\" font-size=\"14.00\" fill=\"#000000\">samples = 1</text>\n",
       "<text text-anchor=\"start\" x=\"1443.5\" y=\"-729.3\" font-family=\"Helvetica,sans-Serif\" font-size=\"14.00\" fill=\"#000000\">value = [0, 1, 0]</text>\n",
       "<text text-anchor=\"start\" x=\"1438\" y=\"-714.3\" font-family=\"Helvetica,sans-Serif\" font-size=\"14.00\" fill=\"#000000\">class = versicolor</text>\n",
       "</g>\n",
       "<!-- 54&#45;&gt;55 -->\n",
       "<g id=\"edge55\" class=\"edge\">\n",
       "<title>54&#45;&gt;55</title>\n",
       "<path fill=\"none\" stroke=\"#000000\" d=\"M1542.5199,-817.8796C1534.9797,-806.6636 1526.8113,-794.5131 1519.2309,-783.2372\"/>\n",
       "<polygon fill=\"#000000\" stroke=\"#000000\" points=\"1522.0527,-781.1612 1513.5689,-774.8149 1516.2434,-785.0667 1522.0527,-781.1612\"/>\n",
       "</g>\n",
       "<!-- 56 -->\n",
       "<g id=\"node57\" class=\"node\">\n",
       "<title>56</title>\n",
       "<path fill=\"#8139e5\" fill-opacity=\"0.615686\" stroke=\"#000000\" d=\"M1715.5,-782C1715.5,-782 1581.5,-782 1581.5,-782 1575.5,-782 1569.5,-776 1569.5,-770 1569.5,-770 1569.5,-711 1569.5,-711 1569.5,-705 1575.5,-699 1581.5,-699 1581.5,-699 1715.5,-699 1715.5,-699 1721.5,-699 1727.5,-705 1727.5,-711 1727.5,-711 1727.5,-770 1727.5,-770 1727.5,-776 1721.5,-782 1715.5,-782\"/>\n",
       "<text text-anchor=\"start\" x=\"1577.5\" y=\"-766.8\" font-family=\"Helvetica,sans-Serif\" font-size=\"14.00\" fill=\"#000000\">sepal width (cm) ≤ 2.85</text>\n",
       "<text text-anchor=\"start\" x=\"1613\" y=\"-751.8\" font-family=\"Helvetica,sans-Serif\" font-size=\"14.00\" fill=\"#000000\">gini = 0.401</text>\n",
       "<text text-anchor=\"start\" x=\"1607.5\" y=\"-736.8\" font-family=\"Helvetica,sans-Serif\" font-size=\"14.00\" fill=\"#000000\">samples = 18</text>\n",
       "<text text-anchor=\"start\" x=\"1598\" y=\"-721.8\" font-family=\"Helvetica,sans-Serif\" font-size=\"14.00\" fill=\"#000000\">value = [0, 5, 13]</text>\n",
       "<text text-anchor=\"start\" x=\"1600\" y=\"-706.8\" font-family=\"Helvetica,sans-Serif\" font-size=\"14.00\" fill=\"#000000\">class = virginica</text>\n",
       "</g>\n",
       "<!-- 54&#45;&gt;56 -->\n",
       "<g id=\"edge56\" class=\"edge\">\n",
       "<title>54&#45;&gt;56</title>\n",
       "<path fill=\"none\" stroke=\"#000000\" d=\"M1597.7806,-817.8796C1603.5068,-809.1434 1609.6046,-799.8404 1615.5137,-790.8253\"/>\n",
       "<polygon fill=\"#000000\" stroke=\"#000000\" points=\"1618.5482,-792.5803 1621.1029,-782.2981 1612.6937,-788.7429 1618.5482,-792.5803\"/>\n",
       "</g>\n",
       "<!-- 57 -->\n",
       "<g id=\"node58\" class=\"node\">\n",
       "<title>57</title>\n",
       "<path fill=\"#8139e5\" fill-opacity=\"0.831373\" stroke=\"#000000\" d=\"M1660,-663C1660,-663 1521,-663 1521,-663 1515,-663 1509,-657 1509,-651 1509,-651 1509,-592 1509,-592 1509,-586 1515,-580 1521,-580 1521,-580 1660,-580 1660,-580 1666,-580 1672,-586 1672,-592 1672,-592 1672,-651 1672,-651 1672,-657 1666,-663 1660,-663\"/>\n",
       "<text text-anchor=\"start\" x=\"1517\" y=\"-647.8\" font-family=\"Helvetica,sans-Serif\" font-size=\"14.00\" fill=\"#000000\">sepal length (cm) ≤ 6.45</text>\n",
       "<text text-anchor=\"start\" x=\"1555\" y=\"-632.8\" font-family=\"Helvetica,sans-Serif\" font-size=\"14.00\" fill=\"#000000\">gini = 0.245</text>\n",
       "<text text-anchor=\"start\" x=\"1553\" y=\"-617.8\" font-family=\"Helvetica,sans-Serif\" font-size=\"14.00\" fill=\"#000000\">samples = 7</text>\n",
       "<text text-anchor=\"start\" x=\"1543.5\" y=\"-602.8\" font-family=\"Helvetica,sans-Serif\" font-size=\"14.00\" fill=\"#000000\">value = [0, 1, 6]</text>\n",
       "<text text-anchor=\"start\" x=\"1542\" y=\"-587.8\" font-family=\"Helvetica,sans-Serif\" font-size=\"14.00\" fill=\"#000000\">class = virginica</text>\n",
       "</g>\n",
       "<!-- 56&#45;&gt;57 -->\n",
       "<g id=\"edge57\" class=\"edge\">\n",
       "<title>56&#45;&gt;57</title>\n",
       "<path fill=\"none\" stroke=\"#000000\" d=\"M1628.2144,-698.8796C1624.0443,-690.3236 1619.6091,-681.2238 1615.3003,-672.3833\"/>\n",
       "<polygon fill=\"#000000\" stroke=\"#000000\" points=\"1618.3997,-670.7538 1610.8722,-663.2981 1612.1073,-673.8207 1618.3997,-670.7538\"/>\n",
       "</g>\n",
       "<!-- 60 -->\n",
       "<g id=\"node61\" class=\"node\">\n",
       "<title>60</title>\n",
       "<path fill=\"#8139e5\" fill-opacity=\"0.427451\" stroke=\"#000000\" d=\"M1836.5,-663C1836.5,-663 1702.5,-663 1702.5,-663 1696.5,-663 1690.5,-657 1690.5,-651 1690.5,-651 1690.5,-592 1690.5,-592 1690.5,-586 1696.5,-580 1702.5,-580 1702.5,-580 1836.5,-580 1836.5,-580 1842.5,-580 1848.5,-586 1848.5,-592 1848.5,-592 1848.5,-651 1848.5,-651 1848.5,-657 1842.5,-663 1836.5,-663\"/>\n",
       "<text text-anchor=\"start\" x=\"1698.5\" y=\"-647.8\" font-family=\"Helvetica,sans-Serif\" font-size=\"14.00\" fill=\"#000000\">sepal width (cm) ≤ 2.95</text>\n",
       "<text text-anchor=\"start\" x=\"1734\" y=\"-632.8\" font-family=\"Helvetica,sans-Serif\" font-size=\"14.00\" fill=\"#000000\">gini = 0.463</text>\n",
       "<text text-anchor=\"start\" x=\"1728.5\" y=\"-617.8\" font-family=\"Helvetica,sans-Serif\" font-size=\"14.00\" fill=\"#000000\">samples = 11</text>\n",
       "<text text-anchor=\"start\" x=\"1722.5\" y=\"-602.8\" font-family=\"Helvetica,sans-Serif\" font-size=\"14.00\" fill=\"#000000\">value = [0, 4, 7]</text>\n",
       "<text text-anchor=\"start\" x=\"1721\" y=\"-587.8\" font-family=\"Helvetica,sans-Serif\" font-size=\"14.00\" fill=\"#000000\">class = virginica</text>\n",
       "</g>\n",
       "<!-- 56&#45;&gt;60 -->\n",
       "<g id=\"edge60\" class=\"edge\">\n",
       "<title>56&#45;&gt;60</title>\n",
       "<path fill=\"none\" stroke=\"#000000\" d=\"M1690.8199,-698.8796C1700.1608,-689.6931 1710.139,-679.8798 1719.744,-670.4336\"/>\n",
       "<polygon fill=\"#000000\" stroke=\"#000000\" points=\"1722.3238,-672.8054 1726.9994,-663.2981 1717.4155,-667.8146 1722.3238,-672.8054\"/>\n",
       "</g>\n",
       "<!-- 58 -->\n",
       "<g id=\"node59\" class=\"node\">\n",
       "<title>58</title>\n",
       "<path fill=\"#8139e5\" stroke=\"#000000\" d=\"M1512,-536.5C1512,-536.5 1423,-536.5 1423,-536.5 1417,-536.5 1411,-530.5 1411,-524.5 1411,-524.5 1411,-480.5 1411,-480.5 1411,-474.5 1417,-468.5 1423,-468.5 1423,-468.5 1512,-468.5 1512,-468.5 1518,-468.5 1524,-474.5 1524,-480.5 1524,-480.5 1524,-524.5 1524,-524.5 1524,-530.5 1518,-536.5 1512,-536.5\"/>\n",
       "<text text-anchor=\"start\" x=\"1439.5\" y=\"-521.3\" font-family=\"Helvetica,sans-Serif\" font-size=\"14.00\" fill=\"#000000\">gini = 0.0</text>\n",
       "<text text-anchor=\"start\" x=\"1430\" y=\"-506.3\" font-family=\"Helvetica,sans-Serif\" font-size=\"14.00\" fill=\"#000000\">samples = 6</text>\n",
       "<text text-anchor=\"start\" x=\"1420.5\" y=\"-491.3\" font-family=\"Helvetica,sans-Serif\" font-size=\"14.00\" fill=\"#000000\">value = [0, 0, 6]</text>\n",
       "<text text-anchor=\"start\" x=\"1419\" y=\"-476.3\" font-family=\"Helvetica,sans-Serif\" font-size=\"14.00\" fill=\"#000000\">class = virginica</text>\n",
       "</g>\n",
       "<!-- 57&#45;&gt;58 -->\n",
       "<g id=\"edge58\" class=\"edge\">\n",
       "<title>57&#45;&gt;58</title>\n",
       "<path fill=\"none\" stroke=\"#000000\" d=\"M1547.4806,-579.8796C1535.4329,-568.2237 1522.3422,-555.5587 1510.3069,-543.9148\"/>\n",
       "<polygon fill=\"#000000\" stroke=\"#000000\" points=\"1512.589,-541.2528 1502.9684,-536.8149 1507.7217,-546.2837 1512.589,-541.2528\"/>\n",
       "</g>\n",
       "<!-- 59 -->\n",
       "<g id=\"node60\" class=\"node\">\n",
       "<title>59</title>\n",
       "<path fill=\"#39e581\" stroke=\"#000000\" d=\"M1651,-536.5C1651,-536.5 1554,-536.5 1554,-536.5 1548,-536.5 1542,-530.5 1542,-524.5 1542,-524.5 1542,-480.5 1542,-480.5 1542,-474.5 1548,-468.5 1554,-468.5 1554,-468.5 1651,-468.5 1651,-468.5 1657,-468.5 1663,-474.5 1663,-480.5 1663,-480.5 1663,-524.5 1663,-524.5 1663,-530.5 1657,-536.5 1651,-536.5\"/>\n",
       "<text text-anchor=\"start\" x=\"1574.5\" y=\"-521.3\" font-family=\"Helvetica,sans-Serif\" font-size=\"14.00\" fill=\"#000000\">gini = 0.0</text>\n",
       "<text text-anchor=\"start\" x=\"1565\" y=\"-506.3\" font-family=\"Helvetica,sans-Serif\" font-size=\"14.00\" fill=\"#000000\">samples = 1</text>\n",
       "<text text-anchor=\"start\" x=\"1555.5\" y=\"-491.3\" font-family=\"Helvetica,sans-Serif\" font-size=\"14.00\" fill=\"#000000\">value = [0, 1, 0]</text>\n",
       "<text text-anchor=\"start\" x=\"1550\" y=\"-476.3\" font-family=\"Helvetica,sans-Serif\" font-size=\"14.00\" fill=\"#000000\">class = versicolor</text>\n",
       "</g>\n",
       "<!-- 57&#45;&gt;59 -->\n",
       "<g id=\"edge59\" class=\"edge\">\n",
       "<title>57&#45;&gt;59</title>\n",
       "<path fill=\"none\" stroke=\"#000000\" d=\"M1594.697,-579.8796C1595.7726,-569.2134 1596.9334,-557.7021 1598.0225,-546.9015\"/>\n",
       "<polygon fill=\"#000000\" stroke=\"#000000\" points=\"1601.5186,-547.1157 1599.0397,-536.8149 1594.5539,-546.4133 1601.5186,-547.1157\"/>\n",
       "</g>\n",
       "<!-- 61 -->\n",
       "<g id=\"node62\" class=\"node\">\n",
       "<title>61</title>\n",
       "<path fill=\"#39e581\" stroke=\"#000000\" d=\"M1792,-536.5C1792,-536.5 1695,-536.5 1695,-536.5 1689,-536.5 1683,-530.5 1683,-524.5 1683,-524.5 1683,-480.5 1683,-480.5 1683,-474.5 1689,-468.5 1695,-468.5 1695,-468.5 1792,-468.5 1792,-468.5 1798,-468.5 1804,-474.5 1804,-480.5 1804,-480.5 1804,-524.5 1804,-524.5 1804,-530.5 1798,-536.5 1792,-536.5\"/>\n",
       "<text text-anchor=\"start\" x=\"1715.5\" y=\"-521.3\" font-family=\"Helvetica,sans-Serif\" font-size=\"14.00\" fill=\"#000000\">gini = 0.0</text>\n",
       "<text text-anchor=\"start\" x=\"1706\" y=\"-506.3\" font-family=\"Helvetica,sans-Serif\" font-size=\"14.00\" fill=\"#000000\">samples = 2</text>\n",
       "<text text-anchor=\"start\" x=\"1696.5\" y=\"-491.3\" font-family=\"Helvetica,sans-Serif\" font-size=\"14.00\" fill=\"#000000\">value = [0, 2, 0]</text>\n",
       "<text text-anchor=\"start\" x=\"1691\" y=\"-476.3\" font-family=\"Helvetica,sans-Serif\" font-size=\"14.00\" fill=\"#000000\">class = versicolor</text>\n",
       "</g>\n",
       "<!-- 60&#45;&gt;61 -->\n",
       "<g id=\"edge61\" class=\"edge\">\n",
       "<title>60&#45;&gt;61</title>\n",
       "<path fill=\"none\" stroke=\"#000000\" d=\"M1760.4065,-579.8796C1758.076,-569.2134 1755.561,-557.7021 1753.2012,-546.9015\"/>\n",
       "<polygon fill=\"#000000\" stroke=\"#000000\" points=\"1756.5513,-545.8374 1750.9974,-536.8149 1749.7126,-547.3316 1756.5513,-545.8374\"/>\n",
       "</g>\n",
       "<!-- 62 -->\n",
       "<g id=\"node63\" class=\"node\">\n",
       "<title>62</title>\n",
       "<path fill=\"#8139e5\" fill-opacity=\"0.713725\" stroke=\"#000000\" d=\"M1973,-544C1973,-544 1834,-544 1834,-544 1828,-544 1822,-538 1822,-532 1822,-532 1822,-473 1822,-473 1822,-467 1828,-461 1834,-461 1834,-461 1973,-461 1973,-461 1979,-461 1985,-467 1985,-473 1985,-473 1985,-532 1985,-532 1985,-538 1979,-544 1973,-544\"/>\n",
       "<text text-anchor=\"start\" x=\"1830\" y=\"-528.8\" font-family=\"Helvetica,sans-Serif\" font-size=\"14.00\" fill=\"#000000\">sepal length (cm) ≤ 6.45</text>\n",
       "<text text-anchor=\"start\" x=\"1868\" y=\"-513.8\" font-family=\"Helvetica,sans-Serif\" font-size=\"14.00\" fill=\"#000000\">gini = 0.346</text>\n",
       "<text text-anchor=\"start\" x=\"1866\" y=\"-498.8\" font-family=\"Helvetica,sans-Serif\" font-size=\"14.00\" fill=\"#000000\">samples = 9</text>\n",
       "<text text-anchor=\"start\" x=\"1856.5\" y=\"-483.8\" font-family=\"Helvetica,sans-Serif\" font-size=\"14.00\" fill=\"#000000\">value = [0, 2, 7]</text>\n",
       "<text text-anchor=\"start\" x=\"1855\" y=\"-468.8\" font-family=\"Helvetica,sans-Serif\" font-size=\"14.00\" fill=\"#000000\">class = virginica</text>\n",
       "</g>\n",
       "<!-- 60&#45;&gt;62 -->\n",
       "<g id=\"edge62\" class=\"edge\">\n",
       "<title>60&#45;&gt;62</title>\n",
       "<path fill=\"none\" stroke=\"#000000\" d=\"M1816.3667,-579.8796C1826.8125,-570.6031 1837.9781,-560.6874 1848.711,-551.1559\"/>\n",
       "<polygon fill=\"#000000\" stroke=\"#000000\" points=\"1851.2801,-553.5553 1856.4333,-544.2981 1846.632,-548.3213 1851.2801,-553.5553\"/>\n",
       "</g>\n",
       "<!-- 63 -->\n",
       "<g id=\"node64\" class=\"node\">\n",
       "<title>63</title>\n",
       "<path fill=\"#8139e5\" fill-opacity=\"0.600000\" stroke=\"#000000\" d=\"M1824.5,-425C1824.5,-425 1690.5,-425 1690.5,-425 1684.5,-425 1678.5,-419 1678.5,-413 1678.5,-413 1678.5,-354 1678.5,-354 1678.5,-348 1684.5,-342 1690.5,-342 1690.5,-342 1824.5,-342 1824.5,-342 1830.5,-342 1836.5,-348 1836.5,-354 1836.5,-354 1836.5,-413 1836.5,-413 1836.5,-419 1830.5,-425 1824.5,-425\"/>\n",
       "<text text-anchor=\"start\" x=\"1686.5\" y=\"-409.8\" font-family=\"Helvetica,sans-Serif\" font-size=\"14.00\" fill=\"#000000\">sepal width (cm) ≤ 3.35</text>\n",
       "<text text-anchor=\"start\" x=\"1722\" y=\"-394.8\" font-family=\"Helvetica,sans-Serif\" font-size=\"14.00\" fill=\"#000000\">gini = 0.408</text>\n",
       "<text text-anchor=\"start\" x=\"1720\" y=\"-379.8\" font-family=\"Helvetica,sans-Serif\" font-size=\"14.00\" fill=\"#000000\">samples = 7</text>\n",
       "<text text-anchor=\"start\" x=\"1710.5\" y=\"-364.8\" font-family=\"Helvetica,sans-Serif\" font-size=\"14.00\" fill=\"#000000\">value = [0, 2, 5]</text>\n",
       "<text text-anchor=\"start\" x=\"1709\" y=\"-349.8\" font-family=\"Helvetica,sans-Serif\" font-size=\"14.00\" fill=\"#000000\">class = virginica</text>\n",
       "</g>\n",
       "<!-- 62&#45;&gt;63 -->\n",
       "<g id=\"edge63\" class=\"edge\">\n",
       "<title>62&#45;&gt;63</title>\n",
       "<path fill=\"none\" stroke=\"#000000\" d=\"M1852.4363,-460.8796C1840.9445,-451.513 1828.6532,-441.4948 1816.855,-431.8784\"/>\n",
       "<polygon fill=\"#000000\" stroke=\"#000000\" points=\"1818.7444,-428.903 1808.7817,-425.2981 1814.3218,-434.329 1818.7444,-428.903\"/>\n",
       "</g>\n",
       "<!-- 70 -->\n",
       "<g id=\"node71\" class=\"node\">\n",
       "<title>70</title>\n",
       "<path fill=\"#8139e5\" stroke=\"#000000\" d=\"M1956,-417.5C1956,-417.5 1867,-417.5 1867,-417.5 1861,-417.5 1855,-411.5 1855,-405.5 1855,-405.5 1855,-361.5 1855,-361.5 1855,-355.5 1861,-349.5 1867,-349.5 1867,-349.5 1956,-349.5 1956,-349.5 1962,-349.5 1968,-355.5 1968,-361.5 1968,-361.5 1968,-405.5 1968,-405.5 1968,-411.5 1962,-417.5 1956,-417.5\"/>\n",
       "<text text-anchor=\"start\" x=\"1883.5\" y=\"-402.3\" font-family=\"Helvetica,sans-Serif\" font-size=\"14.00\" fill=\"#000000\">gini = 0.0</text>\n",
       "<text text-anchor=\"start\" x=\"1874\" y=\"-387.3\" font-family=\"Helvetica,sans-Serif\" font-size=\"14.00\" fill=\"#000000\">samples = 2</text>\n",
       "<text text-anchor=\"start\" x=\"1864.5\" y=\"-372.3\" font-family=\"Helvetica,sans-Serif\" font-size=\"14.00\" fill=\"#000000\">value = [0, 0, 2]</text>\n",
       "<text text-anchor=\"start\" x=\"1863\" y=\"-357.3\" font-family=\"Helvetica,sans-Serif\" font-size=\"14.00\" fill=\"#000000\">class = virginica</text>\n",
       "</g>\n",
       "<!-- 62&#45;&gt;70 -->\n",
       "<g id=\"edge70\" class=\"edge\">\n",
       "<title>62&#45;&gt;70</title>\n",
       "<path fill=\"none\" stroke=\"#000000\" d=\"M1906.298,-460.8796C1907.0151,-450.2134 1907.7889,-438.7021 1908.515,-427.9015\"/>\n",
       "<polygon fill=\"#000000\" stroke=\"#000000\" points=\"1912.0144,-428.0272 1909.1931,-417.8149 1905.0301,-427.5576 1912.0144,-428.0272\"/>\n",
       "</g>\n",
       "<!-- 64 -->\n",
       "<g id=\"node65\" class=\"node\">\n",
       "<title>64</title>\n",
       "<path fill=\"#8139e5\" fill-opacity=\"0.333333\" stroke=\"#000000\" d=\"M1752.5,-306C1752.5,-306 1618.5,-306 1618.5,-306 1612.5,-306 1606.5,-300 1606.5,-294 1606.5,-294 1606.5,-235 1606.5,-235 1606.5,-229 1612.5,-223 1618.5,-223 1618.5,-223 1752.5,-223 1752.5,-223 1758.5,-223 1764.5,-229 1764.5,-235 1764.5,-235 1764.5,-294 1764.5,-294 1764.5,-300 1758.5,-306 1752.5,-306\"/>\n",
       "<text text-anchor=\"start\" x=\"1614.5\" y=\"-290.8\" font-family=\"Helvetica,sans-Serif\" font-size=\"14.00\" fill=\"#000000\">sepal width (cm) ≤ 3.15</text>\n",
       "<text text-anchor=\"start\" x=\"1653.5\" y=\"-275.8\" font-family=\"Helvetica,sans-Serif\" font-size=\"14.00\" fill=\"#000000\">gini = 0.48</text>\n",
       "<text text-anchor=\"start\" x=\"1648\" y=\"-260.8\" font-family=\"Helvetica,sans-Serif\" font-size=\"14.00\" fill=\"#000000\">samples = 5</text>\n",
       "<text text-anchor=\"start\" x=\"1638.5\" y=\"-245.8\" font-family=\"Helvetica,sans-Serif\" font-size=\"14.00\" fill=\"#000000\">value = [0, 2, 3]</text>\n",
       "<text text-anchor=\"start\" x=\"1637\" y=\"-230.8\" font-family=\"Helvetica,sans-Serif\" font-size=\"14.00\" fill=\"#000000\">class = virginica</text>\n",
       "</g>\n",
       "<!-- 63&#45;&gt;64 -->\n",
       "<g id=\"edge64\" class=\"edge\">\n",
       "<title>63&#45;&gt;64</title>\n",
       "<path fill=\"none\" stroke=\"#000000\" d=\"M1732.3179,-341.8796C1727.0867,-333.2335 1721.5195,-324.0322 1716.1177,-315.1042\"/>\n",
       "<polygon fill=\"#000000\" stroke=\"#000000\" points=\"1718.9608,-313.0421 1710.7896,-306.2981 1712.9717,-316.6658 1718.9608,-313.0421\"/>\n",
       "</g>\n",
       "<!-- 69 -->\n",
       "<g id=\"node70\" class=\"node\">\n",
       "<title>69</title>\n",
       "<path fill=\"#8139e5\" stroke=\"#000000\" d=\"M1884,-298.5C1884,-298.5 1795,-298.5 1795,-298.5 1789,-298.5 1783,-292.5 1783,-286.5 1783,-286.5 1783,-242.5 1783,-242.5 1783,-236.5 1789,-230.5 1795,-230.5 1795,-230.5 1884,-230.5 1884,-230.5 1890,-230.5 1896,-236.5 1896,-242.5 1896,-242.5 1896,-286.5 1896,-286.5 1896,-292.5 1890,-298.5 1884,-298.5\"/>\n",
       "<text text-anchor=\"start\" x=\"1811.5\" y=\"-283.3\" font-family=\"Helvetica,sans-Serif\" font-size=\"14.00\" fill=\"#000000\">gini = 0.0</text>\n",
       "<text text-anchor=\"start\" x=\"1802\" y=\"-268.3\" font-family=\"Helvetica,sans-Serif\" font-size=\"14.00\" fill=\"#000000\">samples = 2</text>\n",
       "<text text-anchor=\"start\" x=\"1792.5\" y=\"-253.3\" font-family=\"Helvetica,sans-Serif\" font-size=\"14.00\" fill=\"#000000\">value = [0, 0, 2]</text>\n",
       "<text text-anchor=\"start\" x=\"1791\" y=\"-238.3\" font-family=\"Helvetica,sans-Serif\" font-size=\"14.00\" fill=\"#000000\">class = virginica</text>\n",
       "</g>\n",
       "<!-- 63&#45;&gt;69 -->\n",
       "<g id=\"edge69\" class=\"edge\">\n",
       "<title>63&#45;&gt;69</title>\n",
       "<path fill=\"none\" stroke=\"#000000\" d=\"M1786.1796,-341.8796C1793.9083,-330.6636 1802.2809,-318.5131 1810.0508,-307.2372\"/>\n",
       "<polygon fill=\"#000000\" stroke=\"#000000\" points=\"1813.0623,-309.0353 1815.8544,-298.8149 1807.2982,-305.0634 1813.0623,-309.0353\"/>\n",
       "</g>\n",
       "<!-- 65 -->\n",
       "<g id=\"node66\" class=\"node\">\n",
       "<title>65</title>\n",
       "<path fill=\"#8139e5\" stroke=\"#000000\" d=\"M1653,-179.5C1653,-179.5 1564,-179.5 1564,-179.5 1558,-179.5 1552,-173.5 1552,-167.5 1552,-167.5 1552,-123.5 1552,-123.5 1552,-117.5 1558,-111.5 1564,-111.5 1564,-111.5 1653,-111.5 1653,-111.5 1659,-111.5 1665,-117.5 1665,-123.5 1665,-123.5 1665,-167.5 1665,-167.5 1665,-173.5 1659,-179.5 1653,-179.5\"/>\n",
       "<text text-anchor=\"start\" x=\"1580.5\" y=\"-164.3\" font-family=\"Helvetica,sans-Serif\" font-size=\"14.00\" fill=\"#000000\">gini = 0.0</text>\n",
       "<text text-anchor=\"start\" x=\"1571\" y=\"-149.3\" font-family=\"Helvetica,sans-Serif\" font-size=\"14.00\" fill=\"#000000\">samples = 1</text>\n",
       "<text text-anchor=\"start\" x=\"1561.5\" y=\"-134.3\" font-family=\"Helvetica,sans-Serif\" font-size=\"14.00\" fill=\"#000000\">value = [0, 0, 1]</text>\n",
       "<text text-anchor=\"start\" x=\"1560\" y=\"-119.3\" font-family=\"Helvetica,sans-Serif\" font-size=\"14.00\" fill=\"#000000\">class = virginica</text>\n",
       "</g>\n",
       "<!-- 64&#45;&gt;65 -->\n",
       "<g id=\"edge65\" class=\"edge\">\n",
       "<title>64&#45;&gt;65</title>\n",
       "<path fill=\"none\" stroke=\"#000000\" d=\"M1658.5691,-222.8796C1651.3117,-211.6636 1643.4497,-199.5131 1636.1535,-188.2372\"/>\n",
       "<polygon fill=\"#000000\" stroke=\"#000000\" points=\"1639.0748,-186.3093 1630.7038,-179.8149 1633.1978,-190.112 1639.0748,-186.3093\"/>\n",
       "</g>\n",
       "<!-- 66 -->\n",
       "<g id=\"node67\" class=\"node\">\n",
       "<title>66</title>\n",
       "<path fill=\"transparent\" stroke=\"#000000\" d=\"M1829.5,-187C1829.5,-187 1695.5,-187 1695.5,-187 1689.5,-187 1683.5,-181 1683.5,-175 1683.5,-175 1683.5,-116 1683.5,-116 1683.5,-110 1689.5,-104 1695.5,-104 1695.5,-104 1829.5,-104 1829.5,-104 1835.5,-104 1841.5,-110 1841.5,-116 1841.5,-116 1841.5,-175 1841.5,-175 1841.5,-181 1835.5,-187 1829.5,-187\"/>\n",
       "<text text-anchor=\"start\" x=\"1691.5\" y=\"-171.8\" font-family=\"Helvetica,sans-Serif\" font-size=\"14.00\" fill=\"#000000\">sepal width (cm) ≤ 3.25</text>\n",
       "<text text-anchor=\"start\" x=\"1734.5\" y=\"-156.8\" font-family=\"Helvetica,sans-Serif\" font-size=\"14.00\" fill=\"#000000\">gini = 0.5</text>\n",
       "<text text-anchor=\"start\" x=\"1725\" y=\"-141.8\" font-family=\"Helvetica,sans-Serif\" font-size=\"14.00\" fill=\"#000000\">samples = 4</text>\n",
       "<text text-anchor=\"start\" x=\"1715.5\" y=\"-126.8\" font-family=\"Helvetica,sans-Serif\" font-size=\"14.00\" fill=\"#000000\">value = [0, 2, 2]</text>\n",
       "<text text-anchor=\"start\" x=\"1710\" y=\"-111.8\" font-family=\"Helvetica,sans-Serif\" font-size=\"14.00\" fill=\"#000000\">class = versicolor</text>\n",
       "</g>\n",
       "<!-- 64&#45;&gt;66 -->\n",
       "<g id=\"edge66\" class=\"edge\">\n",
       "<title>64&#45;&gt;66</title>\n",
       "<path fill=\"none\" stroke=\"#000000\" d=\"M1712.4309,-222.8796C1718.0837,-214.1434 1724.1033,-204.8404 1729.9366,-195.8253\"/>\n",
       "<polygon fill=\"#000000\" stroke=\"#000000\" points=\"1732.9601,-197.5952 1735.4542,-187.2981 1727.0831,-193.7924 1732.9601,-197.5952\"/>\n",
       "</g>\n",
       "<!-- 67 -->\n",
       "<g id=\"node68\" class=\"node\">\n",
       "<title>67</title>\n",
       "<path fill=\"transparent\" stroke=\"#000000\" d=\"M1741,-68C1741,-68 1644,-68 1644,-68 1638,-68 1632,-62 1632,-56 1632,-56 1632,-12 1632,-12 1632,-6 1638,0 1644,0 1644,0 1741,0 1741,0 1747,0 1753,-6 1753,-12 1753,-12 1753,-56 1753,-56 1753,-62 1747,-68 1741,-68\"/>\n",
       "<text text-anchor=\"start\" x=\"1664.5\" y=\"-52.8\" font-family=\"Helvetica,sans-Serif\" font-size=\"14.00\" fill=\"#000000\">gini = 0.5</text>\n",
       "<text text-anchor=\"start\" x=\"1655\" y=\"-37.8\" font-family=\"Helvetica,sans-Serif\" font-size=\"14.00\" fill=\"#000000\">samples = 2</text>\n",
       "<text text-anchor=\"start\" x=\"1645.5\" y=\"-22.8\" font-family=\"Helvetica,sans-Serif\" font-size=\"14.00\" fill=\"#000000\">value = [0, 1, 1]</text>\n",
       "<text text-anchor=\"start\" x=\"1640\" y=\"-7.8\" font-family=\"Helvetica,sans-Serif\" font-size=\"14.00\" fill=\"#000000\">class = versicolor</text>\n",
       "</g>\n",
       "<!-- 66&#45;&gt;67 -->\n",
       "<g id=\"edge67\" class=\"edge\">\n",
       "<title>66&#45;&gt;67</title>\n",
       "<path fill=\"none\" stroke=\"#000000\" d=\"M1736.4346,-103.9815C1730.8955,-95.1585 1725.0364,-85.8258 1719.4645,-76.9506\"/>\n",
       "<polygon fill=\"#000000\" stroke=\"#000000\" points=\"1722.2922,-74.872 1714.0108,-68.2637 1716.3637,-78.594 1722.2922,-74.872\"/>\n",
       "</g>\n",
       "<!-- 68 -->\n",
       "<g id=\"node69\" class=\"node\">\n",
       "<title>68</title>\n",
       "<path fill=\"transparent\" stroke=\"#000000\" d=\"M1880,-68C1880,-68 1783,-68 1783,-68 1777,-68 1771,-62 1771,-56 1771,-56 1771,-12 1771,-12 1771,-6 1777,0 1783,0 1783,0 1880,0 1880,0 1886,0 1892,-6 1892,-12 1892,-12 1892,-56 1892,-56 1892,-62 1886,-68 1880,-68\"/>\n",
       "<text text-anchor=\"start\" x=\"1803.5\" y=\"-52.8\" font-family=\"Helvetica,sans-Serif\" font-size=\"14.00\" fill=\"#000000\">gini = 0.5</text>\n",
       "<text text-anchor=\"start\" x=\"1794\" y=\"-37.8\" font-family=\"Helvetica,sans-Serif\" font-size=\"14.00\" fill=\"#000000\">samples = 2</text>\n",
       "<text text-anchor=\"start\" x=\"1784.5\" y=\"-22.8\" font-family=\"Helvetica,sans-Serif\" font-size=\"14.00\" fill=\"#000000\">value = [0, 1, 1]</text>\n",
       "<text text-anchor=\"start\" x=\"1779\" y=\"-7.8\" font-family=\"Helvetica,sans-Serif\" font-size=\"14.00\" fill=\"#000000\">class = versicolor</text>\n",
       "</g>\n",
       "<!-- 66&#45;&gt;68 -->\n",
       "<g id=\"edge68\" class=\"edge\">\n",
       "<title>66&#45;&gt;68</title>\n",
       "<path fill=\"none\" stroke=\"#000000\" d=\"M1788.1931,-103.9815C1793.6531,-95.1585 1799.4284,-85.8258 1804.9207,-76.9506\"/>\n",
       "<polygon fill=\"#000000\" stroke=\"#000000\" points=\"1808.0104,-78.609 1810.2965,-68.2637 1802.058,-74.9254 1808.0104,-78.609\"/>\n",
       "</g>\n",
       "<!-- 72 -->\n",
       "<g id=\"node73\" class=\"node\">\n",
       "<title>72</title>\n",
       "<path fill=\"#39e581\" stroke=\"#000000\" d=\"M1854,-774.5C1854,-774.5 1757,-774.5 1757,-774.5 1751,-774.5 1745,-768.5 1745,-762.5 1745,-762.5 1745,-718.5 1745,-718.5 1745,-712.5 1751,-706.5 1757,-706.5 1757,-706.5 1854,-706.5 1854,-706.5 1860,-706.5 1866,-712.5 1866,-718.5 1866,-718.5 1866,-762.5 1866,-762.5 1866,-768.5 1860,-774.5 1854,-774.5\"/>\n",
       "<text text-anchor=\"start\" x=\"1777.5\" y=\"-759.3\" font-family=\"Helvetica,sans-Serif\" font-size=\"14.00\" fill=\"#000000\">gini = 0.0</text>\n",
       "<text text-anchor=\"start\" x=\"1768\" y=\"-744.3\" font-family=\"Helvetica,sans-Serif\" font-size=\"14.00\" fill=\"#000000\">samples = 2</text>\n",
       "<text text-anchor=\"start\" x=\"1758.5\" y=\"-729.3\" font-family=\"Helvetica,sans-Serif\" font-size=\"14.00\" fill=\"#000000\">value = [0, 2, 0]</text>\n",
       "<text text-anchor=\"start\" x=\"1753\" y=\"-714.3\" font-family=\"Helvetica,sans-Serif\" font-size=\"14.00\" fill=\"#000000\">class = versicolor</text>\n",
       "</g>\n",
       "<!-- 71&#45;&gt;72 -->\n",
       "<g id=\"edge72\" class=\"edge\">\n",
       "<title>71&#45;&gt;72</title>\n",
       "<path fill=\"none\" stroke=\"#000000\" d=\"M1805.5,-817.8796C1805.5,-807.2134 1805.5,-795.7021 1805.5,-784.9015\"/>\n",
       "<polygon fill=\"#000000\" stroke=\"#000000\" points=\"1809.0001,-784.8149 1805.5,-774.8149 1802.0001,-784.815 1809.0001,-784.8149\"/>\n",
       "</g>\n",
       "<!-- 73 -->\n",
       "<g id=\"node74\" class=\"node\">\n",
       "<title>73</title>\n",
       "<path fill=\"transparent\" stroke=\"#000000\" d=\"M2030.5,-782C2030.5,-782 1896.5,-782 1896.5,-782 1890.5,-782 1884.5,-776 1884.5,-770 1884.5,-770 1884.5,-711 1884.5,-711 1884.5,-705 1890.5,-699 1896.5,-699 1896.5,-699 2030.5,-699 2030.5,-699 2036.5,-699 2042.5,-705 2042.5,-711 2042.5,-711 2042.5,-770 2042.5,-770 2042.5,-776 2036.5,-782 2030.5,-782\"/>\n",
       "<text text-anchor=\"start\" x=\"1892.5\" y=\"-766.8\" font-family=\"Helvetica,sans-Serif\" font-size=\"14.00\" fill=\"#000000\">sepal width (cm) ≤ 2.65</text>\n",
       "<text text-anchor=\"start\" x=\"1935.5\" y=\"-751.8\" font-family=\"Helvetica,sans-Serif\" font-size=\"14.00\" fill=\"#000000\">gini = 0.5</text>\n",
       "<text text-anchor=\"start\" x=\"1926\" y=\"-736.8\" font-family=\"Helvetica,sans-Serif\" font-size=\"14.00\" fill=\"#000000\">samples = 8</text>\n",
       "<text text-anchor=\"start\" x=\"1916.5\" y=\"-721.8\" font-family=\"Helvetica,sans-Serif\" font-size=\"14.00\" fill=\"#000000\">value = [0, 4, 4]</text>\n",
       "<text text-anchor=\"start\" x=\"1911\" y=\"-706.8\" font-family=\"Helvetica,sans-Serif\" font-size=\"14.00\" fill=\"#000000\">class = versicolor</text>\n",
       "</g>\n",
       "<!-- 71&#45;&gt;73 -->\n",
       "<g id=\"edge73\" class=\"edge\">\n",
       "<title>71&#45;&gt;73</title>\n",
       "<path fill=\"none\" stroke=\"#000000\" d=\"M1860.7607,-817.8796C1873.5099,-808.2774 1887.1683,-797.9903 1900.2291,-788.1534\"/>\n",
       "<polygon fill=\"#000000\" stroke=\"#000000\" points=\"1902.3883,-790.9089 1908.2705,-782.0969 1898.1769,-785.3174 1902.3883,-790.9089\"/>\n",
       "</g>\n",
       "<!-- 74 -->\n",
       "<g id=\"node75\" class=\"node\">\n",
       "<title>74</title>\n",
       "<path fill=\"#8139e5\" stroke=\"#000000\" d=\"M1994,-655.5C1994,-655.5 1905,-655.5 1905,-655.5 1899,-655.5 1893,-649.5 1893,-643.5 1893,-643.5 1893,-599.5 1893,-599.5 1893,-593.5 1899,-587.5 1905,-587.5 1905,-587.5 1994,-587.5 1994,-587.5 2000,-587.5 2006,-593.5 2006,-599.5 2006,-599.5 2006,-643.5 2006,-643.5 2006,-649.5 2000,-655.5 1994,-655.5\"/>\n",
       "<text text-anchor=\"start\" x=\"1921.5\" y=\"-640.3\" font-family=\"Helvetica,sans-Serif\" font-size=\"14.00\" fill=\"#000000\">gini = 0.0</text>\n",
       "<text text-anchor=\"start\" x=\"1912\" y=\"-625.3\" font-family=\"Helvetica,sans-Serif\" font-size=\"14.00\" fill=\"#000000\">samples = 1</text>\n",
       "<text text-anchor=\"start\" x=\"1902.5\" y=\"-610.3\" font-family=\"Helvetica,sans-Serif\" font-size=\"14.00\" fill=\"#000000\">value = [0, 0, 1]</text>\n",
       "<text text-anchor=\"start\" x=\"1901\" y=\"-595.3\" font-family=\"Helvetica,sans-Serif\" font-size=\"14.00\" fill=\"#000000\">class = virginica</text>\n",
       "</g>\n",
       "<!-- 73&#45;&gt;74 -->\n",
       "<g id=\"edge74\" class=\"edge\">\n",
       "<title>73&#45;&gt;74</title>\n",
       "<path fill=\"none\" stroke=\"#000000\" d=\"M1958.6035,-698.8796C1957.3486,-688.2134 1955.9944,-676.7021 1954.7237,-665.9015\"/>\n",
       "<polygon fill=\"#000000\" stroke=\"#000000\" points=\"1958.1816,-665.3375 1953.5371,-655.8149 1951.2295,-666.1554 1958.1816,-665.3375\"/>\n",
       "</g>\n",
       "<!-- 75 -->\n",
       "<g id=\"node76\" class=\"node\">\n",
       "<title>75</title>\n",
       "<path fill=\"#39e581\" fill-opacity=\"0.250980\" stroke=\"#000000\" d=\"M2162.5,-663C2162.5,-663 2036.5,-663 2036.5,-663 2030.5,-663 2024.5,-657 2024.5,-651 2024.5,-651 2024.5,-592 2024.5,-592 2024.5,-586 2030.5,-580 2036.5,-580 2036.5,-580 2162.5,-580 2162.5,-580 2168.5,-580 2174.5,-586 2174.5,-592 2174.5,-592 2174.5,-651 2174.5,-651 2174.5,-657 2168.5,-663 2162.5,-663\"/>\n",
       "<text text-anchor=\"start\" x=\"2032.5\" y=\"-647.8\" font-family=\"Helvetica,sans-Serif\" font-size=\"14.00\" fill=\"#000000\">sepal width (cm) ≤ 3.2</text>\n",
       "<text text-anchor=\"start\" x=\"2067.5\" y=\"-632.8\" font-family=\"Helvetica,sans-Serif\" font-size=\"14.00\" fill=\"#000000\">gini = 0.49</text>\n",
       "<text text-anchor=\"start\" x=\"2062\" y=\"-617.8\" font-family=\"Helvetica,sans-Serif\" font-size=\"14.00\" fill=\"#000000\">samples = 7</text>\n",
       "<text text-anchor=\"start\" x=\"2052.5\" y=\"-602.8\" font-family=\"Helvetica,sans-Serif\" font-size=\"14.00\" fill=\"#000000\">value = [0, 4, 3]</text>\n",
       "<text text-anchor=\"start\" x=\"2047\" y=\"-587.8\" font-family=\"Helvetica,sans-Serif\" font-size=\"14.00\" fill=\"#000000\">class = versicolor</text>\n",
       "</g>\n",
       "<!-- 73&#45;&gt;75 -->\n",
       "<g id=\"edge75\" class=\"edge\">\n",
       "<title>73&#45;&gt;75</title>\n",
       "<path fill=\"none\" stroke=\"#000000\" d=\"M2011.0662,-698.8796C2021.6679,-689.6031 2033.0002,-679.6874 2043.8933,-670.1559\"/>\n",
       "<polygon fill=\"#000000\" stroke=\"#000000\" points=\"2046.5098,-672.5172 2051.7308,-663.2981 2041.9002,-667.2491 2046.5098,-672.5172\"/>\n",
       "</g>\n",
       "<!-- 76 -->\n",
       "<g id=\"node77\" class=\"node\">\n",
       "<title>76</title>\n",
       "<path fill=\"#39e581\" fill-opacity=\"0.498039\" stroke=\"#000000\" d=\"M2150.5,-544C2150.5,-544 2016.5,-544 2016.5,-544 2010.5,-544 2004.5,-538 2004.5,-532 2004.5,-532 2004.5,-473 2004.5,-473 2004.5,-467 2010.5,-461 2016.5,-461 2016.5,-461 2150.5,-461 2150.5,-461 2156.5,-461 2162.5,-467 2162.5,-473 2162.5,-473 2162.5,-532 2162.5,-532 2162.5,-538 2156.5,-544 2150.5,-544\"/>\n",
       "<text text-anchor=\"start\" x=\"2012.5\" y=\"-528.8\" font-family=\"Helvetica,sans-Serif\" font-size=\"14.00\" fill=\"#000000\">sepal width (cm) ≤ 3.05</text>\n",
       "<text text-anchor=\"start\" x=\"2048\" y=\"-513.8\" font-family=\"Helvetica,sans-Serif\" font-size=\"14.00\" fill=\"#000000\">gini = 0.444</text>\n",
       "<text text-anchor=\"start\" x=\"2046\" y=\"-498.8\" font-family=\"Helvetica,sans-Serif\" font-size=\"14.00\" fill=\"#000000\">samples = 6</text>\n",
       "<text text-anchor=\"start\" x=\"2036.5\" y=\"-483.8\" font-family=\"Helvetica,sans-Serif\" font-size=\"14.00\" fill=\"#000000\">value = [0, 4, 2]</text>\n",
       "<text text-anchor=\"start\" x=\"2031\" y=\"-468.8\" font-family=\"Helvetica,sans-Serif\" font-size=\"14.00\" fill=\"#000000\">class = versicolor</text>\n",
       "</g>\n",
       "<!-- 75&#45;&gt;76 -->\n",
       "<g id=\"edge76\" class=\"edge\">\n",
       "<title>75&#45;&gt;76</title>\n",
       "<path fill=\"none\" stroke=\"#000000\" d=\"M2093.904,-579.8796C2092.7899,-571.5938 2091.6073,-562.798 2090.4542,-554.2216\"/>\n",
       "<polygon fill=\"#000000\" stroke=\"#000000\" points=\"2093.9213,-553.7425 2089.1199,-544.2981 2086.9838,-554.6753 2093.9213,-553.7425\"/>\n",
       "</g>\n",
       "<!-- 83 -->\n",
       "<g id=\"node84\" class=\"node\">\n",
       "<title>83</title>\n",
       "<path fill=\"#8139e5\" stroke=\"#000000\" d=\"M2282,-536.5C2282,-536.5 2193,-536.5 2193,-536.5 2187,-536.5 2181,-530.5 2181,-524.5 2181,-524.5 2181,-480.5 2181,-480.5 2181,-474.5 2187,-468.5 2193,-468.5 2193,-468.5 2282,-468.5 2282,-468.5 2288,-468.5 2294,-474.5 2294,-480.5 2294,-480.5 2294,-524.5 2294,-524.5 2294,-530.5 2288,-536.5 2282,-536.5\"/>\n",
       "<text text-anchor=\"start\" x=\"2209.5\" y=\"-521.3\" font-family=\"Helvetica,sans-Serif\" font-size=\"14.00\" fill=\"#000000\">gini = 0.0</text>\n",
       "<text text-anchor=\"start\" x=\"2200\" y=\"-506.3\" font-family=\"Helvetica,sans-Serif\" font-size=\"14.00\" fill=\"#000000\">samples = 1</text>\n",
       "<text text-anchor=\"start\" x=\"2190.5\" y=\"-491.3\" font-family=\"Helvetica,sans-Serif\" font-size=\"14.00\" fill=\"#000000\">value = [0, 0, 1]</text>\n",
       "<text text-anchor=\"start\" x=\"2189\" y=\"-476.3\" font-family=\"Helvetica,sans-Serif\" font-size=\"14.00\" fill=\"#000000\">class = virginica</text>\n",
       "</g>\n",
       "<!-- 75&#45;&gt;83 -->\n",
       "<g id=\"edge83\" class=\"edge\">\n",
       "<title>75&#45;&gt;83</title>\n",
       "<path fill=\"none\" stroke=\"#000000\" d=\"M2147.7657,-579.8796C2161.4101,-568.1138 2176.2469,-555.3197 2189.8546,-543.5855\"/>\n",
       "<polygon fill=\"#000000\" stroke=\"#000000\" points=\"2192.4187,-545.9961 2197.7062,-536.8149 2187.8473,-540.6948 2192.4187,-545.9961\"/>\n",
       "</g>\n",
       "<!-- 77 -->\n",
       "<g id=\"node78\" class=\"node\">\n",
       "<title>77</title>\n",
       "<path fill=\"transparent\" stroke=\"#000000\" d=\"M2138.5,-425C2138.5,-425 2012.5,-425 2012.5,-425 2006.5,-425 2000.5,-419 2000.5,-413 2000.5,-413 2000.5,-354 2000.5,-354 2000.5,-348 2006.5,-342 2012.5,-342 2012.5,-342 2138.5,-342 2138.5,-342 2144.5,-342 2150.5,-348 2150.5,-354 2150.5,-354 2150.5,-413 2150.5,-413 2150.5,-419 2144.5,-425 2138.5,-425\"/>\n",
       "<text text-anchor=\"start\" x=\"2008.5\" y=\"-409.8\" font-family=\"Helvetica,sans-Serif\" font-size=\"14.00\" fill=\"#000000\">sepal width (cm) ≤ 2.9</text>\n",
       "<text text-anchor=\"start\" x=\"2047.5\" y=\"-394.8\" font-family=\"Helvetica,sans-Serif\" font-size=\"14.00\" fill=\"#000000\">gini = 0.5</text>\n",
       "<text text-anchor=\"start\" x=\"2038\" y=\"-379.8\" font-family=\"Helvetica,sans-Serif\" font-size=\"14.00\" fill=\"#000000\">samples = 4</text>\n",
       "<text text-anchor=\"start\" x=\"2028.5\" y=\"-364.8\" font-family=\"Helvetica,sans-Serif\" font-size=\"14.00\" fill=\"#000000\">value = [0, 2, 2]</text>\n",
       "<text text-anchor=\"start\" x=\"2023\" y=\"-349.8\" font-family=\"Helvetica,sans-Serif\" font-size=\"14.00\" fill=\"#000000\">class = versicolor</text>\n",
       "</g>\n",
       "<!-- 76&#45;&gt;77 -->\n",
       "<g id=\"edge77\" class=\"edge\">\n",
       "<title>76&#45;&gt;77</title>\n",
       "<path fill=\"none\" stroke=\"#000000\" d=\"M2080.702,-460.8796C2080.151,-452.6838 2079.5665,-443.9891 2078.9959,-435.5013\"/>\n",
       "<polygon fill=\"#000000\" stroke=\"#000000\" points=\"2082.4729,-435.0408 2078.31,-425.2981 2075.4887,-435.5103 2082.4729,-435.0408\"/>\n",
       "</g>\n",
       "<!-- 82 -->\n",
       "<g id=\"node83\" class=\"node\">\n",
       "<title>82</title>\n",
       "<path fill=\"#39e581\" stroke=\"#000000\" d=\"M2277,-417.5C2277,-417.5 2180,-417.5 2180,-417.5 2174,-417.5 2168,-411.5 2168,-405.5 2168,-405.5 2168,-361.5 2168,-361.5 2168,-355.5 2174,-349.5 2180,-349.5 2180,-349.5 2277,-349.5 2277,-349.5 2283,-349.5 2289,-355.5 2289,-361.5 2289,-361.5 2289,-405.5 2289,-405.5 2289,-411.5 2283,-417.5 2277,-417.5\"/>\n",
       "<text text-anchor=\"start\" x=\"2200.5\" y=\"-402.3\" font-family=\"Helvetica,sans-Serif\" font-size=\"14.00\" fill=\"#000000\">gini = 0.0</text>\n",
       "<text text-anchor=\"start\" x=\"2191\" y=\"-387.3\" font-family=\"Helvetica,sans-Serif\" font-size=\"14.00\" fill=\"#000000\">samples = 2</text>\n",
       "<text text-anchor=\"start\" x=\"2181.5\" y=\"-372.3\" font-family=\"Helvetica,sans-Serif\" font-size=\"14.00\" fill=\"#000000\">value = [0, 2, 0]</text>\n",
       "<text text-anchor=\"start\" x=\"2176\" y=\"-357.3\" font-family=\"Helvetica,sans-Serif\" font-size=\"14.00\" fill=\"#000000\">class = versicolor</text>\n",
       "</g>\n",
       "<!-- 76&#45;&gt;82 -->\n",
       "<g id=\"edge82\" class=\"edge\">\n",
       "<title>76&#45;&gt;82</title>\n",
       "<path fill=\"none\" stroke=\"#000000\" d=\"M2134.214,-460.8796C2148.6844,-449.0038 2164.4314,-436.0804 2178.8383,-424.2568\"/>\n",
       "<polygon fill=\"#000000\" stroke=\"#000000\" points=\"2181.178,-426.8645 2186.6877,-417.8149 2176.7372,-421.4534 2181.178,-426.8645\"/>\n",
       "</g>\n",
       "<!-- 78 -->\n",
       "<g id=\"node79\" class=\"node\">\n",
       "<title>78</title>\n",
       "<path fill=\"#39e581\" stroke=\"#000000\" d=\"M2073,-298.5C2073,-298.5 1976,-298.5 1976,-298.5 1970,-298.5 1964,-292.5 1964,-286.5 1964,-286.5 1964,-242.5 1964,-242.5 1964,-236.5 1970,-230.5 1976,-230.5 1976,-230.5 2073,-230.5 2073,-230.5 2079,-230.5 2085,-236.5 2085,-242.5 2085,-242.5 2085,-286.5 2085,-286.5 2085,-292.5 2079,-298.5 2073,-298.5\"/>\n",
       "<text text-anchor=\"start\" x=\"1996.5\" y=\"-283.3\" font-family=\"Helvetica,sans-Serif\" font-size=\"14.00\" fill=\"#000000\">gini = 0.0</text>\n",
       "<text text-anchor=\"start\" x=\"1987\" y=\"-268.3\" font-family=\"Helvetica,sans-Serif\" font-size=\"14.00\" fill=\"#000000\">samples = 1</text>\n",
       "<text text-anchor=\"start\" x=\"1977.5\" y=\"-253.3\" font-family=\"Helvetica,sans-Serif\" font-size=\"14.00\" fill=\"#000000\">value = [0, 1, 0]</text>\n",
       "<text text-anchor=\"start\" x=\"1972\" y=\"-238.3\" font-family=\"Helvetica,sans-Serif\" font-size=\"14.00\" fill=\"#000000\">class = versicolor</text>\n",
       "</g>\n",
       "<!-- 77&#45;&gt;78 -->\n",
       "<g id=\"edge78\" class=\"edge\">\n",
       "<title>77&#45;&gt;78</title>\n",
       "<path fill=\"none\" stroke=\"#000000\" d=\"M2057.6627,-341.8796C2052.9972,-330.9935 2047.9544,-319.227 2043.2433,-308.2344\"/>\n",
       "<polygon fill=\"#000000\" stroke=\"#000000\" points=\"2046.3627,-306.6277 2039.2064,-298.8149 2039.9286,-309.3851 2046.3627,-306.6277\"/>\n",
       "</g>\n",
       "<!-- 79 -->\n",
       "<g id=\"node80\" class=\"node\">\n",
       "<title>79</title>\n",
       "<path fill=\"#8139e5\" fill-opacity=\"0.498039\" stroke=\"#000000\" d=\"M2254,-306C2254,-306 2115,-306 2115,-306 2109,-306 2103,-300 2103,-294 2103,-294 2103,-235 2103,-235 2103,-229 2109,-223 2115,-223 2115,-223 2254,-223 2254,-223 2260,-223 2266,-229 2266,-235 2266,-235 2266,-294 2266,-294 2266,-300 2260,-306 2254,-306\"/>\n",
       "<text text-anchor=\"start\" x=\"2111\" y=\"-290.8\" font-family=\"Helvetica,sans-Serif\" font-size=\"14.00\" fill=\"#000000\">sepal length (cm) ≤ 6.75</text>\n",
       "<text text-anchor=\"start\" x=\"2149\" y=\"-275.8\" font-family=\"Helvetica,sans-Serif\" font-size=\"14.00\" fill=\"#000000\">gini = 0.444</text>\n",
       "<text text-anchor=\"start\" x=\"2147\" y=\"-260.8\" font-family=\"Helvetica,sans-Serif\" font-size=\"14.00\" fill=\"#000000\">samples = 3</text>\n",
       "<text text-anchor=\"start\" x=\"2137.5\" y=\"-245.8\" font-family=\"Helvetica,sans-Serif\" font-size=\"14.00\" fill=\"#000000\">value = [0, 1, 2]</text>\n",
       "<text text-anchor=\"start\" x=\"2136\" y=\"-230.8\" font-family=\"Helvetica,sans-Serif\" font-size=\"14.00\" fill=\"#000000\">class = virginica</text>\n",
       "</g>\n",
       "<!-- 77&#45;&gt;79 -->\n",
       "<g id=\"edge79\" class=\"edge\">\n",
       "<title>77&#45;&gt;79</title>\n",
       "<path fill=\"none\" stroke=\"#000000\" d=\"M2113.6229,-341.8796C2121.9549,-332.7832 2130.8498,-323.0722 2139.4239,-313.7116\"/>\n",
       "<polygon fill=\"#000000\" stroke=\"#000000\" points=\"2142.0408,-316.0363 2146.2144,-306.2981 2136.8789,-311.3081 2142.0408,-316.0363\"/>\n",
       "</g>\n",
       "<!-- 80 -->\n",
       "<g id=\"node81\" class=\"node\">\n",
       "<title>80</title>\n",
       "<path fill=\"transparent\" stroke=\"#000000\" d=\"M2165,-179.5C2165,-179.5 2068,-179.5 2068,-179.5 2062,-179.5 2056,-173.5 2056,-167.5 2056,-167.5 2056,-123.5 2056,-123.5 2056,-117.5 2062,-111.5 2068,-111.5 2068,-111.5 2165,-111.5 2165,-111.5 2171,-111.5 2177,-117.5 2177,-123.5 2177,-123.5 2177,-167.5 2177,-167.5 2177,-173.5 2171,-179.5 2165,-179.5\"/>\n",
       "<text text-anchor=\"start\" x=\"2088.5\" y=\"-164.3\" font-family=\"Helvetica,sans-Serif\" font-size=\"14.00\" fill=\"#000000\">gini = 0.5</text>\n",
       "<text text-anchor=\"start\" x=\"2079\" y=\"-149.3\" font-family=\"Helvetica,sans-Serif\" font-size=\"14.00\" fill=\"#000000\">samples = 2</text>\n",
       "<text text-anchor=\"start\" x=\"2069.5\" y=\"-134.3\" font-family=\"Helvetica,sans-Serif\" font-size=\"14.00\" fill=\"#000000\">value = [0, 1, 1]</text>\n",
       "<text text-anchor=\"start\" x=\"2064\" y=\"-119.3\" font-family=\"Helvetica,sans-Serif\" font-size=\"14.00\" fill=\"#000000\">class = versicolor</text>\n",
       "</g>\n",
       "<!-- 79&#45;&gt;80 -->\n",
       "<g id=\"edge80\" class=\"edge\">\n",
       "<title>79&#45;&gt;80</title>\n",
       "<path fill=\"none\" stroke=\"#000000\" d=\"M2160.7169,-222.8796C2154.3706,-211.7735 2147.5007,-199.7513 2141.1109,-188.5691\"/>\n",
       "<polygon fill=\"#000000\" stroke=\"#000000\" points=\"2144.1088,-186.7609 2136.1085,-179.8149 2138.0311,-190.2339 2144.1088,-186.7609\"/>\n",
       "</g>\n",
       "<!-- 81 -->\n",
       "<g id=\"node82\" class=\"node\">\n",
       "<title>81</title>\n",
       "<path fill=\"#8139e5\" stroke=\"#000000\" d=\"M2296,-179.5C2296,-179.5 2207,-179.5 2207,-179.5 2201,-179.5 2195,-173.5 2195,-167.5 2195,-167.5 2195,-123.5 2195,-123.5 2195,-117.5 2201,-111.5 2207,-111.5 2207,-111.5 2296,-111.5 2296,-111.5 2302,-111.5 2308,-117.5 2308,-123.5 2308,-123.5 2308,-167.5 2308,-167.5 2308,-173.5 2302,-179.5 2296,-179.5\"/>\n",
       "<text text-anchor=\"start\" x=\"2223.5\" y=\"-164.3\" font-family=\"Helvetica,sans-Serif\" font-size=\"14.00\" fill=\"#000000\">gini = 0.0</text>\n",
       "<text text-anchor=\"start\" x=\"2214\" y=\"-149.3\" font-family=\"Helvetica,sans-Serif\" font-size=\"14.00\" fill=\"#000000\">samples = 1</text>\n",
       "<text text-anchor=\"start\" x=\"2204.5\" y=\"-134.3\" font-family=\"Helvetica,sans-Serif\" font-size=\"14.00\" fill=\"#000000\">value = [0, 0, 1]</text>\n",
       "<text text-anchor=\"start\" x=\"2203\" y=\"-119.3\" font-family=\"Helvetica,sans-Serif\" font-size=\"14.00\" fill=\"#000000\">class = virginica</text>\n",
       "</g>\n",
       "<!-- 79&#45;&gt;81 -->\n",
       "<g id=\"edge81\" class=\"edge\">\n",
       "<title>79&#45;&gt;81</title>\n",
       "<path fill=\"none\" stroke=\"#000000\" d=\"M2207.9333,-222.8796C2214.1863,-211.7735 2220.9552,-199.7513 2227.251,-188.5691\"/>\n",
       "<polygon fill=\"#000000\" stroke=\"#000000\" points=\"2230.3235,-190.2459 2232.1798,-179.8149 2224.2239,-186.8116 2230.3235,-190.2459\"/>\n",
       "</g>\n",
       "</g>\n",
       "</svg>\n"
      ],
      "text/plain": [
       "<graphviz.files.Source at 0x7fc4e19a9eb8>"
      ]
     },
     "execution_count": 206,
     "metadata": {},
     "output_type": "execute_result"
    }
   ],
   "source": [
    "clf = tree.DecisionTreeClassifier()\n",
    "# We fit the tree with only the first two features\n",
    "clf = clf.fit(train[features[:2]], y_train)\n",
    "dot_data = tree.export_graphviz(clf, out_file=None, \n",
    "                         feature_names=iris.feature_names[:2],  \n",
    "                         class_names=iris.target_names,  \n",
    "                         filled=True, rounded=True,  \n",
    "                         special_characters=True)  \n",
    "graph = graphviz.Source(dot_data)  \n",
    "graph "
   ]
  },
  {
   "cell_type": "markdown",
   "metadata": {},
   "source": [
    "We notice that the tree is very hight, with a lot of non-significant leaves (often only 1 or 2 samples per leaves)."
   ]
  },
  {
   "cell_type": "code",
   "execution_count": 207,
   "metadata": {},
   "outputs": [
    {
     "data": {
      "text/plain": [
       "<matplotlib.contour.QuadContourSet at 0x7fc500335d68>"
      ]
     },
     "execution_count": 207,
     "metadata": {},
     "output_type": "execute_result"
    },
    {
     "data": {
      "image/png": "[encoded data removed]",
      "text/plain": [
       "<Figure size 453.85x360 with 1 Axes>"
      ]
     },
     "metadata": {},
     "output_type": "display_data"
    }
   ],
   "source": [
    "X_sl = np.linspace(4,8,300) # sepal length\n",
    "Y_sw = np.linspace(2,5,300) # sepal width\n",
    "\n",
    "XX, YY= np.meshgrid(X_sl,Y_sw)\n",
    "grille_2D = np.vstack((XX.flatten(),YY.flatten())).T\n",
    "prediction_grille = clf.predict(grille_2D)\n",
    "\n",
    "df['predict'] = (clf.predict(df[features[:2]])==iris.target)\n",
    "sns.relplot(data=df,x=\"sepal length (cm)\", y=\"sepal width (cm)\",hue='species',style='predict',palette=['b','r','g'], )\n",
    "plt.contourf(X_sl,Y_sw,prediction_grille.reshape(300,300),cmap='brg',alpha = 0.3)"
   ]
  },
  {
   "cell_type": "markdown",
   "metadata": {},
   "source": [
    "When we plot the decision boundary, we see that the decisions boundary are very complex, this make sense because the tree is also very high.<br>\n",
    "According to the biais-variance tradeoff, the classifier would probably have a hight variance and a big generalisation error.<br>\n",
    "The decision tree might have overfit the datas."
   ]
  },
  {
   "cell_type": "code",
   "execution_count": 208,
   "metadata": {},
   "outputs": [
    {
     "name": "stdout",
     "output_type": "stream",
     "text": [
      "accuracy on the training set 0.940677966101695\n",
      "accuracy on the  test set    0.75\n"
     ]
    }
   ],
   "source": [
    "print(\"accuracy on the training set\", clf.score(train[features[:2]], y_train))\n",
    "print(\"accuracy on the  test set   \", clf.score(test[features[:2]], y_test))"
   ]
  },
  {
   "cell_type": "markdown",
   "metadata": {},
   "source": [
    "We can see that the decision tree has an error of 25% on the test set. That high comparing to the previous result : 7%.   "
   ]
  },
  {
   "cell_type": "markdown",
   "metadata": {},
   "source": [
    "To comfirm the previous results, and see the effect of the training set, we reproduice the previous experiments by bootstrapping the training set."
   ]
  },
  {
   "cell_type": "code",
   "execution_count": 209,
   "metadata": {},
   "outputs": [
    {
     "name": "stdout",
     "output_type": "stream",
     "text": [
      "error rate on the  test set    0.25\n",
      "error rate on the  test set    0.3125\n",
      "error rate on the  test set    0.25\n",
      "error rate on the  test set    0.34375\n",
      "error rate on the  test set    0.28125\n",
      "error rate on the  test set    0.28125\n",
      "error rate on the  test set    0.25\n",
      "error rate on the  test set    0.3125\n"
     ]
    },
    {
     "data": {
      "image/png": "[encoded data removed]",
      "text/plain": [
       "<Figure size 432x288 with 8 Axes>"
      ]
     },
     "metadata": {},
     "output_type": "display_data"
    }
   ],
   "source": [
    "for i in range(8):\n",
    "    plt.subplot(4,2,i+1)\n",
    "    train_sample = train.sample(100)\n",
    "    y_train_sample = pd.factorize(train_sample['species'],sort='unique')[0]\n",
    "    clf = tree.DecisionTreeClassifier()\n",
    "    clf = clf.fit(train_sample[features[:2]], y_train_sample)\n",
    "    prediction_grille = clf.predict(grille_2D)\n",
    "    plt.contourf(X_sl,Y_sw,prediction_grille.reshape(300,300),cmap='brg',alpha = 0.3)\n",
    "    print(\"error rate on the  test set   \", 1-clf.score(test[features[:2]], y_test))"
   ]
  },
  {
   "cell_type": "markdown",
   "metadata": {},
   "source": [
    "We have errors rates in the same order than previously.<br>\n",
    "Futhermore, the decisions boundaries vary widely between to trainings sets. <br>\n",
    "That is due to the instability of decisions tree and hight complexity (overfitting)"
   ]
  },
  {
   "cell_type": "markdown",
   "metadata": {},
   "source": [
    "#### Only petal features"
   ]
  },
  {
   "cell_type": "code",
   "execution_count": 210,
   "metadata": {},
   "outputs": [
    {
     "data": {
      "image/svg+xml": [
       "<?xml version=\"1.0\" encoding=\"UTF-8\" standalone=\"no\"?>\n",
       "<!DOCTYPE svg PUBLIC \"-//W3C//DTD SVG 1.1//EN\"\n",
       " \"http://www.w3.org/Graphics/SVG/1.1/DTD/svg11.dtd\">\n",
       "<!-- Generated by graphviz version 2.40.1 (20161225.0304)\n",
       " -->\n",
       "<!-- Title: Tree Pages: 1 -->\n",
       "<svg width=\"583pt\" height=\"790pt\"\n",
       " viewBox=\"0.00 0.00 583.00 790.00\" xmlns=\"http://www.w3.org/2000/svg\" xmlns:xlink=\"http://www.w3.org/1999/xlink\">\n",
       "<g id=\"graph0\" class=\"graph\" transform=\"scale(1 1) rotate(0) translate(4 786)\">\n",
       "<title>Tree</title>\n",
       "<polygon fill=\"#ffffff\" stroke=\"transparent\" points=\"-4,4 -4,-786 579,-786 579,4 -4,4\"/>\n",
       "<!-- 0 -->\n",
       "<g id=\"node1\" class=\"node\">\n",
       "<title>0</title>\n",
       "<path fill=\"#39e581\" fill-opacity=\"0.062745\" stroke=\"#000000\" d=\"M259,-782C259,-782 136,-782 136,-782 130,-782 124,-776 124,-770 124,-770 124,-711 124,-711 124,-705 130,-699 136,-699 136,-699 259,-699 259,-699 265,-699 271,-705 271,-711 271,-711 271,-770 271,-770 271,-776 265,-782 259,-782\"/>\n",
       "<text text-anchor=\"start\" x=\"132\" y=\"-766.8\" font-family=\"Helvetica,sans-Serif\" font-size=\"14.00\" fill=\"#000000\">petal width (cm) ≤ 0.8</text>\n",
       "<text text-anchor=\"start\" x=\"150\" y=\"-751.8\" font-family=\"Helvetica,sans-Serif\" font-size=\"14.00\" fill=\"#000000\">entropy = 1.582</text>\n",
       "<text text-anchor=\"start\" x=\"152.5\" y=\"-736.8\" font-family=\"Helvetica,sans-Serif\" font-size=\"14.00\" fill=\"#000000\">samples = 118</text>\n",
       "<text text-anchor=\"start\" x=\"139.5\" y=\"-721.8\" font-family=\"Helvetica,sans-Serif\" font-size=\"14.00\" fill=\"#000000\">value = [37, 43, 38]</text>\n",
       "<text text-anchor=\"start\" x=\"145\" y=\"-706.8\" font-family=\"Helvetica,sans-Serif\" font-size=\"14.00\" fill=\"#000000\">class = versicolor</text>\n",
       "</g>\n",
       "<!-- 1 -->\n",
       "<g id=\"node2\" class=\"node\">\n",
       "<title>1</title>\n",
       "<path fill=\"#e58139\" stroke=\"#000000\" d=\"M166,-655.5C166,-655.5 73,-655.5 73,-655.5 67,-655.5 61,-649.5 61,-643.5 61,-643.5 61,-599.5 61,-599.5 61,-593.5 67,-587.5 73,-587.5 73,-587.5 166,-587.5 166,-587.5 172,-587.5 178,-593.5 178,-599.5 178,-599.5 178,-643.5 178,-643.5 178,-649.5 172,-655.5 166,-655.5\"/>\n",
       "<text text-anchor=\"start\" x=\"79.5\" y=\"-640.3\" font-family=\"Helvetica,sans-Serif\" font-size=\"14.00\" fill=\"#000000\">entropy = 0.0</text>\n",
       "<text text-anchor=\"start\" x=\"78.5\" y=\"-625.3\" font-family=\"Helvetica,sans-Serif\" font-size=\"14.00\" fill=\"#000000\">samples = 37</text>\n",
       "<text text-anchor=\"start\" x=\"69\" y=\"-610.3\" font-family=\"Helvetica,sans-Serif\" font-size=\"14.00\" fill=\"#000000\">value = [37, 0, 0]</text>\n",
       "<text text-anchor=\"start\" x=\"76\" y=\"-595.3\" font-family=\"Helvetica,sans-Serif\" font-size=\"14.00\" fill=\"#000000\">class = setosa</text>\n",
       "</g>\n",
       "<!-- 0&#45;&gt;1 -->\n",
       "<g id=\"edge1\" class=\"edge\">\n",
       "<title>0&#45;&gt;1</title>\n",
       "<path fill=\"none\" stroke=\"#000000\" d=\"M170.2194,-698.8796C162.8677,-687.6636 154.9036,-675.5131 147.5126,-664.2372\"/>\n",
       "<polygon fill=\"#000000\" stroke=\"#000000\" points=\"150.4014,-662.2598 141.9921,-655.8149 144.5469,-666.0972 150.4014,-662.2598\"/>\n",
       "<text text-anchor=\"middle\" x=\"136.8982\" y=\"-676.5905\" font-family=\"Helvetica,sans-Serif\" font-size=\"14.00\" fill=\"#000000\">True</text>\n",
       "</g>\n",
       "<!-- 2 -->\n",
       "<g id=\"node3\" class=\"node\">\n",
       "<title>2</title>\n",
       "<path fill=\"#39e581\" fill-opacity=\"0.117647\" stroke=\"#000000\" d=\"M344.5,-663C344.5,-663 208.5,-663 208.5,-663 202.5,-663 196.5,-657 196.5,-651 196.5,-651 196.5,-592 196.5,-592 196.5,-586 202.5,-580 208.5,-580 208.5,-580 344.5,-580 344.5,-580 350.5,-580 356.5,-586 356.5,-592 356.5,-592 356.5,-651 356.5,-651 356.5,-657 350.5,-663 344.5,-663\"/>\n",
       "<text text-anchor=\"start\" x=\"204.5\" y=\"-647.8\" font-family=\"Helvetica,sans-Serif\" font-size=\"14.00\" fill=\"#000000\">petal length (cm) ≤ 4.75</text>\n",
       "<text text-anchor=\"start\" x=\"229\" y=\"-632.8\" font-family=\"Helvetica,sans-Serif\" font-size=\"14.00\" fill=\"#000000\">entropy = 0.997</text>\n",
       "<text text-anchor=\"start\" x=\"235.5\" y=\"-617.8\" font-family=\"Helvetica,sans-Serif\" font-size=\"14.00\" fill=\"#000000\">samples = 81</text>\n",
       "<text text-anchor=\"start\" x=\"222\" y=\"-602.8\" font-family=\"Helvetica,sans-Serif\" font-size=\"14.00\" fill=\"#000000\">value = [0, 43, 38]</text>\n",
       "<text text-anchor=\"start\" x=\"224\" y=\"-587.8\" font-family=\"Helvetica,sans-Serif\" font-size=\"14.00\" fill=\"#000000\">class = versicolor</text>\n",
       "</g>\n",
       "<!-- 0&#45;&gt;2 -->\n",
       "<g id=\"edge2\" class=\"edge\">\n",
       "<title>0&#45;&gt;2</title>\n",
       "<path fill=\"none\" stroke=\"#000000\" d=\"M225.1304,-698.8796C230.93,-690.1434 237.1059,-680.8404 243.0908,-671.8253\"/>\n",
       "<polygon fill=\"#000000\" stroke=\"#000000\" points=\"246.1368,-673.5652 248.7517,-663.2981 240.3049,-669.6935 246.1368,-673.5652\"/>\n",
       "<text text-anchor=\"middle\" x=\"253.7022\" y=\"-684.103\" font-family=\"Helvetica,sans-Serif\" font-size=\"14.00\" fill=\"#000000\">False</text>\n",
       "</g>\n",
       "<!-- 3 -->\n",
       "<g id=\"node4\" class=\"node\">\n",
       "<title>3</title>\n",
       "<path fill=\"#39e581\" fill-opacity=\"0.976471\" stroke=\"#000000\" d=\"M256,-544C256,-544 125,-544 125,-544 119,-544 113,-538 113,-532 113,-532 113,-473 113,-473 113,-467 119,-461 125,-461 125,-461 256,-461 256,-461 262,-461 268,-467 268,-473 268,-473 268,-532 268,-532 268,-538 262,-544 256,-544\"/>\n",
       "<text text-anchor=\"start\" x=\"121\" y=\"-528.8\" font-family=\"Helvetica,sans-Serif\" font-size=\"14.00\" fill=\"#000000\">petal width (cm) ≤ 1.65</text>\n",
       "<text text-anchor=\"start\" x=\"143\" y=\"-513.8\" font-family=\"Helvetica,sans-Serif\" font-size=\"14.00\" fill=\"#000000\">entropy = 0.165</text>\n",
       "<text text-anchor=\"start\" x=\"149.5\" y=\"-498.8\" font-family=\"Helvetica,sans-Serif\" font-size=\"14.00\" fill=\"#000000\">samples = 41</text>\n",
       "<text text-anchor=\"start\" x=\"140\" y=\"-483.8\" font-family=\"Helvetica,sans-Serif\" font-size=\"14.00\" fill=\"#000000\">value = [0, 40, 1]</text>\n",
       "<text text-anchor=\"start\" x=\"138\" y=\"-468.8\" font-family=\"Helvetica,sans-Serif\" font-size=\"14.00\" fill=\"#000000\">class = versicolor</text>\n",
       "</g>\n",
       "<!-- 2&#45;&gt;3 -->\n",
       "<g id=\"edge3\" class=\"edge\">\n",
       "<title>2&#45;&gt;3</title>\n",
       "<path fill=\"none\" stroke=\"#000000\" d=\"M246.4214,-579.8796C240.0428,-571.0534 233.246,-561.6485 226.6681,-552.5466\"/>\n",
       "<polygon fill=\"#000000\" stroke=\"#000000\" points=\"229.4012,-550.353 220.707,-544.2981 223.7277,-554.4532 229.4012,-550.353\"/>\n",
       "</g>\n",
       "<!-- 6 -->\n",
       "<g id=\"node7\" class=\"node\">\n",
       "<title>6</title>\n",
       "<path fill=\"#8139e5\" fill-opacity=\"0.917647\" stroke=\"#000000\" d=\"M429,-544C429,-544 298,-544 298,-544 292,-544 286,-538 286,-532 286,-532 286,-473 286,-473 286,-467 292,-461 298,-461 298,-461 429,-461 429,-461 435,-461 441,-467 441,-473 441,-473 441,-532 441,-532 441,-538 435,-544 429,-544\"/>\n",
       "<text text-anchor=\"start\" x=\"294\" y=\"-528.8\" font-family=\"Helvetica,sans-Serif\" font-size=\"14.00\" fill=\"#000000\">petal width (cm) ≤ 1.75</text>\n",
       "<text text-anchor=\"start\" x=\"316\" y=\"-513.8\" font-family=\"Helvetica,sans-Serif\" font-size=\"14.00\" fill=\"#000000\">entropy = 0.384</text>\n",
       "<text text-anchor=\"start\" x=\"322.5\" y=\"-498.8\" font-family=\"Helvetica,sans-Serif\" font-size=\"14.00\" fill=\"#000000\">samples = 40</text>\n",
       "<text text-anchor=\"start\" x=\"313\" y=\"-483.8\" font-family=\"Helvetica,sans-Serif\" font-size=\"14.00\" fill=\"#000000\">value = [0, 3, 37]</text>\n",
       "<text text-anchor=\"start\" x=\"315\" y=\"-468.8\" font-family=\"Helvetica,sans-Serif\" font-size=\"14.00\" fill=\"#000000\">class = virginica</text>\n",
       "</g>\n",
       "<!-- 2&#45;&gt;6 -->\n",
       "<g id=\"edge6\" class=\"edge\">\n",
       "<title>2&#45;&gt;6</title>\n",
       "<path fill=\"none\" stroke=\"#000000\" d=\"M306.9284,-579.8796C313.3811,-571.0534 320.257,-561.6485 326.9113,-552.5466\"/>\n",
       "<polygon fill=\"#000000\" stroke=\"#000000\" points=\"329.8653,-554.4364 332.9417,-544.2981 324.2144,-550.3051 329.8653,-554.4364\"/>\n",
       "</g>\n",
       "<!-- 4 -->\n",
       "<g id=\"node5\" class=\"node\">\n",
       "<title>4</title>\n",
       "<path fill=\"#39e581\" stroke=\"#000000\" d=\"M109,-417.5C109,-417.5 12,-417.5 12,-417.5 6,-417.5 0,-411.5 0,-405.5 0,-405.5 0,-361.5 0,-361.5 0,-355.5 6,-349.5 12,-349.5 12,-349.5 109,-349.5 109,-349.5 115,-349.5 121,-355.5 121,-361.5 121,-361.5 121,-405.5 121,-405.5 121,-411.5 115,-417.5 109,-417.5\"/>\n",
       "<text text-anchor=\"start\" x=\"20.5\" y=\"-402.3\" font-family=\"Helvetica,sans-Serif\" font-size=\"14.00\" fill=\"#000000\">entropy = 0.0</text>\n",
       "<text text-anchor=\"start\" x=\"19.5\" y=\"-387.3\" font-family=\"Helvetica,sans-Serif\" font-size=\"14.00\" fill=\"#000000\">samples = 40</text>\n",
       "<text text-anchor=\"start\" x=\"10\" y=\"-372.3\" font-family=\"Helvetica,sans-Serif\" font-size=\"14.00\" fill=\"#000000\">value = [0, 40, 0]</text>\n",
       "<text text-anchor=\"start\" x=\"8\" y=\"-357.3\" font-family=\"Helvetica,sans-Serif\" font-size=\"14.00\" fill=\"#000000\">class = versicolor</text>\n",
       "</g>\n",
       "<!-- 3&#45;&gt;4 -->\n",
       "<g id=\"edge4\" class=\"edge\">\n",
       "<title>3&#45;&gt;4</title>\n",
       "<path fill=\"none\" stroke=\"#000000\" d=\"M145.0323,-460.8796C132.1789,-449.1138 118.2021,-436.3197 105.3834,-424.5855\"/>\n",
       "<polygon fill=\"#000000\" stroke=\"#000000\" points=\"107.7264,-421.9854 97.9869,-417.8149 102.9999,-427.1488 107.7264,-421.9854\"/>\n",
       "</g>\n",
       "<!-- 5 -->\n",
       "<g id=\"node6\" class=\"node\">\n",
       "<title>5</title>\n",
       "<path fill=\"#8139e5\" stroke=\"#000000\" d=\"M240,-417.5C240,-417.5 151,-417.5 151,-417.5 145,-417.5 139,-411.5 139,-405.5 139,-405.5 139,-361.5 139,-361.5 139,-355.5 145,-349.5 151,-349.5 151,-349.5 240,-349.5 240,-349.5 246,-349.5 252,-355.5 252,-361.5 252,-361.5 252,-405.5 252,-405.5 252,-411.5 246,-417.5 240,-417.5\"/>\n",
       "<text text-anchor=\"start\" x=\"155.5\" y=\"-402.3\" font-family=\"Helvetica,sans-Serif\" font-size=\"14.00\" fill=\"#000000\">entropy = 0.0</text>\n",
       "<text text-anchor=\"start\" x=\"158\" y=\"-387.3\" font-family=\"Helvetica,sans-Serif\" font-size=\"14.00\" fill=\"#000000\">samples = 1</text>\n",
       "<text text-anchor=\"start\" x=\"148.5\" y=\"-372.3\" font-family=\"Helvetica,sans-Serif\" font-size=\"14.00\" fill=\"#000000\">value = [0, 0, 1]</text>\n",
       "<text text-anchor=\"start\" x=\"147\" y=\"-357.3\" font-family=\"Helvetica,sans-Serif\" font-size=\"14.00\" fill=\"#000000\">class = virginica</text>\n",
       "</g>\n",
       "<!-- 3&#45;&gt;5 -->\n",
       "<g id=\"edge5\" class=\"edge\">\n",
       "<title>3&#45;&gt;5</title>\n",
       "<path fill=\"none\" stroke=\"#000000\" d=\"M192.2488,-460.8796C192.6969,-450.2134 193.1806,-438.7021 193.6344,-427.9015\"/>\n",
       "<polygon fill=\"#000000\" stroke=\"#000000\" points=\"197.1352,-427.9531 194.0582,-417.8149 190.1414,-427.6592 197.1352,-427.9531\"/>\n",
       "</g>\n",
       "<!-- 7 -->\n",
       "<g id=\"node8\" class=\"node\">\n",
       "<title>7</title>\n",
       "<path fill=\"#8139e5\" fill-opacity=\"0.250980\" stroke=\"#000000\" d=\"M427.5,-425C427.5,-425 291.5,-425 291.5,-425 285.5,-425 279.5,-419 279.5,-413 279.5,-413 279.5,-354 279.5,-354 279.5,-348 285.5,-342 291.5,-342 291.5,-342 427.5,-342 427.5,-342 433.5,-342 439.5,-348 439.5,-354 439.5,-354 439.5,-413 439.5,-413 439.5,-419 433.5,-425 427.5,-425\"/>\n",
       "<text text-anchor=\"start\" x=\"287.5\" y=\"-409.8\" font-family=\"Helvetica,sans-Serif\" font-size=\"14.00\" fill=\"#000000\">petal length (cm) ≤ 5.35</text>\n",
       "<text text-anchor=\"start\" x=\"312\" y=\"-394.8\" font-family=\"Helvetica,sans-Serif\" font-size=\"14.00\" fill=\"#000000\">entropy = 0.985</text>\n",
       "<text text-anchor=\"start\" x=\"322\" y=\"-379.8\" font-family=\"Helvetica,sans-Serif\" font-size=\"14.00\" fill=\"#000000\">samples = 7</text>\n",
       "<text text-anchor=\"start\" x=\"312.5\" y=\"-364.8\" font-family=\"Helvetica,sans-Serif\" font-size=\"14.00\" fill=\"#000000\">value = [0, 3, 4]</text>\n",
       "<text text-anchor=\"start\" x=\"311\" y=\"-349.8\" font-family=\"Helvetica,sans-Serif\" font-size=\"14.00\" fill=\"#000000\">class = virginica</text>\n",
       "</g>\n",
       "<!-- 6&#45;&gt;7 -->\n",
       "<g id=\"edge7\" class=\"edge\">\n",
       "<title>6&#45;&gt;7</title>\n",
       "<path fill=\"none\" stroke=\"#000000\" d=\"M362.101,-460.8796C361.8255,-452.6838 361.5332,-443.9891 361.2479,-435.5013\"/>\n",
       "<polygon fill=\"#000000\" stroke=\"#000000\" points=\"364.739,-435.1748 360.905,-425.2981 357.743,-435.41 364.739,-435.1748\"/>\n",
       "</g>\n",
       "<!-- 14 -->\n",
       "<g id=\"node15\" class=\"node\">\n",
       "<title>14</title>\n",
       "<path fill=\"#8139e5\" stroke=\"#000000\" d=\"M563,-417.5C563,-417.5 470,-417.5 470,-417.5 464,-417.5 458,-411.5 458,-405.5 458,-405.5 458,-361.5 458,-361.5 458,-355.5 464,-349.5 470,-349.5 470,-349.5 563,-349.5 563,-349.5 569,-349.5 575,-355.5 575,-361.5 575,-361.5 575,-405.5 575,-405.5 575,-411.5 569,-417.5 563,-417.5\"/>\n",
       "<text text-anchor=\"start\" x=\"476.5\" y=\"-402.3\" font-family=\"Helvetica,sans-Serif\" font-size=\"14.00\" fill=\"#000000\">entropy = 0.0</text>\n",
       "<text text-anchor=\"start\" x=\"475.5\" y=\"-387.3\" font-family=\"Helvetica,sans-Serif\" font-size=\"14.00\" fill=\"#000000\">samples = 33</text>\n",
       "<text text-anchor=\"start\" x=\"466\" y=\"-372.3\" font-family=\"Helvetica,sans-Serif\" font-size=\"14.00\" fill=\"#000000\">value = [0, 0, 33]</text>\n",
       "<text text-anchor=\"start\" x=\"468\" y=\"-357.3\" font-family=\"Helvetica,sans-Serif\" font-size=\"14.00\" fill=\"#000000\">class = virginica</text>\n",
       "</g>\n",
       "<!-- 6&#45;&gt;14 -->\n",
       "<g id=\"edge14\" class=\"edge\">\n",
       "<title>6&#45;&gt;14</title>\n",
       "<path fill=\"none\" stroke=\"#000000\" d=\"M417.012,-460.8796C432.2808,-449.0038 448.8966,-436.0804 464.0984,-424.2568\"/>\n",
       "<polygon fill=\"#000000\" stroke=\"#000000\" points=\"466.6361,-426.7171 472.3808,-417.8149 462.3384,-421.1916 466.6361,-426.7171\"/>\n",
       "</g>\n",
       "<!-- 8 -->\n",
       "<g id=\"node9\" class=\"node\">\n",
       "<title>8</title>\n",
       "<path fill=\"#39e581\" fill-opacity=\"0.333333\" stroke=\"#000000\" d=\"M349,-306C349,-306 218,-306 218,-306 212,-306 206,-300 206,-294 206,-294 206,-235 206,-235 206,-229 212,-223 218,-223 218,-223 349,-223 349,-223 355,-223 361,-229 361,-235 361,-235 361,-294 361,-294 361,-300 355,-306 349,-306\"/>\n",
       "<text text-anchor=\"start\" x=\"214\" y=\"-290.8\" font-family=\"Helvetica,sans-Serif\" font-size=\"14.00\" fill=\"#000000\">petal width (cm) ≤ 1.55</text>\n",
       "<text text-anchor=\"start\" x=\"236\" y=\"-275.8\" font-family=\"Helvetica,sans-Serif\" font-size=\"14.00\" fill=\"#000000\">entropy = 0.971</text>\n",
       "<text text-anchor=\"start\" x=\"246\" y=\"-260.8\" font-family=\"Helvetica,sans-Serif\" font-size=\"14.00\" fill=\"#000000\">samples = 5</text>\n",
       "<text text-anchor=\"start\" x=\"236.5\" y=\"-245.8\" font-family=\"Helvetica,sans-Serif\" font-size=\"14.00\" fill=\"#000000\">value = [0, 3, 2]</text>\n",
       "<text text-anchor=\"start\" x=\"231\" y=\"-230.8\" font-family=\"Helvetica,sans-Serif\" font-size=\"14.00\" fill=\"#000000\">class = versicolor</text>\n",
       "</g>\n",
       "<!-- 7&#45;&gt;8 -->\n",
       "<g id=\"edge8\" class=\"edge\">\n",
       "<title>7&#45;&gt;8</title>\n",
       "<path fill=\"none\" stroke=\"#000000\" d=\"M332.9189,-341.8796C327.3395,-333.1434 321.3981,-323.8404 315.6405,-314.8253\"/>\n",
       "<polygon fill=\"#000000\" stroke=\"#000000\" points=\"318.5269,-312.8421 310.1946,-306.2981 312.6274,-316.6098 318.5269,-312.8421\"/>\n",
       "</g>\n",
       "<!-- 13 -->\n",
       "<g id=\"node14\" class=\"node\">\n",
       "<title>13</title>\n",
       "<path fill=\"#8139e5\" stroke=\"#000000\" d=\"M480,-298.5C480,-298.5 391,-298.5 391,-298.5 385,-298.5 379,-292.5 379,-286.5 379,-286.5 379,-242.5 379,-242.5 379,-236.5 385,-230.5 391,-230.5 391,-230.5 480,-230.5 480,-230.5 486,-230.5 492,-236.5 492,-242.5 492,-242.5 492,-286.5 492,-286.5 492,-292.5 486,-298.5 480,-298.5\"/>\n",
       "<text text-anchor=\"start\" x=\"395.5\" y=\"-283.3\" font-family=\"Helvetica,sans-Serif\" font-size=\"14.00\" fill=\"#000000\">entropy = 0.0</text>\n",
       "<text text-anchor=\"start\" x=\"398\" y=\"-268.3\" font-family=\"Helvetica,sans-Serif\" font-size=\"14.00\" fill=\"#000000\">samples = 2</text>\n",
       "<text text-anchor=\"start\" x=\"388.5\" y=\"-253.3\" font-family=\"Helvetica,sans-Serif\" font-size=\"14.00\" fill=\"#000000\">value = [0, 0, 2]</text>\n",
       "<text text-anchor=\"start\" x=\"387\" y=\"-238.3\" font-family=\"Helvetica,sans-Serif\" font-size=\"14.00\" fill=\"#000000\">class = virginica</text>\n",
       "</g>\n",
       "<!-- 7&#45;&gt;13 -->\n",
       "<g id=\"edge13\" class=\"edge\">\n",
       "<title>7&#45;&gt;13</title>\n",
       "<path fill=\"none\" stroke=\"#000000\" d=\"M386.0811,-341.8796C393.174,-330.7735 400.8521,-318.7513 407.9937,-307.5691\"/>\n",
       "<polygon fill=\"#000000\" stroke=\"#000000\" points=\"411.1518,-309.1267 413.5846,-298.8149 405.2523,-305.3589 411.1518,-309.1267\"/>\n",
       "</g>\n",
       "<!-- 9 -->\n",
       "<g id=\"node10\" class=\"node\">\n",
       "<title>9</title>\n",
       "<path fill=\"#8139e5\" fill-opacity=\"0.498039\" stroke=\"#000000\" d=\"M271,-187C271,-187 140,-187 140,-187 134,-187 128,-181 128,-175 128,-175 128,-116 128,-116 128,-110 134,-104 140,-104 140,-104 271,-104 271,-104 277,-104 283,-110 283,-116 283,-116 283,-175 283,-175 283,-181 277,-187 271,-187\"/>\n",
       "<text text-anchor=\"start\" x=\"136\" y=\"-171.8\" font-family=\"Helvetica,sans-Serif\" font-size=\"14.00\" fill=\"#000000\">petal width (cm) ≤ 1.45</text>\n",
       "<text text-anchor=\"start\" x=\"158\" y=\"-156.8\" font-family=\"Helvetica,sans-Serif\" font-size=\"14.00\" fill=\"#000000\">entropy = 0.918</text>\n",
       "<text text-anchor=\"start\" x=\"168\" y=\"-141.8\" font-family=\"Helvetica,sans-Serif\" font-size=\"14.00\" fill=\"#000000\">samples = 3</text>\n",
       "<text text-anchor=\"start\" x=\"158.5\" y=\"-126.8\" font-family=\"Helvetica,sans-Serif\" font-size=\"14.00\" fill=\"#000000\">value = [0, 1, 2]</text>\n",
       "<text text-anchor=\"start\" x=\"157\" y=\"-111.8\" font-family=\"Helvetica,sans-Serif\" font-size=\"14.00\" fill=\"#000000\">class = virginica</text>\n",
       "</g>\n",
       "<!-- 8&#45;&gt;9 -->\n",
       "<g id=\"edge9\" class=\"edge\">\n",
       "<title>8&#45;&gt;9</title>\n",
       "<path fill=\"none\" stroke=\"#000000\" d=\"M256.2194,-222.8796C250.4932,-214.1434 244.3954,-204.8404 238.4863,-195.8253\"/>\n",
       "<polygon fill=\"#000000\" stroke=\"#000000\" points=\"241.3063,-193.7429 232.8971,-187.2981 235.4518,-197.5803 241.3063,-193.7429\"/>\n",
       "</g>\n",
       "<!-- 12 -->\n",
       "<g id=\"node13\" class=\"node\">\n",
       "<title>12</title>\n",
       "<path fill=\"#39e581\" stroke=\"#000000\" d=\"M410,-179.5C410,-179.5 313,-179.5 313,-179.5 307,-179.5 301,-173.5 301,-167.5 301,-167.5 301,-123.5 301,-123.5 301,-117.5 307,-111.5 313,-111.5 313,-111.5 410,-111.5 410,-111.5 416,-111.5 422,-117.5 422,-123.5 422,-123.5 422,-167.5 422,-167.5 422,-173.5 416,-179.5 410,-179.5\"/>\n",
       "<text text-anchor=\"start\" x=\"321.5\" y=\"-164.3\" font-family=\"Helvetica,sans-Serif\" font-size=\"14.00\" fill=\"#000000\">entropy = 0.0</text>\n",
       "<text text-anchor=\"start\" x=\"324\" y=\"-149.3\" font-family=\"Helvetica,sans-Serif\" font-size=\"14.00\" fill=\"#000000\">samples = 2</text>\n",
       "<text text-anchor=\"start\" x=\"314.5\" y=\"-134.3\" font-family=\"Helvetica,sans-Serif\" font-size=\"14.00\" fill=\"#000000\">value = [0, 2, 0]</text>\n",
       "<text text-anchor=\"start\" x=\"309\" y=\"-119.3\" font-family=\"Helvetica,sans-Serif\" font-size=\"14.00\" fill=\"#000000\">class = versicolor</text>\n",
       "</g>\n",
       "<!-- 8&#45;&gt;12 -->\n",
       "<g id=\"edge12\" class=\"edge\">\n",
       "<title>8&#45;&gt;12</title>\n",
       "<path fill=\"none\" stroke=\"#000000\" d=\"M310.7806,-222.8796C318.1323,-211.6636 326.0964,-199.5131 333.4874,-188.2372\"/>\n",
       "<polygon fill=\"#000000\" stroke=\"#000000\" points=\"336.4531,-190.0972 339.0079,-179.8149 330.5986,-186.2598 336.4531,-190.0972\"/>\n",
       "</g>\n",
       "<!-- 10 -->\n",
       "<g id=\"node11\" class=\"node\">\n",
       "<title>10</title>\n",
       "<path fill=\"#39e581\" stroke=\"#000000\" d=\"M187,-68C187,-68 90,-68 90,-68 84,-68 78,-62 78,-56 78,-56 78,-12 78,-12 78,-6 84,0 90,0 90,0 187,0 187,0 193,0 199,-6 199,-12 199,-12 199,-56 199,-56 199,-62 193,-68 187,-68\"/>\n",
       "<text text-anchor=\"start\" x=\"98.5\" y=\"-52.8\" font-family=\"Helvetica,sans-Serif\" font-size=\"14.00\" fill=\"#000000\">entropy = 0.0</text>\n",
       "<text text-anchor=\"start\" x=\"101\" y=\"-37.8\" font-family=\"Helvetica,sans-Serif\" font-size=\"14.00\" fill=\"#000000\">samples = 1</text>\n",
       "<text text-anchor=\"start\" x=\"91.5\" y=\"-22.8\" font-family=\"Helvetica,sans-Serif\" font-size=\"14.00\" fill=\"#000000\">value = [0, 1, 0]</text>\n",
       "<text text-anchor=\"start\" x=\"86\" y=\"-7.8\" font-family=\"Helvetica,sans-Serif\" font-size=\"14.00\" fill=\"#000000\">class = versicolor</text>\n",
       "</g>\n",
       "<!-- 9&#45;&gt;10 -->\n",
       "<g id=\"edge10\" class=\"edge\">\n",
       "<title>9&#45;&gt;10</title>\n",
       "<path fill=\"none\" stroke=\"#000000\" d=\"M180.5517,-103.9815C175.2499,-95.1585 169.6419,-85.8258 164.3089,-76.9506\"/>\n",
       "<polygon fill=\"#000000\" stroke=\"#000000\" points=\"167.2396,-75.0325 159.0889,-68.2637 161.2395,-78.638 167.2396,-75.0325\"/>\n",
       "</g>\n",
       "<!-- 11 -->\n",
       "<g id=\"node12\" class=\"node\">\n",
       "<title>11</title>\n",
       "<path fill=\"#8139e5\" stroke=\"#000000\" d=\"M318,-68C318,-68 229,-68 229,-68 223,-68 217,-62 217,-56 217,-56 217,-12 217,-12 217,-6 223,0 229,0 229,0 318,0 318,0 324,0 330,-6 330,-12 330,-12 330,-56 330,-56 330,-62 324,-68 318,-68\"/>\n",
       "<text text-anchor=\"start\" x=\"233.5\" y=\"-52.8\" font-family=\"Helvetica,sans-Serif\" font-size=\"14.00\" fill=\"#000000\">entropy = 0.0</text>\n",
       "<text text-anchor=\"start\" x=\"236\" y=\"-37.8\" font-family=\"Helvetica,sans-Serif\" font-size=\"14.00\" fill=\"#000000\">samples = 2</text>\n",
       "<text text-anchor=\"start\" x=\"226.5\" y=\"-22.8\" font-family=\"Helvetica,sans-Serif\" font-size=\"14.00\" fill=\"#000000\">value = [0, 0, 2]</text>\n",
       "<text text-anchor=\"start\" x=\"225\" y=\"-7.8\" font-family=\"Helvetica,sans-Serif\" font-size=\"14.00\" fill=\"#000000\">class = virginica</text>\n",
       "</g>\n",
       "<!-- 9&#45;&gt;11 -->\n",
       "<g id=\"edge11\" class=\"edge\">\n",
       "<title>9&#45;&gt;11</title>\n",
       "<path fill=\"none\" stroke=\"#000000\" d=\"M230.8207,-103.9815C236.2016,-95.1585 241.8932,-85.8258 247.3059,-76.9506\"/>\n",
       "<polygon fill=\"#000000\" stroke=\"#000000\" points=\"250.3851,-78.6236 252.6038,-68.2637 244.4088,-74.9789 250.3851,-78.6236\"/>\n",
       "</g>\n",
       "</g>\n",
       "</svg>\n"
      ],
      "text/plain": [
       "<graphviz.files.Source at 0x7fc500304668>"
      ]
     },
     "execution_count": 210,
     "metadata": {},
     "output_type": "execute_result"
    }
   ],
   "source": [
    "clf = tree.DecisionTreeClassifier(criterion='entropy')\n",
    "# We fit the tree with only the last two features\n",
    "clf = clf.fit(train[features[2:]], y_train)\n",
    "dot_data = tree.export_graphviz(clf, out_file=None, \n",
    "                         feature_names=iris.feature_names[2:],  \n",
    "                         class_names=iris.target_names,  \n",
    "                         filled=True, rounded=True,  \n",
    "                         special_characters=True)  \n",
    "graph = graphviz.Source(dot_data)  \n",
    "graph "
   ]
  },
  {
   "cell_type": "markdown",
   "metadata": {},
   "source": []
  },
  {
   "cell_type": "code",
   "execution_count": 211,
   "metadata": {},
   "outputs": [
    {
     "data": {
      "text/plain": [
       "<matplotlib.contour.QuadContourSet at 0x7fc5002e5550>"
      ]
     },
     "execution_count": 211,
     "metadata": {},
     "output_type": "execute_result"
    },
    {
     "data": {
      "image/png": "[encoded data removed]",
      "text/plain": [
       "<Figure size 453.85x360 with 1 Axes>"
      ]
     },
     "metadata": {},
     "output_type": "display_data"
    }
   ],
   "source": [
    "X_pl = np.linspace(0,8,300) # petal length\n",
    "Y_pw = np.linspace(0,3,300) # petal width\n",
    "\n",
    "XX, YY= np.meshgrid(X_pl,Y_pw)\n",
    "grille_2D = np.vstack((XX.flatten(),YY.flatten())).T\n",
    "prediction_grille = clf.predict(grille_2D)\n",
    "\n",
    "df['predict'] = (clf.predict(df[features[2:]])==iris.target)\n",
    "sns.relplot(data=df,x=\"petal length (cm)\", y=\"petal width (cm)\",hue='species',style='predict',palette=['b','r','g'], )\n",
    "plt.contourf(X_pl,Y_pw,prediction_grille.reshape(300,300),cmap='brg',alpha = 0.3)"
   ]
  },
  {
   "cell_type": "markdown",
   "metadata": {},
   "source": [
    "Decisions boundaries are simplier as before."
   ]
  },
  {
   "cell_type": "code",
   "execution_count": 212,
   "metadata": {},
   "outputs": [
    {
     "name": "stdout",
     "output_type": "stream",
     "text": [
      "accuracy on the training set 1.0\n",
      "accuracy on the  test set    0.90625\n"
     ]
    }
   ],
   "source": [
    "print(\"accuracy on the training set\", clf.score(train[features[2:]], y_train))\n",
    "print(\"accuracy on the  test set   \", clf.score(test[features[2:]], y_test))"
   ]
  },
  {
   "cell_type": "code",
   "execution_count": 213,
   "metadata": {},
   "outputs": [
    {
     "name": "stdout",
     "output_type": "stream",
     "text": [
      "accuracy on the  test set    0.09375\n",
      "accuracy on the  test set    0.09375\n",
      "accuracy on the  test set    0.09375\n",
      "accuracy on the  test set    0.09375\n",
      "accuracy on the  test set    0.03125\n",
      "accuracy on the  test set    0.09375\n",
      "accuracy on the  test set    0.09375\n",
      "accuracy on the  test set    0.03125\n"
     ]
    },
    {
     "data": {
      "image/png": "[encoded data removed]",
      "text/plain": [
       "<Figure size 432x288 with 8 Axes>"
      ]
     },
     "metadata": {},
     "output_type": "display_data"
    }
   ],
   "source": [
    "for i in range(8):\n",
    "    plt.subplot(4,2,i+1)\n",
    "    train_sample = train.sample(100)\n",
    "    y_train_sample = pd.factorize(train_sample['species'],sort='unique')[0]\n",
    "    clf = tree.DecisionTreeClassifier()\n",
    "    clf = clf.fit(train_sample[features[2:]], y_train_sample)\n",
    "    prediction_grille = clf.predict(grille_2D)\n",
    "    plt.contourf(X_pl,Y_pw,prediction_grille.reshape(300,300),cmap='brg',alpha = 0.3)\n",
    "    print(\"accuracy on the  test set   \", 1-clf.score(test[features[2:]], y_test))"
   ]
  },
  {
   "cell_type": "markdown",
   "metadata": {},
   "source": [
    "The decisions boundaries still sensitive to the training set because it is decision tree.<br>\n",
    "The errors rates are low comparing to the previous tree, and in the same order than the tree using all features.<br>\n",
    "It is possible to build a tree with good result using only two features."
   ]
  },
  {
   "cell_type": "markdown",
   "metadata": {},
   "source": [
    "#### try with an other splitting criterion"
   ]
  },
  {
   "cell_type": "code",
   "execution_count": 214,
   "metadata": {},
   "outputs": [
    {
     "name": "stdout",
     "output_type": "stream",
     "text": [
      "[GINI] accuracy on the  test set    0.375\n",
      "[ENTR] accuracy on the  test set    0.375\n",
      "[GINI] accuracy on the  test set    0.3125\n",
      "[ENTR] accuracy on the  test set    0.28125\n",
      "[GINI] accuracy on the  test set    0.4375\n",
      "[ENTR] accuracy on the  test set    0.40625\n",
      "[GINI] accuracy on the  test set    0.4375\n",
      "[ENTR] accuracy on the  test set    0.46875\n"
     ]
    },
    {
     "data": {
      "image/png": "[encoded data removed]",
      "text/plain": [
       "<Figure size 432x288 with 8 Axes>"
      ]
     },
     "metadata": {},
     "output_type": "display_data"
    }
   ],
   "source": [
    "for i in range(4):\n",
    "    plt.subplot(4,2,2*i+1)\n",
    "    train_sample = train.sample(100)\n",
    "    y_train_sample = pd.factorize(train_sample['species'],sort='unique')[0]\n",
    "   \n",
    "    clf = tree.DecisionTreeClassifier(criterion='gini')\n",
    "    clf = clf.fit(train_sample[features[:2]], y_train_sample)\n",
    "    prediction_grille = clf.predict(grille_2D)\n",
    "    plt.contourf(X_pl,Y_pw,prediction_grille.reshape(300,300),cmap='brg',alpha = 0.3)\n",
    "    print(\"[GINI] accuracy on the  test set   \", 1-clf.score(test[features[2:]], y_test))\n",
    "    \n",
    "    plt.subplot(4,2,2*i+2)\n",
    "    clf = tree.DecisionTreeClassifier(criterion='entropy')\n",
    "    clf = clf.fit(train_sample[features[:2]], y_train_sample)\n",
    "    prediction_grille = clf.predict(grille_2D)\n",
    "    plt.contourf(X_pl,Y_pw,prediction_grille.reshape(300,300),cmap='brg',alpha = 0.3)\n",
    "    print(\"[ENTR] accuracy on the  test set   \", 1-clf.score(test[features[2:]], y_test))"
   ]
  },
  {
   "cell_type": "markdown",
   "metadata": {},
   "source": [
    "The plots of left represents the decisions boundaries of decision trees building with GINI's criterion.<br>\n",
    "The plots of right represents the decisions boundaries of decision trees building with entropy's criterion.<br>\n"
   ]
  },
  {
   "cell_type": "markdown",
   "metadata": {},
   "source": [
    "There is no major differences between gini-trees and entropy-trees.<br>\n",
    "That make sense because the gini function and entropy function given quite similar outputs."
   ]
  },
  {
   "cell_type": "markdown",
   "metadata": {},
   "source": [
    "### Going further ahead (not mandatory) \n",
    "Try the same approach adapted to another toy dataset from `scikit-learn` described at:\n",
    "http://scikit-learn.org/stable/datasets/index.html\n",
    "\n",
    "Play with another dataset available at:\n",
    "http://archive.ics.uci.edu/ml/datasets.html"
   ]
  },
  {
   "cell_type": "markdown",
   "metadata": {},
   "source": [
    "## Step 4: Random forests\n",
    "Go to \n",
    "\n",
    "http://scikit-learn.org/stable/modules/generated/sklearn.ensemble.RandomForestClassifier.html \n",
    "\n",
    "for a documentation about the `RandomForestClassifier` provided by `scikit-learn`.\n",
    "\n",
    "Since target values must be integers, we first need to transform labels into numbers as below."
   ]
  },
  {
   "cell_type": "code",
   "execution_count": 215,
   "metadata": {},
   "outputs": [
    {
     "data": {
      "text/plain": [
       "array([0, 0, 0, 0, 0, 0, 0, 0, 0, 0, 0, 0, 0, 0, 0, 0, 0, 0, 0, 0, 0, 0,\n",
       "       0, 0, 0, 0, 0, 0, 0, 0, 0, 0, 0, 0, 0, 0, 0, 1, 1, 1, 1, 1, 1, 1,\n",
       "       1, 1, 1, 1, 1, 1, 1, 1, 1, 1, 1, 1, 1, 1, 1, 1, 1, 1, 1, 1, 1, 1,\n",
       "       1, 1, 1, 1, 1, 1, 1, 1, 1, 1, 1, 1, 1, 1, 2, 2, 2, 2, 2, 2, 2, 2,\n",
       "       2, 2, 2, 2, 2, 2, 2, 2, 2, 2, 2, 2, 2, 2, 2, 2, 2, 2, 2, 2, 2, 2,\n",
       "       2, 2, 2, 2, 2, 2, 2, 2])"
      ]
     },
     "execution_count": 215,
     "metadata": {},
     "output_type": "execute_result"
    }
   ],
   "source": [
    "# train['species'] contains the actual species names. Before we can use it,\n",
    "# we need to convert each species name into a digit. So, in this case there\n",
    "# are three species, which have been coded as 0, 1, or 2.\n",
    "y = pd.factorize(train['species'])[0]\n",
    "\n",
    "# View target\n",
    "y"
   ]
  },
  {
   "cell_type": "code",
   "execution_count": 216,
   "metadata": {},
   "outputs": [
    {
     "data": {
      "text/plain": [
       "RandomForestClassifier(bootstrap=True, class_weight=None, criterion='gini',\n",
       "            max_depth=None, max_features='auto', max_leaf_nodes=None,\n",
       "            min_impurity_decrease=0.0, min_impurity_split=None,\n",
       "            min_samples_leaf=1, min_samples_split=2,\n",
       "            min_weight_fraction_leaf=0.0, n_estimators=10, n_jobs=2,\n",
       "            oob_score=False, random_state=0, verbose=0, warm_start=False)"
      ]
     },
     "execution_count": 216,
     "metadata": {},
     "output_type": "execute_result"
    }
   ],
   "source": [
    "# Create a random forest Classifier. By convention, clf means 'Classifier'\n",
    "rf = RandomForestClassifier(n_jobs=2, random_state=0)\n",
    "\n",
    "# Train the Classifier to take the training features and learn how they relate\n",
    "# to the training y (the species)\n",
    "rf.fit(train[features], y)"
   ]
  },
  {
   "cell_type": "markdown",
   "metadata": {},
   "source": [
    "**Make predictions** and create actual english names for the plants for each predicted plant class:"
   ]
  },
  {
   "cell_type": "code",
   "execution_count": 217,
   "metadata": {},
   "outputs": [
    {
     "data": {
      "text/plain": [
       "[setosa, setosa, setosa, setosa, setosa, ..., virginica, virginica, virginica, virginica, virginica]\n",
       "Length: 32\n",
       "Categories (3, object): [setosa, versicolor, virginica]"
      ]
     },
     "execution_count": 217,
     "metadata": {},
     "output_type": "execute_result"
    }
   ],
   "source": [
    "preds = rf.predict(test[features])\n",
    "preds_names = pd.Categorical.from_codes(preds, iris.target_names)\n",
    "preds_names"
   ]
  },
  {
   "cell_type": "markdown",
   "metadata": {},
   "source": [
    "### Create a confusion matrix"
   ]
  },
  {
   "cell_type": "code",
   "execution_count": 218,
   "metadata": {},
   "outputs": [
    {
     "data": {
      "text/html": [
       "<div>\n",
       "<style scoped>\n",
       "    .dataframe tbody tr th:only-of-type {\n",
       "        vertical-align: middle;\n",
       "    }\n",
       "\n",
       "    .dataframe tbody tr th {\n",
       "        vertical-align: top;\n",
       "    }\n",
       "\n",
       "    .dataframe thead th {\n",
       "        text-align: right;\n",
       "    }\n",
       "</style>\n",
       "<table border=\"1\" class=\"dataframe\">\n",
       "  <thead>\n",
       "    <tr style=\"text-align: right;\">\n",
       "      <th>Predicted Species</th>\n",
       "      <th>0</th>\n",
       "      <th>1</th>\n",
       "      <th>2</th>\n",
       "    </tr>\n",
       "    <tr>\n",
       "      <th>Actual Species</th>\n",
       "      <th></th>\n",
       "      <th></th>\n",
       "      <th></th>\n",
       "    </tr>\n",
       "  </thead>\n",
       "  <tbody>\n",
       "    <tr>\n",
       "      <th>setosa</th>\n",
       "      <td>13</td>\n",
       "      <td>0</td>\n",
       "      <td>0</td>\n",
       "    </tr>\n",
       "    <tr>\n",
       "      <th>versicolor</th>\n",
       "      <td>0</td>\n",
       "      <td>5</td>\n",
       "      <td>2</td>\n",
       "    </tr>\n",
       "    <tr>\n",
       "      <th>virginica</th>\n",
       "      <td>0</td>\n",
       "      <td>0</td>\n",
       "      <td>12</td>\n",
       "    </tr>\n",
       "  </tbody>\n",
       "</table>\n",
       "</div>"
      ],
      "text/plain": [
       "Predicted Species   0  1   2\n",
       "Actual Species              \n",
       "setosa             13  0   0\n",
       "versicolor          0  5   2\n",
       "virginica           0  0  12"
      ]
     },
     "execution_count": 218,
     "metadata": {},
     "output_type": "execute_result"
    }
   ],
   "source": [
    "# Create confusion matrix unsing pandas:\n",
    "pd.crosstab(test['species'], preds, rownames=['Actual Species'], colnames=['Predicted Species'])"
   ]
  },
  {
   "cell_type": "markdown",
   "metadata": {},
   "source": [
    "## Feature selection using random forests byproducts\n",
    "\n",
    "One of the interesting use cases for random forest is feature selection. One of the byproducts of trying lots of decision tree variations is that you can examine which variables are working best/worst in each tree.\n",
    "\n",
    "When a certain tree uses one variable and another doesn't, you can compare the value lost or gained from the inclusion/exclusion of that variable. The good random forest implementations are going to do that for you, so all you need to do is know which method or variable to look at."
   ]
  },
  {
   "cell_type": "markdown",
   "metadata": {},
   "source": [
    "### View feature importance\n",
    "While we don't get regression coefficients like with ordinary least squares (OLS), we do get a score telling us how important each feature was in classifying. This is one of the most powerful parts of random forests, because we can clearly see that petal width was more important in classification than sepal width.\n"
   ]
  },
  {
   "cell_type": "code",
   "execution_count": 219,
   "metadata": {},
   "outputs": [
    {
     "data": {
      "text/plain": [
       "[('sepal length (cm)', 0.11185992930506346),\n",
       " ('sepal width (cm)', 0.016341813006098178),\n",
       " ('petal length (cm)', 0.36439533040889194),\n",
       " ('petal width (cm)', 0.5074029272799464)]"
      ]
     },
     "execution_count": 219,
     "metadata": {},
     "output_type": "execute_result"
    }
   ],
   "source": [
    "# View a list of the features and their importance scores\n",
    "list(zip(train[features], rf.feature_importances_))"
   ]
  },
  {
   "cell_type": "markdown",
   "metadata": {},
   "source": [
    "As see previously, the petals features are more important than the peatals features.<br>\n",
    "But we also see/learn that \"sepal length\" are more important than \"sepal width\".\n",
    "And that \"petal width\" are more important than \"petal length\"."
   ]
  },
  {
   "cell_type": "markdown",
   "metadata": {},
   "source": [
    "## Exercise 3\n",
    "1. Comment on the feature importances with respect to your previous observations on decision trees above.\n",
    "\n",
    "2. Extract and visualize 5 trees belonging to the random forest using the attribute `estimators_` of the trained random forest classifier. Compare them. *Note that you may code a loop on extracted trees.*\n",
    "\n",
    "3. Study the influence of parameters like `max_depth`, `min_samples_leaf` and `min_samples_split`. Try to optimize them and explain your approach and choices.\n",
    "\n",
    "4. How is estimated the prediction error of a random forest ?\n",
    "*Indication: have a look at parameter `oob_score`.*\n",
    "What are out-of-bag samples ?\n",
    "\n",
    "5. What should you do when classes are not balanced in the dataset ? (that is when there are much more examples of one class than another)"
   ]
  },
  {
   "cell_type": "code",
   "execution_count": 220,
   "metadata": {},
   "outputs": [
    {
     "data": {
      "application/vnd.jupyter.widget-view+json": {
       "model_id": "f9a7237fe23a4fa78354c0e963c1f39b",
       "version_major": 2,
       "version_minor": 0
      },
      "text/plain": [
       "interactive(children=(Dropdown(description='est', options=(0, 1, 2, 3, 4), value=0), Output()), _dom_classes=(…"
      ]
     },
     "metadata": {},
     "output_type": "display_data"
    }
   ],
   "source": [
    "@interact(est=[0,1,2,3,4])\n",
    "def view(est):\n",
    "    clf = rf.estimators_[est]\n",
    "    dot_data = tree.export_graphviz(clf, out_file=None, \n",
    "                         feature_names=iris.feature_names,  \n",
    "                         class_names=iris.target_names,  \n",
    "                         filled=True, rounded=True,  \n",
    "                         special_characters=True)  \n",
    "    return graphviz.Source(dot_data)  \n"
   ]
  },
  {
   "cell_type": "markdown",
   "metadata": {},
   "source": [
    "### Hyper-parameter optimization"
   ]
  },
  {
   "cell_type": "code",
   "execution_count": 240,
   "metadata": {
    "scrolled": true
   },
   "outputs": [
    {
     "data": {
      "application/vnd.jupyter.widget-view+json": {
       "model_id": "15a1bb2cd412419d8ae52c26cb4e9e16",
       "version_major": 2,
       "version_minor": 0
      },
      "text/plain": [
       "interactive(children=(Dropdown(description='max_depth', options=(1, 2, 3, 10), value=1), Dropdown(description=…"
      ]
     },
     "metadata": {},
     "output_type": "display_data"
    }
   ],
   "source": [
    "dict_param = {'max_depth':[1,2,3,10],\n",
    "            'min_samples_leaf':[1,10,30],\n",
    "            'min_samples_split':[2,3,10,20],\n",
    "             'oob_score':True,\n",
    "             'nb_tree':[0,1,2,3,4]}\n",
    "@interact(**dict_param)\n",
    "def explore(max_depth, min_samples_leaf, min_samples_split, oob_score, nb_tree):\n",
    "    input_dic = {'max_depth':max_depth,\n",
    "            'min_samples_leaf':min_samples_leaf,\n",
    "            'min_samples_split':min_samples_split,\n",
    "             'oob_score':oob_score}\n",
    "    clf = RandomForestClassifier(n_jobs=2, random_state=0, **input_dic)\n",
    "    clf.fit(train[features], y)\n",
    "    dot_data = tree.export_graphviz(clf.estimators_[nb_tree], out_file=None, \n",
    "                             feature_names=iris.feature_names,  \n",
    "                             class_names=iris.target_names,  \n",
    "                             filled=True, rounded=True,  \n",
    "                             special_characters=True)  \n",
    "    return graphviz.Source(dot_data)  "
   ]
  },
  {
   "cell_type": "markdown",
   "metadata": {},
   "source": [
    "The parameters max_depth, min_samples_leaf and min_samples_split affects the stopping criterion.<br>\n",
    "If the algorithm stop earlier, the tree is smaller and simpler.<br>\n",
    "By tunning the parameter, we can make better prediction (tree too small) and avoid overfitting (tree too large).\n"
   ]
  },
  {
   "cell_type": "markdown",
   "metadata": {},
   "source": [
    "#### Cross Validation"
   ]
  },
  {
   "cell_type": "markdown",
   "metadata": {},
   "source": [
    "We use cross validation to tunning the criterions"
   ]
  },
  {
   "cell_type": "code",
   "execution_count": 228,
   "metadata": {},
   "outputs": [
    {
     "name": "stdout",
     "output_type": "stream",
     "text": [
      "0\n",
      "1\n",
      "2\n",
      "3\n",
      "4\n",
      "5\n",
      "6\n",
      "7\n",
      "8\n",
      "9\n"
     ]
    }
   ],
   "source": [
    "shuffle_train = train.sample(frac=1)\n",
    "shuffle_train['species'] =  pd.factorize(shuffle_train['species'],sort='unique')[0]\n",
    "set_size = train.shape[0]\n",
    "K = 10\n",
    "n = set_size//K\n",
    "\n",
    "val_max_depth = [1,2,3,4,5,6,7,8,9]\n",
    "val_min_samples_leaf = [1,5,10,20,40]\n",
    "val_min_samples_split = [2,5,10,20,40]\n",
    "\n",
    "moy_vals = np.zeros((len(val_max_depth),\n",
    "                    len(val_min_samples_leaf),\n",
    "                    len(val_min_samples_split)))\n",
    "\n",
    "for l in range(K):\n",
    "    train_set = np.vstack((shuffle_train.values[:l*n],shuffle_train.values[(l+1)*n:]))\n",
    "    validation_set = shuffle_train.values[l*n:(l+1)*n]\n",
    "    train_set = train_set.astype(np.float64)\n",
    "    validation_set = validation_set.astype(np.float64)\n",
    "\n",
    "    X_train, y_train = train_set[:,:4],train_set[:,4]\n",
    "    X_validation, y_validation = validation_set[:,:4],validation_set[:,4]\n",
    "    \n",
    "    for i in range(len(val_max_depth)):\n",
    "        for j in range(len(val_min_samples_leaf)):\n",
    "            for k in range(len(val_min_samples_split)):\n",
    "                dict_param = {'max_depth':val_max_depth[i],\n",
    "                              'min_samples_leaf':val_min_samples_leaf[j],\n",
    "                             'min_samples_split':val_min_samples_split[k]}\n",
    "                clf = RandomForestClassifier(n_jobs=2, random_state=0,**dict_param)\n",
    "                clf.fit(X_train, y_train)\n",
    "                moy_vals[i,j,k] += clf.score(X_validation, y_validation)\n",
    "    print(l)\n",
    "moy_vals /= K"
   ]
  },
  {
   "cell_type": "code",
   "execution_count": 233,
   "metadata": {},
   "outputs": [
    {
     "data": {
      "image/png": "[encoded data removed]",
      "text/plain": [
       "<Figure size 432x288 with 1 Axes>"
      ]
     },
     "metadata": {},
     "output_type": "display_data"
    }
   ],
   "source": [
    "plt.plot(val_min_samples_split,moy_vals.mean(axis=0).mean(axis=0))\n",
    "plt.title(\"accuracy % min_samples_split\");"
   ]
  },
  {
   "cell_type": "code",
   "execution_count": 234,
   "metadata": {},
   "outputs": [
    {
     "data": {
      "image/png": "[encoded data removed]",
      "text/plain": [
       "<Figure size 432x288 with 1 Axes>"
      ]
     },
     "metadata": {},
     "output_type": "display_data"
    }
   ],
   "source": [
    "plt.plot(val_max_depth,moy_vals.mean(axis=2).mean(axis=1))\n",
    "plt.title(\"accuracy % max_depth\");"
   ]
  },
  {
   "cell_type": "code",
   "execution_count": 235,
   "metadata": {},
   "outputs": [
    {
     "data": {
      "image/png": "[encoded data removed]",
      "text/plain": [
       "<Figure size 432x288 with 1 Axes>"
      ]
     },
     "metadata": {},
     "output_type": "display_data"
    }
   ],
   "source": [
    "plt.plot(val_min_samples_leaf,moy_vals.mean(axis=0).mean(axis=1))\n",
    "plt.title(\"accuracy % min_samples_leaf\");"
   ]
  },
  {
   "cell_type": "markdown",
   "metadata": {},
   "source": [
    "Using the result from the cross validation the optimal values for parameter could be :<br>\n",
    "min_samples_split = 20<br>\n",
    "max_depth = 4<br>\n",
    "min_samples_leaf = 20"
   ]
  },
  {
   "cell_type": "markdown",
   "metadata": {},
   "source": [
    "### Oob error"
   ]
  },
  {
   "cell_type": "markdown",
   "metadata": {},
   "source": [
    "to compute the error on a random forest classifier we can use oob error (Out Of Bag Error)<br>\n",
    "We re-use the train set to make prediction but only with the tree who don't have the sample in their own training set.<br>\n",
    "This allow to avoid using a test set to compute the error."
   ]
  },
  {
   "cell_type": "code",
   "execution_count": 242,
   "metadata": {},
   "outputs": [
    {
     "data": {
      "text/plain": [
       "False"
      ]
     },
     "execution_count": 242,
     "metadata": {},
     "output_type": "execute_result"
    }
   ],
   "source": []
  },
  {
   "cell_type": "markdown",
   "metadata": {},
   "source": [
    "### Dealing with unbalanced data"
   ]
  },
  {
   "cell_type": "markdown",
   "metadata": {},
   "source": [
    "To deal with unbalanced data, we can resampling our dataset. We can sample each classes separately and in this way choose the same number of sample in each classes.<br>\n",
    "In scikit-learn we can simply choose class_weight = 'balanced'."
   ]
  },
  {
   "cell_type": "markdown",
   "metadata": {},
   "source": [
    "## Step 5: a small example of regression using random forests\n",
    "Random forest is capable of learning without carefully crafted data transformations. Take the the $f(x) = \\sin(x)$ function for example.\n",
    "\n",
    "Create some fake data and add a little noise."
   ]
  },
  {
   "cell_type": "code",
   "execution_count": 57,
   "metadata": {},
   "outputs": [
    {
     "data": {
      "image/png": "[encoded data removed]",
      "text/plain": [
       "<Figure size 432x288 with 1 Axes>"
      ]
     },
     "metadata": {
      "needs_background": "light"
     },
     "output_type": "display_data"
    }
   ],
   "source": [
    "x = np.random.uniform(-2.5, 2.5, 1000)\n",
    "y = np.sin(x) + np.random.normal(0, .1, 1000)\n",
    "\n",
    "plt.plot(x,y,'ko',markersize=1,label='data')\n",
    "plt.plot(np.arange(-2.5,2.5,0.1),np.sin(np.arange(-2.5,2.5,0.1)),'r-',label='ref')\n",
    "plt.show()"
   ]
  },
  {
   "cell_type": "markdown",
   "metadata": {},
   "source": [
    "If we try and build a basic linear model to predict y using x we end up with a straight line that sort of bisects the sin(x) function. Whereas if we use a random forest, it does a much better job of approximating the sin(x) curve and we get something that looks much more like the true function.\n",
    "\n",
    "Based on this example, we will illustrate how the random forest isn't bound by linear constraints."
   ]
  },
  {
   "cell_type": "markdown",
   "metadata": {},
   "source": [
    "## Exercise 4\n",
    "1. Apply random forests on this dataset for regression and compare performances with ordinary least squares regression.\n",
    "*Note that ordinay least square regression is available thanks to:\n",
    "from sklearn.linear_model import LinearRegression*\n",
    "\n",
    "2. Comment on your results."
   ]
  },
  {
   "cell_type": "markdown",
   "metadata": {},
   "source": [
    "### Indications:\n",
    "You may use half of points for training and others to test predictions. Then you will have an idea of how far the random forest predictor fits the sinus curve.\n",
    "\n",
    "To this aim, you will need to use the model `RandomForestRegressor`. Be careful that when only 1 feature `x` is used as an input, you will need to reshape it by `x.reshape(-1,1)` when using methods `fit` and `predict`."
   ]
  },
  {
   "cell_type": "code",
   "execution_count": 160,
   "metadata": {},
   "outputs": [
    {
     "name": "stdout",
     "output_type": "stream",
     "text": [
      "training error 0.975\n",
      "test error 0.973\n",
      "distance error from ubiased data : 7.9532709776503365\n"
     ]
    },
    {
     "data": {
      "text/plain": [
       "<matplotlib.legend.Legend at 0x7fc4e31e1cf8>"
      ]
     },
     "execution_count": 160,
     "metadata": {},
     "output_type": "execute_result"
    },
    {
     "data": {
      "image/png": "[encoded data removed]",
      "text/plain": [
       "<Figure size 432x288 with 1 Axes>"
      ]
     },
     "metadata": {
      "needs_background": "light"
     },
     "output_type": "display_data"
    }
   ],
   "source": [
    "regrf = RandomForestRegressor(n_estimators=5, max_depth=3)\n",
    "# Train on even indices dataset\n",
    "regrf.fit(x[0::2].reshape(-1, 1),y[0::2])\n",
    "# We predict on test dataset (odd indices)\n",
    "plt.plot(x[1::2],regrf.predict(x[1::2].reshape((-1,1))),'*',label=\"R-F Regression\")\n",
    "plt.plot(np.arange(-2.5,2.5,0.1),np.sin(np.arange(-2.5,2.5,0.1)),'r-',label='ref')\n",
    "print(f\"training error {regrf.score(x[0::2].reshape((-1,1)), y[0::2]) :.3f}\")\n",
    "print(f\"test error {regrf.score(x[1::2].reshape((-1,1)), y[1::2]) :.3f}\")\n",
    "print(f\"distance error from ubiased data : {np.sum((regrf.predict(x[1::2].reshape((-1,1)))- y[1::2])**2)}\")\n",
    "plt.legend()"
   ]
  },
  {
   "cell_type": "markdown",
   "metadata": {},
   "source": [
    "If we use a tree for regression we will approximate the function with a step function, each leave of the tree correspond to one step.<br>\n",
    "The number of leaves of the tree, is majored by $2^{max\\_depth}$<br>\n",
    "Also if we increase the number of leaves, the tree become more precise, but max_depth should not be not big to avoid overfitting."
   ]
  },
  {
   "cell_type": "markdown",
   "metadata": {},
   "source": [
    "#### Tree regression"
   ]
  },
  {
   "cell_type": "code",
   "execution_count": 161,
   "metadata": {},
   "outputs": [
    {
     "name": "stdout",
     "output_type": "stream",
     "text": [
      "******** USING max_depth=1************\n",
      "training error 0.856\n",
      "test error 0.836\n",
      "distance error from ubiased data : 48.18031354323341\n",
      "******** USING max_depth=2************\n",
      "training error 0.955\n",
      "test error 0.956\n",
      "distance error from ubiased data : 13.082562563508997\n",
      "******** USING max_depth=4************\n",
      "training error 0.981\n",
      "test error 0.978\n",
      "distance error from ubiased data : 6.622085826957813\n",
      "******** USING max_depth=20************\n",
      "training error 0.987\n",
      "test error 0.967\n",
      "distance error from ubiased data : 9.64855321428\n"
     ]
    },
    {
     "data": {
      "image/png": "[encoded data removed]",
      "text/plain": [
       "<Figure size 432x288 with 4 Axes>"
      ]
     },
     "metadata": {
      "needs_background": "light"
     },
     "output_type": "display_data"
    }
   ],
   "source": [
    "max_d_list = [1,2,4,20]\n",
    "for i in range(0,len(max_d_list)):\n",
    "    plt.subplot(2,2,i+1)\n",
    "    regrf = RandomForestRegressor(n_estimators=1, max_depth=max_d_list[i])\n",
    "    # Train on even indices dataset\n",
    "    regrf.fit(x[0::2].reshape(-1, 1),y[0::2])\n",
    "    # We predict on test dataset (odd indices)\n",
    "    plt.plot(x[1::2],regrf.predict(x[1::2].reshape((-1,1))),'*',label=\"R-F Regression\")\n",
    "    plt.plot(np.arange(-2.5,2.5,0.1),np.sin(np.arange(-2.5,2.5,0.1)),'r-',label='ref')\n",
    "    plt.title(f\"RF Reg. with max_depth={max_d_list[i]}\")\n",
    "    print(f\"******** USING max_depth={max_d_list[i]}************\")\n",
    "    print(f\"training error {regrf.score(x[0::2].reshape((-1,1)), y[0::2]) :.3f}\")\n",
    "    print(f\"test error {regrf.score(x[1::2].reshape((-1,1)), y[1::2]) :.3f}\")\n",
    "    print(f\"distance error from ubiased data : {np.sum((regrf.predict(x[1::2].reshape((-1,1)))- y[1::2])**2)}\")\n"
   ]
  },
  {
   "cell_type": "markdown",
   "metadata": {},
   "source": [
    "We can see with the three first graph, that if tree are more deeper they can better approximate the function.<br>\n",
    "In the last graph, the tree has overfit the data, and then have touble approaching the curve."
   ]
  },
  {
   "cell_type": "markdown",
   "metadata": {},
   "source": [
    "#### Random Forest Regression"
   ]
  },
  {
   "cell_type": "markdown",
   "metadata": {},
   "source": [
    "Random-Forest predictor are build with severals tree regressor.<br>\n",
    "In our case, we have only 1 feature. Also the only differences between the trees in the Forest is the dataset using for training.<br>\n",
    "Also, there is no great differences between the tree, their differ only sightly on the threshold, using to split the node. This make that the predicted function is smoother."
   ]
  },
  {
   "cell_type": "code",
   "execution_count": 181,
   "metadata": {},
   "outputs": [
    {
     "name": "stdout",
     "output_type": "stream",
     "text": [
      "******** USING n_estimators=1************\n",
      "training error 0.954\n",
      "test error 0.950\n",
      "distance error from ubiased data : 14.722\n",
      "******** USING n_estimators=2************\n",
      "training error 0.961\n",
      "test error 0.962\n",
      "distance error from ubiased data : 11.335\n",
      "******** USING n_estimators=4************\n",
      "training error 0.959\n",
      "test error 0.960\n",
      "distance error from ubiased data : 11.669\n",
      "******** USING n_estimators=10************\n",
      "training error 0.960\n",
      "test error 0.963\n",
      "distance error from ubiased data : 10.909\n"
     ]
    },
    {
     "data": {
      "image/png": "[encoded data removed]",
      "text/plain": [
       "<Figure size 432x288 with 4 Axes>"
      ]
     },
     "metadata": {
      "needs_background": "light"
     },
     "output_type": "display_data"
    }
   ],
   "source": [
    "n_estimators_list = [1,2,4,10]\n",
    "for i in range(0,len(n_estimators_list)):\n",
    "    plt.subplot(2,2,i+1)\n",
    "    regrf = RandomForestRegressor(n_estimators=n_estimators_list[i], max_depth=2)\n",
    "    # Train on even indices dataset\n",
    "    regrf.fit(x[0::2].reshape(-1, 1),y[0::2])\n",
    "    # We predict on test dataset (odd indices)\n",
    "    plt.plot(x[1::2],regrf.predict(x[1::2].reshape((-1,1))),'*',label=\"R-F Regression\")\n",
    "    plt.plot(np.arange(-2.5,2.5,0.1),np.sin(np.arange(-2.5,2.5,0.1)),'r-',label='ref')\n",
    "    plt.title(f\"n_estimators={n_estimators_list[i]}\")\n",
    "    print(f\"******** USING n_estimators={n_estimators_list[i]}************\")\n",
    "    print(f\"training error {regrf.score(x[0::2].reshape((-1,1)), y[0::2]) :.3f}\")\n",
    "    print(f\"test error {regrf.score(x[1::2].reshape((-1,1)), y[1::2]) :.3f}\")\n",
    "    print(f\"distance error from ubiased data : {np.sum((regrf.predict(x[1::2].reshape((-1,1)))- y[1::2])**2):.3f}\")\n"
   ]
  },
  {
   "cell_type": "markdown",
   "metadata": {},
   "source": [
    "We see that by increase the number of estimators, the functions stay quite the same. But the steps are smoother."
   ]
  },
  {
   "cell_type": "markdown",
   "metadata": {},
   "source": [
    "With the previous results, we can expect to have great results with : $n\\_estimators=10, max\\_depth=5$ (for example)"
   ]
  },
  {
   "cell_type": "code",
   "execution_count": 180,
   "metadata": {},
   "outputs": [
    {
     "name": "stdout",
     "output_type": "stream",
     "text": [
      "training error 0.987\n",
      "test error 0.981\n",
      "distance error from ubiased data : 5.745\n"
     ]
    },
    {
     "data": {
      "text/plain": [
       "<matplotlib.legend.Legend at 0x7fc4e33f5198>"
      ]
     },
     "execution_count": 180,
     "metadata": {},
     "output_type": "execute_result"
    },
    {
     "data": {
      "image/png": "[encoded data removed]",
      "text/plain": [
       "<Figure size 432x288 with 1 Axes>"
      ]
     },
     "metadata": {
      "needs_background": "light"
     },
     "output_type": "display_data"
    }
   ],
   "source": [
    "regrf = RandomForestRegressor(n_estimators=10, max_depth=5)\n",
    "# Train on even indices dataset\n",
    "regrf.fit(x[0::2].reshape(-1, 1),y[0::2])\n",
    "# We predict on test dataset (odd indices)\n",
    "plt.plot(x[1::2],regrf.predict(x[1::2].reshape((-1,1))),'*',label=\"R-F Regression\")\n",
    "plt.plot(np.arange(-2.5,2.5,0.1),np.sin(np.arange(-2.5,2.5,0.1)),'r-',label='ref')\n",
    "print(f\"training error {regrf.score(x[0::2].reshape((-1,1)), y[0::2]) :.3f}\")\n",
    "print(f\"test error {regrf.score(x[1::2].reshape((-1,1)), y[1::2]) :.3f}\")\n",
    "print(f\"distance error from ubiased data : {np.sum((regrf.predict(x[1::2].reshape((-1,1)))- y[1::2])**2):.3f}\")\n",
    "\n",
    "plt.legend()"
   ]
  },
  {
   "cell_type": "markdown",
   "metadata": {},
   "source": [
    "#### Linear Regression"
   ]
  },
  {
   "cell_type": "markdown",
   "metadata": {},
   "source": [
    "If we use linear regression with only the first feature, we will have obviously a big error when estimating the sinus function."
   ]
  },
  {
   "cell_type": "code",
   "execution_count": 179,
   "metadata": {},
   "outputs": [
    {
     "name": "stdout",
     "output_type": "stream",
     "text": [
      "training error 0.853\n",
      "test error 0.867\n",
      "distance error from ubiased data : 39.076\n"
     ]
    },
    {
     "data": {
      "image/png": "[encoded data removed]",
      "text/plain": [
       "<Figure size 432x288 with 1 Axes>"
      ]
     },
     "metadata": {
      "needs_background": "light"
     },
     "output_type": "display_data"
    }
   ],
   "source": [
    "from sklearn.linear_model import LinearRegression\n",
    "regrf = LinearRegression()\n",
    "regrf.fit((x[0::2]).reshape(-1, 1),y[0::2])\n",
    "plt.plot(x[1::2],regrf.predict((x[1::2]).reshape((-1,1))),'*',label=\"R-F Regression\")\n",
    "plt.plot(np.arange(-2.5,2.5,0.1),np.sin(np.arange(-2.5,2.5,0.1)),'r-',label='ref')\n",
    "plt.legend()\n",
    "print(f\"training error {regrf.score(x[0::2].reshape((-1,1)), y[0::2]) :.3f}\")\n",
    "print(f\"test error {regrf.score(x[1::2].reshape((-1,1)), y[1::2]) :.3f}\")\n",
    "print(f\"distance error from ubiased data : {np.sum((regrf.predict(x[1::2].reshape((-1,1)))- y[1::2])**2):.3f}\")\n"
   ]
  },
  {
   "cell_type": "markdown",
   "metadata": {},
   "source": [
    "First we can use features augmantation to make polynomial regression"
   ]
  },
  {
   "cell_type": "code",
   "execution_count": 177,
   "metadata": {},
   "outputs": [
    {
     "name": "stdout",
     "output_type": "stream",
     "text": [
      "(1000, 2)\n",
      "******** USING degré =2************\n",
      "training error 0.855\n",
      "test error 0.869\n",
      "distance error from ubiased data : 38.586\n",
      "(1000, 3)\n",
      "******** USING degré =3************\n",
      "training error 0.983\n",
      "test error 0.982\n",
      "distance error from ubiased data : 5.416\n",
      "(1000, 4)\n",
      "******** USING degré =4************\n",
      "training error 0.983\n",
      "test error 0.982\n",
      "distance error from ubiased data : 5.390\n",
      "(1000, 5)\n",
      "******** USING degré =5************\n",
      "training error 0.984\n",
      "test error 0.983\n",
      "distance error from ubiased data : 5.095\n"
     ]
    },
    {
     "data": {
      "image/png": "[encoded data removed]",
      "text/plain": [
       "<Figure size 432x288 with 4 Axes>"
      ]
     },
     "metadata": {
      "needs_background": "light"
     },
     "output_type": "display_data"
    }
   ],
   "source": [
    "x_aug = x.copy().reshape((-1,1))\n",
    "deg_list = [2,3,4,5]\n",
    "point_deg = 0\n",
    "for i in range(2,deg_list[-1]+1):\n",
    "    x_aug = np.hstack((x_aug,x_aug[:,0].reshape((-1,1))**i))\n",
    "    if i == deg_list[point_deg]:\n",
    "        print(x_aug.shape)\n",
    "        plt.subplot(2,2,point_deg+1)\n",
    "        regln = LinearRegression()\n",
    "        # Train on even indices dataset\n",
    "        regln.fit(x_aug[0::2],y[0::2])\n",
    "        # We predict on test dataset (odd indices)\n",
    "        plt.plot(x[1::2],regln.predict(x_aug[1::2]),'*',label=\"R-F Regression\")\n",
    "        plt.plot(np.arange(-2.5,2.5,0.1),np.sin(np.arange(-2.5,2.5,0.1)),'r-',label='ref')\n",
    "        plt.title(f\"degré ={deg_list[point_deg]}\")\n",
    "        print(f\"******** USING degré ={deg_list[point_deg]}************\")\n",
    "        print(f\"training error {regln.score(x_aug[0::2], y[0::2]) :.3f}\")\n",
    "        print(f\"test error {regln.score(x_aug[1::2], y[1::2]) :.3f}\")\n",
    "        print(f\"distance error from ubiased data : {np.sum((regln.predict(x_aug[1::2])- y[1::2])**2) :.3f}\")\n",
    "\n",
    "        point_deg += 1"
   ]
  },
  {
   "cell_type": "markdown",
   "metadata": {},
   "source": [
    "With polynome degree > 2, the linear regression perfom sligthy better than the Random Forest Regression."
   ]
  },
  {
   "cell_type": "markdown",
   "metadata": {},
   "source": [
    "If we use $sin(x)$ as feature (it is a little cheating)<br>\n",
    "We don't obtain better result than with polynomial approximation."
   ]
  },
  {
   "cell_type": "code",
   "execution_count": 178,
   "metadata": {},
   "outputs": [
    {
     "name": "stdout",
     "output_type": "stream",
     "text": [
      "training error 0.984\n",
      "test error 0.983\n",
      "distance error from ubiased data : 5.087\n"
     ]
    },
    {
     "data": {
      "image/png": "[encoded data removed]",
      "text/plain": [
       "<Figure size 432x288 with 1 Axes>"
      ]
     },
     "metadata": {
      "needs_background": "light"
     },
     "output_type": "display_data"
    }
   ],
   "source": [
    "x_aug = x.copy().reshape((-1,1))\n",
    "x_aug = np.hstack((x_aug,np.sin(x_aug)))\n",
    "regln = LinearRegression()\n",
    "regln.fit(x_aug[0::2],y[0::2])\n",
    "plt.plot(x[1::2],regln.predict(x_aug[1::2]),'*',label=\"R-F Regression\")\n",
    "plt.plot(np.arange(-2.5,2.5,0.1),np.sin(np.arange(-2.5,2.5,0.1)),'r-',label='ref')\n",
    "plt.legend()\n",
    "print(f\"training error {regln.score(x_aug[0::2], y[0::2]) :.3f}\")\n",
    "print(f\"test error {regln.score(x_aug[1::2], y[1::2]) :.3f}\")\n",
    "print(f\"distance error from ubiased data : {np.sum((regln.predict(x_aug[1::2])- y[1::2])**2):.3f}\")\n"
   ]
  },
  {
   "cell_type": "markdown",
   "metadata": {},
   "source": [
    "When using only the features data, the RF perform well better than the Linear Model.<br>\n",
    "But in this simple case, we can use features augmantation to obtain good result with Linear Regression."
   ]
  },
  {
   "cell_type": "markdown",
   "metadata": {},
   "source": [
    "### Indication\n",
    "One clever way to compare models when using `scikit-learn`is to make a loop on models as follows:"
   ]
  },
  {
   "cell_type": "code",
   "execution_count": null,
   "metadata": {
    "collapsed": true
   },
   "outputs": [],
   "source": [
    "models = [DecisionTreeClassifier(max_depth=None),\n",
    "          RandomForestClassifier(n_estimators=n_estimators)]\n",
    "\n",
    "for model in models:\n",
    "    estimator = model()\n",
    "    \n",
    "    \n"
   ]
  },
  {
   "cell_type": "markdown",
   "metadata": {},
   "source": [
    "## Documentation\n",
    "\n",
    "### Decision trees\n",
    "http://scikit-learn.org/stable/modules/tree.html\n",
    "\n",
    "### Random forests\n",
    "http://scikit-learn.org/stable/modules/generated/sklearn.ensemble.RandomForestClassifier.html\n",
    "\n",
    "### Plot decision surface : using `plt.contourf`\n",
    "http://scikit-learn.org/stable/auto_examples/tree/plot_iris.html#sphx-glr-auto-examples-tree-plot-iris-py\n"
   ]
  },
  {
   "cell_type": "markdown",
   "metadata": {},
   "source": [
    "## Pruning trees: not available in scikit-learn.\n",
    "Since post-pruning of tree is not implemented in scikit-learn, you may think of coding your own pruning function. For instance, taking into account the numer of samples per leaf as proposed below:"
   ]
  },
  {
   "cell_type": "code",
   "execution_count": null,
   "metadata": {
    "collapsed": true
   },
   "outputs": [],
   "source": [
    "# Pruning function (useful ?)\n",
    "def prune(decisiontree, min_samples_leaf = 1):\n",
    "    if decisiontree.min_samples_leaf >= min_samples_leaf:\n",
    "        raise Exception('Tree already more pruned')\n",
    "    else:\n",
    "        decisiontree.min_samples_leaf = min_samples_leaf\n",
    "        tree = decisiontree.tree_\n",
    "        for i in range(tree.node_count):\n",
    "            n_samples = tree.n_node_samples[i]\n",
    "            if n_samples <= min_samples_leaf:\n",
    "                tree.children_left[i]=-1\n",
    "                tree.children_right[i]=-1\n",
    "                "
   ]
  }
 ],
 "metadata": {
  "kernelspec": {
   "display_name": "Python 3",
   "language": "python",
   "name": "python3"
  },
  "language_info": {
   "codemirror_mode": {
    "name": "ipython",
    "version": 3
   },
   "file_extension": ".py",
   "mimetype": "text/x-python",
   "name": "python",
   "nbconvert_exporter": "python",
   "pygments_lexer": "ipython3",
   "version": "3.7.1"
  },
  "toc": {
   "base_numbering": 1,
   "nav_menu": {},
   "number_sections": true,
   "sideBar": true,
   "skip_h1_title": false,
   "title_cell": "Table of Contents",
   "title_sidebar": "Contents",
   "toc_cell": false,
   "toc_position": {},
   "toc_section_display": true,
   "toc_window_display": true
  }
 },
 "nbformat": 4,
 "nbformat_minor": 2
}
