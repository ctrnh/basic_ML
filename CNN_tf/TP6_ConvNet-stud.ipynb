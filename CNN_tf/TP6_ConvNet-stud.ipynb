{
 "cells": [
  {
   "cell_type": "markdown",
   "metadata": {
    "heading_collapsed": true
   },
   "source": [
    "# Convolutional Neural Networks (CNN) and Deep Architectures\n"
   ]
  },
  {
   "cell_type": "markdown",
   "metadata": {
    "heading_collapsed": true
   },
   "source": [
    "# Import"
   ]
  },
  {
   "cell_type": "code",
   "execution_count": 1,
   "metadata": {
    "hidden": true
   },
   "outputs": [],
   "source": [
    "import numpy as np\n",
    "import matplotlib.pyplot as plt"
   ]
  },
  {
   "cell_type": "code",
   "execution_count": 2,
   "metadata": {
    "hidden": true
   },
   "outputs": [
    {
     "name": "stderr",
     "output_type": "stream",
     "text": [
      "/home/cindy/anaconda3/lib/python3.6/site-packages/h5py/__init__.py:36: FutureWarning: Conversion of the second argument of issubdtype from `float` to `np.floating` is deprecated. In future, it will be treated as `np.float64 == np.dtype(float).type`.\n",
      "  from ._conv import register_converters as _register_converters\n"
     ]
    }
   ],
   "source": [
    "import tensorflow as tf"
   ]
  },
  {
   "cell_type": "code",
   "execution_count": 3,
   "metadata": {
    "hidden": true
   },
   "outputs": [],
   "source": [
    "import numpy as np\n",
    "import sys\n",
    "from matplotlib.pyplot import imshow\n",
    "import gzip\n",
    "import _pickle as cPickle\n"
   ]
  },
  {
   "cell_type": "markdown",
   "metadata": {
    "heading_collapsed": true
   },
   "source": [
    "# Preliminary questions"
   ]
  },
  {
   "cell_type": "code",
   "execution_count": 4,
   "metadata": {
    "hidden": true
   },
   "outputs": [
    {
     "name": "stdout",
     "output_type": "stream",
     "text": [
      "5.0\n",
      "10.0\n",
      "17.0\n"
     ]
    }
   ],
   "source": [
    "x = tf.placeholder(tf.float32,shape=[])\n",
    "y = tf.placeholder(tf.float32,shape=[])\n",
    "f = x*x + 2*y\n",
    "some_x = [1,2,3]\n",
    "some_y = [2,3,4]\n",
    "with tf.Session() as sess:\n",
    "    for i in range(len(some_x)):\n",
    "        print(sess.run(f,feed_dict={x: some_x[i],y: some_y[i]}))"
   ]
  },
  {
   "cell_type": "markdown",
   "metadata": {
    "heading_collapsed": true,
    "hidden": true
   },
   "source": [
    "### Q1\n",
    "* Define in a symbolic way the gradient of function $f$ (see `TensorFlow.gradients` documentation) and compute the gradient vectors for the same $(x,y)$ pairs as in the above code. \n"
   ]
  },
  {
   "cell_type": "code",
   "execution_count": 5,
   "metadata": {
    "hidden": true
   },
   "outputs": [
    {
     "name": "stdout",
     "output_type": "stream",
     "text": [
      "[2.0, 2.0]\n",
      "[4.0, 2.0]\n",
      "[6.0, 2.0]\n"
     ]
    }
   ],
   "source": [
    "gradf_x_y = tf.gradients(ys= x*x+2*y, xs = [x,y])\n",
    "\n",
    "with tf.Session() as sess:\n",
    "    for i in range(len(some_x)):\n",
    "        print(sess.run(gradf_x_y, feed_dict={x:some_x[i],y:some_y[i]}))\n"
   ]
  },
  {
   "cell_type": "code",
   "execution_count": 6,
   "metadata": {
    "hidden": true
   },
   "outputs": [
    {
     "data": {
      "text/plain": [
       "<tf.Tensor 'gradients_1/Fill:0' shape=() dtype=float32>"
      ]
     },
     "execution_count": 6,
     "metadata": {},
     "output_type": "execute_result"
    }
   ],
   "source": [
    "a = tf.constant(0.)\n",
    "b = 2 * a\n",
    "g = tf.gradients(a + b, [a, b], stop_gradients=[a, b])\n",
    "g[0]"
   ]
  },
  {
   "cell_type": "markdown",
   "metadata": {},
   "source": [
    "# CNN "
   ]
  },
  {
   "cell_type": "markdown",
   "metadata": {},
   "source": [
    "---\n",
    "\n",
    "## Baseline CNN\n",
    "\n"
   ]
  },
  {
   "cell_type": "markdown",
   "metadata": {
    "heading_collapsed": true
   },
   "source": [
    "## Load data"
   ]
  },
  {
   "cell_type": "code",
   "execution_count": 4,
   "metadata": {
    "hidden": true
   },
   "outputs": [
    {
     "name": "stdout",
     "output_type": "stream",
     "text": [
      "(60000, 784)\n",
      "(60000,)\n",
      "(10000, 784)\n",
      "(10000,)\n"
     ]
    }
   ],
   "source": [
    "# Load data\n",
    "def load_mnist(filename):\n",
    "    f = gzip.open(filename, 'rb')\n",
    "    train_set, valid_set, test_set = cPickle.load(f, encoding='iso-8859-1')\n",
    "    f.close()\n",
    "    X = np.vstack((train_set[0],valid_set[0]))\n",
    "    y = np.hstack((train_set[1],valid_set[1]))\n",
    "    X_test = test_set[0]\n",
    "    y_test = test_set[1]\n",
    "    return X,y,X_test,y_test\n",
    "\n",
    "# MISSING CODE\n",
    "X,y,X_test,y_test = load_mnist( 'mnist.pkl.gz')\n",
    "#\n",
    "N_train = X.shape[0]\n",
    "N_test = X_test.shape[0]\n",
    "\n",
    "print(X.shape)\n",
    "print(y.shape)\n",
    "print(X_test.shape)\n",
    "print(y_test.shape)"
   ]
  },
  {
   "cell_type": "code",
   "execution_count": 5,
   "metadata": {
    "hidden": true,
    "scrolled": true
   },
   "outputs": [
    {
     "data": {
      "image/png": "[encoded data removed]",
      "text/plain": [
       "<Figure size 1440x288 with 10 Axes>"
      ]
     },
     "metadata": {},
     "output_type": "display_data"
    }
   ],
   "source": [
    "#show some images\n",
    "plt.subplots(figsize = (20,4))\n",
    "n_ex = 5\n",
    "for i in range (n_ex):\n",
    "    plt.subplot(2,n_ex,i+1)\n",
    "    plt.imshow(X[i].reshape((28,28,)))\n",
    "    plt.title(\"Train:\"+str(y[i]))\n",
    "    \n",
    "    plt.subplot(2,n_ex,n_ex+i+1)\n",
    "    plt.imshow(X_test[i].reshape((28,28,)))\n",
    "    plt.title(\"Test:\"+str(y_test[i]))\n",
    "plt.tight_layout()"
   ]
  },
  {
   "cell_type": "markdown",
   "metadata": {
    "heading_collapsed": true,
    "hidden": true
   },
   "source": [
    "### Q2\n",
    "* Reshape `X` and `X_test` so that they have shape (60000,28,28,1) and (10000,28,28,1) respectively.\n"
   ]
  },
  {
   "cell_type": "code",
   "execution_count": 6,
   "metadata": {
    "hidden": true
   },
   "outputs": [],
   "source": [
    "#MISSING CODE\n",
    "\n",
    "X = X.reshape((N_train,28,28,1))\n",
    "X_test = X_test.reshape(N_test,28,28,1)\n"
   ]
  },
  {
   "cell_type": "code",
   "execution_count": null,
   "metadata": {
    "hidden": true
   },
   "outputs": [],
   "source": [
    "print(\"Data already normalized: \",np.max(X), np.mean(X))"
   ]
  },
  {
   "cell_type": "markdown",
   "metadata": {
    "hidden": true
   },
   "source": [
    "We can now begin to build the CNN. At the start of the `TensorFlow` graph we need to define data containers, i.e. instances of `tf.placeholder`. We will use mini-batch gradient descent to optimize the NN parameters and we want the code to be modular so we cannot specify the first dimension of the tensor containing training examples. `TensorFlow` allows this :"
   ]
  },
  {
   "cell_type": "code",
   "execution_count": 234,
   "metadata": {
    "hidden": true
   },
   "outputs": [],
   "source": [
    "tf.reset_default_graph()\n",
    "Xtf = tf.placeholder(tf.float32,shape=[None, X.shape[1], X.shape[2],1])\n",
    "ytf = tf.placeholder(tf.int64,shape=[None, ])"
   ]
  },
  {
   "cell_type": "markdown",
   "metadata": {
    "hidden": true
   },
   "source": [
    "The next element of our NN is a 2D convolutional layer. We can use an instance of the `tf.layers.conv2d` class. We need to specify that a `tf.placeholder` instance is the input, the number of size of filters (kernels) that we want, how to deal with image borders (padding) and what activation we would like. This gives:"
   ]
  },
  {
   "cell_type": "code",
   "execution_count": 235,
   "metadata": {
    "hidden": true
   },
   "outputs": [],
   "source": [
    "# Convolutional Layer #1\n",
    "conv1 = tf.layers.conv2d(\n",
    "      inputs=Xtf,\n",
    "      filters=64,\n",
    "      kernel_size=[5, 5],\n",
    "      padding=\"same\",\n",
    "      activation=tf.nn.relu)"
   ]
  },
  {
   "cell_type": "markdown",
   "metadata": {
    "hidden": true
   },
   "source": [
    "Next, we need a pooling layer to give up some entries of the filtered images provided by the convolutional layer. We will use the usual max pool function in 2x2 neighborhoods which drops 3 entries out of 4 in each such neighborhood. The remaining entry is the one achieving maximal value in the neighborhood."
   ]
  },
  {
   "cell_type": "code",
   "execution_count": 236,
   "metadata": {
    "hidden": true
   },
   "outputs": [],
   "source": [
    "# Pooling Layer #1\n",
    "pool1 = tf.layers.max_pooling2d(inputs=conv1, pool_size=[2, 2], strides=2)\n"
   ]
  },
  {
   "cell_type": "markdown",
   "metadata": {},
   "source": [
    "## Q3\n",
    "* What is the role of parameter `strides` ? \n",
    "* What is the size of each feature map after max pooling ?\n",
    "* How many feature maps are there ?\n",
    "\n",
    "We will now plug a 1 layer MLP on top of this. Fully connected layers (or dense layers) do not accept `numpy ndarrays`. We can use `tf.reshape` to flatten feature maps. In the following code the scalar `dflat` = nbr of feature maps x feature map width x feature map height. Set this variable with the correct value and execute the following code line: "
   ]
  },
  {
   "cell_type": "markdown",
   "metadata": {},
   "source": [
    "- stride : is the number of step we take to slide the filter\n",
    "- The output of the conv2d layer is size (28,28), as the padding is \"same\" and the stride is 1. After maxpooling of stride 2, we divide the number of pixels by 4. So the size of each feature map after max pooling is (14,14)\n",
    "- There are 64 filters so 64 feature maps."
   ]
  },
  {
   "cell_type": "code",
   "execution_count": 237,
   "metadata": {},
   "outputs": [],
   "source": [
    "dflat = 64*14*14# MISSING CODE\n",
    "pool2_flat = tf.reshape(pool1, [-1, dflat])\n",
    "#pool2_flat = tf.layers.Flatten()(pool1)"
   ]
  },
  {
   "cell_type": "markdown",
   "metadata": {},
   "source": [
    "Now the one layer MLP is given by an instance of `tf.layers.dense` as:"
   ]
  },
  {
   "cell_type": "code",
   "execution_count": 238,
   "metadata": {},
   "outputs": [],
   "source": [
    "mlp = tf.layers.dense(inputs=pool2_flat, units=1024, activation=tf.nn.relu)\n"
   ]
  },
  {
   "cell_type": "markdown",
   "metadata": {},
   "source": [
    "Finally, we need a softmax regression function to obtain class membership probabilities. This can be done in this way:"
   ]
  },
  {
   "cell_type": "code",
   "execution_count": 239,
   "metadata": {},
   "outputs": [],
   "source": [
    "logits = tf.layers.dense(inputs=mlp, units=10)\n",
    "smax = tf.nn.softmax(logits)"
   ]
  },
  {
   "cell_type": "markdown",
   "metadata": {},
   "source": [
    "### Q4\n",
    "* How many parameters is there in our NN ?\n",
    "\n",
    "Actually, the utimate element of the `TensorFlow` graph is the loss. In softmax (or logistic) regression, the corresponding loss is the cross entropy. A numerically stable version of this loss is given by `tf.losses.sparse_softmax_cross_entropy`:"
   ]
  },
  {
   "cell_type": "markdown",
   "metadata": {},
   "source": [
    "Number of parameters: \n",
    "- Conv: 64 filters. Each filter is size 5x5. Each filter has a bias => parameters of filters = 64(5*5+1)\n",
    "- 1st dense layer: has for input a vector of size dflat. units = 1024, adding the bias we obtain => dflat*1024+1024\n",
    "- 2nd dense layer: 1024*10+10"
   ]
  },
  {
   "cell_type": "code",
   "execution_count": 240,
   "metadata": {},
   "outputs": [
    {
     "name": "stdout",
     "output_type": "stream",
     "text": [
      "Number of parameters: 12857994\n"
     ]
    }
   ],
   "source": [
    "number_of_parameters = 64*(5*5+1) + dflat*1024+1024 + 1024*10+10\n",
    "print(\"Number of parameters:\",number_of_parameters)"
   ]
  },
  {
   "cell_type": "code",
   "execution_count": 241,
   "metadata": {},
   "outputs": [],
   "source": [
    "loss = tf.losses.sparse_softmax_cross_entropy(labels=ytf, logits=logits)"
   ]
  },
  {
   "cell_type": "markdown",
   "metadata": {},
   "source": [
    "Now that we have completed the graph, we can move to the next phase: actually training the NN. Prior to entering the training loop, we need to instantiate an optimizer from `TensorFlow` and ask him to minimize the loss. We will use the ADAM optimizer which is robust and easy to tune."
   ]
  },
  {
   "cell_type": "code",
   "execution_count": 247,
   "metadata": {},
   "outputs": [],
   "source": [
    "learning_rate = 0.01\n",
    "optimizer = tf.train.AdamOptimizer(learning_rate)\n",
    "training_op = optimizer.minimize(loss)\n",
    "\n",
    "init = tf.global_variables_initializer()"
   ]
  },
  {
   "cell_type": "code",
   "execution_count": 248,
   "metadata": {},
   "outputs": [],
   "source": [
    "pred = tf.argmax(logits,1)\n",
    "equal = tf.equal(pred,ytf)\n",
    "accuracy = tf.reduce_mean(tf.cast(equal,tf.float32))"
   ]
  },
  {
   "cell_type": "markdown",
   "metadata": {},
   "source": [
    "### Q5\n",
    "* Fulfill correctly the missing parts of these instructions.\n",
    "**Warning** : the execution of the loop takes around 5mn. The gradient descent should achieve approximately a 0.13 loss or below (remember this is stochastic)."
   ]
  },
  {
   "cell_type": "code",
   "execution_count": 250,
   "metadata": {},
   "outputs": [
    {
     "name": "stdout",
     "output_type": "stream",
     "text": [
      "83%\n",
      " Accuracy test: 0.3932\n",
      "0 Train loss: 1.9836406\n",
      "83%\n",
      " Accuracy test: 0.855\n",
      "1 Train loss: 0.38862655\n",
      "83%\n",
      " Accuracy test: 0.888\n",
      "2 Train loss: 0.22165598\n",
      "83%\n",
      " Accuracy test: 0.9147\n",
      "3 Train loss: 0.0768265\n",
      "83%\n",
      " Accuracy test: 0.9108\n",
      "4 Train loss: 0.01921576\n"
     ]
    }
   ],
   "source": [
    "n_epochs = 5\n",
    "batch_size = 150\n",
    "loss_history=[]\n",
    "saver = tf.train.Saver()\n",
    "\n",
    "X = X\n",
    "X_test = X_test\n",
    "y=y\n",
    "\n",
    "N_train = X.shape[0]\n",
    "\n",
    "with tf.Session() as sess:\n",
    "    init.run()\n",
    "    for epoch in range(n_epochs):\n",
    "        n_batches = N_train // batch_size\n",
    "        \n",
    "        for iteration in range(n_batches):\n",
    "            print(\"\\r{}%\".format(100 * iteration // n_batches), end=\"\")\n",
    "            sys.stdout.flush()\n",
    "            X_batch = X[iteration*batch_size :(iteration+1)*batch_size  ] # MISSING CODE\n",
    "            y_batch = y[iteration*batch_size :(iteration+1)*batch_size  ] # MISSING CODE\n",
    "            \n",
    "            #Update parameters by computing gradient of loss\n",
    "            sess.run(training_op, feed_dict={Xtf: X_batch,ytf: y_batch})\n",
    "            loss_history.append(loss.eval(feed_dict={Xtf: X_batch,ytf: y_batch}))\n",
    "        \n",
    "        #Compute loss\n",
    "        loss_train = loss.eval(feed_dict={Xtf: X_batch,ytf: y_batch})\n",
    "        print(\"\\n Accuracy test:\", sess.run(accuracy,feed_dict={Xtf: X_test,ytf: y_test}))\n",
    "        print(\"\\r{}\".format(epoch), \"Train loss:\", loss_train)\n",
    "\n",
    "    saver.save(sess, '/home/cindy/Documents/Scolaire/DAD/ML/TP6_tensorflow/my-model')\n",
    "\n",
    "    \n"
   ]
  },
  {
   "cell_type": "code",
   "execution_count": 251,
   "metadata": {},
   "outputs": [
    {
     "name": "stdout",
     "output_type": "stream",
     "text": [
      "INFO:tensorflow:Restoring parameters from /home/cindy/Documents/Scolaire/DAD/ML/TP6_tensorflow/my-model\n",
      "\n",
      " Accuracy test: 0.9108\n"
     ]
    }
   ],
   "source": [
    "with tf.Session() as sess:\n",
    "    saver.restore(sess,'/home/cindy/Documents/Scolaire/DAD/ML/TP6_tensorflow/my-model')\n",
    "    print(\"\\n Accuracy test:\", sess.run(accuracy,feed_dict={Xtf: X_test,ytf: y_test}))"
   ]
  },
  {
   "cell_type": "code",
   "execution_count": 252,
   "metadata": {},
   "outputs": [
    {
     "data": {
      "text/plain": [
       "[<matplotlib.lines.Line2D at 0x7f34d8450320>]"
      ]
     },
     "execution_count": 252,
     "metadata": {},
     "output_type": "execute_result"
    },
    {
     "data": {
      "image/png": "[encoded data removed]",
      "text/plain": [
       "<Figure size 432x288 with 1 Axes>"
      ]
     },
     "metadata": {},
     "output_type": "display_data"
    }
   ],
   "source": [
    "nb_history = len(loss_history)\n",
    "plt.plot(np.arange(nb_history),loss_history)"
   ]
  },
  {
   "cell_type": "markdown",
   "metadata": {},
   "source": [
    "Accuracy on test set is 91%, just after 5 epochs, this is quite performant, but not perfect yet, for a simple dataset."
   ]
  },
  {
   "cell_type": "markdown",
   "metadata": {},
   "source": [
    "## Q7 Add a second pair of conv/pool layers.\n",
    "* A smaller amount of filters and smaller filters are recommended."
   ]
  },
  {
   "cell_type": "code",
   "execution_count": 264,
   "metadata": {},
   "outputs": [],
   "source": [
    "tf.reset_default_graph()\n",
    "Xtf = tf.placeholder(tf.float32,shape=[None, X.shape[1], X.shape[2],1])\n",
    "ytf = tf.placeholder(tf.int64,shape=[None, ])\n",
    "\n",
    "\n",
    "# Convolutional Layer #1\n",
    "conv1 = tf.layers.conv2d(\n",
    "      inputs=Xtf,\n",
    "      filters=64,\n",
    "      kernel_size=[5, 5],\n",
    "      padding=\"same\",\n",
    "      activation=tf.nn.relu)\n",
    "\n",
    "# Pooling Layer #1\n",
    "pool1 = tf.layers.max_pooling2d(inputs=conv1, pool_size=[2, 2], strides=2)\n",
    "\n",
    "\n",
    "# Convolutional Layer #2\n",
    "conv2 = tf.layers.conv2d(\n",
    "      inputs=pool1,\n",
    "      filters=32,\n",
    "      kernel_size=[3,3],\n",
    "      padding=\"same\",\n",
    "      activation=tf.nn.relu)\n",
    "\n",
    "# Pooling Layer #2\n",
    "pool2 = tf.layers.max_pooling2d(inputs=conv2, pool_size=[2, 2], strides=2)\n",
    "\n",
    "pool2_flat = tf.layers.Flatten()(pool2)\n",
    "\n",
    "mlp = tf.layers.dense(inputs=pool2_flat, units=1024, activation=tf.nn.relu)\n",
    "\n",
    "\n",
    "logits = tf.layers.dense(inputs=mlp, units=10)\n",
    "smax = tf.nn.softmax(logits)"
   ]
  },
  {
   "cell_type": "code",
   "execution_count": 265,
   "metadata": {},
   "outputs": [],
   "source": [
    "loss = tf.losses.sparse_softmax_cross_entropy(labels=ytf, logits=logits)"
   ]
  },
  {
   "cell_type": "code",
   "execution_count": 266,
   "metadata": {},
   "outputs": [],
   "source": [
    "learning_rate = 0.01\n",
    "optimizer = tf.train.AdamOptimizer(learning_rate)\n",
    "training_op = optimizer.minimize(loss)\n",
    "\n",
    "init = tf.global_variables_initializer()"
   ]
  },
  {
   "cell_type": "code",
   "execution_count": 267,
   "metadata": {},
   "outputs": [],
   "source": [
    "pred = tf.argmax(logits,1)\n",
    "equal = tf.equal(pred,ytf)\n",
    "accuracy = tf.reduce_mean(tf.cast(equal,tf.float32))"
   ]
  },
  {
   "cell_type": "code",
   "execution_count": 268,
   "metadata": {},
   "outputs": [
    {
     "name": "stdout",
     "output_type": "stream",
     "text": [
      "83%\n",
      " Accuracy test: 0.4782\n",
      "0 Train loss: 1.9672912\n",
      "83%\n",
      " Accuracy test: 0.7629\n",
      "1 Train loss: 0.6994447\n",
      "83%\n",
      " Accuracy test: 0.8788\n",
      "2 Train loss: 0.34359494\n",
      "83%\n",
      " Accuracy test: 0.9068\n",
      "3 Train loss: 0.16010709\n",
      "83%\n",
      " Accuracy test: 0.9261\n",
      "4 Train loss: 0.08767433\n"
     ]
    }
   ],
   "source": [
    "n_epochs = 5\n",
    "batch_size = 150\n",
    "loss_history=[]\n",
    "saver = tf.train.Saver()\n",
    "\n",
    "\n",
    "N_train = X.shape[0]\n",
    "\n",
    "with tf.Session() as sess:\n",
    "    init.run()\n",
    "    for epoch in range(n_epochs):\n",
    "        n_batches = N_train // batch_size\n",
    "        \n",
    "        for iteration in range(n_batches):\n",
    "            print(\"\\r{}%\".format(100 * iteration // n_batches), end=\"\")\n",
    "            sys.stdout.flush()\n",
    "            X_batch = X[iteration*batch_size :(iteration+1)*batch_size  ] # MISSING CODE\n",
    "            y_batch = y[iteration*batch_size :(iteration+1)*batch_size  ] # MISSING CODE\n",
    "            \n",
    "            #Update parameters by computing gradient of loss\n",
    "            sess.run(training_op, feed_dict={Xtf: X_batch,ytf: y_batch})\n",
    "            loss_history.append(loss.eval(feed_dict={Xtf: X_batch,ytf: y_batch}))\n",
    "        \n",
    "        #Compute loss\n",
    "        loss_train = loss.eval(feed_dict={Xtf: X_batch,ytf: y_batch})\n",
    "        print(\"\\n Accuracy test:\", sess.run(accuracy,feed_dict={Xtf: X_test,ytf: y_test}))\n",
    "        print(\"\\r{}\".format(epoch), \"Train loss:\", loss_train)\n",
    "\n",
    "    saver.save(sess, '/home/cindy/Documents/Scolaire/DAD/ML/TP6_tensorflow/my-model_conv2')\n",
    "\n",
    "    \n"
   ]
  },
  {
   "cell_type": "code",
   "execution_count": 269,
   "metadata": {
    "scrolled": true
   },
   "outputs": [
    {
     "data": {
      "text/plain": [
       "[<matplotlib.lines.Line2D at 0x7f34bc65d198>]"
      ]
     },
     "execution_count": 269,
     "metadata": {},
     "output_type": "execute_result"
    },
    {
     "data": {
      "image/png": "[encoded data removed]",
      "text/plain": [
       "<Figure size 432x288 with 1 Axes>"
      ]
     },
     "metadata": {},
     "output_type": "display_data"
    }
   ],
   "source": [
    "plt.plot(np.arange(len(loss_history)),loss_history)"
   ]
  },
  {
   "cell_type": "markdown",
   "metadata": {},
   "source": [
    "Accuracy on test set is a little bit better, after 5 epochs it's already quite good. We could perform better with more epochs."
   ]
  },
  {
   "cell_type": "markdown",
   "metadata": {},
   "source": [
    "## Q8 Add a second fully connected layer. \n",
    "* A smaller number of units is recommended."
   ]
  },
  {
   "cell_type": "code",
   "execution_count": 313,
   "metadata": {},
   "outputs": [],
   "source": [
    "tf.reset_default_graph()\n",
    "Xtf = tf.placeholder(tf.float32,shape=[None, X.shape[1], X.shape[2],1])\n",
    "ytf = tf.placeholder(tf.int64,shape=[None, ])\n",
    "\n",
    "# Convolutional Layer #1\n",
    "conv1 = tf.layers.conv2d(\n",
    "      inputs=Xtf,\n",
    "      filters=64,\n",
    "      kernel_size=[5, 5],\n",
    "      padding=\"same\",\n",
    "      activation=tf.nn.relu)\n",
    "\n",
    "# Pooling Layer #1\n",
    "pool1 = tf.layers.max_pooling2d(inputs=conv1, pool_size=[2, 2], strides=2)\n",
    "\n",
    "\n",
    "# Convolutional Layer #2\n",
    "conv2 = tf.layers.conv2d(\n",
    "      inputs=pool1,\n",
    "      filters=32,\n",
    "      kernel_size=[3,3],\n",
    "      padding=\"same\",\n",
    "      activation=tf.nn.relu)\n",
    "\n",
    "# Pooling Layer #1\n",
    "pool2 = tf.layers.max_pooling2d(inputs=conv2, pool_size=[2, 2], strides=2)\n",
    "\n",
    "pool2_flat = tf.layers.Flatten()(pool2)\n",
    "\n",
    "mlp = tf.layers.dense(inputs=pool2_flat, units=1024, activation=tf.nn.relu)\n",
    "\n",
    "\n",
    "mlp2 = tf.layers.dense(inputs=mlp, units=128, activation=tf.nn.relu)\n",
    "\n",
    "\n",
    "logits = tf.layers.dense(inputs=mlp2, units=10)\n",
    "smax = tf.nn.softmax(logits)"
   ]
  },
  {
   "cell_type": "code",
   "execution_count": 315,
   "metadata": {},
   "outputs": [],
   "source": [
    "loss = tf.losses.sparse_softmax_cross_entropy(labels=ytf, logits=logits)"
   ]
  },
  {
   "cell_type": "markdown",
   "metadata": {},
   "source": [
    "Now that we have completed the graph, we can move to the next phase: actually training the NN. Prior to entering the training loop, we need to instantiate an optimizer from `TensorFlow` and ask him to minimize the loss. We will use the ADAM optimizer which is robust and easy to tune."
   ]
  },
  {
   "cell_type": "code",
   "execution_count": 316,
   "metadata": {},
   "outputs": [],
   "source": [
    "learning_rate = 0.005\n",
    "optimizer = tf.train.AdamOptimizer(learning_rate)\n",
    "training_op = optimizer.minimize(loss)\n",
    "\n",
    "init = tf.global_variables_initializer()"
   ]
  },
  {
   "cell_type": "code",
   "execution_count": 317,
   "metadata": {},
   "outputs": [],
   "source": [
    "pred = tf.argmax(logits,1)\n",
    "equal = tf.equal(pred,ytf)\n",
    "accuracy = tf.reduce_mean(tf.cast(equal,tf.float32))"
   ]
  },
  {
   "cell_type": "code",
   "execution_count": 320,
   "metadata": {},
   "outputs": [
    {
     "name": "stdout",
     "output_type": "stream",
     "text": [
      "83%\n",
      " Accuracy test: 0.1032\n",
      "0 Train loss: 2.3043964\n",
      "83%\n",
      " Accuracy test: 0.1359\n",
      "1 Train loss: 2.2758348\n",
      "83%\n",
      " Accuracy test: 0.4473\n",
      "2 Train loss: 1.7207127\n",
      "83%\n",
      " Accuracy test: 0.5857\n",
      "3 Train loss: 1.2063986\n",
      "83%\n",
      " Accuracy test: 0.7281\n",
      "4 Train loss: 0.7561596\n",
      "83%\n",
      " Accuracy test: 0.7476\n",
      "5 Train loss: 0.6282973\n",
      "83%\n",
      " Accuracy test: 0.7885\n",
      "6 Train loss: 0.44260925\n",
      "83%\n",
      " Accuracy test: 0.8336\n",
      "7 Train loss: 0.34790123\n",
      "83%\n",
      " Accuracy test: 0.7789\n",
      "8 Train loss: 0.37136525\n",
      "83%\n",
      " Accuracy test: 0.8019\n",
      "9 Train loss: 0.3267982\n",
      "83%\n",
      " Accuracy test: 0.8637\n",
      "10 Train loss: 0.18886702\n",
      "83%\n",
      " Accuracy test: 0.868\n",
      "11 Train loss: 0.15907893\n",
      "83%\n",
      " Accuracy test: 0.8649\n",
      "12 Train loss: 0.1197848\n",
      "83%\n",
      " Accuracy test: 0.8675\n",
      "13 Train loss: 0.112280235\n",
      "83%\n",
      " Accuracy test: 0.8682\n",
      "14 Train loss: 0.088079505\n",
      "83%\n",
      " Accuracy test: 0.8821\n",
      "15 Train loss: 0.053903308\n",
      "83%\n",
      " Accuracy test: 0.8801\n",
      "16 Train loss: 0.03363791\n",
      "83%\n",
      " Accuracy test: 0.8901\n",
      "17 Train loss: 0.027965141\n",
      "83%\n",
      " Accuracy test: 0.8792\n",
      "18 Train loss: 0.03516613\n",
      "83%\n",
      " Accuracy test: 0.8849\n",
      "19 Train loss: 0.015431701\n"
     ]
    }
   ],
   "source": [
    "n_epochs = 20\n",
    "batch_size = 150\n",
    "loss_history=[]\n",
    "saver = tf.train.Saver()\n",
    "\n",
    "\n",
    "N_train = X.shape[0]\n",
    "\n",
    "with tf.Session() as sess:\n",
    "    init.run()\n",
    "    for epoch in range(n_epochs):\n",
    "        n_batches = N_train // batch_size\n",
    "        \n",
    "        for iteration in range(n_batches):\n",
    "            print(\"\\r{}%\".format(100 * iteration // n_batches), end=\"\")\n",
    "            sys.stdout.flush()\n",
    "            X_batch = X[iteration*batch_size :(iteration+1)*batch_size  ] # MISSING CODE\n",
    "            y_batch = y[iteration*batch_size :(iteration+1)*batch_size  ] # MISSING CODE\n",
    "            \n",
    "            #Update parameters by computing gradient of loss\n",
    "            sess.run(training_op, feed_dict={Xtf: X_batch,ytf: y_batch})\n",
    "            loss_history.append(loss.eval(feed_dict={Xtf: X_batch,ytf: y_batch}))\n",
    "        \n",
    "        #Compute loss\n",
    "        loss_train = loss.eval(feed_dict={Xtf: X_batch,ytf: y_batch})\n",
    "        print(\"\\n Accuracy test:\", sess.run(accuracy,feed_dict={Xtf: X_test,ytf: y_test}))\n",
    "        print(\"\\r{}\".format(epoch), \"Train loss:\", loss_train)\n",
    "\n",
    "    saver.save(sess, '/home/cindy/Documents/Scolaire/DAD/ML/TP6_tensorflow/my-model_conv2_fc2')\n",
    "\n",
    "    \n"
   ]
  },
  {
   "cell_type": "code",
   "execution_count": 322,
   "metadata": {
    "scrolled": true
   },
   "outputs": [
    {
     "data": {
      "text/plain": [
       "[<matplotlib.lines.Line2D at 0x7f34b13fc0f0>]"
      ]
     },
     "execution_count": 322,
     "metadata": {},
     "output_type": "execute_result"
    },
    {
     "data": {
      "image/png": "[encoded data removed]",
      "text/plain": [
       "<Figure size 432x288 with 1 Axes>"
      ]
     },
     "metadata": {},
     "output_type": "display_data"
    }
   ],
   "source": [
    "plt.plot(np.arange(len(loss_history)),loss_history)\n",
    "plt.title(\"Loss\")"
   ]
  },
  {
   "cell_type": "markdown",
   "metadata": {},
   "source": [
    "It doesn't perform better than with less layers. This is probably because there are too many parameters to train"
   ]
  },
  {
   "cell_type": "markdown",
   "metadata": {},
   "source": [
    "## Q9 try to tweak the other hyperparameters. \n",
    " These latter include:\n",
    "* the learning rate,\n",
    "* the mini batch size,\n",
    "* the regularization strength (if regularization is activated),\n",
    "* number of filters,\n",
    "* filter sizes,\n",
    "* activiation functions,\n",
    "* strides,\n",
    "* padding types,\n",
    "* ...\n"
   ]
  },
  {
   "cell_type": "markdown",
   "metadata": {},
   "source": [
    "In this section, we are going to keep the last architecture"
   ]
  },
  {
   "cell_type": "code",
   "execution_count": 17,
   "metadata": {
    "scrolled": true
   },
   "outputs": [],
   "source": [
    "from TP6_model import *"
   ]
  },
  {
   "cell_type": "code",
   "execution_count": 37,
   "metadata": {},
   "outputs": [],
   "source": [
    "## Placeholders\n",
    "tf.reset_default_graph()\n",
    "Xtf = tf.placeholder(tf.float32,shape=[None, X.shape[1], X.shape[2],1])\n",
    "ytf = tf.placeholder(tf.int64,shape=[None, ])\n",
    "\n",
    "\n",
    "## Parameters\n",
    "dict_param = {'filters1':16, 'kernel_size1':5, 'padding1':\"same\",\n",
    "              'filters2':16, 'kernel_size2':5, 'padding2':\"same\",\n",
    "              'mlp_units1':256,\n",
    "              'mlp_units2':128\n",
    "              }\n",
    "\n",
    "learning_rate = 0.001\n",
    "n_epochs = 5\n",
    "batch_size = 150\n"
   ]
  },
  {
   "cell_type": "code",
   "execution_count": 38,
   "metadata": {},
   "outputs": [],
   "source": [
    "## Create Model\n",
    "model = Model3(Xtf = Xtf, ytf = ytf,learning_rate = learning_rate, param_layers=dict_param)\n",
    "\n"
   ]
  },
  {
   "cell_type": "code",
   "execution_count": 39,
   "metadata": {},
   "outputs": [],
   "source": [
    "\n",
    "## Training\n",
    "sess = tf.Session()\n",
    "sess.run(tf.global_variables_initializer())"
   ]
  },
  {
   "cell_type": "code",
   "execution_count": 40,
   "metadata": {
    "scrolled": true
   },
   "outputs": [
    {
     "name": "stdout",
     "output_type": "stream",
     "text": [
      "99%\n",
      " Accuracy test: 0.9704\n",
      "0 Train loss: 0.136966\n",
      "99%\n",
      " Accuracy test: 0.98\n",
      "1 Train loss: 0.11925721\n",
      "99%\n",
      " Accuracy test: 0.9839\n",
      "2 Train loss: 0.10973862\n",
      "99%\n",
      " Accuracy test: 0.9838\n",
      "3 Train loss: 0.11808056\n",
      "99%\n",
      " Accuracy test: 0.9843\n",
      "4 Train loss: 0.11189571\n"
     ]
    }
   ],
   "source": [
    "loss_history=[]\n",
    "\n",
    "#saver = tf.train.Saver()\n",
    "for epoch in range(n_epochs):\n",
    "    n_batches = N_train // batch_size\n",
    "\n",
    "    for iteration in range(n_batches):\n",
    "        print(\"\\r{}%\".format(100 * iteration // n_batches), end=\"\")\n",
    "        sys.stdout.flush()\n",
    "        X_batch = X[iteration*batch_size :(iteration+1)*batch_size  ] \n",
    "        y_batch = y[iteration*batch_size :(iteration+1)*batch_size  ] \n",
    "        \n",
    "        sess.run(model.optimize, feed_dict={Xtf: X_batch,ytf: y_batch})\n",
    "        loss_history.append(sess.run(model.loss, feed_dict={Xtf: X_batch,ytf: y_batch}))\n",
    "\n",
    "        #Compute loss\n",
    "    loss_train = sess.run(model.loss,feed_dict={Xtf: X_batch,ytf: y_batch})\n",
    "    print(\"\\n Accuracy test:\", sess.run(model.accuracy,feed_dict={Xtf: X_test,ytf: y_test}))\n",
    "    print(\"\\r{}\".format(epoch), \"Train loss:\", loss_train)"
   ]
  },
  {
   "cell_type": "code",
   "execution_count": 41,
   "metadata": {},
   "outputs": [
    {
     "data": {
      "text/plain": [
       "Text(0.5,1,'Loss')"
      ]
     },
     "execution_count": 41,
     "metadata": {},
     "output_type": "execute_result"
    },
    {
     "data": {
      "image/png": "[encoded data removed]",
      "text/plain": [
       "<Figure size 432x288 with 1 Axes>"
      ]
     },
     "metadata": {},
     "output_type": "display_data"
    }
   ],
   "source": [
    "plt.plot(np.arange(len(loss_history)),loss_history)\n",
    "plt.title(\"Loss\")"
   ]
  },
  {
   "cell_type": "markdown",
   "metadata": {},
   "source": []
  },
  {
   "cell_type": "markdown",
   "metadata": {
    "heading_collapsed": true
   },
   "source": [
    "## Q10\n",
    "* Compare the obtained accuracy to that of a regularized Softmax regression from `sklearn`."
   ]
  },
  {
   "cell_type": "code",
   "execution_count": 28,
   "metadata": {
    "hidden": true
   },
   "outputs": [
    {
     "name": "stderr",
     "output_type": "stream",
     "text": [
      "/home/cindy/anaconda3/lib/python3.6/site-packages/sklearn/linear_model/logistic.py:757: ConvergenceWarning: lbfgs failed to converge. Increase the number of iterations.\n",
      "  \"of iterations.\", ConvergenceWarning)\n"
     ]
    }
   ],
   "source": [
    "from sklearn.linear_model import LogisticRegression\n",
    "N_train = X.shape[0]\n",
    "N_test = X_test.shape[0]\n",
    "clf = LogisticRegression( solver='lbfgs',multi_class='multinomial').fit(X.reshape(N_train,-1), y)\n"
   ]
  },
  {
   "cell_type": "code",
   "execution_count": 29,
   "metadata": {
    "hidden": true
   },
   "outputs": [
    {
     "name": "stdout",
     "output_type": "stream",
     "text": [
      "Train set score: 0.935\n",
      "Test set score: 0.9261\n"
     ]
    }
   ],
   "source": [
    "print(\"Train set score:\",clf.score(X.reshape(N_train,-1), y))\n",
    "print(\"Test set score:\" ,clf.score(X_test.reshape(N_test,-1), y_test))"
   ]
  },
  {
   "cell_type": "markdown",
   "metadata": {
    "hidden": true
   },
   "source": [
    "Softmax regression already gives quite good results, but a well tuned neural network performs far better."
   ]
  },
  {
   "cell_type": "code",
   "execution_count": null,
   "metadata": {
    "hidden": true
   },
   "outputs": [],
   "source": []
  }
 ],
 "metadata": {
  "kernelspec": {
   "display_name": "Python 3",
   "language": "python",
   "name": "python3"
  },
  "language_info": {
   "codemirror_mode": {
    "name": "ipython",
    "version": 3
   },
   "file_extension": ".py",
   "mimetype": "text/x-python",
   "name": "python",
   "nbconvert_exporter": "python",
   "pygments_lexer": "ipython3",
   "version": "3.6.5"
  },
  "toc": {
   "base_numbering": 1,
   "nav_menu": {},
   "number_sections": true,
   "sideBar": true,
   "skip_h1_title": false,
   "title_cell": "Table of Contents",
   "title_sidebar": "Contents",
   "toc_cell": false,
   "toc_position": {
    "height": "calc(100% - 180px)",
    "left": "10px",
    "top": "150px",
    "width": "165px"
   },
   "toc_section_display": true,
   "toc_window_display": true
  }
 },
 "nbformat": 4,
 "nbformat_minor": 2
}
